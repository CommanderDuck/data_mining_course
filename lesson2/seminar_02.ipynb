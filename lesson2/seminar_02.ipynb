{
 "cells": [
  {
   "cell_type": "markdown",
   "metadata": {},
   "source": [
    "### Разбор последней домашней работы"
   ]
  },
  {
   "cell_type": "markdown",
   "metadata": {},
   "source": [
    "1. (2 балла) Освободить текст из файла text_first_task.txt от всех символов, которые не буквы и не цифры. Текст можно скопировать в ноутбук.\n",
    "\n",
    "2. (3 балла) На вход приходит пароль (через input()). Нужно проверить, что в пароле минимум 6 символов разного регистра, есть цифры, буквы и другие символы \n",
    "\n",
    "3. (2 балла) Для текста passwords.txt, в котором есть пароли, найти все пароли. Текст нужно считать из файла\n"
   ]
  },
  {
   "cell_type": "markdown",
   "metadata": {},
   "source": [
    "## Блиц!"
   ]
  },
  {
   "cell_type": "markdown",
   "metadata": {},
   "source": [
    "(3 балла) У вас есть некоторый текст (давайте поверим, что он очень большой). Этот текст - это описание зоопарка, и ваша задача достать (извлечь, намайнить) из него: \n",
    "- общее количество животных в зоопарке\n",
    "- количество животных в зоопарке, которые записаны в красную книгу\n",
    "\n",
    "Сделать это без каких-то изначальных предположений и эвристик было бы очень сложно, поэтому вы подумав (и возможно,пообщались с какими-то полезными людьми, которые хорошо понимают в рассказах о зоопарках) и предположили, следующее:\n",
    "- общее количество животных должно встретиться в тексте где-то перед словом \"animals\" (это не единственный раз, когда в тексте будет написано это слово, но именно такой паттерн \"<int number> animals\" будет присутствовать однажды, и так мы и сможем найти общее число\n",
    "- остальные числа в тексте, меньшие 10 по значению, будут относиться к перечислению редких животных в зоопарке (то есть, сложив их, мы получим нужную сумму)"
   ]
  },
  {
   "cell_type": "code",
   "execution_count": 13,
   "metadata": {
    "collapsed": true
   },
   "outputs": [],
   "source": [
    "fi = open('zoo.txt')\n",
    "text = fi.read()\n",
    "fi.close()"
   ]
  },
  {
   "cell_type": "code",
   "execution_count": 15,
   "metadata": {},
   "outputs": [
    {
     "name": "stdout",
     "output_type": "stream",
     "text": [
      "The Detroit Zoo is home to animals from A to Z, including anteaters and zebras and hundreds of other species in between.\n",
      "More than 2000 animals representing over amphibians, mammals, birds and reptiles live in the Zoo’s hundred acres of true-to-life habitats that bring visitors face-to-face with these exotic creatures. There are also some animals from the IUCN Red List:  6 Lemurs, 5 langurs, 10 borean pigs and 3 Philippine dears. The zoo has an area about a 1000 acres.\n",
      "\n"
     ]
    }
   ],
   "source": [
    "print(text)"
   ]
  },
  {
   "cell_type": "markdown",
   "metadata": {},
   "source": [
    "## Еще немного про способы работы с файлами: "
   ]
  },
  {
   "cell_type": "code",
   "execution_count": 32,
   "metadata": {},
   "outputs": [
    {
     "name": "stdout",
     "output_type": "stream",
     "text": [
      "The\n",
      " Detroit Zoo is home to animals from A to Z, including anteaters and zebras and hundreds of other species in between.\n",
      "\n"
     ]
    }
   ],
   "source": [
    "#конструкция with позаботится об автоматическом закрытии файла, readline позволяет читать файл по строке\n",
    "with open('zoo.txt') as f:\n",
    "    print(f.readline(3))\n",
    "    print(f.readline())"
   ]
  },
  {
   "cell_type": "code",
   "execution_count": 36,
   "metadata": {},
   "outputs": [
    {
     "name": "stdout",
     "output_type": "stream",
     "text": [
      "The Detroit Zoo is home to animals from A to Z, including anteaters and zebras and hundreds of other species in between.\n",
      "\n",
      "something else\n",
      "More than 2000 animals representing over amphibians, mammals, birds and reptiles live in the Zoo’s hundred acres of true-to-life habitats that bring visitors face-to-face with these exotic creatures. There are also some animals from the IUCN Red List:  6 Lemurs, 5 langurs, 10 borean pigs and 3 Philippine dears. The zoo has an area about a 1000 acres.\n",
      "\n",
      "something else\n"
     ]
    }
   ],
   "source": [
    "#вы также можете итерироваться по строкам\n",
    "with open('zoo.txt') as f:\n",
    "    for line in f:\n",
    "        print(line)\n",
    "        print('something else')"
   ]
  },
  {
   "cell_type": "code",
   "execution_count": 41,
   "metadata": {
    "collapsed": true
   },
   "outputs": [],
   "source": [
    "#можно создать новый файл/открыть файл на запись (но будте осторожны!)\n",
    "f = open('test_file_01.txt', 'w') \n",
    " \n",
    "f.write('Hello World! ')\n",
    "f.write('My name is Katya!\\n')\n",
    "f.write('This is our new text file\\n')\n",
    "f.write('and this is another line.\\n')\n",
    "f.write('Why? Because we can.')\n",
    " \n",
    "f.close() "
   ]
  },
  {
   "cell_type": "code",
   "execution_count": 44,
   "metadata": {
    "collapsed": true
   },
   "outputs": [],
   "source": [
    "f = open('test_file_02.txt','w') \n",
    " \n",
    "print('Hello', file=f)\n",
    "print(2**8, file=f)\n",
    "\n",
    "f.close() "
   ]
  },
  {
   "cell_type": "markdown",
   "metadata": {},
   "source": [
    "Для записи можно использовать методы write и print и не забывать при открытии файла выставить моду записи \"w\". Однако нужно быть аккуратными - если вы откроете существующий файл с модой записи \"w\" все данные оттуда сотрутся. Чтобы открыть файл на дозапись, вместо буквы \"w\" нужно поставить букву \"а\""
   ]
  },
  {
   "cell_type": "markdown",
   "metadata": {},
   "source": [
    "К слову о дозаписи:"
   ]
  },
  {
   "cell_type": "code",
   "execution_count": 51,
   "metadata": {
    "collapsed": true
   },
   "outputs": [],
   "source": [
    "fo = open('animals_count.txt', 'a')\n",
    "print('Heeey I can write something without deleting whole file!', file=fo)\n",
    "fo.close()"
   ]
  },
  {
   "cell_type": "markdown",
   "metadata": {},
   "source": [
    "## dict - Словари"
   ]
  },
  {
   "cell_type": "code",
   "execution_count": 17,
   "metadata": {
    "ExecuteTime": {
     "end_time": "2017-11-17T20:31:48.650636Z",
     "start_time": "2017-11-17T20:31:48.647134Z"
    }
   },
   "outputs": [
    {
     "name": "stdout",
     "output_type": "stream",
     "text": [
      "{'key1': 'value1', 'key2': 'value2'}\n"
     ]
    }
   ],
   "source": [
    "my_dict = dict([[ 'key1', 'value1'], ('key2', 'value2')])\n",
    "print(my_dict)"
   ]
  },
  {
   "cell_type": "code",
   "execution_count": 18,
   "metadata": {
    "ExecuteTime": {
     "end_time": "2017-11-17T20:32:06.178249Z",
     "start_time": "2017-11-17T20:32:06.175411Z"
    },
    "collapsed": true
   },
   "outputs": [],
   "source": [
    "phones = {'police' : 102, 'ambulance' : 103, 'firefighters' : 101}"
   ]
  },
  {
   "cell_type": "code",
   "execution_count": 19,
   "metadata": {
    "ExecuteTime": {
     "end_time": "2017-11-17T20:32:11.697057Z",
     "start_time": "2017-11-17T20:32:11.693897Z"
    }
   },
   "outputs": [
    {
     "data": {
      "text/plain": [
       "102"
      ]
     },
     "execution_count": 19,
     "metadata": {},
     "output_type": "execute_result"
    }
   ],
   "source": [
    "phones['police']"
   ]
  },
  {
   "cell_type": "code",
   "execution_count": 22,
   "metadata": {
    "ExecuteTime": {
     "end_time": "2017-11-17T20:32:40.493986Z",
     "start_time": "2017-11-17T20:32:40.490546Z"
    }
   },
   "outputs": [
    {
     "data": {
      "text/plain": [
       "dict_keys(['police', 'ambulance', 'firefighters'])"
      ]
     },
     "execution_count": 22,
     "metadata": {},
     "output_type": "execute_result"
    }
   ],
   "source": [
    "phones.keys()"
   ]
  },
  {
   "cell_type": "code",
   "execution_count": 25,
   "metadata": {
    "ExecuteTime": {
     "end_time": "2017-11-17T21:32:30.052995Z",
     "start_time": "2017-11-17T21:32:30.048812Z"
    }
   },
   "outputs": [
    {
     "data": {
      "text/plain": [
       "dict_values([102, 103, 101])"
      ]
     },
     "execution_count": 25,
     "metadata": {},
     "output_type": "execute_result"
    }
   ],
   "source": [
    "phones.values()"
   ]
  },
  {
   "cell_type": "code",
   "execution_count": 26,
   "metadata": {
    "ExecuteTime": {
     "end_time": "2017-11-17T21:33:28.490527Z",
     "start_time": "2017-11-17T21:33:28.486351Z"
    }
   },
   "outputs": [
    {
     "data": {
      "text/plain": [
       "dict_items([('police', 102), ('ambulance', 103), ('firefighters', 101)])"
      ]
     },
     "execution_count": 26,
     "metadata": {},
     "output_type": "execute_result"
    }
   ],
   "source": [
    "phones.items()"
   ]
  },
  {
   "cell_type": "code",
   "execution_count": 37,
   "metadata": {
    "ExecuteTime": {
     "end_time": "2017-11-17T21:59:14.804776Z",
     "start_time": "2017-11-17T21:59:14.800974Z"
    }
   },
   "outputs": [
    {
     "name": "stdout",
     "output_type": "stream",
     "text": [
      "police\n",
      "ambulance\n",
      "firefighters\n"
     ]
    }
   ],
   "source": [
    "for key in phones:\n",
    "    print(key)"
   ]
  },
  {
   "cell_type": "code",
   "execution_count": 28,
   "metadata": {
    "ExecuteTime": {
     "end_time": "2017-11-17T21:33:52.203502Z",
     "start_time": "2017-11-17T21:33:52.199682Z"
    }
   },
   "outputs": [
    {
     "name": "stdout",
     "output_type": "stream",
     "text": [
      "police 102\n",
      "ambulance 103\n",
      "firefighters 101\n"
     ]
    }
   ],
   "source": [
    "for key, value in phones.items():\n",
    "    print(key, value)"
   ]
  },
  {
   "cell_type": "markdown",
   "metadata": {
    "ExecuteTime": {
     "end_time": "2017-11-17T20:32:59.669463Z",
     "start_time": "2017-11-17T20:32:59.666668Z"
    }
   },
   "source": [
    "### defaultdict from collections"
   ]
  },
  {
   "cell_type": "code",
   "execution_count": 31,
   "metadata": {
    "ExecuteTime": {
     "end_time": "2017-11-17T21:37:02.274654Z",
     "start_time": "2017-11-17T21:37:02.263455Z"
    }
   },
   "outputs": [
    {
     "ename": "KeyError",
     "evalue": "'Kate'",
     "output_type": "error",
     "traceback": [
      "\u001b[0;31m---------------------------------------------------------------------------\u001b[0m",
      "\u001b[0;31mKeyError\u001b[0m                                  Traceback (most recent call last)",
      "\u001b[0;32m<ipython-input-31-aa95ccba5bd6>\u001b[0m in \u001b[0;36m<module>\u001b[0;34m()\u001b[0m\n\u001b[1;32m      1\u001b[0m \u001b[0;32mfrom\u001b[0m \u001b[0mcollections\u001b[0m \u001b[0;32mimport\u001b[0m \u001b[0mdefaultdict\u001b[0m\u001b[0;34m\u001b[0m\u001b[0m\n\u001b[1;32m      2\u001b[0m \u001b[0mnew_phones\u001b[0m \u001b[0;34m=\u001b[0m \u001b[0mdefaultdict\u001b[0m\u001b[0;34m(\u001b[0m\u001b[0mint\u001b[0m\u001b[0;34m)\u001b[0m\u001b[0;34m\u001b[0m\u001b[0m\n\u001b[0;32m----> 3\u001b[0;31m \u001b[0mphones\u001b[0m\u001b[0;34m[\u001b[0m\u001b[0;34m'Kate'\u001b[0m\u001b[0;34m]\u001b[0m\u001b[0;34m\u001b[0m\u001b[0m\n\u001b[0m\u001b[1;32m      4\u001b[0m \u001b[0mnew_phones\u001b[0m\u001b[0;34m[\u001b[0m\u001b[0;34m'Kate'\u001b[0m\u001b[0;34m]\u001b[0m\u001b[0;34m\u001b[0m\u001b[0m\n",
      "\u001b[0;31mKeyError\u001b[0m: 'Kate'"
     ]
    }
   ],
   "source": [
    "from collections import defaultdict\n",
    "new_phones = defaultdict(int)\n",
    "phones['Kate']\n",
    "new_phones['Kate']"
   ]
  },
  {
   "cell_type": "code",
   "execution_count": null,
   "metadata": {
    "collapsed": true
   },
   "outputs": [],
   "source": []
  },
  {
   "cell_type": "markdown",
   "metadata": {},
   "source": [
    "## Функция sorted"
   ]
  },
  {
   "cell_type": "code",
   "execution_count": 40,
   "metadata": {
    "ExecuteTime": {
     "end_time": "2017-11-17T22:00:28.058818Z",
     "start_time": "2017-11-17T22:00:28.053661Z"
    }
   },
   "outputs": [
    {
     "data": {
      "text/plain": [
       "[-100, 1, 1, 2, 4, 5, 5]"
      ]
     },
     "execution_count": 40,
     "metadata": {},
     "output_type": "execute_result"
    }
   ],
   "source": [
    "my_list = [4, 5, 1, -100, 1, 2, 5]\n",
    "sorted(my_list)"
   ]
  },
  {
   "cell_type": "code",
   "execution_count": 53,
   "metadata": {
    "ExecuteTime": {
     "end_time": "2017-11-17T22:12:49.766900Z",
     "start_time": "2017-11-17T22:12:49.761999Z"
    }
   },
   "outputs": [
    {
     "data": {
      "text/plain": [
       "['', '_', 'a', 'aa', 'ab']"
      ]
     },
     "execution_count": 53,
     "metadata": {},
     "output_type": "execute_result"
    }
   ],
   "source": [
    "my_lines = ['aa', 'a', 'ab', '', '_']\n",
    "sorted(my_lines)"
   ]
  },
  {
   "cell_type": "code",
   "execution_count": 41,
   "metadata": {
    "ExecuteTime": {
     "end_time": "2017-11-17T22:00:40.213532Z",
     "start_time": "2017-11-17T22:00:40.208709Z"
    }
   },
   "outputs": [
    {
     "data": {
      "text/plain": [
       "{-100: 'z', 1: 'd', 2: 'e', 4: 'a', 5: 'k'}"
      ]
     },
     "execution_count": 41,
     "metadata": {},
     "output_type": "execute_result"
    }
   ],
   "source": [
    "my_dict = {4: 'a', 5: 'c', 1: 'a', -100: 'z', 1: 'd', 2: 'e', 5: 'k'}\n",
    "my_dict"
   ]
  },
  {
   "cell_type": "code",
   "execution_count": 42,
   "metadata": {
    "ExecuteTime": {
     "end_time": "2017-11-17T22:00:50.679597Z",
     "start_time": "2017-11-17T22:00:50.675764Z"
    }
   },
   "outputs": [
    {
     "data": {
      "text/plain": [
       "[-100, 1, 2, 4, 5]"
      ]
     },
     "execution_count": 42,
     "metadata": {},
     "output_type": "execute_result"
    }
   ],
   "source": [
    "sorted(my_dict)"
   ]
  },
  {
   "cell_type": "code",
   "execution_count": 43,
   "metadata": {
    "ExecuteTime": {
     "end_time": "2017-11-17T22:00:56.244649Z",
     "start_time": "2017-11-17T22:00:56.240231Z"
    }
   },
   "outputs": [
    {
     "data": {
      "text/plain": [
       "[(-100, 'z'), (1, 'd'), (2, 'e'), (4, 'a'), (5, 'k')]"
      ]
     },
     "execution_count": 43,
     "metadata": {},
     "output_type": "execute_result"
    }
   ],
   "source": [
    "sorted(my_dict.items())"
   ]
  },
  {
   "cell_type": "code",
   "execution_count": 46,
   "metadata": {
    "ExecuteTime": {
     "end_time": "2017-11-17T22:01:14.310436Z",
     "start_time": "2017-11-17T22:01:14.305866Z"
    }
   },
   "outputs": [
    {
     "data": {
      "text/plain": [
       "[(5, 'k'), (4, 'a'), (2, 'e'), (1, 'd'), (-100, 'z')]"
      ]
     },
     "execution_count": 46,
     "metadata": {},
     "output_type": "execute_result"
    }
   ],
   "source": [
    "sorted(my_dict.items(), reverse=True)"
   ]
  },
  {
   "cell_type": "code",
   "execution_count": 48,
   "metadata": {
    "ExecuteTime": {
     "end_time": "2017-11-17T22:02:48.961649Z",
     "start_time": "2017-11-17T22:02:48.958707Z"
    },
    "collapsed": true
   },
   "outputs": [],
   "source": [
    "def get_second_elem(x):\n",
    "    return x[1]"
   ]
  },
  {
   "cell_type": "code",
   "execution_count": 49,
   "metadata": {
    "ExecuteTime": {
     "end_time": "2017-11-17T22:02:49.549085Z",
     "start_time": "2017-11-17T22:02:49.544725Z"
    }
   },
   "outputs": [
    {
     "data": {
      "text/plain": [
       "[(4, 'a'), (1, 'd'), (2, 'e'), (5, 'k'), (-100, 'z')]"
      ]
     },
     "execution_count": 49,
     "metadata": {},
     "output_type": "execute_result"
    }
   ],
   "source": [
    "sorted(my_dict.items(), key=get_second_elem)"
   ]
  },
  {
   "cell_type": "code",
   "execution_count": 50,
   "metadata": {
    "ExecuteTime": {
     "end_time": "2017-11-17T22:02:51.549772Z",
     "start_time": "2017-11-17T22:02:51.545281Z"
    }
   },
   "outputs": [
    {
     "data": {
      "text/plain": [
       "[(4, 'a'), (1, 'd'), (2, 'e'), (5, 'k'), (-100, 'z')]"
      ]
     },
     "execution_count": 50,
     "metadata": {},
     "output_type": "execute_result"
    }
   ],
   "source": [
    "sorted(my_dict.items(), key=lambda x: x[1])"
   ]
  },
  {
   "cell_type": "markdown",
   "metadata": {},
   "source": [
    "## Практика:\n",
    "\n",
    "1. (1 балл) Создайте словарь superhero_ranks. Назначьте значение 2 Аквамену и значение 1 Супермену\n",
    "\n",
    "2. (3 балла) Дан список целых чисел. Сформировать словарь, в котором ключами будут числа, а значенями - количество употреблений данных чисел в списке. Например, если дан список [1, 1, 3, 2, 1, 3, 4], то в нем число 1 встречается три раза, число 3 - два раза, числа 2 и 4 - по одному разу.\n",
    "\n",
    "3. (2 балла) Дана фильмография актера. Отсортируйте фильмы по годам от новых к старым:"
   ]
  },
  {
   "cell_type": "code",
   "execution_count": 56,
   "metadata": {
    "ExecuteTime": {
     "end_time": "2017-11-17T22:18:26.729985Z",
     "start_time": "2017-11-17T22:18:26.721428Z"
    }
   },
   "outputs": [],
   "source": [
    "movies = \"\"\"1983  ф Резиновое лицо  Rubberface (Introducting… Janet)  Тони Морони\n",
    "2000  ф Я, снова я и Ирэн Me, Myself and Irene  Офицер Чарли Бэйлигейтс/Хэнк\n",
    "2008  ф Всегда говори «Да»  Yes man Карл Аллен\n",
    "1989  ф Земные девушки легко доступны Earth Girls Are Easy  Уиплок\n",
    "1988  ф Смертельный список  The Dead Pool Джонни Squares\n",
    "2011  с Офис  The Office  Парень из Пальцевых Озер (одна серия)\n",
    "2009  ф Я люблю тебя, Филлип Моррис I Love You Phillip Morris Стив Рассел\n",
    "1983  ф Всё в хорошем вкусе All in Good Taste Ральф\n",
    "2009  мф  Рождественская история  A Christmas Carol Эбенезер Скрудж, призраки\n",
    "1984 — 1984 с Утиная фабрика  The Duck Factory  Скип Таркентон\n",
    "2007  ф Роковое число 23  Number 23 Уолтер Спэрроу\n",
    "2017  ф Джим и Энди - великое запределье  Оригинальное название неизвестно\n",
    "2008  мф  Хортон  Horton Hears a Who! Хортон (голос)\n",
    "2003  ф Брюс всемогущий Bruce Almighty  Брюс Нолан\n",
    "1996  ф Кабельщик The Cable Guy Кабельщик/Чип/Рики\n",
    "2009  ф Под морем в 3D  Under the Sea 3D  рассказчик\n",
    "2013  ф Невероятный Бёрт Уандерстоун  Burt Wonderstone  Стив Грэй\n",
    "1989  ф Розовый кадиллак  Pink Cadillac Комедиант\n",
    "2013  ф Телеведущий 2 Anchorman: The Legend Continues ведущий Скотт Райлс\n",
    "1999  ф Человек на Луне Man on the Moon Энди Кауфман/Тони Клифтон\n",
    "1994  ф Маска The Mask  Стэнли Ипкисс\n",
    "2011  ф Пингвины мистера Поппера  Mr. Popper’s Penguins Том Поппер\n",
    "2000  ф Гринч — похититель Рождества  How the Grinch Stole Christmas  Гринч\n",
    "1986  ф Пегги Сью вышла замуж Peggy Sue Got Married Уолтер Гетц\n",
    "1998  ф Шоу Трумана The Truman Show Трумэн Бёрбэнк\n",
    "1983  ф Гора Куппер Copper Mountain Бобби Тодд\n",
    "2013  ф Пипец 2 Kick-Ass 2  Полковник Америка\n",
    "1985  ф Однажды укушенный Once Bitten Марк Кендэлл\n",
    "2005  ф Аферисты Дик и Джейн  Fun with Dick and Jane  Дик Харпер\n",
    "1995  ф Бэтмен навсегда Batman Forever  Эдвард Нигма/Загадочник\n",
    "1990 — 1994 с В живом цвете In Living Color Различные роли\n",
    "1984  ф Чур, мое! Finders Keepers Лэйн Бидлекофф\n",
    "1995  ф Эйс Вентура 2: Когда зовёт природа  Ace Ventura: When Nature Calls  Эйс Вентура\n",
    "2016  ф Настоящее преступление  True Crimes Джек\n",
    "1993  ф Эйс Вентура: Розыск домашних животных Ace Ventura: Pet Detective  Эйс Вентура\n",
    "2016  ф Плохая партия The Bad Batch Питер\n",
    "2001  ф Мажестик  The Majestic  Питер Эпплтон\n",
    "1991  ф Нервы на пределе  High Strung Смерть\n",
    "2004  ф Лемони Сникет: 33 несчастья Lemony Snicket’s A Series of Unfortunate Events Граф Олаф\n",
    "2004  ф Вечное сияние чистого разума  Eternal Sunshine of the Spotless Mind Джоел Бэриш\n",
    "1997  ф Лжец, лжец  Liar Liar Флетчер Рид\n",
    "1992  мф  Крошечный паучок  Itsy Bitsy Spider Истребитель насекомых (голос)\n",
    "1992  ф Жизнь на Мэйпл-Драйв (ТВ) Doing Time on Maple Drive Тим Картер\n",
    "2014  ф Тупой и ещё тупее 2 Dumb & Dumber 2 Ллойд Кристмас\n",
    "1998  ф Саймон Бирч Simon Birch Взрослый Джо Вентеуорф\n",
    "1994  ф Тупой и ещё тупее Dumb & Dumber Ллойд Кристмас\"\"\""
   ]
  },
  {
   "cell_type": "markdown",
   "metadata": {},
   "source": [
    "## Библиотека requests"
   ]
  },
  {
   "cell_type": "code",
   "execution_count": 11,
   "metadata": {
    "ExecuteTime": {
     "end_time": "2017-11-17T20:06:13.746607Z",
     "start_time": "2017-11-17T20:06:11.981536Z"
    }
   },
   "outputs": [],
   "source": [
    "import requests\n",
    "response = requests.get('http://docs.python-requests.org/en/master/')"
   ]
  },
  {
   "cell_type": "code",
   "execution_count": 10,
   "metadata": {
    "ExecuteTime": {
     "end_time": "2017-11-17T19:51:22.235287Z",
     "start_time": "2017-11-17T19:51:22.231592Z"
    },
    "scrolled": true
   },
   "outputs": [
    {
     "name": "stdout",
     "output_type": "stream",
     "text": [
      "<!DOCTYPE html PUBLIC \"-//W3C//DTD XHTML 1.0 Transitional//EN\"\n",
      "  \"http://www.w3.org/TR/xhtml1/DTD/xhtml1-transitional.dtd\">\n",
      "\n",
      "\n",
      "<html xmlns=\"http://www.w3.org/1999/xhtml\" lang=\"en\">\n",
      "  <head>\n",
      "    <meta http-equiv=\"Content-Type\" content=\"text/html; charset=utf-8\" />\n",
      "    \n",
      "    <title>Requests: HTTP for Humans &#8212; Requests 2.18.4 documentation</title>\n",
      "    \n",
      "    <link rel=\"stylesheet\" href=\"_static/alabaster.css\" type=\"text/css\" />\n",
      "    <link rel=\"stylesheet\" href=\"_static/pygments.css\" type=\"text/css\" />\n",
      "    <link rel=\"stylesheet\" href=\"https://media.readthedocs.org/css/badge_only.css\" type=\"text/css\" />\n",
      "    \n",
      "    <script type=\"text/javascript\">\n",
      "      var DOCUMENTATION_OPTIONS = {\n",
      "        URL_ROOT:    '',\n",
      "        VERSION:     '2.18.4',\n",
      "        COLLAPSE_INDEX: false,\n",
      "        FILE_SUFFIX: '',\n",
      "        HAS_SOURCE:  true,\n",
      "        SOURCELINK_SUFFIX: '.txt'\n",
      "      };\n",
      "    </script>\n",
      "    <script type=\"text/javascript\" src=\"https://media.readthedocs.org/javascript/jquery/jquery-2.0.3.min.js\"></script>\n",
      "    <script type=\"text/javascript\" src=\"https://media.readthedocs.org/javascript/jquery/jquery-migrate-1.2.1.min.js\"></script>\n",
      "    <script type=\"text/javascript\" src=\"https://media.readthedocs.org/javascript/underscore.js\"></script>\n",
      "    <script type=\"text/javascript\" src=\"https://media.readthedocs.org/javascript/doctools.js\"></script>\n",
      "    <script type=\"text/javascript\" src=\"https://media.readthedocs.org/javascript/readthedocs-doc-embed.js\"></script>\n",
      "    <link rel=\"index\" title=\"Index\" href=\"genindex/\" />\n",
      "    <link rel=\"search\" title=\"Search\" href=\"search/\" />\n",
      "    <link rel=\"next\" title=\"Introduction\" href=\"user/intro/\" />\n",
      "   \n",
      "  <link rel=\"stylesheet\" href=\"_static/custom.css\" type=\"text/css\" />\n",
      "  \n",
      "  \n",
      "  <meta name=\"viewport\" content=\"width=device-width, initial-scale=0.9, maximum-scale=0.9\" />\n",
      "\n",
      "  \n",
      "<!-- RTD Extra Head -->\n",
      "\n",
      "<!-- \n",
      "Always link to the latest version, as canonical.\n",
      "http://docs.readthedocs.org/en/latest/canonical.html\n",
      "-->\n",
      "<link rel=\"canonical\" href=\"http://docs.python-requests.org/en/master/\" />\n",
      "\n",
      "<link rel=\"stylesheet\" href=\"https://media.readthedocs.org/css/readthedocs-doc-embed.css\" type=\"text/css\" />\n",
      "\n",
      "<script type=\"text/javascript\" src=\"_static/readthedocs-data.js\"></script>\n",
      "\n",
      "<!-- Add page-specific data, which must exist in the page js, not global -->\n",
      "<script type=\"text/javascript\">\n",
      "READTHEDOCS_DATA['page'] = 'index' \t\t\n",
      "READTHEDOCS_DATA['source_suffix'] = '.rst'\n",
      "</script>\n",
      "\n",
      "<script type=\"text/javascript\" src=\"_static/readthedocs-dynamic-include.js\"></script>\n",
      "\n",
      "<!-- end RTD <extrahead> --></head>\n",
      "  <body role=\"document\">\n",
      "  \n",
      "\n",
      "    <div class=\"document\">\n",
      "      <div class=\"documentwrapper\">\n",
      "        <div class=\"bodywrapper\">\n",
      "          <div class=\"body\" role=\"main\">\n",
      "            \n",
      "  <div class=\"section\" id=\"requests-http-for-humans\">\n",
      "<h1>Requests: HTTP for Humans<a class=\"headerlink\" href=\"#requests-http-for-humans\" title=\"Permalink to this headline\">Â¶</a></h1>\n",
      "<p>Release v2.18.4. (<a class=\"reference internal\" href=\"user/install/#install\"><span class=\"std std-ref\">Installation</span></a>)</p>\n",
      "<a class=\"reference external image-reference\" href=\"https://pypi.python.org/pypi/requests\"><img alt=\"https://img.shields.io/pypi/l/requests.svg\" src=\"https://img.shields.io/pypi/l/requests.svg\" /></a>\n",
      "<a class=\"reference external image-reference\" href=\"https://pypi.python.org/pypi/requests\"><img alt=\"https://img.shields.io/pypi/wheel/requests.svg\" src=\"https://img.shields.io/pypi/wheel/requests.svg\" /></a>\n",
      "<a class=\"reference external image-reference\" href=\"https://pypi.python.org/pypi/requests\"><img alt=\"https://img.shields.io/pypi/pyversions/requests.svg\" src=\"https://img.shields.io/pypi/pyversions/requests.svg\" /></a>\n",
      "<a class=\"reference external image-reference\" href=\"https://codecov.io/github/requests/requests\"><img alt=\"codecov.io\" src=\"https://codecov.io/github/requests/requests/coverage.svg?branch=master\" /></a>\n",
      "<a class=\"reference external image-reference\" href=\"https://saythanks.io/to/kennethreitz\"><img alt=\"https://img.shields.io/badge/Say%20Thanks!-ð¦-1EAEDB.svg\" src=\"https://img.shields.io/badge/Say%20Thanks!-ð¦-1EAEDB.svg\" /></a>\n",
      "<p><strong>Requests</strong> is the only <em>Non-GMO</em> HTTP library for Python, safe for human\n",
      "consumption.</p>\n",
      "<div class=\"admonition note\">\n",
      "<p class=\"first admonition-title\">Note</p>\n",
      "<p class=\"last\">The use of <strong>Python 3</strong> is <em>highly</em> preferred over Python 2. Consider upgrading your applications and infrastructure if you find yourself <em>still</em> using Python 2 in production today. If you are using Python 3, congratulations â&nbsp;you are indeed a person of excellent taste.\n",
      "â<em>Kenneth Reitz</em></p>\n",
      "</div>\n",
      "<hr class=\"docutils\" />\n",
      "<p><strong>Behold, the power of Requests</strong>:</p>\n",
      "<div class=\"highlight-default\"><div class=\"highlight\"><pre><span></span><span class=\"gp\">&gt;&gt;&gt; </span><span class=\"n\">r</span> <span class=\"o\">=</span> <span class=\"n\">requests</span><span class=\"o\">.</span><span class=\"n\">get</span><span class=\"p\">(</span><span class=\"s1\">&#39;https://api.github.com/user&#39;</span><span class=\"p\">,</span> <span class=\"n\">auth</span><span class=\"o\">=</span><span class=\"p\">(</span><span class=\"s1\">&#39;user&#39;</span><span class=\"p\">,</span> <span class=\"s1\">&#39;pass&#39;</span><span class=\"p\">))</span>\n",
      "<span class=\"gp\">&gt;&gt;&gt; </span><span class=\"n\">r</span><span class=\"o\">.</span><span class=\"n\">status_code</span>\n",
      "<span class=\"go\">200</span>\n",
      "<span class=\"gp\">&gt;&gt;&gt; </span><span class=\"n\">r</span><span class=\"o\">.</span><span class=\"n\">headers</span><span class=\"p\">[</span><span class=\"s1\">&#39;content-type&#39;</span><span class=\"p\">]</span>\n",
      "<span class=\"go\">&#39;application/json; charset=utf8&#39;</span>\n",
      "<span class=\"gp\">&gt;&gt;&gt; </span><span class=\"n\">r</span><span class=\"o\">.</span><span class=\"n\">encoding</span>\n",
      "<span class=\"go\">&#39;utf-8&#39;</span>\n",
      "<span class=\"gp\">&gt;&gt;&gt; </span><span class=\"n\">r</span><span class=\"o\">.</span><span class=\"n\">text</span>\n",
      "<span class=\"go\">u&#39;{&quot;type&quot;:&quot;User&quot;...&#39;</span>\n",
      "<span class=\"gp\">&gt;&gt;&gt; </span><span class=\"n\">r</span><span class=\"o\">.</span><span class=\"n\">json</span><span class=\"p\">()</span>\n",
      "<span class=\"go\">{u&#39;private_gists&#39;: 419, u&#39;total_private_repos&#39;: 77, ...}</span>\n",
      "</pre></div>\n",
      "</div>\n",
      "<p>See <a class=\"reference external\" href=\"https://gist.github.com/973705\">similar code, sans Requests</a>.</p>\n",
      "<p><strong>Requests</strong> allows you to send <em>organic, grass-fed</em> HTTP/1.1 requests, without the\n",
      "need for manual labor. There's no need to manually add query strings to your\n",
      "URLs, or to form-encode your POST data. Keep-alive and HTTP connection pooling\n",
      "are 100% automatic, thanks to <a class=\"reference external\" href=\"https://github.com/shazow/urllib3\">urllib3</a>.</p>\n",
      "<div class=\"section\" id=\"user-testimonials\">\n",
      "<h2>User Testimonials<a class=\"headerlink\" href=\"#user-testimonials\" title=\"Permalink to this headline\">Â¶</a></h2>\n",
      "<p>Twitter, Spotify, Microsoft, Amazon, Lyft, BuzzFeed, Reddit, The NSA, Her Majesty's Government, Google, Twilio, Runscope, Mozilla, Heroku,\n",
      "PayPal, NPR, Obama for America, Transifex, Native Instruments, The Washington\n",
      "Post, SoundCloud, Kippt, Sony, and Federal U.S.\n",
      "Institutions that prefer to be unnamed claim to use Requests internally.</p>\n",
      "<dl class=\"docutils\">\n",
      "<dt><strong>Armin Ronacher</strong>â</dt>\n",
      "<dd><em>Requests is the perfect example how beautiful an API can be with the\n",
      "right level of abstraction.</em></dd>\n",
      "<dt><strong>Matt DeBoard</strong>â</dt>\n",
      "<dd><em>I'm going to get Kenneth Reitz's Python requests module tattooed\n",
      "on my body, somehow. The whole thing.</em></dd>\n",
      "<dt><strong>Daniel Greenfeld</strong>â</dt>\n",
      "<dd><em>Nuked a 1200 LOC spaghetti code library with 10 lines of code thanks to\n",
      "Kenneth Reitz's request library. Today has been AWESOME.</em></dd>\n",
      "<dt><strong>Kenny Meyers</strong>â</dt>\n",
      "<dd><em>Python HTTP: When in doubt, or when not in doubt, use Requests. Beautiful,\n",
      "simple, Pythonic.</em></dd>\n",
      "</dl>\n",
      "<p>Requests is one of the most downloaded Python packages of all time, pulling in\n",
      "over 13,000,000 downloads every month. All the cool kids are doing it!</p>\n",
      "</div>\n",
      "<div class=\"section\" id=\"beloved-features\">\n",
      "<h2>Beloved Features<a class=\"headerlink\" href=\"#beloved-features\" title=\"Permalink to this headline\">Â¶</a></h2>\n",
      "<p>Requests is ready for today's web.</p>\n",
      "<ul class=\"simple\">\n",
      "<li>Keep-Alive &amp; Connection Pooling</li>\n",
      "<li>International Domains and URLs</li>\n",
      "<li>Sessions with Cookie Persistence</li>\n",
      "<li>Browser-style SSL Verification</li>\n",
      "<li>Automatic Content Decoding</li>\n",
      "<li>Basic/Digest Authentication</li>\n",
      "<li>Elegant Key/Value Cookies</li>\n",
      "<li>Automatic Decompression</li>\n",
      "<li>Unicode Response Bodies</li>\n",
      "<li>HTTP(S) Proxy Support</li>\n",
      "<li>Multipart File Uploads</li>\n",
      "<li>Streaming Downloads</li>\n",
      "<li>Connection Timeouts</li>\n",
      "<li>Chunked Requests</li>\n",
      "<li><code class=\"docutils literal\"><span class=\"pre\">.netrc</span></code> Support</li>\n",
      "</ul>\n",
      "<p>Requests officially supports Python 2.6â2.7 &amp; 3.4â3.7, and runs great on PyPy.</p>\n",
      "</div>\n",
      "<div class=\"section\" id=\"the-user-guide\">\n",
      "<h2>The User Guide<a class=\"headerlink\" href=\"#the-user-guide\" title=\"Permalink to this headline\">Â¶</a></h2>\n",
      "<p>This part of the documentation, which is mostly prose, begins with some\n",
      "background information about Requests, then focuses on step-by-step\n",
      "instructions for getting the most out of Requests.</p>\n",
      "<div class=\"toctree-wrapper compound\">\n",
      "<ul>\n",
      "<li class=\"toctree-l1\"><a class=\"reference internal\" href=\"user/intro/\">Introduction</a><ul>\n",
      "<li class=\"toctree-l2\"><a class=\"reference internal\" href=\"user/intro/#philosophy\">Philosophy</a></li>\n",
      "<li class=\"toctree-l2\"><a class=\"reference internal\" href=\"user/intro/#apache2-license\">Apache2 License</a></li>\n",
      "<li class=\"toctree-l2\"><a class=\"reference internal\" href=\"user/intro/#requests-license\">Requests License</a></li>\n",
      "</ul>\n",
      "</li>\n",
      "<li class=\"toctree-l1\"><a class=\"reference internal\" href=\"user/install/\">Installation of Requests</a><ul>\n",
      "<li class=\"toctree-l2\"><a class=\"reference internal\" href=\"user/install/#pipenv-install-requests\">$ pipenv install requests</a></li>\n",
      "<li class=\"toctree-l2\"><a class=\"reference internal\" href=\"user/install/#get-the-source-code\">Get the Source Code</a></li>\n",
      "</ul>\n",
      "</li>\n",
      "<li class=\"toctree-l1\"><a class=\"reference internal\" href=\"user/quickstart/\">Quickstart</a><ul>\n",
      "<li class=\"toctree-l2\"><a class=\"reference internal\" href=\"user/quickstart/#make-a-request\">Make a Request</a></li>\n",
      "<li class=\"toctree-l2\"><a class=\"reference internal\" href=\"user/quickstart/#passing-parameters-in-urls\">Passing Parameters In URLs</a></li>\n",
      "<li class=\"toctree-l2\"><a class=\"reference internal\" href=\"user/quickstart/#response-content\">Response Content</a></li>\n",
      "<li class=\"toctree-l2\"><a class=\"reference internal\" href=\"user/quickstart/#binary-response-content\">Binary Response Content</a></li>\n",
      "<li class=\"toctree-l2\"><a class=\"reference internal\" href=\"user/quickstart/#json-response-content\">JSON Response Content</a></li>\n",
      "<li class=\"toctree-l2\"><a class=\"reference internal\" href=\"user/quickstart/#raw-response-content\">Raw Response Content</a></li>\n",
      "<li class=\"toctree-l2\"><a class=\"reference internal\" href=\"user/quickstart/#custom-headers\">Custom Headers</a></li>\n",
      "<li class=\"toctree-l2\"><a class=\"reference internal\" href=\"user/quickstart/#more-complicated-post-requests\">More complicated POST requests</a></li>\n",
      "<li class=\"toctree-l2\"><a class=\"reference internal\" href=\"user/quickstart/#post-a-multipart-encoded-file\">POST a Multipart-Encoded File</a></li>\n",
      "<li class=\"toctree-l2\"><a class=\"reference internal\" href=\"user/quickstart/#response-status-codes\">Response Status Codes</a></li>\n",
      "<li class=\"toctree-l2\"><a class=\"reference internal\" href=\"user/quickstart/#response-headers\">Response Headers</a></li>\n",
      "<li class=\"toctree-l2\"><a class=\"reference internal\" href=\"user/quickstart/#cookies\">Cookies</a></li>\n",
      "<li class=\"toctree-l2\"><a class=\"reference internal\" href=\"user/quickstart/#redirection-and-history\">Redirection and History</a></li>\n",
      "<li class=\"toctree-l2\"><a class=\"reference internal\" href=\"user/quickstart/#timeouts\">Timeouts</a></li>\n",
      "<li class=\"toctree-l2\"><a class=\"reference internal\" href=\"user/quickstart/#errors-and-exceptions\">Errors and Exceptions</a></li>\n",
      "</ul>\n",
      "</li>\n",
      "<li class=\"toctree-l1\"><a class=\"reference internal\" href=\"user/advanced/\">Advanced Usage</a><ul>\n",
      "<li class=\"toctree-l2\"><a class=\"reference internal\" href=\"user/advanced/#session-objects\">Session Objects</a></li>\n",
      "<li class=\"toctree-l2\"><a class=\"reference internal\" href=\"user/advanced/#request-and-response-objects\">Request and Response Objects</a></li>\n",
      "<li class=\"toctree-l2\"><a class=\"reference internal\" href=\"user/advanced/#prepared-requests\">Prepared Requests</a></li>\n",
      "<li class=\"toctree-l2\"><a class=\"reference internal\" href=\"user/advanced/#ssl-cert-verification\">SSL Cert Verification</a></li>\n",
      "<li class=\"toctree-l2\"><a class=\"reference internal\" href=\"user/advanced/#client-side-certificates\">Client Side Certificates</a></li>\n",
      "<li class=\"toctree-l2\"><a class=\"reference internal\" href=\"user/advanced/#ca-certificates\">CA Certificates</a></li>\n",
      "<li class=\"toctree-l2\"><a class=\"reference internal\" href=\"user/advanced/#body-content-workflow\">Body Content Workflow</a></li>\n",
      "<li class=\"toctree-l2\"><a class=\"reference internal\" href=\"user/advanced/#keep-alive\">Keep-Alive</a></li>\n",
      "<li class=\"toctree-l2\"><a class=\"reference internal\" href=\"user/advanced/#streaming-uploads\">Streaming Uploads</a></li>\n",
      "<li class=\"toctree-l2\"><a class=\"reference internal\" href=\"user/advanced/#chunk-encoded-requests\">Chunk-Encoded Requests</a></li>\n",
      "<li class=\"toctree-l2\"><a class=\"reference internal\" href=\"user/advanced/#post-multiple-multipart-encoded-files\">POST Multiple Multipart-Encoded Files</a></li>\n",
      "<li class=\"toctree-l2\"><a class=\"reference internal\" href=\"user/advanced/#event-hooks\">Event Hooks</a></li>\n",
      "<li class=\"toctree-l2\"><a class=\"reference internal\" href=\"user/advanced/#custom-authentication\">Custom Authentication</a></li>\n",
      "<li class=\"toctree-l2\"><a class=\"reference internal\" href=\"user/advanced/#streaming-requests\">Streaming Requests</a></li>\n",
      "<li class=\"toctree-l2\"><a class=\"reference internal\" href=\"user/advanced/#proxies\">Proxies</a></li>\n",
      "<li class=\"toctree-l2\"><a class=\"reference internal\" href=\"user/advanced/#compliance\">Compliance</a></li>\n",
      "<li class=\"toctree-l2\"><a class=\"reference internal\" href=\"user/advanced/#http-verbs\">HTTP Verbs</a></li>\n",
      "<li class=\"toctree-l2\"><a class=\"reference internal\" href=\"user/advanced/#custom-verbs\">Custom Verbs</a></li>\n",
      "<li class=\"toctree-l2\"><a class=\"reference internal\" href=\"user/advanced/#link-headers\">Link Headers</a></li>\n",
      "<li class=\"toctree-l2\"><a class=\"reference internal\" href=\"user/advanced/#transport-adapters\">Transport Adapters</a></li>\n",
      "<li class=\"toctree-l2\"><a class=\"reference internal\" href=\"user/advanced/#blocking-or-non-blocking\">Blocking Or Non-Blocking?</a></li>\n",
      "<li class=\"toctree-l2\"><a class=\"reference internal\" href=\"user/advanced/#header-ordering\">Header Ordering</a></li>\n",
      "<li class=\"toctree-l2\"><a class=\"reference internal\" href=\"user/advanced/#timeouts\">Timeouts</a></li>\n",
      "</ul>\n",
      "</li>\n",
      "<li class=\"toctree-l1\"><a class=\"reference internal\" href=\"user/authentication/\">Authentication</a><ul>\n",
      "<li class=\"toctree-l2\"><a class=\"reference internal\" href=\"user/authentication/#basic-authentication\">Basic Authentication</a></li>\n",
      "<li class=\"toctree-l2\"><a class=\"reference internal\" href=\"user/authentication/#digest-authentication\">Digest Authentication</a></li>\n",
      "<li class=\"toctree-l2\"><a class=\"reference internal\" href=\"user/authentication/#oauth-1-authentication\">OAuth 1 Authentication</a></li>\n",
      "<li class=\"toctree-l2\"><a class=\"reference internal\" href=\"user/authentication/#oauth-2-and-openid-connect-authentication\">OAuth 2 and OpenID Connect Authentication</a></li>\n",
      "<li class=\"toctree-l2\"><a class=\"reference internal\" href=\"user/authentication/#other-authentication\">Other Authentication</a></li>\n",
      "<li class=\"toctree-l2\"><a class=\"reference internal\" href=\"user/authentication/#new-forms-of-authentication\">New Forms of Authentication</a></li>\n",
      "</ul>\n",
      "</li>\n",
      "</ul>\n",
      "</div>\n",
      "</div>\n",
      "<div class=\"section\" id=\"the-community-guide\">\n",
      "<h2>The Community Guide<a class=\"headerlink\" href=\"#the-community-guide\" title=\"Permalink to this headline\">Â¶</a></h2>\n",
      "<p>This part of the documentation, which is mostly prose, details the\n",
      "Requests ecosystem and community.</p>\n",
      "<div class=\"toctree-wrapper compound\">\n",
      "<ul>\n",
      "<li class=\"toctree-l1\"><a class=\"reference internal\" href=\"community/recommended/\">Recommended Packages and Extensions</a><ul>\n",
      "<li class=\"toctree-l2\"><a class=\"reference internal\" href=\"community/recommended/#certifi-ca-bundle\">Certifi CA Bundle</a></li>\n",
      "<li class=\"toctree-l2\"><a class=\"reference internal\" href=\"community/recommended/#cachecontrol\">CacheControl</a></li>\n",
      "<li class=\"toctree-l2\"><a class=\"reference internal\" href=\"community/recommended/#requests-toolbelt\">Requests-Toolbelt</a></li>\n",
      "<li class=\"toctree-l2\"><a class=\"reference internal\" href=\"community/recommended/#requests-threads\">Requests-Threads</a></li>\n",
      "<li class=\"toctree-l2\"><a class=\"reference internal\" href=\"community/recommended/#requests-oauthlib\">Requests-OAuthlib</a></li>\n",
      "<li class=\"toctree-l2\"><a class=\"reference internal\" href=\"community/recommended/#betamax\">Betamax</a></li>\n",
      "</ul>\n",
      "</li>\n",
      "<li class=\"toctree-l1\"><a class=\"reference internal\" href=\"community/faq/\">Frequently Asked Questions</a><ul>\n",
      "<li class=\"toctree-l2\"><a class=\"reference internal\" href=\"community/faq/#encoded-data\">Encoded Data?</a></li>\n",
      "<li class=\"toctree-l2\"><a class=\"reference internal\" href=\"community/faq/#custom-user-agents\">Custom User-Agents?</a></li>\n",
      "<li class=\"toctree-l2\"><a class=\"reference internal\" href=\"community/faq/#why-not-httplib2\">Why not Httplib2?</a></li>\n",
      "<li class=\"toctree-l2\"><a class=\"reference internal\" href=\"community/faq/#python-3-support\">Python 3 Support?</a></li>\n",
      "<li class=\"toctree-l2\"><a class=\"reference internal\" href=\"community/faq/#what-are-hostname-doesn-t-match-errors\">What are &quot;hostname doesn't match&quot; errors?</a></li>\n",
      "</ul>\n",
      "</li>\n",
      "<li class=\"toctree-l1\"><a class=\"reference internal\" href=\"community/out-there/\">Integrations</a><ul>\n",
      "<li class=\"toctree-l2\"><a class=\"reference internal\" href=\"community/out-there/#python-for-ios\">Python for iOS</a></li>\n",
      "</ul>\n",
      "</li>\n",
      "<li class=\"toctree-l1\"><a class=\"reference internal\" href=\"community/out-there/#articles-talks\">Articles &amp; Talks</a></li>\n",
      "<li class=\"toctree-l1\"><a class=\"reference internal\" href=\"community/support/\">Support</a><ul>\n",
      "<li class=\"toctree-l2\"><a class=\"reference internal\" href=\"community/support/#stackoverflow\">StackOverflow</a></li>\n",
      "<li class=\"toctree-l2\"><a class=\"reference internal\" href=\"community/support/#send-a-tweet\">Send a Tweet</a></li>\n",
      "<li class=\"toctree-l2\"><a class=\"reference internal\" href=\"community/support/#file-an-issue\">File an Issue</a></li>\n",
      "<li class=\"toctree-l2\"><a class=\"reference internal\" href=\"community/support/#e-mail\">E-mail</a></li>\n",
      "<li class=\"toctree-l2\"><a class=\"reference internal\" href=\"community/support/#irc\">IRC</a></li>\n",
      "</ul>\n",
      "</li>\n",
      "<li class=\"toctree-l1\"><a class=\"reference internal\" href=\"community/vulnerabilities/\">Vulnerability Disclosure</a><ul>\n",
      "<li class=\"toctree-l2\"><a class=\"reference internal\" href=\"community/vulnerabilities/#process\">Process</a></li>\n",
      "<li class=\"toctree-l2\"><a class=\"reference internal\" href=\"community/vulnerabilities/#previous-cves\">Previous CVEs</a></li>\n",
      "</ul>\n",
      "</li>\n",
      "<li class=\"toctree-l1\"><a class=\"reference internal\" href=\"community/updates/\">Community Updates</a><ul>\n",
      "<li class=\"toctree-l2\"><a class=\"reference internal\" href=\"community/updates/#github\">GitHub</a></li>\n",
      "<li class=\"toctree-l2\"><a class=\"reference internal\" href=\"community/updates/#twitter\">Twitter</a></li>\n",
      "</ul>\n",
      "</li>\n",
      "<li class=\"toctree-l1\"><a class=\"reference internal\" href=\"community/updates/#release-and-version-history\">Release and Version History</a><ul>\n",
      "<li class=\"toctree-l2\"><a class=\"reference internal\" href=\"community/updates/#release-history\">Release History</a></li>\n",
      "</ul>\n",
      "</li>\n",
      "<li class=\"toctree-l1\"><a class=\"reference internal\" href=\"community/release-process/\">Release Process and Rules</a><ul>\n",
      "<li class=\"toctree-l2\"><a class=\"reference internal\" href=\"community/release-process/#major-releases\">Major Releases</a></li>\n",
      "<li class=\"toctree-l2\"><a class=\"reference internal\" href=\"community/release-process/#minor-releases\">Minor Releases</a></li>\n",
      "<li class=\"toctree-l2\"><a class=\"reference internal\" href=\"community/release-process/#hotfix-releases\">Hotfix Releases</a></li>\n",
      "<li class=\"toctree-l2\"><a class=\"reference internal\" href=\"community/release-process/#reasoning\">Reasoning</a></li>\n",
      "</ul>\n",
      "</li>\n",
      "</ul>\n",
      "</div>\n",
      "</div>\n",
      "<div class=\"section\" id=\"the-api-documentation-guide\">\n",
      "<h2>The API Documentation / Guide<a class=\"headerlink\" href=\"#the-api-documentation-guide\" title=\"Permalink to this headline\">Â¶</a></h2>\n",
      "<p>If you are looking for information on a specific function, class, or method,\n",
      "this part of the documentation is for you.</p>\n",
      "<div class=\"toctree-wrapper compound\">\n",
      "<ul>\n",
      "<li class=\"toctree-l1\"><a class=\"reference internal\" href=\"api/\">Developer Interface</a><ul>\n",
      "<li class=\"toctree-l2\"><a class=\"reference internal\" href=\"api/#main-interface\">Main Interface</a></li>\n",
      "<li class=\"toctree-l2\"><a class=\"reference internal\" href=\"api/#exceptions\">Exceptions</a></li>\n",
      "<li class=\"toctree-l2\"><a class=\"reference internal\" href=\"api/#request-sessions\">Request Sessions</a></li>\n",
      "<li class=\"toctree-l2\"><a class=\"reference internal\" href=\"api/#lower-level-classes\">Lower-Level Classes</a></li>\n",
      "<li class=\"toctree-l2\"><a class=\"reference internal\" href=\"api/#lower-lower-level-classes\">Lower-Lower-Level Classes</a></li>\n",
      "<li class=\"toctree-l2\"><a class=\"reference internal\" href=\"api/#authentication\">Authentication</a></li>\n",
      "<li class=\"toctree-l2\"><a class=\"reference internal\" href=\"api/#encodings\">Encodings</a></li>\n",
      "<li class=\"toctree-l2\"><a class=\"reference internal\" href=\"api/#cookies\">Cookies</a></li>\n",
      "<li class=\"toctree-l2\"><a class=\"reference internal\" href=\"api/#status-code-lookup\">Status Code Lookup</a></li>\n",
      "<li class=\"toctree-l2\"><a class=\"reference internal\" href=\"api/#migrating-to-1-x\">Migrating to 1.x</a></li>\n",
      "<li class=\"toctree-l2\"><a class=\"reference internal\" href=\"api/#migrating-to-2-x\">Migrating to 2.x</a></li>\n",
      "</ul>\n",
      "</li>\n",
      "</ul>\n",
      "</div>\n",
      "</div>\n",
      "<div class=\"section\" id=\"the-contributor-guide\">\n",
      "<h2>The Contributor Guide<a class=\"headerlink\" href=\"#the-contributor-guide\" title=\"Permalink to this headline\">Â¶</a></h2>\n",
      "<p>If you want to contribute to the project, this part of the documentation is for\n",
      "you.</p>\n",
      "<div class=\"toctree-wrapper compound\">\n",
      "<ul>\n",
      "<li class=\"toctree-l1\"><a class=\"reference internal\" href=\"dev/contributing/\">Contributor's Guide</a><ul>\n",
      "<li class=\"toctree-l2\"><a class=\"reference internal\" href=\"dev/contributing/#be-cordial\">Be Cordial</a></li>\n",
      "<li class=\"toctree-l2\"><a class=\"reference internal\" href=\"dev/contributing/#get-early-feedback\">Get Early Feedback</a></li>\n",
      "<li class=\"toctree-l2\"><a class=\"reference internal\" href=\"dev/contributing/#contribution-suitability\">Contribution Suitability</a></li>\n",
      "<li class=\"toctree-l2\"><a class=\"reference internal\" href=\"dev/contributing/#code-contributions\">Code Contributions</a><ul>\n",
      "<li class=\"toctree-l3\"><a class=\"reference internal\" href=\"dev/contributing/#steps-for-submitting-code\">Steps for Submitting Code</a></li>\n",
      "<li class=\"toctree-l3\"><a class=\"reference internal\" href=\"dev/contributing/#code-review\">Code Review</a></li>\n",
      "<li class=\"toctree-l3\"><a class=\"reference internal\" href=\"dev/contributing/#new-contributors\">New Contributors</a></li>\n",
      "<li class=\"toctree-l3\"><a class=\"reference internal\" href=\"dev/contributing/#kenneth-reitz-s-code-style\">Kenneth Reitz's Code Styleâ¢</a></li>\n",
      "</ul>\n",
      "</li>\n",
      "<li class=\"toctree-l2\"><a class=\"reference internal\" href=\"dev/contributing/#documentation-contributions\">Documentation Contributions</a></li>\n",
      "<li class=\"toctree-l2\"><a class=\"reference internal\" href=\"dev/contributing/#bug-reports\">Bug Reports</a></li>\n",
      "<li class=\"toctree-l2\"><a class=\"reference internal\" href=\"dev/contributing/#feature-requests\">Feature Requests</a></li>\n",
      "</ul>\n",
      "</li>\n",
      "<li class=\"toctree-l1\"><a class=\"reference internal\" href=\"dev/philosophy/\">Development Philosophy</a><ul>\n",
      "<li class=\"toctree-l2\"><a class=\"reference internal\" href=\"dev/philosophy/#management-style\">Management Style</a></li>\n",
      "<li class=\"toctree-l2\"><a class=\"reference internal\" href=\"dev/philosophy/#values\">Values</a></li>\n",
      "<li class=\"toctree-l2\"><a class=\"reference internal\" href=\"dev/philosophy/#semantic-versioning\">Semantic Versioning</a></li>\n",
      "<li class=\"toctree-l2\"><a class=\"reference internal\" href=\"dev/philosophy/#standard-library\">Standard Library?</a></li>\n",
      "<li class=\"toctree-l2\"><a class=\"reference internal\" href=\"dev/philosophy/#linux-distro-packages\">Linux Distro Packages</a></li>\n",
      "</ul>\n",
      "</li>\n",
      "<li class=\"toctree-l1\"><a class=\"reference internal\" href=\"dev/todo/\">How to Help</a><ul>\n",
      "<li class=\"toctree-l2\"><a class=\"reference internal\" href=\"dev/todo/#feature-freeze\">Feature Freeze</a></li>\n",
      "<li class=\"toctree-l2\"><a class=\"reference internal\" href=\"dev/todo/#development-dependencies\">Development Dependencies</a></li>\n",
      "<li class=\"toctree-l2\"><a class=\"reference internal\" href=\"dev/todo/#runtime-environments\">Runtime Environments</a></li>\n",
      "</ul>\n",
      "</li>\n",
      "<li class=\"toctree-l1\"><a class=\"reference internal\" href=\"dev/authors/\">Authors</a><ul>\n",
      "<li class=\"toctree-l2\"><a class=\"reference internal\" href=\"dev/authors/#keepers-of-the-four-crystals\">Keepers of the Four Crystals</a></li>\n",
      "<li class=\"toctree-l2\"><a class=\"reference internal\" href=\"dev/authors/#patches-and-suggestions\">Patches and Suggestions</a></li>\n",
      "</ul>\n",
      "</li>\n",
      "</ul>\n",
      "</div>\n",
      "<p>There are no more guides. You are now guideless.\n",
      "Good luck.</p>\n",
      "</div>\n",
      "</div>\n",
      "\n",
      "\n",
      "          </div>\n",
      "        </div>\n",
      "      </div>\n",
      "      <div class=\"sphinxsidebar\" role=\"navigation\" aria-label=\"main navigation\">\n",
      "        <div class=\"sphinxsidebarwrapper\"><p class=\"logo\">\n",
      "  <a href=\"#\">\n",
      "    <img class=\"logo\" src=\"_static/requests-sidebar.png\" title=\"https://kennethreitz.org/tattoos\"/>\n",
      "  </a>\n",
      "</p>\n",
      "\n",
      "<p>\n",
      "  <iframe src=\"http://ghbtns.com/github-btn.html?user=requests&repo=requests&type=watch&count=true&size=large\"\n",
      "    allowtransparency=\"true\" frameborder=\"0\" scrolling=\"0\" width=\"200px\" height=\"35px\"></iframe>\n",
      "</p>\n",
      "\n",
      "<p>\n",
      "  Requests is an elegant and simple HTTP library for Python, built for\n",
      "  human beings.\n",
      "</p>\n",
      "\n",
      "<script async type=\"text/javascript\" src=\"//cdn.carbonads.com/carbon.js?zoneid=1673&serve=C6AILKT&placement=pythonrequestsorg\" id=\"_carbonads_js\"></script>\n",
      "\n",
      "<h3><a href=\"http://www.unixstickers.com/stickers/coding_stickers/requests-shaped-sticker\">Stickers!</a></h3>\n",
      "<h3>Stay Informed</h3>\n",
      "<p>Receive updates on new releases and upcoming projects.</p>\n",
      "\n",
      "<p><iframe src=\"http://ghbtns.com/github-btn.html?user=kennethreitz&type=follow&count=false\"\n",
      "  allowtransparency=\"true\" frameborder=\"0\" scrolling=\"0\" width=\"200\" height=\"20\"></iframe></p>\n",
      "\n",
      "<p><a href=\"https://twitter.com/kennethreitz\" class=\"twitter-follow-button\" data-show-count=\"false\">Follow @kennethreitz</a> <script>!function(d,s,id){var js,fjs=d.getElementsByTagName(s)[0],p=/^http:/.test(d.location)?'http':'https';if(!d.getElementById(id)){js=d.createElement(s);js.id=id;js.src=p+'://platform.twitter.com/widgets.js';fjs.parentNode.insertBefore(js,fjs);}}(document, 'script', 'twitter-wjs');</script></p>\n",
      "<p><a href=\"https://saythanks.io/to/kennethreitz\">Say Thanks!</a></p>\n",
      "<p><a href=\"http://tinyletter.com/kennethreitz\">Join Mailing List</a>.</p>\n",
      "<h3>Other Projects</h3>\n",
      "\n",
      "<p>More <a href=\"http://kennethreitz.org/\">Kenneth Reitz</a> projects:</p>\n",
      "<ul>\n",
      "    <li><a href=\"http://edmsynths.com/\">edmsynths.com</a></li>\n",
      "    <li><a href=\"http://pipenv.org/\">pipenv</a></li>\n",
      "    <li><a href=\"http://pep8.org/\">pep8.org</a></li>\n",
      "    <li><a href=\"http://httpbin.org/\">httpbin.org</a></li>\n",
      "    <li><a href=\"http://python-guide.org\">The Python Guide</a></li>\n",
      "    <li><a href=\"https://github.com/kennethreitz/maya\">Maya: Datetimes for Humans</a></li>\n",
      "    <li><a href=\"https://github.com/kennethreitz/records\">Records: SQL for Humans</a></li>\n",
      "    <li><a href=\"http://www.git-legit.org\">Legit: Git for Humans</a></li>\n",
      "    <li><a href=\"http://docs.python-tablib.org/en/latest/\">Tablib: Tabular Datasets</a></li>\n",
      "</ul>\n",
      "\n",
      "\n",
      "<h3>Useful Links</h3>\n",
      "<ul>\n",
      "  <li><a href=\"http://docs.python-requests.org/en/latest/community/recommended/\">Recommended Packages and Extensions</a></li>\n",
      "\n",
      "  <p></p>\n",
      "\n",
      "  <li><a href=\"http://github.com/requests/requests\">Requests @ GitHub</a></li>\n",
      "  <li><a href=\"http://pypi.python.org/pypi/requests\">Requests @ PyPI</a></li>\n",
      "  <li><a href=\"http://github.com/requests/requests/issues\">Issue Tracker</a></li>\n",
      "  <li><a href=\"http://docs.python-requests.org/en/latest/community/updates/#software-updates\">Release History</a></li>\n",
      "</ul>\n",
      "\n",
      "\n",
      "<h3>Translations</h3>\n",
      "\n",
      "<ul>\n",
      "  <li><a href=\"http://docs.python-requests.org/\">English</a></li>\n",
      "  <li><a href=\"http://fr.python-requests.org/\">French</a></li>\n",
      "  <li><a href=\"http://de.python-requests.org/\">German</a></li>\n",
      "  <li><a href=\"http://jp.python-requests.org/\">Japanese</a></li>\n",
      "  <li><a href=\"http://cn.python-requests.org/\">Chinese</a></li>\n",
      "  <li><a href=\"http://pt.python-requests.org/\">Portuguese</a></li>\n",
      "  <li><a href=\"http://it.python-requests.org/\">Italian</a></li>\n",
      "  <li><a href=\"http://es.python-requests.org/\">Spanish</a></li>\n",
      "</ul>\n",
      "\n",
      "<div id=\"searchbox\" style=\"display: none\" role=\"search\">\n",
      "  <h3>Quick search</h3>\n",
      "    <form class=\"search\" action=\"search/\" method=\"get\">\n",
      "      <div><input type=\"text\" name=\"q\" /></div>\n",
      "      <div><input type=\"submit\" value=\"Go\" /></div>\n",
      "      <input type=\"hidden\" name=\"check_keywords\" value=\"yes\" />\n",
      "      <input type=\"hidden\" name=\"area\" value=\"default\" />\n",
      "    </form>\n",
      "</div>\n",
      "<script type=\"text/javascript\">$('#searchbox').show(0);</script><!-- Alabaster (krTheme++) Hacks -->\n",
      "<aside id=\"python27\">\n",
      "    Python 3, the new best practice, is here to stay.\n",
      "    Python 2 will retire in only <time></time> months!\n",
      "</aside>\n",
      "\n",
      "<!-- Python 2 Death Clockâ¢ -->\n",
      "<style type=\"text/css\">\n",
      "  body { margin-top: 4em; }\n",
      "  #python27 {\n",
      "      position: fixed;\n",
      "      top: 0;\n",
      "      left: 0; right: 0;\n",
      "      height:  auto;\n",
      "      text-align: center;\n",
      "      color: white;\n",
      "      background-color: black;\n",
      "      font-size: larger;\n",
      "      line-height: 3;\n",
      "  }\n",
      "\n",
      "</style>\n",
      "<script src=\"https://cdnjs.cloudflare.com/ajax/libs/moment.js/2.18.1/moment.min.js\"></script>\n",
      "<script>\n",
      "  var death = new Date('2020-04-12');\n",
      "\n",
      "  var diff = moment.duration(death - moment());\n",
      "\n",
      "  document.querySelector('#python27 time').innerText = (diff.years() * 12) + diff.months();\n",
      "</script>\n",
      "\n",
      "\n",
      "<!-- CSS Adjustments (I'm very picky.) -->\n",
      "<style type=\"text/css\">\n",
      "\n",
      "  /* Rezzy requires precise alignment. */\n",
      "  img.logo {margin-left: -20px!important;}\n",
      "\n",
      "  /* \"Quick Search\" should be capitalized. */\n",
      "  div#searchbox h3 {text-transform: capitalize;}\n",
      "\n",
      "  /* Make the document a little wider, less code is cut-off. */\n",
      "  div.document {width: 1008px;}\n",
      "\n",
      "  /* Much-improved spacing around code blocks. */\n",
      "  div.highlight pre {padding: 11px 14px;}\n",
      "\n",
      "  /* Remain Responsive! */\n",
      "  @media screen and (max-width: 1008px) {\n",
      "    div.sphinxsidebar {display: none;}\n",
      "    div.document {width: 100%!important;}\n",
      "\n",
      "    /* Have code blocks escape the document right-margin. */\n",
      "    div.highlight pre {margin-right: -30px;}\n",
      "  }\n",
      "\n",
      "</style>\n",
      "\n",
      "\n",
      "<!-- Analytics tracking for Kenneth. -->\n",
      "<script type=\"text/javascript\">\n",
      "  var _gauges = _gauges || [];\n",
      "  (function() {\n",
      "    var t   = document.createElement('script');\n",
      "    t.type  = 'text/javascript';\n",
      "    t.async = true;\n",
      "    t.id    = 'gauges-tracker';\n",
      "    t.setAttribute('data-site-id', '56ca7a57c88d9011080024dd');\n",
      "    t.setAttribute('data-track-path', 'https://track.gaug.es/track.gif');\n",
      "    t.src = 'https://d36ee2fcip1434.cloudfront.net/track.js';\n",
      "    var s = document.getElementsByTagName('script')[0];\n",
      "    s.parentNode.insertBefore(t, s);\n",
      "  })();\n",
      "</script>\n",
      "\n",
      "\n",
      "<!-- There are no more hacks. -->\n",
      "<!--         à®Ú¿Ú°Û£-Ú°Û£â         -->\n",
      "<!--   Love, Kenneth Reitz    -->\n",
      "\n",
      "<script src=\"_static//konami.js\"></script>\n",
      "<script>\n",
      "  var easter_egg = new Konami('http://fortunes.herokuapp.com/random/raw');\n",
      "</script>\n",
      "\n",
      "<!-- That was not a hack. That was art. -->\n",
      "        </div>\n",
      "      </div>\n",
      "      <div class=\"clearer\"></div>\n",
      "    </div>\n",
      "    <div class=\"footer\">\n",
      "      &copy;MMXVII. A <a href=\"http://kennethreitz.com/pages/open-projects.html\">Kenneth Reitz</a> Project.\n",
      "      \n",
      "    </div>\n",
      "\n",
      "    \n",
      "    <a href=\"https://github.com/requests/requests\" class=\"github\">\n",
      "        <img style=\"position: absolute; top: 0; right: 0; border: 0;\" src=\"https://s3.amazonaws.com/github/ribbons/forkme_right_darkblue_121621.png\" alt=\"Fork me on GitHub\"  class=\"github\"/>\n",
      "    </a>\n",
      "    \n",
      "\n",
      "    \n",
      "  </body>\n",
      "</html>\n"
     ]
    }
   ],
   "source": [
    "print(response.text)"
   ]
  },
  {
   "cell_type": "code",
   "execution_count": 66,
   "metadata": {
    "ExecuteTime": {
     "end_time": "2017-11-17T22:52:14.907395Z",
     "start_time": "2017-11-17T22:52:14.253579Z"
    }
   },
   "outputs": [
    {
     "name": "stdout",
     "output_type": "stream",
     "text": [
      "403\n",
      "application/json; charset=utf-8\n",
      "utf-8\n",
      "{\"message\":\"Maximum number of login attempts exceeded. Please try again later.\",\"documentation_url\":\"https://developer.github.com/v3\"}\n"
     ]
    }
   ],
   "source": [
    "response = requests.get('https://api.github.com/user', auth=('user', 'pass'))\n",
    "print(response.status_code)\n",
    "print(response.headers['content-type'])\n",
    "print(response.encoding)\n",
    "print(response.text)"
   ]
  },
  {
   "cell_type": "markdown",
   "metadata": {
    "ExecuteTime": {
     "end_time": "2017-11-17T22:57:31.873089Z",
     "start_time": "2017-11-17T22:57:31.870686Z"
    }
   },
   "source": [
    "## Скачивание изображений"
   ]
  },
  {
   "cell_type": "code",
   "execution_count": 75,
   "metadata": {
    "ExecuteTime": {
     "end_time": "2017-11-17T23:00:25.264901Z",
     "start_time": "2017-11-17T23:00:25.165135Z"
    }
   },
   "outputs": [],
   "source": [
    "url = 'https://avatars.mds.yandex.net/get-banana/60828/x25B5vt0OevM4XKosNcfb4PNE_banana_20161021_240x180-x281x29.png/optimize'\n",
    "response = requests.get(url, stream=True)\n",
    "with open('img.png', 'wb') as out_file:\n",
    "    out_file.write(response.content)\n",
    "del response"
   ]
  },
  {
   "cell_type": "markdown",
   "metadata": {
    "ExecuteTime": {
     "end_time": "2017-11-17T19:50:46.383024Z",
     "start_time": "2017-11-17T19:50:46.378586Z"
    }
   },
   "source": [
    "## Практика:\n",
    "\n",
    "(3 балла) Найдите почту курса!\n",
    "Загрузите html wiki нашего курса -> разбейте на слова -> для каждого слова проверьте, есть ли в нем символ \"@\". Если есть - это и есть почта курса.\n",
    "\n",
    "http://wiki.cs.hse.ru/index.php?title=Извлечение_и_анализ_интернет-данных\n"
   ]
  },
  {
   "cell_type": "code",
   "execution_count": null,
   "metadata": {
    "collapsed": true
   },
   "outputs": [],
   "source": []
  },
  {
   "cell_type": "markdown",
   "metadata": {
    "ExecuteTime": {
     "end_time": "2017-11-17T21:40:32.477933Z",
     "start_time": "2017-11-17T21:40:32.473946Z"
    }
   },
   "source": [
    "### Домашнее задание:\n",
    "\n",
    "1. (3 балла) Загрузите html книги \"Гарри Поттер и методы рационального мышления\" и сохраните в файл.\n",
    "\n",
    "2. (4 балла) Прочтите файл из первого задания (или если не получилось - сохраните файл в браузере). Выведете top100 список слов по упоминаемости\n",
    "\n",
    "3. (4 балла) Скачайте все изображения с первой страницы ленты Instagram. Для этого получите html сайта instagram.com , найдите все строчки, которые начинаются на \"http: и заканчиваются на .jpg\" . Для каждой такой строчки вызовите код для скачивания (названия у изображений можно брать 1.jpg, 2.jpg и т.д)\n"
   ]
  },
  {
   "cell_type": "code",
   "execution_count": null,
   "metadata": {
    "collapsed": true
   },
   "outputs": [],
   "source": []
  }
 ],
 "metadata": {
  "kernelspec": {
   "display_name": "Python 3",
   "language": "python",
   "name": "python3"
  },
  "language_info": {
   "codemirror_mode": {
    "name": "ipython",
    "version": 3
   },
   "file_extension": ".py",
   "mimetype": "text/x-python",
   "name": "python",
   "nbconvert_exporter": "python",
   "pygments_lexer": "ipython3",
   "version": "3.6.1"
  }
 },
 "nbformat": 4,
 "nbformat_minor": 2
}
