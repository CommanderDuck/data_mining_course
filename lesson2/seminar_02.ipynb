{
 "cells": [
  {
   "cell_type": "markdown",
   "metadata": {},
   "source": [
    "### Разбор последней домашней работы"
   ]
  },
  {
   "cell_type": "markdown",
   "metadata": {},
   "source": [
    "1. (2 балла) Освободить текст из файла text_first_task.txt от всех символов, которые не буквы и не цифры. Текст можно скопировать в ноутбук.\n",
    "\n",
    "2. (3 балла) На вход приходит пароль (через input()). Нужно проверить, что в пароле минимум 6 символов разного регистра, есть цифры, буквы и другие символы \n",
    "\n",
    "3. (2 балла) Для текста passwords.txt, в котором есть пароли, найти все пароли. Текст нужно считать из файла\n"
   ]
  },
  {
   "cell_type": "markdown",
   "metadata": {},
   "source": [
    "## Блиц!"
   ]
  },
  {
   "cell_type": "markdown",
   "metadata": {},
   "source": [
    "(3 балла) У вас есть некоторый текст (давайте поверим, что он очень большой). Этот текст - это описание зоопарка, и ваша задача достать (извлечь, намайнить) из него: \n",
    "- общее количество животных в зоопарке\n",
    "- количество животных в зоопарке, которые записаны в красную книгу\n",
    "\n",
    "Сделать это без каких-то изначальных предположений и эвристик было бы очень сложно, поэтому вы подумав (и возможно,пообщались с какими-то полезными людьми, которые хорошо понимают в рассказах о зоопарках) и предположили, следующее:\n",
    "- общее количество животных должно встретиться в тексте где-то перед словом \"animals\" (это не единственный раз, когда в тексте будет написано это слово, но именно такой паттерн \"<int number> animals\" будет присутствовать однажды, и так мы и сможем найти общее число\n",
    "- остальные числа в тексте, меньшие 10 по значению, будут относиться к перечислению редких животных в зоопарке (то есть, сложив их, мы получим нужную сумму)"
   ]
  },
  {
   "cell_type": "code",
   "execution_count": 80,
   "metadata": {
    "ExecuteTime": {
     "end_time": "2017-11-18T08:17:10.625677Z",
     "start_time": "2017-11-18T08:17:10.621304Z"
    },
    "collapsed": true
   },
   "outputs": [],
   "source": [
    "zoo_file = open('zoo.txt')\n",
    "text = zoo_file.read()\n",
    "zoo_file.close()"
   ]
  },
  {
   "cell_type": "code",
   "execution_count": 83,
   "metadata": {
    "ExecuteTime": {
     "end_time": "2017-11-18T08:17:53.666487Z",
     "start_time": "2017-11-18T08:17:53.662177Z"
    }
   },
   "outputs": [
    {
     "data": {
      "text/plain": [
       "str"
      ]
     },
     "execution_count": 83,
     "metadata": {},
     "output_type": "execute_result"
    }
   ],
   "source": [
    "type(text)"
   ]
  },
  {
   "cell_type": "code",
   "execution_count": 100,
   "metadata": {
    "ExecuteTime": {
     "end_time": "2017-11-18T08:36:49.901461Z",
     "start_time": "2017-11-18T08:36:49.895542Z"
    }
   },
   "outputs": [
    {
     "data": {
      "text/plain": [
       "400"
      ]
     },
     "execution_count": 100,
     "metadata": {},
     "output_type": "execute_result"
    }
   ],
   "source": [
    "x = 40\n",
    "x = x + 10\n",
    "x += 10\n",
    "x"
   ]
  },
  {
   "cell_type": "code",
   "execution_count": null,
   "metadata": {
    "collapsed": true
   },
   "outputs": [],
   "source": []
  },
  {
   "cell_type": "code",
   "execution_count": 98,
   "metadata": {
    "ExecuteTime": {
     "end_time": "2017-11-18T08:34:41.708387Z",
     "start_time": "2017-11-18T08:34:41.696636Z"
    }
   },
   "outputs": [
    {
     "name": "stdout",
     "output_type": "stream",
     "text": [
      "animals: 2000\n",
      "red_list_animals: 14\n"
     ]
    }
   ],
   "source": [
    "split_text = text.split()\n",
    "\n",
    "red_list_animals = 0\n",
    "\n",
    "for index, word in enumerate(text.split()):\n",
    "    if word == 'animals':\n",
    "        previous_word = split_text[index - 1]\n",
    "        if previous_word.isdigit():\n",
    "            print('animals:', previous_word)\n",
    "            \n",
    "    if word.isdigit() and int(word) < 10 and \\\n",
    "            split_text[index + 1] != 'animals':\n",
    "        red_list_animals += int(word)\n",
    "        \n",
    "print('red_list_animals:', red_list_animals)"
   ]
  },
  {
   "cell_type": "code",
   "execution_count": 81,
   "metadata": {
    "ExecuteTime": {
     "end_time": "2017-11-18T08:17:11.795264Z",
     "start_time": "2017-11-18T08:17:11.790334Z"
    }
   },
   "outputs": [
    {
     "name": "stdout",
     "output_type": "stream",
     "text": [
      "The Detroit Zoo is home to animals from A to Z, including anteaters and zebras and hundreds of other species in between.\n",
      "More than 2000 animals representing over amphibians, mammals, birds and reptiles live in the Zoo’s\n",
      "humdred acres of true-to-life habitats that bring visitors face-to-face with these exotic creatures. There are also some\n",
      "animals from the IUCN Red List:  6 Lemurs, 5 langurs, 10 borean pigs and 3 Philippine dears.\n",
      "\n"
     ]
    }
   ],
   "source": [
    "print(text)"
   ]
  },
  {
   "cell_type": "markdown",
   "metadata": {},
   "source": [
    "## Еще немного про способы работы с файлами: "
   ]
  },
  {
   "cell_type": "code",
   "execution_count": 102,
   "metadata": {
    "ExecuteTime": {
     "end_time": "2017-11-18T08:40:22.815714Z",
     "start_time": "2017-11-18T08:40:22.808545Z"
    }
   },
   "outputs": [
    {
     "name": "stdout",
     "output_type": "stream",
     "text": [
      "<class '_io.TextIOWrapper'>\n",
      "The\n",
      " Detroit Zoo is home to animals from A to Z, including anteaters and zebras and hundreds of other species in between.\n",
      "\n"
     ]
    }
   ],
   "source": [
    "#конструкция with позаботится об автоматическом закрытии файла, readline позволяет читать файл по строке\n",
    "with open('zoo.txt') as zoo_file:\n",
    "    print(zoo_file.readline(3))\n",
    "    print(zoo_file.readline())"
   ]
  },
  {
   "cell_type": "code",
   "execution_count": 104,
   "metadata": {
    "ExecuteTime": {
     "end_time": "2017-11-18T08:41:20.363795Z",
     "start_time": "2017-11-18T08:41:20.358366Z"
    }
   },
   "outputs": [
    {
     "name": "stdout",
     "output_type": "stream",
     "text": [
      "The Detroit Zoo is home to animals from A to Z, including anteaters and zebras and hundreds of other species in between.\n",
      "\n",
      "More than 2000 animals representing over amphibians, mammals, birds and reptiles live in the Zoo’s\n",
      "\n",
      "humdred acres of true-to-life habitats that bring visitors face-to-face with these exotic creatures. There are also some\n",
      "\n",
      "animals from the IUCN Red List:  6 Lemurs, 5 langurs, 10 borean pigs and 3 Philippine dears.\n",
      "\n"
     ]
    }
   ],
   "source": [
    "#вы также можете итерироваться по строкам\n",
    "with open('zoo.txt') as f:\n",
    "    for line in f:\n",
    "        print(line)\n",
    "#         print('something else')"
   ]
  },
  {
   "cell_type": "code",
   "execution_count": 105,
   "metadata": {
    "ExecuteTime": {
     "end_time": "2017-11-18T08:42:35.155275Z",
     "start_time": "2017-11-18T08:42:35.149597Z"
    },
    "collapsed": true
   },
   "outputs": [],
   "source": [
    "#можно создать новый файл/открыть файл на запись (но будте осторожны!)\n",
    "f = open('test_file_01.txt', 'w')\n",
    " \n",
    "f.write('Hello World! ')\n",
    "f.write('My name is Katya!\\n')\n",
    "f.write('This is our new text file\\n')\n",
    "f.write('and this is another line.\\n')\n",
    "f.write('Why? Because we can.')\n",
    " \n",
    "f.close() "
   ]
  },
  {
   "cell_type": "code",
   "execution_count": 106,
   "metadata": {
    "ExecuteTime": {
     "end_time": "2017-11-18T08:43:42.603427Z",
     "start_time": "2017-11-18T08:43:42.597221Z"
    },
    "collapsed": true
   },
   "outputs": [],
   "source": [
    "f = open('test_file_02.txt','w') \n",
    " \n",
    "print('Hello', file=f)\n",
    "print(2**8, file=f)\n",
    "\n",
    "f.close()"
   ]
  },
  {
   "cell_type": "markdown",
   "metadata": {},
   "source": [
    "Для записи можно использовать методы write и print и не забывать при открытии файла выставить моду записи \"w\". Однако нужно быть аккуратными - если вы откроете существующий файл с модой записи \"w\" все данные оттуда сотрутся. Чтобы открыть файл на дозапись, вместо буквы \"w\" нужно поставить букву \"а\""
   ]
  },
  {
   "cell_type": "markdown",
   "metadata": {},
   "source": [
    "К слову о дозаписи:"
   ]
  },
  {
   "cell_type": "code",
   "execution_count": 108,
   "metadata": {
    "ExecuteTime": {
     "end_time": "2017-11-18T08:44:52.380479Z",
     "start_time": "2017-11-18T08:44:52.377029Z"
    },
    "collapsed": true
   },
   "outputs": [],
   "source": [
    "fo = open('animals_count.txt', 'a')\n",
    "print('Heeey I can write something without deleting whole file!', \n",
    "      file=fo)\n",
    "fo.close()"
   ]
  },
  {
   "cell_type": "markdown",
   "metadata": {},
   "source": [
    "## dict - Словари"
   ]
  },
  {
   "cell_type": "code",
   "execution_count": 109,
   "metadata": {
    "ExecuteTime": {
     "end_time": "2017-11-18T08:46:20.802800Z",
     "start_time": "2017-11-18T08:46:20.796760Z"
    }
   },
   "outputs": [
    {
     "name": "stdout",
     "output_type": "stream",
     "text": [
      "{'key1': 'value1', 'key2': 'value2'}\n"
     ]
    }
   ],
   "source": [
    "my_dict = dict([['key1', 'value1'], ('key2', 'value2')])\n",
    "print(my_dict)"
   ]
  },
  {
   "cell_type": "code",
   "execution_count": 110,
   "metadata": {
    "ExecuteTime": {
     "end_time": "2017-11-18T08:46:58.753777Z",
     "start_time": "2017-11-18T08:46:58.750507Z"
    },
    "collapsed": true
   },
   "outputs": [],
   "source": [
    "phones = {'police': 102, 'ambulance': 103, 'firefighters': 101}"
   ]
  },
  {
   "cell_type": "code",
   "execution_count": 19,
   "metadata": {
    "ExecuteTime": {
     "end_time": "2017-11-17T20:32:11.697057Z",
     "start_time": "2017-11-17T20:32:11.693897Z"
    }
   },
   "outputs": [
    {
     "data": {
      "text/plain": [
       "102"
      ]
     },
     "execution_count": 19,
     "metadata": {},
     "output_type": "execute_result"
    }
   ],
   "source": [
    "phones['police']"
   ]
  },
  {
   "cell_type": "code",
   "execution_count": 22,
   "metadata": {
    "ExecuteTime": {
     "end_time": "2017-11-17T20:32:40.493986Z",
     "start_time": "2017-11-17T20:32:40.490546Z"
    }
   },
   "outputs": [
    {
     "data": {
      "text/plain": [
       "dict_keys(['police', 'ambulance', 'firefighters'])"
      ]
     },
     "execution_count": 22,
     "metadata": {},
     "output_type": "execute_result"
    }
   ],
   "source": [
    "phones.keys()"
   ]
  },
  {
   "cell_type": "code",
   "execution_count": 112,
   "metadata": {
    "ExecuteTime": {
     "end_time": "2017-11-18T08:48:09.230210Z",
     "start_time": "2017-11-18T08:48:09.225211Z"
    }
   },
   "outputs": [
    {
     "data": {
      "text/plain": [
       "[102, 103, 101]"
      ]
     },
     "execution_count": 112,
     "metadata": {},
     "output_type": "execute_result"
    }
   ],
   "source": [
    "list(phones.values())"
   ]
  },
  {
   "cell_type": "code",
   "execution_count": 26,
   "metadata": {
    "ExecuteTime": {
     "end_time": "2017-11-17T21:33:28.490527Z",
     "start_time": "2017-11-17T21:33:28.486351Z"
    }
   },
   "outputs": [
    {
     "data": {
      "text/plain": [
       "dict_items([('police', 102), ('ambulance', 103), ('firefighters', 101)])"
      ]
     },
     "execution_count": 26,
     "metadata": {},
     "output_type": "execute_result"
    }
   ],
   "source": [
    "phones.items()"
   ]
  },
  {
   "cell_type": "code",
   "execution_count": 37,
   "metadata": {
    "ExecuteTime": {
     "end_time": "2017-11-17T21:59:14.804776Z",
     "start_time": "2017-11-17T21:59:14.800974Z"
    }
   },
   "outputs": [
    {
     "name": "stdout",
     "output_type": "stream",
     "text": [
      "police\n",
      "ambulance\n",
      "firefighters\n"
     ]
    }
   ],
   "source": [
    "for key in phones:\n",
    "    print(key)"
   ]
  },
  {
   "cell_type": "code",
   "execution_count": 28,
   "metadata": {
    "ExecuteTime": {
     "end_time": "2017-11-17T21:33:52.203502Z",
     "start_time": "2017-11-17T21:33:52.199682Z"
    }
   },
   "outputs": [
    {
     "name": "stdout",
     "output_type": "stream",
     "text": [
      "police 102\n",
      "ambulance 103\n",
      "firefighters 101\n"
     ]
    }
   ],
   "source": [
    "for key, value in phones.items():\n",
    "    print(key, value)"
   ]
  },
  {
   "cell_type": "code",
   "execution_count": 113,
   "metadata": {
    "ExecuteTime": {
     "end_time": "2017-11-18T09:12:23.045114Z",
     "start_time": "2017-11-18T09:12:23.039281Z"
    }
   },
   "outputs": [
    {
     "data": {
      "text/plain": [
       "0"
      ]
     },
     "execution_count": 113,
     "metadata": {},
     "output_type": "execute_result"
    }
   ],
   "source": [
    "from collections import defaultdict\n",
    "new_phones = defaultdict(int)\n",
    "new_phones['police']"
   ]
  },
  {
   "cell_type": "markdown",
   "metadata": {
    "ExecuteTime": {
     "end_time": "2017-11-17T20:32:59.669463Z",
     "start_time": "2017-11-17T20:32:59.666668Z"
    }
   },
   "source": [
    "### defaultdict from collections"
   ]
  },
  {
   "cell_type": "code",
   "execution_count": 31,
   "metadata": {
    "ExecuteTime": {
     "end_time": "2017-11-17T21:37:02.274654Z",
     "start_time": "2017-11-17T21:37:02.263455Z"
    }
   },
   "outputs": [
    {
     "ename": "KeyError",
     "evalue": "'Kate'",
     "output_type": "error",
     "traceback": [
      "\u001b[0;31m---------------------------------------------------------------------------\u001b[0m",
      "\u001b[0;31mKeyError\u001b[0m                                  Traceback (most recent call last)",
      "\u001b[0;32m<ipython-input-31-aa95ccba5bd6>\u001b[0m in \u001b[0;36m<module>\u001b[0;34m()\u001b[0m\n\u001b[1;32m      1\u001b[0m \u001b[0;32mfrom\u001b[0m \u001b[0mcollections\u001b[0m \u001b[0;32mimport\u001b[0m \u001b[0mdefaultdict\u001b[0m\u001b[0;34m\u001b[0m\u001b[0m\n\u001b[1;32m      2\u001b[0m \u001b[0mnew_phones\u001b[0m \u001b[0;34m=\u001b[0m \u001b[0mdefaultdict\u001b[0m\u001b[0;34m(\u001b[0m\u001b[0mint\u001b[0m\u001b[0;34m)\u001b[0m\u001b[0;34m\u001b[0m\u001b[0m\n\u001b[0;32m----> 3\u001b[0;31m \u001b[0mphones\u001b[0m\u001b[0;34m[\u001b[0m\u001b[0;34m'Kate'\u001b[0m\u001b[0;34m]\u001b[0m\u001b[0;34m\u001b[0m\u001b[0m\n\u001b[0m\u001b[1;32m      4\u001b[0m \u001b[0mnew_phones\u001b[0m\u001b[0;34m[\u001b[0m\u001b[0;34m'Kate'\u001b[0m\u001b[0;34m]\u001b[0m\u001b[0;34m\u001b[0m\u001b[0m\n",
      "\u001b[0;31mKeyError\u001b[0m: 'Kate'"
     ]
    }
   ],
   "source": [
    "from collections import defaultdict\n",
    "new_phones = defaultdict(int)\n",
    "phones['Kate']\n",
    "new_phones['Kate']"
   ]
  },
  {
   "cell_type": "code",
   "execution_count": null,
   "metadata": {
    "collapsed": true
   },
   "outputs": [],
   "source": []
  },
  {
   "cell_type": "markdown",
   "metadata": {},
   "source": [
    "## Функция sorted"
   ]
  },
  {
   "cell_type": "code",
   "execution_count": 40,
   "metadata": {
    "ExecuteTime": {
     "end_time": "2017-11-17T22:00:28.058818Z",
     "start_time": "2017-11-17T22:00:28.053661Z"
    }
   },
   "outputs": [
    {
     "data": {
      "text/plain": [
       "[-100, 1, 1, 2, 4, 5, 5]"
      ]
     },
     "execution_count": 40,
     "metadata": {},
     "output_type": "execute_result"
    }
   ],
   "source": [
    "my_list = [4, 5, 1, -100, 1, 2, 5]\n",
    "sorted(my_list)"
   ]
  },
  {
   "cell_type": "code",
   "execution_count": 53,
   "metadata": {
    "ExecuteTime": {
     "end_time": "2017-11-17T22:12:49.766900Z",
     "start_time": "2017-11-17T22:12:49.761999Z"
    }
   },
   "outputs": [
    {
     "data": {
      "text/plain": [
       "['', '_', 'a', 'aa', 'ab']"
      ]
     },
     "execution_count": 53,
     "metadata": {},
     "output_type": "execute_result"
    }
   ],
   "source": [
    "my_lines = ['aa', 'a', 'ab', '', '_']\n",
    "sorted(my_lines)"
   ]
  },
  {
   "cell_type": "code",
   "execution_count": 116,
   "metadata": {
    "ExecuteTime": {
     "end_time": "2017-11-18T09:16:15.917700Z",
     "start_time": "2017-11-18T09:16:15.909988Z"
    }
   },
   "outputs": [
    {
     "data": {
      "text/plain": [
       "{-100: 'z', 1: 'd', 2: 'e', 4: 'a', 5: 'k'}"
      ]
     },
     "execution_count": 116,
     "metadata": {},
     "output_type": "execute_result"
    }
   ],
   "source": [
    "my_dict = {4: 'a', 5: 'c', 1: 'a', -100: 'z', 1: 'd', 2: 'e', 5: 'k'}\n",
    "my_dict"
   ]
  },
  {
   "cell_type": "code",
   "execution_count": 117,
   "metadata": {
    "ExecuteTime": {
     "end_time": "2017-11-18T09:16:17.325128Z",
     "start_time": "2017-11-18T09:16:17.319785Z"
    }
   },
   "outputs": [
    {
     "data": {
      "text/plain": [
       "[-100, 1, 2, 4, 5]"
      ]
     },
     "execution_count": 117,
     "metadata": {},
     "output_type": "execute_result"
    }
   ],
   "source": [
    "sorted(my_dict)"
   ]
  },
  {
   "cell_type": "code",
   "execution_count": 118,
   "metadata": {
    "ExecuteTime": {
     "end_time": "2017-11-18T09:16:18.279931Z",
     "start_time": "2017-11-18T09:16:18.273514Z"
    }
   },
   "outputs": [
    {
     "data": {
      "text/plain": [
       "['a', 'd', 'e', 'k', 'z']"
      ]
     },
     "execution_count": 118,
     "metadata": {},
     "output_type": "execute_result"
    }
   ],
   "source": [
    "sorted(my_dict.values())"
   ]
  },
  {
   "cell_type": "code",
   "execution_count": 119,
   "metadata": {
    "ExecuteTime": {
     "end_time": "2017-11-18T09:17:27.690762Z",
     "start_time": "2017-11-18T09:17:27.686502Z"
    }
   },
   "outputs": [
    {
     "data": {
      "text/plain": [
       "dict_items([(4, 'a'), (5, 'k'), (1, 'd'), (-100, 'z'), (2, 'e')])"
      ]
     },
     "execution_count": 119,
     "metadata": {},
     "output_type": "execute_result"
    }
   ],
   "source": [
    "my_dict.items()"
   ]
  },
  {
   "cell_type": "code",
   "execution_count": 43,
   "metadata": {
    "ExecuteTime": {
     "end_time": "2017-11-17T22:00:56.244649Z",
     "start_time": "2017-11-17T22:00:56.240231Z"
    }
   },
   "outputs": [
    {
     "data": {
      "text/plain": [
       "[(-100, 'z'), (1, 'd'), (2, 'e'), (4, 'a'), (5, 'k')]"
      ]
     },
     "execution_count": 43,
     "metadata": {},
     "output_type": "execute_result"
    }
   ],
   "source": [
    "sorted(my_dict.items())"
   ]
  },
  {
   "cell_type": "code",
   "execution_count": 46,
   "metadata": {
    "ExecuteTime": {
     "end_time": "2017-11-17T22:01:14.310436Z",
     "start_time": "2017-11-17T22:01:14.305866Z"
    }
   },
   "outputs": [
    {
     "data": {
      "text/plain": [
       "[(5, 'k'), (4, 'a'), (2, 'e'), (1, 'd'), (-100, 'z')]"
      ]
     },
     "execution_count": 46,
     "metadata": {},
     "output_type": "execute_result"
    }
   ],
   "source": [
    "sorted(my_dict.items(), reverse=True)"
   ]
  },
  {
   "cell_type": "code",
   "execution_count": 48,
   "metadata": {
    "ExecuteTime": {
     "end_time": "2017-11-17T22:02:48.961649Z",
     "start_time": "2017-11-17T22:02:48.958707Z"
    },
    "collapsed": true
   },
   "outputs": [],
   "source": [
    "def get_second_elem(x):\n",
    "    return x[1]"
   ]
  },
  {
   "cell_type": "code",
   "execution_count": 49,
   "metadata": {
    "ExecuteTime": {
     "end_time": "2017-11-17T22:02:49.549085Z",
     "start_time": "2017-11-17T22:02:49.544725Z"
    }
   },
   "outputs": [
    {
     "data": {
      "text/plain": [
       "[(4, 'a'), (1, 'd'), (2, 'e'), (5, 'k'), (-100, 'z')]"
      ]
     },
     "execution_count": 49,
     "metadata": {},
     "output_type": "execute_result"
    }
   ],
   "source": [
    "sorted(my_dict.items(), key=get_second_elem)"
   ]
  },
  {
   "cell_type": "code",
   "execution_count": 50,
   "metadata": {
    "ExecuteTime": {
     "end_time": "2017-11-17T22:02:51.549772Z",
     "start_time": "2017-11-17T22:02:51.545281Z"
    }
   },
   "outputs": [
    {
     "data": {
      "text/plain": [
       "[(4, 'a'), (1, 'd'), (2, 'e'), (5, 'k'), (-100, 'z')]"
      ]
     },
     "execution_count": 50,
     "metadata": {},
     "output_type": "execute_result"
    }
   ],
   "source": [
    "sorted(my_dict.items(), key=lambda x: x[1])"
   ]
  },
  {
   "cell_type": "markdown",
   "metadata": {},
   "source": [
    "## Практика:\n",
    "\n",
    "1. (1 балл) Создайте словарь superhero_ranks. Назначьте значение 2 Аквамену и значение 1 Супермену\n",
    "\n",
    "2. (3 балла) Дан список целых чисел. Сформировать словарь, в котором ключами будут числа, а значенями - количество употреблений данных чисел в списке. Например, если дан список [1, 1, 3, 2, 1, 3, 4], то в нем число 1 встречается три раза, число 3 - два раза, числа 2 и 4 - по одному разу.\n",
    "\n",
    "3. (2 балла) Дана фильмография актера. Отсортируйте фильмы по годам от новых к старым:"
   ]
  },
  {
   "cell_type": "code",
   "execution_count": 56,
   "metadata": {
    "ExecuteTime": {
     "end_time": "2017-11-17T22:18:26.729985Z",
     "start_time": "2017-11-17T22:18:26.721428Z"
    },
    "collapsed": true
   },
   "outputs": [],
   "source": [
    "movies = \"\"\"1983  ф Резиновое лицо  Rubberface (Introducting… Janet)  Тони Морони\n",
    "2000  ф Я, снова я и Ирэн Me, Myself and Irene  Офицер Чарли Бэйлигейтс/Хэнк\n",
    "2008  ф Всегда говори «Да»  Yes man Карл Аллен\n",
    "1989  ф Земные девушки легко доступны Earth Girls Are Easy  Уиплок\n",
    "1988  ф Смертельный список  The Dead Pool Джонни Squares\n",
    "2011  с Офис  The Office  Парень из Пальцевых Озер (одна серия)\n",
    "2009  ф Я люблю тебя, Филлип Моррис I Love You Phillip Morris Стив Рассел\n",
    "1983  ф Всё в хорошем вкусе All in Good Taste Ральф\n",
    "2009  мф  Рождественская история  A Christmas Carol Эбенезер Скрудж, призраки\n",
    "1984 — 1984 с Утиная фабрика  The Duck Factory  Скип Таркентон\n",
    "2007  ф Роковое число 23  Number 23 Уолтер Спэрроу\n",
    "2017  ф Джим и Энди - великое запределье  Оригинальное название неизвестно\n",
    "2008  мф  Хортон  Horton Hears a Who! Хортон (голос)\n",
    "2003  ф Брюс всемогущий Bruce Almighty  Брюс Нолан\n",
    "1996  ф Кабельщик The Cable Guy Кабельщик/Чип/Рики\n",
    "2009  ф Под морем в 3D  Under the Sea 3D  рассказчик\n",
    "2013  ф Невероятный Бёрт Уандерстоун  Burt Wonderstone  Стив Грэй\n",
    "1989  ф Розовый кадиллак  Pink Cadillac Комедиант\n",
    "2013  ф Телеведущий 2 Anchorman: The Legend Continues ведущий Скотт Райлс\n",
    "1999  ф Человек на Луне Man on the Moon Энди Кауфман/Тони Клифтон\n",
    "1994  ф Маска The Mask  Стэнли Ипкисс\n",
    "2011  ф Пингвины мистера Поппера  Mr. Popper’s Penguins Том Поппер\n",
    "2000  ф Гринч — похититель Рождества  How the Grinch Stole Christmas  Гринч\n",
    "1986  ф Пегги Сью вышла замуж Peggy Sue Got Married Уолтер Гетц\n",
    "1998  ф Шоу Трумана The Truman Show Трумэн Бёрбэнк\n",
    "1983  ф Гора Куппер Copper Mountain Бобби Тодд\n",
    "2013  ф Пипец 2 Kick-Ass 2  Полковник Америка\n",
    "1985  ф Однажды укушенный Once Bitten Марк Кендэлл\n",
    "2005  ф Аферисты Дик и Джейн  Fun with Dick and Jane  Дик Харпер\n",
    "1995  ф Бэтмен навсегда Batman Forever  Эдвард Нигма/Загадочник\n",
    "1990 — 1994 с В живом цвете In Living Color Различные роли\n",
    "1984  ф Чур, мое! Finders Keepers Лэйн Бидлекофф\n",
    "1995  ф Эйс Вентура 2: Когда зовёт природа  Ace Ventura: When Nature Calls  Эйс Вентура\n",
    "2016  ф Настоящее преступление  True Crimes Джек\n",
    "1993  ф Эйс Вентура: Розыск домашних животных Ace Ventura: Pet Detective  Эйс Вентура\n",
    "2016  ф Плохая партия The Bad Batch Питер\n",
    "2001  ф Мажестик  The Majestic  Питер Эпплтон\n",
    "1991  ф Нервы на пределе  High Strung Смерть\n",
    "2004  ф Лемони Сникет: 33 несчастья Lemony Snicket’s A Series of Unfortunate Events Граф Олаф\n",
    "2004  ф Вечное сияние чистого разума  Eternal Sunshine of the Spotless Mind Джоел Бэриш\n",
    "1997  ф Лжец, лжец  Liar Liar Флетчер Рид\n",
    "1992  мф  Крошечный паучок  Itsy Bitsy Spider Истребитель насекомых (голос)\n",
    "1992  ф Жизнь на Мэйпл-Драйв (ТВ) Doing Time on Maple Drive Тим Картер\n",
    "2014  ф Тупой и ещё тупее 2 Dumb & Dumber 2 Ллойд Кристмас\n",
    "1998  ф Саймон Бирч Simon Birch Взрослый Джо Вентеуорф\n",
    "1994  ф Тупой и ещё тупее Dumb & Dumber Ллойд Кристмас\"\"\""
   ]
  },
  {
   "cell_type": "markdown",
   "metadata": {},
   "source": [
    "## Библиотека requests"
   ]
  },
  {
   "cell_type": "code",
   "execution_count": 120,
   "metadata": {
    "ExecuteTime": {
     "end_time": "2017-11-18T09:57:28.343211Z",
     "start_time": "2017-11-18T09:57:27.138125Z"
    },
    "collapsed": true
   },
   "outputs": [],
   "source": [
    "import requests\n",
    "response = requests.get('http://docs.python-requests.org/en/master/')"
   ]
  },
  {
   "cell_type": "code",
   "execution_count": 10,
   "metadata": {
    "ExecuteTime": {
     "end_time": "2017-11-17T19:51:22.235287Z",
     "start_time": "2017-11-17T19:51:22.231592Z"
    },
    "scrolled": true
   },
   "outputs": [
    {
     "name": "stdout",
     "output_type": "stream",
     "text": [
      "<!DOCTYPE html PUBLIC \"-//W3C//DTD XHTML 1.0 Transitional//EN\"\n",
      "  \"http://www.w3.org/TR/xhtml1/DTD/xhtml1-transitional.dtd\">\n",
      "\n",
      "\n",
      "<html xmlns=\"http://www.w3.org/1999/xhtml\" lang=\"en\">\n",
      "  <head>\n",
      "    <meta http-equiv=\"Content-Type\" content=\"text/html; charset=utf-8\" />\n",
      "    \n",
      "    <title>Requests: HTTP for Humans &#8212; Requests 2.18.4 documentation</title>\n",
      "    \n",
      "    <link rel=\"stylesheet\" href=\"_static/alabaster.css\" type=\"text/css\" />\n",
      "    <link rel=\"stylesheet\" href=\"_static/pygments.css\" type=\"text/css\" />\n",
      "    <link rel=\"stylesheet\" href=\"https://media.readthedocs.org/css/badge_only.css\" type=\"text/css\" />\n",
      "    \n",
      "    <script type=\"text/javascript\">\n",
      "      var DOCUMENTATION_OPTIONS = {\n",
      "        URL_ROOT:    '',\n",
      "        VERSION:     '2.18.4',\n",
      "        COLLAPSE_INDEX: false,\n",
      "        FILE_SUFFIX: '',\n",
      "        HAS_SOURCE:  true,\n",
      "        SOURCELINK_SUFFIX: '.txt'\n",
      "      };\n",
      "    </script>\n",
      "    <script type=\"text/javascript\" src=\"https://media.readthedocs.org/javascript/jquery/jquery-2.0.3.min.js\"></script>\n",
      "    <script type=\"text/javascript\" src=\"https://media.readthedocs.org/javascript/jquery/jquery-migrate-1.2.1.min.js\"></script>\n",
      "    <script type=\"text/javascript\" src=\"https://media.readthedocs.org/javascript/underscore.js\"></script>\n",
      "    <script type=\"text/javascript\" src=\"https://media.readthedocs.org/javascript/doctools.js\"></script>\n",
      "    <script type=\"text/javascript\" src=\"https://media.readthedocs.org/javascript/readthedocs-doc-embed.js\"></script>\n",
      "    <link rel=\"index\" title=\"Index\" href=\"genindex/\" />\n",
      "    <link rel=\"search\" title=\"Search\" href=\"search/\" />\n",
      "    <link rel=\"next\" title=\"Introduction\" href=\"user/intro/\" />\n",
      "   \n",
      "  <link rel=\"stylesheet\" href=\"_static/custom.css\" type=\"text/css\" />\n",
      "  \n",
      "  \n",
      "  <meta name=\"viewport\" content=\"width=device-width, initial-scale=0.9, maximum-scale=0.9\" />\n",
      "\n",
      "  \n",
      "<!-- RTD Extra Head -->\n",
      "\n",
      "<!-- \n",
      "Always link to the latest version, as canonical.\n",
      "http://docs.readthedocs.org/en/latest/canonical.html\n",
      "-->\n",
      "<link rel=\"canonical\" href=\"http://docs.python-requests.org/en/master/\" />\n",
      "\n",
      "<link rel=\"stylesheet\" href=\"https://media.readthedocs.org/css/readthedocs-doc-embed.css\" type=\"text/css\" />\n",
      "\n",
      "<script type=\"text/javascript\" src=\"_static/readthedocs-data.js\"></script>\n",
      "\n",
      "<!-- Add page-specific data, which must exist in the page js, not global -->\n",
      "<script type=\"text/javascript\">\n",
      "READTHEDOCS_DATA['page'] = 'index' \t\t\n",
      "READTHEDOCS_DATA['source_suffix'] = '.rst'\n",
      "</script>\n",
      "\n",
      "<script type=\"text/javascript\" src=\"_static/readthedocs-dynamic-include.js\"></script>\n",
      "\n",
      "<!-- end RTD <extrahead> --></head>\n",
      "  <body role=\"document\">\n",
      "  \n",
      "\n",
      "    <div class=\"document\">\n",
      "      <div class=\"documentwrapper\">\n",
      "        <div class=\"bodywrapper\">\n",
      "          <div class=\"body\" role=\"main\">\n",
      "            \n",
      "  <div class=\"section\" id=\"requests-http-for-humans\">\n",
      "<h1>Requests: HTTP for Humans<a class=\"headerlink\" href=\"#requests-http-for-humans\" title=\"Permalink to this headline\">Â¶</a></h1>\n",
      "<p>Release v2.18.4. (<a class=\"reference internal\" href=\"user/install/#install\"><span class=\"std std-ref\">Installation</span></a>)</p>\n",
      "<a class=\"reference external image-reference\" href=\"https://pypi.python.org/pypi/requests\"><img alt=\"https://img.shields.io/pypi/l/requests.svg\" src=\"https://img.shields.io/pypi/l/requests.svg\" /></a>\n",
      "<a class=\"reference external image-reference\" href=\"https://pypi.python.org/pypi/requests\"><img alt=\"https://img.shields.io/pypi/wheel/requests.svg\" src=\"https://img.shields.io/pypi/wheel/requests.svg\" /></a>\n",
      "<a class=\"reference external image-reference\" href=\"https://pypi.python.org/pypi/requests\"><img alt=\"https://img.shields.io/pypi/pyversions/requests.svg\" src=\"https://img.shields.io/pypi/pyversions/requests.svg\" /></a>\n",
      "<a class=\"reference external image-reference\" href=\"https://codecov.io/github/requests/requests\"><img alt=\"codecov.io\" src=\"https://codecov.io/github/requests/requests/coverage.svg?branch=master\" /></a>\n",
      "<a class=\"reference external image-reference\" href=\"https://saythanks.io/to/kennethreitz\"><img alt=\"https://img.shields.io/badge/Say%20Thanks!-ð¦-1EAEDB.svg\" src=\"https://img.shields.io/badge/Say%20Thanks!-ð¦-1EAEDB.svg\" /></a>\n",
      "<p><strong>Requests</strong> is the only <em>Non-GMO</em> HTTP library for Python, safe for human\n",
      "consumption.</p>\n",
      "<div class=\"admonition note\">\n",
      "<p class=\"first admonition-title\">Note</p>\n",
      "<p class=\"last\">The use of <strong>Python 3</strong> is <em>highly</em> preferred over Python 2. Consider upgrading your applications and infrastructure if you find yourself <em>still</em> using Python 2 in production today. If you are using Python 3, congratulations â&nbsp;you are indeed a person of excellent taste.\n",
      "â<em>Kenneth Reitz</em></p>\n",
      "</div>\n",
      "<hr class=\"docutils\" />\n",
      "<p><strong>Behold, the power of Requests</strong>:</p>\n",
      "<div class=\"highlight-default\"><div class=\"highlight\"><pre><span></span><span class=\"gp\">&gt;&gt;&gt; </span><span class=\"n\">r</span> <span class=\"o\">=</span> <span class=\"n\">requests</span><span class=\"o\">.</span><span class=\"n\">get</span><span class=\"p\">(</span><span class=\"s1\">&#39;https://api.github.com/user&#39;</span><span class=\"p\">,</span> <span class=\"n\">auth</span><span class=\"o\">=</span><span class=\"p\">(</span><span class=\"s1\">&#39;user&#39;</span><span class=\"p\">,</span> <span class=\"s1\">&#39;pass&#39;</span><span class=\"p\">))</span>\n",
      "<span class=\"gp\">&gt;&gt;&gt; </span><span class=\"n\">r</span><span class=\"o\">.</span><span class=\"n\">status_code</span>\n",
      "<span class=\"go\">200</span>\n",
      "<span class=\"gp\">&gt;&gt;&gt; </span><span class=\"n\">r</span><span class=\"o\">.</span><span class=\"n\">headers</span><span class=\"p\">[</span><span class=\"s1\">&#39;content-type&#39;</span><span class=\"p\">]</span>\n",
      "<span class=\"go\">&#39;application/json; charset=utf8&#39;</span>\n",
      "<span class=\"gp\">&gt;&gt;&gt; </span><span class=\"n\">r</span><span class=\"o\">.</span><span class=\"n\">encoding</span>\n",
      "<span class=\"go\">&#39;utf-8&#39;</span>\n",
      "<span class=\"gp\">&gt;&gt;&gt; </span><span class=\"n\">r</span><span class=\"o\">.</span><span class=\"n\">text</span>\n",
      "<span class=\"go\">u&#39;{&quot;type&quot;:&quot;User&quot;...&#39;</span>\n",
      "<span class=\"gp\">&gt;&gt;&gt; </span><span class=\"n\">r</span><span class=\"o\">.</span><span class=\"n\">json</span><span class=\"p\">()</span>\n",
      "<span class=\"go\">{u&#39;private_gists&#39;: 419, u&#39;total_private_repos&#39;: 77, ...}</span>\n",
      "</pre></div>\n",
      "</div>\n",
      "<p>See <a class=\"reference external\" href=\"https://gist.github.com/973705\">similar code, sans Requests</a>.</p>\n",
      "<p><strong>Requests</strong> allows you to send <em>organic, grass-fed</em> HTTP/1.1 requests, without the\n",
      "need for manual labor. There's no need to manually add query strings to your\n",
      "URLs, or to form-encode your POST data. Keep-alive and HTTP connection pooling\n",
      "are 100% automatic, thanks to <a class=\"reference external\" href=\"https://github.com/shazow/urllib3\">urllib3</a>.</p>\n",
      "<div class=\"section\" id=\"user-testimonials\">\n",
      "<h2>User Testimonials<a class=\"headerlink\" href=\"#user-testimonials\" title=\"Permalink to this headline\">Â¶</a></h2>\n",
      "<p>Twitter, Spotify, Microsoft, Amazon, Lyft, BuzzFeed, Reddit, The NSA, Her Majesty's Government, Google, Twilio, Runscope, Mozilla, Heroku,\n",
      "PayPal, NPR, Obama for America, Transifex, Native Instruments, The Washington\n",
      "Post, SoundCloud, Kippt, Sony, and Federal U.S.\n",
      "Institutions that prefer to be unnamed claim to use Requests internally.</p>\n",
      "<dl class=\"docutils\">\n",
      "<dt><strong>Armin Ronacher</strong>â</dt>\n",
      "<dd><em>Requests is the perfect example how beautiful an API can be with the\n",
      "right level of abstraction.</em></dd>\n",
      "<dt><strong>Matt DeBoard</strong>â</dt>\n",
      "<dd><em>I'm going to get Kenneth Reitz's Python requests module tattooed\n",
      "on my body, somehow. The whole thing.</em></dd>\n",
      "<dt><strong>Daniel Greenfeld</strong>â</dt>\n",
      "<dd><em>Nuked a 1200 LOC spaghetti code library with 10 lines of code thanks to\n",
      "Kenneth Reitz's request library. Today has been AWESOME.</em></dd>\n",
      "<dt><strong>Kenny Meyers</strong>â</dt>\n",
      "<dd><em>Python HTTP: When in doubt, or when not in doubt, use Requests. Beautiful,\n",
      "simple, Pythonic.</em></dd>\n",
      "</dl>\n",
      "<p>Requests is one of the most downloaded Python packages of all time, pulling in\n",
      "over 13,000,000 downloads every month. All the cool kids are doing it!</p>\n",
      "</div>\n",
      "<div class=\"section\" id=\"beloved-features\">\n",
      "<h2>Beloved Features<a class=\"headerlink\" href=\"#beloved-features\" title=\"Permalink to this headline\">Â¶</a></h2>\n",
      "<p>Requests is ready for today's web.</p>\n",
      "<ul class=\"simple\">\n",
      "<li>Keep-Alive &amp; Connection Pooling</li>\n",
      "<li>International Domains and URLs</li>\n",
      "<li>Sessions with Cookie Persistence</li>\n",
      "<li>Browser-style SSL Verification</li>\n",
      "<li>Automatic Content Decoding</li>\n",
      "<li>Basic/Digest Authentication</li>\n",
      "<li>Elegant Key/Value Cookies</li>\n",
      "<li>Automatic Decompression</li>\n",
      "<li>Unicode Response Bodies</li>\n",
      "<li>HTTP(S) Proxy Support</li>\n",
      "<li>Multipart File Uploads</li>\n",
      "<li>Streaming Downloads</li>\n",
      "<li>Connection Timeouts</li>\n",
      "<li>Chunked Requests</li>\n",
      "<li><code class=\"docutils literal\"><span class=\"pre\">.netrc</span></code> Support</li>\n",
      "</ul>\n",
      "<p>Requests officially supports Python 2.6â2.7 &amp; 3.4â3.7, and runs great on PyPy.</p>\n",
      "</div>\n",
      "<div class=\"section\" id=\"the-user-guide\">\n",
      "<h2>The User Guide<a class=\"headerlink\" href=\"#the-user-guide\" title=\"Permalink to this headline\">Â¶</a></h2>\n",
      "<p>This part of the documentation, which is mostly prose, begins with some\n",
      "background information about Requests, then focuses on step-by-step\n",
      "instructions for getting the most out of Requests.</p>\n",
      "<div class=\"toctree-wrapper compound\">\n",
      "<ul>\n",
      "<li class=\"toctree-l1\"><a class=\"reference internal\" href=\"user/intro/\">Introduction</a><ul>\n",
      "<li class=\"toctree-l2\"><a class=\"reference internal\" href=\"user/intro/#philosophy\">Philosophy</a></li>\n",
      "<li class=\"toctree-l2\"><a class=\"reference internal\" href=\"user/intro/#apache2-license\">Apache2 License</a></li>\n",
      "<li class=\"toctree-l2\"><a class=\"reference internal\" href=\"user/intro/#requests-license\">Requests License</a></li>\n",
      "</ul>\n",
      "</li>\n",
      "<li class=\"toctree-l1\"><a class=\"reference internal\" href=\"user/install/\">Installation of Requests</a><ul>\n",
      "<li class=\"toctree-l2\"><a class=\"reference internal\" href=\"user/install/#pipenv-install-requests\">$ pipenv install requests</a></li>\n",
      "<li class=\"toctree-l2\"><a class=\"reference internal\" href=\"user/install/#get-the-source-code\">Get the Source Code</a></li>\n",
      "</ul>\n",
      "</li>\n",
      "<li class=\"toctree-l1\"><a class=\"reference internal\" href=\"user/quickstart/\">Quickstart</a><ul>\n",
      "<li class=\"toctree-l2\"><a class=\"reference internal\" href=\"user/quickstart/#make-a-request\">Make a Request</a></li>\n",
      "<li class=\"toctree-l2\"><a class=\"reference internal\" href=\"user/quickstart/#passing-parameters-in-urls\">Passing Parameters In URLs</a></li>\n",
      "<li class=\"toctree-l2\"><a class=\"reference internal\" href=\"user/quickstart/#response-content\">Response Content</a></li>\n",
      "<li class=\"toctree-l2\"><a class=\"reference internal\" href=\"user/quickstart/#binary-response-content\">Binary Response Content</a></li>\n",
      "<li class=\"toctree-l2\"><a class=\"reference internal\" href=\"user/quickstart/#json-response-content\">JSON Response Content</a></li>\n",
      "<li class=\"toctree-l2\"><a class=\"reference internal\" href=\"user/quickstart/#raw-response-content\">Raw Response Content</a></li>\n",
      "<li class=\"toctree-l2\"><a class=\"reference internal\" href=\"user/quickstart/#custom-headers\">Custom Headers</a></li>\n",
      "<li class=\"toctree-l2\"><a class=\"reference internal\" href=\"user/quickstart/#more-complicated-post-requests\">More complicated POST requests</a></li>\n",
      "<li class=\"toctree-l2\"><a class=\"reference internal\" href=\"user/quickstart/#post-a-multipart-encoded-file\">POST a Multipart-Encoded File</a></li>\n",
      "<li class=\"toctree-l2\"><a class=\"reference internal\" href=\"user/quickstart/#response-status-codes\">Response Status Codes</a></li>\n",
      "<li class=\"toctree-l2\"><a class=\"reference internal\" href=\"user/quickstart/#response-headers\">Response Headers</a></li>\n",
      "<li class=\"toctree-l2\"><a class=\"reference internal\" href=\"user/quickstart/#cookies\">Cookies</a></li>\n",
      "<li class=\"toctree-l2\"><a class=\"reference internal\" href=\"user/quickstart/#redirection-and-history\">Redirection and History</a></li>\n",
      "<li class=\"toctree-l2\"><a class=\"reference internal\" href=\"user/quickstart/#timeouts\">Timeouts</a></li>\n",
      "<li class=\"toctree-l2\"><a class=\"reference internal\" href=\"user/quickstart/#errors-and-exceptions\">Errors and Exceptions</a></li>\n",
      "</ul>\n",
      "</li>\n",
      "<li class=\"toctree-l1\"><a class=\"reference internal\" href=\"user/advanced/\">Advanced Usage</a><ul>\n",
      "<li class=\"toctree-l2\"><a class=\"reference internal\" href=\"user/advanced/#session-objects\">Session Objects</a></li>\n",
      "<li class=\"toctree-l2\"><a class=\"reference internal\" href=\"user/advanced/#request-and-response-objects\">Request and Response Objects</a></li>\n",
      "<li class=\"toctree-l2\"><a class=\"reference internal\" href=\"user/advanced/#prepared-requests\">Prepared Requests</a></li>\n",
      "<li class=\"toctree-l2\"><a class=\"reference internal\" href=\"user/advanced/#ssl-cert-verification\">SSL Cert Verification</a></li>\n",
      "<li class=\"toctree-l2\"><a class=\"reference internal\" href=\"user/advanced/#client-side-certificates\">Client Side Certificates</a></li>\n",
      "<li class=\"toctree-l2\"><a class=\"reference internal\" href=\"user/advanced/#ca-certificates\">CA Certificates</a></li>\n",
      "<li class=\"toctree-l2\"><a class=\"reference internal\" href=\"user/advanced/#body-content-workflow\">Body Content Workflow</a></li>\n",
      "<li class=\"toctree-l2\"><a class=\"reference internal\" href=\"user/advanced/#keep-alive\">Keep-Alive</a></li>\n",
      "<li class=\"toctree-l2\"><a class=\"reference internal\" href=\"user/advanced/#streaming-uploads\">Streaming Uploads</a></li>\n",
      "<li class=\"toctree-l2\"><a class=\"reference internal\" href=\"user/advanced/#chunk-encoded-requests\">Chunk-Encoded Requests</a></li>\n",
      "<li class=\"toctree-l2\"><a class=\"reference internal\" href=\"user/advanced/#post-multiple-multipart-encoded-files\">POST Multiple Multipart-Encoded Files</a></li>\n",
      "<li class=\"toctree-l2\"><a class=\"reference internal\" href=\"user/advanced/#event-hooks\">Event Hooks</a></li>\n",
      "<li class=\"toctree-l2\"><a class=\"reference internal\" href=\"user/advanced/#custom-authentication\">Custom Authentication</a></li>\n",
      "<li class=\"toctree-l2\"><a class=\"reference internal\" href=\"user/advanced/#streaming-requests\">Streaming Requests</a></li>\n",
      "<li class=\"toctree-l2\"><a class=\"reference internal\" href=\"user/advanced/#proxies\">Proxies</a></li>\n",
      "<li class=\"toctree-l2\"><a class=\"reference internal\" href=\"user/advanced/#compliance\">Compliance</a></li>\n",
      "<li class=\"toctree-l2\"><a class=\"reference internal\" href=\"user/advanced/#http-verbs\">HTTP Verbs</a></li>\n",
      "<li class=\"toctree-l2\"><a class=\"reference internal\" href=\"user/advanced/#custom-verbs\">Custom Verbs</a></li>\n",
      "<li class=\"toctree-l2\"><a class=\"reference internal\" href=\"user/advanced/#link-headers\">Link Headers</a></li>\n",
      "<li class=\"toctree-l2\"><a class=\"reference internal\" href=\"user/advanced/#transport-adapters\">Transport Adapters</a></li>\n",
      "<li class=\"toctree-l2\"><a class=\"reference internal\" href=\"user/advanced/#blocking-or-non-blocking\">Blocking Or Non-Blocking?</a></li>\n",
      "<li class=\"toctree-l2\"><a class=\"reference internal\" href=\"user/advanced/#header-ordering\">Header Ordering</a></li>\n",
      "<li class=\"toctree-l2\"><a class=\"reference internal\" href=\"user/advanced/#timeouts\">Timeouts</a></li>\n",
      "</ul>\n",
      "</li>\n",
      "<li class=\"toctree-l1\"><a class=\"reference internal\" href=\"user/authentication/\">Authentication</a><ul>\n",
      "<li class=\"toctree-l2\"><a class=\"reference internal\" href=\"user/authentication/#basic-authentication\">Basic Authentication</a></li>\n",
      "<li class=\"toctree-l2\"><a class=\"reference internal\" href=\"user/authentication/#digest-authentication\">Digest Authentication</a></li>\n",
      "<li class=\"toctree-l2\"><a class=\"reference internal\" href=\"user/authentication/#oauth-1-authentication\">OAuth 1 Authentication</a></li>\n",
      "<li class=\"toctree-l2\"><a class=\"reference internal\" href=\"user/authentication/#oauth-2-and-openid-connect-authentication\">OAuth 2 and OpenID Connect Authentication</a></li>\n",
      "<li class=\"toctree-l2\"><a class=\"reference internal\" href=\"user/authentication/#other-authentication\">Other Authentication</a></li>\n",
      "<li class=\"toctree-l2\"><a class=\"reference internal\" href=\"user/authentication/#new-forms-of-authentication\">New Forms of Authentication</a></li>\n",
      "</ul>\n",
      "</li>\n",
      "</ul>\n",
      "</div>\n",
      "</div>\n",
      "<div class=\"section\" id=\"the-community-guide\">\n",
      "<h2>The Community Guide<a class=\"headerlink\" href=\"#the-community-guide\" title=\"Permalink to this headline\">Â¶</a></h2>\n",
      "<p>This part of the documentation, which is mostly prose, details the\n",
      "Requests ecosystem and community.</p>\n",
      "<div class=\"toctree-wrapper compound\">\n",
      "<ul>\n",
      "<li class=\"toctree-l1\"><a class=\"reference internal\" href=\"community/recommended/\">Recommended Packages and Extensions</a><ul>\n",
      "<li class=\"toctree-l2\"><a class=\"reference internal\" href=\"community/recommended/#certifi-ca-bundle\">Certifi CA Bundle</a></li>\n",
      "<li class=\"toctree-l2\"><a class=\"reference internal\" href=\"community/recommended/#cachecontrol\">CacheControl</a></li>\n",
      "<li class=\"toctree-l2\"><a class=\"reference internal\" href=\"community/recommended/#requests-toolbelt\">Requests-Toolbelt</a></li>\n",
      "<li class=\"toctree-l2\"><a class=\"reference internal\" href=\"community/recommended/#requests-threads\">Requests-Threads</a></li>\n",
      "<li class=\"toctree-l2\"><a class=\"reference internal\" href=\"community/recommended/#requests-oauthlib\">Requests-OAuthlib</a></li>\n",
      "<li class=\"toctree-l2\"><a class=\"reference internal\" href=\"community/recommended/#betamax\">Betamax</a></li>\n",
      "</ul>\n",
      "</li>\n",
      "<li class=\"toctree-l1\"><a class=\"reference internal\" href=\"community/faq/\">Frequently Asked Questions</a><ul>\n",
      "<li class=\"toctree-l2\"><a class=\"reference internal\" href=\"community/faq/#encoded-data\">Encoded Data?</a></li>\n",
      "<li class=\"toctree-l2\"><a class=\"reference internal\" href=\"community/faq/#custom-user-agents\">Custom User-Agents?</a></li>\n",
      "<li class=\"toctree-l2\"><a class=\"reference internal\" href=\"community/faq/#why-not-httplib2\">Why not Httplib2?</a></li>\n",
      "<li class=\"toctree-l2\"><a class=\"reference internal\" href=\"community/faq/#python-3-support\">Python 3 Support?</a></li>\n",
      "<li class=\"toctree-l2\"><a class=\"reference internal\" href=\"community/faq/#what-are-hostname-doesn-t-match-errors\">What are &quot;hostname doesn't match&quot; errors?</a></li>\n",
      "</ul>\n",
      "</li>\n",
      "<li class=\"toctree-l1\"><a class=\"reference internal\" href=\"community/out-there/\">Integrations</a><ul>\n",
      "<li class=\"toctree-l2\"><a class=\"reference internal\" href=\"community/out-there/#python-for-ios\">Python for iOS</a></li>\n",
      "</ul>\n",
      "</li>\n",
      "<li class=\"toctree-l1\"><a class=\"reference internal\" href=\"community/out-there/#articles-talks\">Articles &amp; Talks</a></li>\n",
      "<li class=\"toctree-l1\"><a class=\"reference internal\" href=\"community/support/\">Support</a><ul>\n",
      "<li class=\"toctree-l2\"><a class=\"reference internal\" href=\"community/support/#stackoverflow\">StackOverflow</a></li>\n",
      "<li class=\"toctree-l2\"><a class=\"reference internal\" href=\"community/support/#send-a-tweet\">Send a Tweet</a></li>\n",
      "<li class=\"toctree-l2\"><a class=\"reference internal\" href=\"community/support/#file-an-issue\">File an Issue</a></li>\n",
      "<li class=\"toctree-l2\"><a class=\"reference internal\" href=\"community/support/#e-mail\">E-mail</a></li>\n",
      "<li class=\"toctree-l2\"><a class=\"reference internal\" href=\"community/support/#irc\">IRC</a></li>\n",
      "</ul>\n",
      "</li>\n",
      "<li class=\"toctree-l1\"><a class=\"reference internal\" href=\"community/vulnerabilities/\">Vulnerability Disclosure</a><ul>\n",
      "<li class=\"toctree-l2\"><a class=\"reference internal\" href=\"community/vulnerabilities/#process\">Process</a></li>\n",
      "<li class=\"toctree-l2\"><a class=\"reference internal\" href=\"community/vulnerabilities/#previous-cves\">Previous CVEs</a></li>\n",
      "</ul>\n",
      "</li>\n",
      "<li class=\"toctree-l1\"><a class=\"reference internal\" href=\"community/updates/\">Community Updates</a><ul>\n",
      "<li class=\"toctree-l2\"><a class=\"reference internal\" href=\"community/updates/#github\">GitHub</a></li>\n",
      "<li class=\"toctree-l2\"><a class=\"reference internal\" href=\"community/updates/#twitter\">Twitter</a></li>\n",
      "</ul>\n",
      "</li>\n",
      "<li class=\"toctree-l1\"><a class=\"reference internal\" href=\"community/updates/#release-and-version-history\">Release and Version History</a><ul>\n",
      "<li class=\"toctree-l2\"><a class=\"reference internal\" href=\"community/updates/#release-history\">Release History</a></li>\n",
      "</ul>\n",
      "</li>\n",
      "<li class=\"toctree-l1\"><a class=\"reference internal\" href=\"community/release-process/\">Release Process and Rules</a><ul>\n",
      "<li class=\"toctree-l2\"><a class=\"reference internal\" href=\"community/release-process/#major-releases\">Major Releases</a></li>\n",
      "<li class=\"toctree-l2\"><a class=\"reference internal\" href=\"community/release-process/#minor-releases\">Minor Releases</a></li>\n",
      "<li class=\"toctree-l2\"><a class=\"reference internal\" href=\"community/release-process/#hotfix-releases\">Hotfix Releases</a></li>\n",
      "<li class=\"toctree-l2\"><a class=\"reference internal\" href=\"community/release-process/#reasoning\">Reasoning</a></li>\n",
      "</ul>\n",
      "</li>\n",
      "</ul>\n",
      "</div>\n",
      "</div>\n",
      "<div class=\"section\" id=\"the-api-documentation-guide\">\n",
      "<h2>The API Documentation / Guide<a class=\"headerlink\" href=\"#the-api-documentation-guide\" title=\"Permalink to this headline\">Â¶</a></h2>\n",
      "<p>If you are looking for information on a specific function, class, or method,\n",
      "this part of the documentation is for you.</p>\n",
      "<div class=\"toctree-wrapper compound\">\n",
      "<ul>\n",
      "<li class=\"toctree-l1\"><a class=\"reference internal\" href=\"api/\">Developer Interface</a><ul>\n",
      "<li class=\"toctree-l2\"><a class=\"reference internal\" href=\"api/#main-interface\">Main Interface</a></li>\n",
      "<li class=\"toctree-l2\"><a class=\"reference internal\" href=\"api/#exceptions\">Exceptions</a></li>\n",
      "<li class=\"toctree-l2\"><a class=\"reference internal\" href=\"api/#request-sessions\">Request Sessions</a></li>\n",
      "<li class=\"toctree-l2\"><a class=\"reference internal\" href=\"api/#lower-level-classes\">Lower-Level Classes</a></li>\n",
      "<li class=\"toctree-l2\"><a class=\"reference internal\" href=\"api/#lower-lower-level-classes\">Lower-Lower-Level Classes</a></li>\n",
      "<li class=\"toctree-l2\"><a class=\"reference internal\" href=\"api/#authentication\">Authentication</a></li>\n",
      "<li class=\"toctree-l2\"><a class=\"reference internal\" href=\"api/#encodings\">Encodings</a></li>\n",
      "<li class=\"toctree-l2\"><a class=\"reference internal\" href=\"api/#cookies\">Cookies</a></li>\n",
      "<li class=\"toctree-l2\"><a class=\"reference internal\" href=\"api/#status-code-lookup\">Status Code Lookup</a></li>\n",
      "<li class=\"toctree-l2\"><a class=\"reference internal\" href=\"api/#migrating-to-1-x\">Migrating to 1.x</a></li>\n",
      "<li class=\"toctree-l2\"><a class=\"reference internal\" href=\"api/#migrating-to-2-x\">Migrating to 2.x</a></li>\n",
      "</ul>\n",
      "</li>\n",
      "</ul>\n",
      "</div>\n",
      "</div>\n",
      "<div class=\"section\" id=\"the-contributor-guide\">\n",
      "<h2>The Contributor Guide<a class=\"headerlink\" href=\"#the-contributor-guide\" title=\"Permalink to this headline\">Â¶</a></h2>\n",
      "<p>If you want to contribute to the project, this part of the documentation is for\n",
      "you.</p>\n",
      "<div class=\"toctree-wrapper compound\">\n",
      "<ul>\n",
      "<li class=\"toctree-l1\"><a class=\"reference internal\" href=\"dev/contributing/\">Contributor's Guide</a><ul>\n",
      "<li class=\"toctree-l2\"><a class=\"reference internal\" href=\"dev/contributing/#be-cordial\">Be Cordial</a></li>\n",
      "<li class=\"toctree-l2\"><a class=\"reference internal\" href=\"dev/contributing/#get-early-feedback\">Get Early Feedback</a></li>\n",
      "<li class=\"toctree-l2\"><a class=\"reference internal\" href=\"dev/contributing/#contribution-suitability\">Contribution Suitability</a></li>\n",
      "<li class=\"toctree-l2\"><a class=\"reference internal\" href=\"dev/contributing/#code-contributions\">Code Contributions</a><ul>\n",
      "<li class=\"toctree-l3\"><a class=\"reference internal\" href=\"dev/contributing/#steps-for-submitting-code\">Steps for Submitting Code</a></li>\n",
      "<li class=\"toctree-l3\"><a class=\"reference internal\" href=\"dev/contributing/#code-review\">Code Review</a></li>\n",
      "<li class=\"toctree-l3\"><a class=\"reference internal\" href=\"dev/contributing/#new-contributors\">New Contributors</a></li>\n",
      "<li class=\"toctree-l3\"><a class=\"reference internal\" href=\"dev/contributing/#kenneth-reitz-s-code-style\">Kenneth Reitz's Code Styleâ¢</a></li>\n",
      "</ul>\n",
      "</li>\n",
      "<li class=\"toctree-l2\"><a class=\"reference internal\" href=\"dev/contributing/#documentation-contributions\">Documentation Contributions</a></li>\n",
      "<li class=\"toctree-l2\"><a class=\"reference internal\" href=\"dev/contributing/#bug-reports\">Bug Reports</a></li>\n",
      "<li class=\"toctree-l2\"><a class=\"reference internal\" href=\"dev/contributing/#feature-requests\">Feature Requests</a></li>\n",
      "</ul>\n",
      "</li>\n",
      "<li class=\"toctree-l1\"><a class=\"reference internal\" href=\"dev/philosophy/\">Development Philosophy</a><ul>\n",
      "<li class=\"toctree-l2\"><a class=\"reference internal\" href=\"dev/philosophy/#management-style\">Management Style</a></li>\n",
      "<li class=\"toctree-l2\"><a class=\"reference internal\" href=\"dev/philosophy/#values\">Values</a></li>\n",
      "<li class=\"toctree-l2\"><a class=\"reference internal\" href=\"dev/philosophy/#semantic-versioning\">Semantic Versioning</a></li>\n",
      "<li class=\"toctree-l2\"><a class=\"reference internal\" href=\"dev/philosophy/#standard-library\">Standard Library?</a></li>\n",
      "<li class=\"toctree-l2\"><a class=\"reference internal\" href=\"dev/philosophy/#linux-distro-packages\">Linux Distro Packages</a></li>\n",
      "</ul>\n",
      "</li>\n",
      "<li class=\"toctree-l1\"><a class=\"reference internal\" href=\"dev/todo/\">How to Help</a><ul>\n",
      "<li class=\"toctree-l2\"><a class=\"reference internal\" href=\"dev/todo/#feature-freeze\">Feature Freeze</a></li>\n",
      "<li class=\"toctree-l2\"><a class=\"reference internal\" href=\"dev/todo/#development-dependencies\">Development Dependencies</a></li>\n",
      "<li class=\"toctree-l2\"><a class=\"reference internal\" href=\"dev/todo/#runtime-environments\">Runtime Environments</a></li>\n",
      "</ul>\n",
      "</li>\n",
      "<li class=\"toctree-l1\"><a class=\"reference internal\" href=\"dev/authors/\">Authors</a><ul>\n",
      "<li class=\"toctree-l2\"><a class=\"reference internal\" href=\"dev/authors/#keepers-of-the-four-crystals\">Keepers of the Four Crystals</a></li>\n",
      "<li class=\"toctree-l2\"><a class=\"reference internal\" href=\"dev/authors/#patches-and-suggestions\">Patches and Suggestions</a></li>\n",
      "</ul>\n",
      "</li>\n",
      "</ul>\n",
      "</div>\n",
      "<p>There are no more guides. You are now guideless.\n",
      "Good luck.</p>\n",
      "</div>\n",
      "</div>\n",
      "\n",
      "\n",
      "          </div>\n",
      "        </div>\n",
      "      </div>\n",
      "      <div class=\"sphinxsidebar\" role=\"navigation\" aria-label=\"main navigation\">\n",
      "        <div class=\"sphinxsidebarwrapper\"><p class=\"logo\">\n",
      "  <a href=\"#\">\n",
      "    <img class=\"logo\" src=\"_static/requests-sidebar.png\" title=\"https://kennethreitz.org/tattoos\"/>\n",
      "  </a>\n",
      "</p>\n",
      "\n",
      "<p>\n",
      "  <iframe src=\"http://ghbtns.com/github-btn.html?user=requests&repo=requests&type=watch&count=true&size=large\"\n",
      "    allowtransparency=\"true\" frameborder=\"0\" scrolling=\"0\" width=\"200px\" height=\"35px\"></iframe>\n",
      "</p>\n",
      "\n",
      "<p>\n",
      "  Requests is an elegant and simple HTTP library for Python, built for\n",
      "  human beings.\n",
      "</p>\n",
      "\n",
      "<script async type=\"text/javascript\" src=\"//cdn.carbonads.com/carbon.js?zoneid=1673&serve=C6AILKT&placement=pythonrequestsorg\" id=\"_carbonads_js\"></script>\n",
      "\n",
      "<h3><a href=\"http://www.unixstickers.com/stickers/coding_stickers/requests-shaped-sticker\">Stickers!</a></h3>\n",
      "<h3>Stay Informed</h3>\n",
      "<p>Receive updates on new releases and upcoming projects.</p>\n",
      "\n",
      "<p><iframe src=\"http://ghbtns.com/github-btn.html?user=kennethreitz&type=follow&count=false\"\n",
      "  allowtransparency=\"true\" frameborder=\"0\" scrolling=\"0\" width=\"200\" height=\"20\"></iframe></p>\n",
      "\n",
      "<p><a href=\"https://twitter.com/kennethreitz\" class=\"twitter-follow-button\" data-show-count=\"false\">Follow @kennethreitz</a> <script>!function(d,s,id){var js,fjs=d.getElementsByTagName(s)[0],p=/^http:/.test(d.location)?'http':'https';if(!d.getElementById(id)){js=d.createElement(s);js.id=id;js.src=p+'://platform.twitter.com/widgets.js';fjs.parentNode.insertBefore(js,fjs);}}(document, 'script', 'twitter-wjs');</script></p>\n",
      "<p><a href=\"https://saythanks.io/to/kennethreitz\">Say Thanks!</a></p>\n",
      "<p><a href=\"http://tinyletter.com/kennethreitz\">Join Mailing List</a>.</p>\n",
      "<h3>Other Projects</h3>\n",
      "\n",
      "<p>More <a href=\"http://kennethreitz.org/\">Kenneth Reitz</a> projects:</p>\n",
      "<ul>\n",
      "    <li><a href=\"http://edmsynths.com/\">edmsynths.com</a></li>\n",
      "    <li><a href=\"http://pipenv.org/\">pipenv</a></li>\n",
      "    <li><a href=\"http://pep8.org/\">pep8.org</a></li>\n",
      "    <li><a href=\"http://httpbin.org/\">httpbin.org</a></li>\n",
      "    <li><a href=\"http://python-guide.org\">The Python Guide</a></li>\n",
      "    <li><a href=\"https://github.com/kennethreitz/maya\">Maya: Datetimes for Humans</a></li>\n",
      "    <li><a href=\"https://github.com/kennethreitz/records\">Records: SQL for Humans</a></li>\n",
      "    <li><a href=\"http://www.git-legit.org\">Legit: Git for Humans</a></li>\n",
      "    <li><a href=\"http://docs.python-tablib.org/en/latest/\">Tablib: Tabular Datasets</a></li>\n",
      "</ul>\n",
      "\n",
      "\n",
      "<h3>Useful Links</h3>\n",
      "<ul>\n",
      "  <li><a href=\"http://docs.python-requests.org/en/latest/community/recommended/\">Recommended Packages and Extensions</a></li>\n",
      "\n",
      "  <p></p>\n",
      "\n",
      "  <li><a href=\"http://github.com/requests/requests\">Requests @ GitHub</a></li>\n",
      "  <li><a href=\"http://pypi.python.org/pypi/requests\">Requests @ PyPI</a></li>\n",
      "  <li><a href=\"http://github.com/requests/requests/issues\">Issue Tracker</a></li>\n",
      "  <li><a href=\"http://docs.python-requests.org/en/latest/community/updates/#software-updates\">Release History</a></li>\n",
      "</ul>\n",
      "\n",
      "\n",
      "<h3>Translations</h3>\n",
      "\n",
      "<ul>\n",
      "  <li><a href=\"http://docs.python-requests.org/\">English</a></li>\n",
      "  <li><a href=\"http://fr.python-requests.org/\">French</a></li>\n",
      "  <li><a href=\"http://de.python-requests.org/\">German</a></li>\n",
      "  <li><a href=\"http://jp.python-requests.org/\">Japanese</a></li>\n",
      "  <li><a href=\"http://cn.python-requests.org/\">Chinese</a></li>\n",
      "  <li><a href=\"http://pt.python-requests.org/\">Portuguese</a></li>\n",
      "  <li><a href=\"http://it.python-requests.org/\">Italian</a></li>\n",
      "  <li><a href=\"http://es.python-requests.org/\">Spanish</a></li>\n",
      "</ul>\n",
      "\n",
      "<div id=\"searchbox\" style=\"display: none\" role=\"search\">\n",
      "  <h3>Quick search</h3>\n",
      "    <form class=\"search\" action=\"search/\" method=\"get\">\n",
      "      <div><input type=\"text\" name=\"q\" /></div>\n",
      "      <div><input type=\"submit\" value=\"Go\" /></div>\n",
      "      <input type=\"hidden\" name=\"check_keywords\" value=\"yes\" />\n",
      "      <input type=\"hidden\" name=\"area\" value=\"default\" />\n",
      "    </form>\n",
      "</div>\n",
      "<script type=\"text/javascript\">$('#searchbox').show(0);</script><!-- Alabaster (krTheme++) Hacks -->\n",
      "<aside id=\"python27\">\n",
      "    Python 3, the new best practice, is here to stay.\n",
      "    Python 2 will retire in only <time></time> months!\n",
      "</aside>\n",
      "\n",
      "<!-- Python 2 Death Clockâ¢ -->\n",
      "<style type=\"text/css\">\n",
      "  body { margin-top: 4em; }\n",
      "  #python27 {\n",
      "      position: fixed;\n",
      "      top: 0;\n",
      "      left: 0; right: 0;\n",
      "      height:  auto;\n",
      "      text-align: center;\n",
      "      color: white;\n",
      "      background-color: black;\n",
      "      font-size: larger;\n",
      "      line-height: 3;\n",
      "  }\n",
      "\n",
      "</style>\n",
      "<script src=\"https://cdnjs.cloudflare.com/ajax/libs/moment.js/2.18.1/moment.min.js\"></script>\n",
      "<script>\n",
      "  var death = new Date('2020-04-12');\n",
      "\n",
      "  var diff = moment.duration(death - moment());\n",
      "\n",
      "  document.querySelector('#python27 time').innerText = (diff.years() * 12) + diff.months();\n",
      "</script>\n",
      "\n",
      "\n",
      "<!-- CSS Adjustments (I'm very picky.) -->\n",
      "<style type=\"text/css\">\n",
      "\n",
      "  /* Rezzy requires precise alignment. */\n",
      "  img.logo {margin-left: -20px!important;}\n",
      "\n",
      "  /* \"Quick Search\" should be capitalized. */\n",
      "  div#searchbox h3 {text-transform: capitalize;}\n",
      "\n",
      "  /* Make the document a little wider, less code is cut-off. */\n",
      "  div.document {width: 1008px;}\n",
      "\n",
      "  /* Much-improved spacing around code blocks. */\n",
      "  div.highlight pre {padding: 11px 14px;}\n",
      "\n",
      "  /* Remain Responsive! */\n",
      "  @media screen and (max-width: 1008px) {\n",
      "    div.sphinxsidebar {display: none;}\n",
      "    div.document {width: 100%!important;}\n",
      "\n",
      "    /* Have code blocks escape the document right-margin. */\n",
      "    div.highlight pre {margin-right: -30px;}\n",
      "  }\n",
      "\n",
      "</style>\n",
      "\n",
      "\n",
      "<!-- Analytics tracking for Kenneth. -->\n",
      "<script type=\"text/javascript\">\n",
      "  var _gauges = _gauges || [];\n",
      "  (function() {\n",
      "    var t   = document.createElement('script');\n",
      "    t.type  = 'text/javascript';\n",
      "    t.async = true;\n",
      "    t.id    = 'gauges-tracker';\n",
      "    t.setAttribute('data-site-id', '56ca7a57c88d9011080024dd');\n",
      "    t.setAttribute('data-track-path', 'https://track.gaug.es/track.gif');\n",
      "    t.src = 'https://d36ee2fcip1434.cloudfront.net/track.js';\n",
      "    var s = document.getElementsByTagName('script')[0];\n",
      "    s.parentNode.insertBefore(t, s);\n",
      "  })();\n",
      "</script>\n",
      "\n",
      "\n",
      "<!-- There are no more hacks. -->\n",
      "<!--         à®Ú¿Ú°Û£-Ú°Û£â         -->\n",
      "<!--   Love, Kenneth Reitz    -->\n",
      "\n",
      "<script src=\"_static//konami.js\"></script>\n",
      "<script>\n",
      "  var easter_egg = new Konami('http://fortunes.herokuapp.com/random/raw');\n",
      "</script>\n",
      "\n",
      "<!-- That was not a hack. That was art. -->\n",
      "        </div>\n",
      "      </div>\n",
      "      <div class=\"clearer\"></div>\n",
      "    </div>\n",
      "    <div class=\"footer\">\n",
      "      &copy;MMXVII. A <a href=\"http://kennethreitz.com/pages/open-projects.html\">Kenneth Reitz</a> Project.\n",
      "      \n",
      "    </div>\n",
      "\n",
      "    \n",
      "    <a href=\"https://github.com/requests/requests\" class=\"github\">\n",
      "        <img style=\"position: absolute; top: 0; right: 0; border: 0;\" src=\"https://s3.amazonaws.com/github/ribbons/forkme_right_darkblue_121621.png\" alt=\"Fork me on GitHub\"  class=\"github\"/>\n",
      "    </a>\n",
      "    \n",
      "\n",
      "    \n",
      "  </body>\n",
      "</html>\n"
     ]
    }
   ],
   "source": [
    "print(response.text)"
   ]
  },
  {
   "cell_type": "code",
   "execution_count": 123,
   "metadata": {
    "ExecuteTime": {
     "end_time": "2017-11-18T09:59:03.166906Z",
     "start_time": "2017-11-18T09:59:00.526786Z"
    }
   },
   "outputs": [
    {
     "name": "stdout",
     "output_type": "stream",
     "text": [
      "403\n",
      "application/json; charset=utf-8\n",
      "utf-8\n",
      "{\"message\":\"Maximum number of login attempts exceeded. Please try again later.\",\"documentation_url\":\"https://developer.github.com/v3\"}\n"
     ]
    }
   ],
   "source": [
    "response = requests.get('https://api.github.com/user', \n",
    "                        auth=('user', 'pass'))\n",
    "print(response.status_code)\n",
    "print(response.headers['content-type'])\n",
    "print(response.encoding)\n",
    "print(response.text)"
   ]
  },
  {
   "cell_type": "markdown",
   "metadata": {
    "ExecuteTime": {
     "end_time": "2017-11-17T22:57:31.873089Z",
     "start_time": "2017-11-17T22:57:31.870686Z"
    }
   },
   "source": [
    "## Скачивание изображений"
   ]
  },
  {
   "cell_type": "code",
   "execution_count": 125,
   "metadata": {
    "ExecuteTime": {
     "end_time": "2017-11-18T10:05:33.516805Z",
     "start_time": "2017-11-18T10:05:31.513673Z"
    },
    "collapsed": true
   },
   "outputs": [],
   "source": [
    "url = 'https://avatars.mds.yandex.net/get-banana/26007/x25RcU6xfkEuNxJWMvVWTqj9_banana_20161021_teaser4-13.png/optimize'\n",
    "response = requests.get(url)\n",
    "with open('img.png', 'wb') as out_file:\n",
    "    out_file.write(response.content)\n",
    "del response"
   ]
  },
  {
   "cell_type": "markdown",
   "metadata": {
    "ExecuteTime": {
     "end_time": "2017-11-17T19:50:46.383024Z",
     "start_time": "2017-11-17T19:50:46.378586Z"
    }
   },
   "source": [
    "## Практика:\n",
    "\n",
    "(3 балла) Найдите почту курса!\n",
    "Загрузите html wiki нашего курса -> разбейте на слова -> для каждого слова проверьте, есть ли в нем символ \"@\". Если есть - это и есть почта курса.\n",
    "\n",
    "http://wiki.cs.hse.ru/index.php?title=Извлечение_и_анализ_интернет-данных\n"
   ]
  },
  {
   "cell_type": "code",
   "execution_count": null,
   "metadata": {
    "collapsed": true
   },
   "outputs": [],
   "source": []
  },
  {
   "cell_type": "markdown",
   "metadata": {
    "ExecuteTime": {
     "end_time": "2017-11-17T21:40:32.477933Z",
     "start_time": "2017-11-17T21:40:32.473946Z"
    }
   },
   "source": [
    "### Домашнее задание:\n",
    "\n",
    "1. (3 балла) Загрузите html книги \"Гарри Поттер и методы рационального мышления\" и сохраните в файл.\n",
    "\n",
    "2. (4 балла) Прочтите файл из первого задания (или если не получилось - сохраните файл в браузере). Выведете top100 список слов по упоминаемости\n",
    "\n",
    "3. (4 балла) Скачайте все изображения с первой страницы ленты Instagram. Для этого получите html сайта instagram.com , найдите все строчки, которые начинаются на \"http: и заканчиваются на .jpg\" . Для каждой такой строчки вызовите код для скачивания (названия у изображений можно брать 1.jpg, 2.jpg и т.д)\n"
   ]
  },
  {
   "cell_type": "code",
   "execution_count": null,
   "metadata": {
    "collapsed": true
   },
   "outputs": [],
   "source": []
  },
  {
   "cell_type": "code",
   "execution_count": null,
   "metadata": {
    "collapsed": true
   },
   "outputs": [],
   "source": []
  },
  {
   "cell_type": "code",
   "execution_count": 174,
   "metadata": {
    "ExecuteTime": {
     "end_time": "2017-11-23T15:13:49.898049Z",
     "start_time": "2017-11-23T15:13:48.629078Z"
    },
    "collapsed": true
   },
   "outputs": [],
   "source": [
    "import requests\n",
    "resp = requests.get('http://hpmor.ru/files/hpmor_ru.html')\n",
    "\n",
    "import codecs   #you should read in binary mode to get the BOM correctly\n",
    "bom = codecs.BOM_UTF16_LE                                      #print dir(codecs) for other encodings\n",
    "assert resp.content.startswith(bom)                           #make sure the encoding is what you expect, otherwise you'll get wrong data\n",
    "encoded_text= resp.content[len(bom):]                         #strip away the BOM\n",
    "decoded_text= encoded_text.decode('utf-16le') \n",
    "with open('book.html', 'w') as file:\n",
    "    file.write(decoded_text)"
   ]
  },
  {
   "cell_type": "code",
   "execution_count": 165,
   "metadata": {
    "ExecuteTime": {
     "end_time": "2017-11-23T15:08:38.801603Z",
     "start_time": "2017-11-23T15:08:38.798172Z"
    }
   },
   "outputs": [
    {
     "data": {
      "text/plain": [
       "200"
      ]
     },
     "execution_count": 165,
     "metadata": {},
     "output_type": "execute_result"
    }
   ],
   "source": [
    "resp.status_code"
   ]
  },
  {
   "cell_type": "code",
   "execution_count": 169,
   "metadata": {
    "ExecuteTime": {
     "end_time": "2017-11-23T15:11:45.620336Z",
     "start_time": "2017-11-23T15:11:45.603811Z"
    },
    "collapsed": true
   },
   "outputs": [],
   "source": []
  },
  {
   "cell_type": "code",
   "execution_count": 171,
   "metadata": {
    "ExecuteTime": {
     "end_time": "2017-11-23T15:11:53.337030Z",
     "start_time": "2017-11-23T15:11:53.332798Z"
    }
   },
   "outputs": [
    {
     "data": {
      "text/plain": [
       "'<!DOCTYPE html PUBLIC \"-//W3C//DTD XHTML 1.0 Transitional//EN\" \"http://www.w3.org/TR/xhtml1/DTD/xhtm'"
      ]
     },
     "execution_count": 171,
     "metadata": {},
     "output_type": "execute_result"
    }
   ],
   "source": [
    "decoded_text[:100]"
   ]
  },
  {
   "cell_type": "code",
   "execution_count": 173,
   "metadata": {
    "ExecuteTime": {
     "end_time": "2017-11-23T15:12:12.749177Z",
     "start_time": "2017-11-23T15:12:12.718068Z"
    },
    "collapsed": true,
    "scrolled": false
   },
   "outputs": [],
   "source": [
    "with open('book.html', 'w') as file:\n",
    "    file.write(decoded_text)"
   ]
  },
  {
   "cell_type": "code",
   "execution_count": null,
   "metadata": {
    "collapsed": true
   },
   "outputs": [],
   "source": []
  },
  {
   "cell_type": "code",
   "execution_count": null,
   "metadata": {
    "collapsed": true
   },
   "outputs": [],
   "source": []
  },
  {
   "cell_type": "code",
   "execution_count": 175,
   "metadata": {
    "ExecuteTime": {
     "end_time": "2017-11-23T15:15:51.037803Z",
     "start_time": "2017-11-23T15:15:50.834483Z"
    },
    "collapsed": true
   },
   "outputs": [],
   "source": [
    "import requests\n",
    "resp = requests.get('https://www.litmir.me/br/?b=7296')"
   ]
  },
  {
   "cell_type": "code",
   "execution_count": 178,
   "metadata": {
    "ExecuteTime": {
     "end_time": "2017-11-23T15:16:39.364108Z",
     "start_time": "2017-11-23T15:16:39.359383Z"
    },
    "collapsed": true,
    "scrolled": false
   },
   "outputs": [],
   "source": [
    "with open('dokins.html', 'w') as file:\n",
    "    file.write(resp.text)"
   ]
  },
  {
   "cell_type": "code",
   "execution_count": null,
   "metadata": {
    "collapsed": true
   },
   "outputs": [],
   "source": []
  },
  {
   "cell_type": "code",
   "execution_count": null,
   "metadata": {
    "collapsed": true
   },
   "outputs": [],
   "source": []
  },
  {
   "cell_type": "code",
   "execution_count": 182,
   "metadata": {
    "ExecuteTime": {
     "end_time": "2017-11-23T15:23:59.118232Z",
     "start_time": "2017-11-23T15:23:58.889266Z"
    }
   },
   "outputs": [
    {
     "data": {
      "text/plain": [
       "'<!DOCTYPE html>\\n<html xmlns=\"http://www.w3.org/1999/xhtml\" prefix=\"og: http://ogp.me/ns# book: http://ogp.me/ns/book# profile: http://ogp.me/ns/profile#\">\\n<head>\\n<title>Читать \"Эгоистичный ген\" - Докинз Ричард - Страница 1 - ЛитМир</title>\\n<meta http-equiv=\"Content-Type\" content=\"text/html; charset=UTF-8\" />\\n<meta name=\"description\" content=\"Читать книгу онлайн &quot;Эгоистичный ген&quot; - Докинз Ричард - бесплатно, без регистрации.\" />\\n<meta name=\"keywords\" content=\"Эгоистичный ген, Докинз Ричард, читать онлайн, скачать бесплатно, без регистрации\" />\\n<meta property=\"og:title\" content=\"Читать \" Эгоистичный ген\" - Докинз Ричард - Страница 1 - ЛитМир\" />\\n<meta property=\"og:type\" content=\"website\" />\\n<meta property=\"og:site_name\" content=\"Литмир - электронная библиотека\" />\\n<meta property=\"og:image\" content=\"https://www.litmir.me/img/logo_litmir.png\" />\\n<meta property=\"og:url\" content=\"https://www.litmir.me/br/?b=7296\" />\\n<script src=\"/cdn-cgi/apps/head/IxaylHoxvMLg3maEw1XNeMdh8Pg.js\"></script><link rel=\"shortcut icon\" type=\"image/x-icon\" href=\"/favicon.ico\" />\\n<link rel=\"canonical\" href=\"https://www.litmir.me/br/?b=7296&p=1\" />\\n<link type=\"text/css\" rel=\"stylesheet\" href=\"/Static/377/BookRead.min.css\" />\\n<link type=\"text/css\" rel=\"stylesheet\" href=\"/static/slider.min2.css\" />\\n<link type=\"text/css\" rel=\"stylesheet\" href=\"/plugin/jquery-ui-1.11.4.custom/jquery-ui.min.css\" />\\n<link type=\"text/css\" rel=\"stylesheet\" href=\"/static/jquery.jscrollpane.css\" />\\n<link type=\"text/css\" rel=\"stylesheet\" href=\"/static/timepicker.css\" />\\n<link type=\"text/css\" rel=\"stylesheet\" href=\"/Static/377/litru.min.css\" />\\n<script type=\"text/javascript\" src=\"/static/jquery.min.js\"></script>\\n<script type=\"text/javascript\" src=\"/static/jquery-ui.min.js\"></script>\\n<script type=\"text/javascript\" src=\"/static/jquery.jscrollpane.min.js\"></script>\\n<script type=\"text/javascript\" src=\"/static/datepicker-ru.js\"></script>\\n<script type=\"text/javascript\" src=\"/static/timepicker-ru.js\"></script>\\n<script type=\"text/javascript\" src=\"/static/jquery.mousewheel.js\"></script>\\n<script type=\"text/javascript\" src=\"//www.google.com/jsapi\"></script>\\n<script type=\"text/javascript\" src=\"/static/lazy.min.js\"></script>\\n<script type=\"text/javascript\" src=\"/static/jquery.md5.js\"></script>\\n<script type=\"text/javascript\" src=\"/Static/377/litru.min.js\"></script>\\n<script type=\"text/javascript\" src=\"/Static/377/BookRead.min.js\"></script>\\n<link media=\"screen and (max-width:1000px)\" rel=\"stylesheet\" href=\"/Static/377/tablet.min.css\"><meta name=viewport content=\"width=device-width, initial-scale=1\"><style>\\n    .pl-h4{font-size:14px;font-size:1.4rem;color:#39424C;border:none;display:block;margin:15px 0px 10px;font-weight:bold;}\\n    .pl-block{width:100%!important;max-width:600px;border:0px;font-weight:normal;letter-spacing:normal;margin:0px;outline:0px;padding:0px;text-align:left;text-indent:0px;}\\n    .pl-a.pl-even{background-color:#f6f6f6;}\\n    .pl-shop{padding-left:5px;line-height:17px;width:180px;display:table-cell;vertical-align:middle;}\\n    .pl-bookauthor{line-height:17px;width:130px;display:table-cell;vertical-align:middle;overflow:hidden;color:#000;overflow:hidden;}\\n    .pl-bookname{line-height:17px;width:auto;display:table-cell;vertical-align:middle;color:#000;overflow:hidden;}\\n    .pl-blockprice{padding-right:5px;text-align:right !important;font-weight:bold;color:#000;display:table-cell;vertical-align:middle;}\\n    .pl-a{width:100%;display:table;min-height:38px;border-top:1px solid #ecebec;text-align:left;text-shadow:none!important;text-indent:0px;vertical-align:middle;height:38px;}\\n    .pl-a,.pl-a:visited{color:#0768D8;text-decoration:none;}\\n    .pl-amore,.pl-amore:visited{color:#000 !important;text-decoration:none !important;}\\n    .pl-a:hover{color:#2A9430;text-decoration:none;}\\n    .pl-priced{height:38px;vertical-align:middle;}\\n    .pl-price{white-space:nowrap;font-size:14px;font-size:1.4rem;margin-left:10px;padding-left:2px;color:#2A9430;}\\n    .pl-icon{width:16px;vertical-align:-3px;margin-right:7px;}\\n    .pl-discount{color:red;}\\n    .pl-divmore{text-align:center;background-color: #E9E9E9;padding:7px 5px;max-width:590px;}\\n</style>\\n<style>.art_td_text {\\r\\n  vertical-align: top;\\r\\n  padding: 0px 10px 10px 10px;\\r\\n}\\r\\na.art_a,a.art_t{\\r\\n  font-size: 120%;\\r\\n  color: blue;\\r\\ntext-decoration: underline;\\r\\n}\\r\\n\\r\\n.art_p,.art_p{\\r\\n  font-size: 9pt;\\r\\n  color: red;\\r\\n}\\r\\n\\r\\n.art_td_c {\\r\\nfloat:left;\\r\\n}\\r\\n\\r\\n.art_td_c img{\\r\\nmin-height: 165px;\\r\\nmargin-right: 10px;\\r\\n}\\r\\n\\r\\n.art_main\\r\\n{\\r\\nmargin-right:10px;\\r\\nmargin-left:20px;\\r\\nheight: 165px;\\r\\noverflow-y:hidden;\\r\\ndisplay: flex;\\r\\njustify-content: space-between;\\r\\nflex-wrap:wrap;\\r\\n}\\r\\n\\r\\n.art_main2\\r\\n{\\r\\noverflow:auto;\\r\\ndisplay: flex;\\r\\njustify-content: center;\\r\\npadding-top:5px;\\r\\npadding-bottom:19px;\\r\\n}\\r\\n.widget_tab\\r\\n{\\r\\npadding: 0px 18px 0px 18px; \\r\\nheight: 25px;\\r\\nfont-family: RobotoBold;\\r\\nfont-size: 16px;\\r\\nfont-size: 1.6rem; \\r\\nbackground-color: transparent; \\r\\nborder-radius: 4px;\\r\\ntext-align:left;\\r\\n}</style></head>\\n<body onclick=\"hideall();\" class=\"lb\">\\n<div><div jq=\"litru_content_box\" class=\"lt4\"><div itemscope=\"\" itemtype=\"http://schema.org/WPHeader\" class=\"lt5\"><div class=\"container\"> <ul class=\"user-links wht-list\">\\n<li class=\"entry\" rel=\"nofollow\"><a href=\"\" onclick=\"hidetxt(\\'div1\\');return false;\" onmouseover=\"showdiv1=true;\" onmouseout=\"showdiv1=false;\" class=\"lts39\">Вход</a>\\n<div style=\"display:none;\" id=\"div1\" onmouseover=\"showdiv1=true;\" onmouseout=\"showdiv1=false;\" class=\"form-window\">\\n<span class=\"arrow\"></span>\\n<h3>Войти на сайт</h3>\\n<form jq=\"LoginEnter\" action=\"/br/?b=7296\" method=\"post\">\\n<input jq=\"Login\" id=\"username\" name=\"logining[login]\" type=\"text\" placeholder=\"E-mail или ID\">\\n<input jq=\"Password\" id=\"password\" name=\"logining[password]\" type=\"password\" placeholder=\"Пароль\">\\n<span class=\"forget-link\"><a href=\"/PasswordRecover\">Я забыл пароль</a></span>\\n<button class=\"entry-button\">Войти</button>\\n<div class=\"social-link\">\\n<a href=\"/SocialConnect/?name=facebook\" title=\"facebook\"><img src=\"/img/social/facebook.png\"></a>&nbsp;&nbsp;<a href=\"/SocialConnect/?name=twitter\" title=\"twitter\"><img src=\"/img/social/twitter.png\"></a>&nbsp;&nbsp;<a href=\"/SocialConnect/?name=vkontakte\" title=\"vkontakte\"><img src=\"/img/social/vkontakte.png\"></a>&nbsp;&nbsp;<a href=\"/SocialConnect/?name=livejournal\" title=\"livejournal\"><img src=\"/img/social/livejournal.png\"></a>&nbsp;&nbsp;<a href=\"/SocialConnect/?name=yandex\" title=\"yandex\"><img src=\"/img/social/yandex.png\"></a>&nbsp;&nbsp;<a href=\"/SocialConnect/?name=mail\" title=\"mail\"><img src=\"/img/social/mail.png\"></a>&nbsp;&nbsp;<a href=\"/SocialConnect/?name=google\" title=\"google\"><img src=\"/img/social/google.png\"></a>&nbsp;&nbsp; </div>\\n</form>\\n</div>\\n</li>\\n<li class=\"reg\" rel=\"nofollow\"><a href=\"\" onclick=\"hidetxt(\\'div2\\'); return false;\" onmouseover=\"showdiv2=true;\" onmouseout=\"showdiv2=false;\" class=\"lts39a\">Регистрация</a>\\n<div style=\"display:none;\" id=\"div2\" onmouseover=\"showdiv2=true;\" onmouseout=\"showdiv2=false;\" class=\"form-window\">\\n<span class=\"arrow\"></span>\\n<h3>Регистрация</h3>\\n<form jq=\"SendIniviteForm\" method=\"post\">\\n<input name=\"SendInivite[u_email]\" type=\"text\" placeholder=\"E-mail\">\\n<input class=\"reg-button\" type=\"submit\" value=\"Зарегистрироваться\">\\n</form>\\n</div>\\n</li>\\n</ul>\\n<script type=\"text/javascript\">\\n\\t\\t\\t\\t\\tfunction getHash(password,salt,itcount)\\n\\t\\t\\t\\t\\t{\\n\\t\\t\\t\\t    \\t    var hash = password;\\n\\t\\t\\t\\t\\t    if (itcount < 1) itcount = 1;\\n\\t\\t\\t\\t\\t    for (var i=0; i<itcount; i++)\\n\\t\\t\\t\\t            hash = $.md5(salt+hash);\\n\\t\\t\\t\\t\\t    return hash;\\n\\t\\t\\t\\t        }\\n\\n\\t\\t\\t\\t\\t$(function()\\n\\t\\t\\t\\t\\t{\\n\\t\\t\\t\\t\\t\\t$(\"[jq=LoginEnter]\").on(\\'submit\\',function(event){\\n\\t\\t\\t\\t\\t\\t    var username = $(\\'#username\\').val();\\n\\t\\t\\t\\t\\t    \\t    if (!username)\\n\\t\\t\\t\\t\\t\\t    {\\n\\t\\t\\t\\t\\t        \\t$(\\'#username\\').attr(\\'placeholder\\',\\'Это поле обязательно для заполнения.\\');\\n                    \\t\\t\\t\\t    }\\n\\t\\t\\t\\t\\t\\t    else\\n    \\t\\t\\t\\t\\t\\t    {\\n\\t\\t\\t\\t\\t\\t\\tvar password = $(\\'#password\\').val();\\n\\t\\t\\t\\t\\t\\t\\tif (!password)\\n\\t\\t\\t\\t\\t\\t\\t    {\\n\\t\\t\\t\\t\\t\\t\\t\\t$(\\'#password\\').attr(\\'placeholder\\',\\'Это поле обязательно для заполнения.\\');\\n\\t\\t\\t\\t\\t\\t\\t    }\\n\\t\\t\\t\\t\\t\\t\\telse\\n\\t\\t\\t\\t\\t\\t\\t{\\n\\t\\t\\t\\t\\t\\t\\t    $.ajax(\\n\\t\\t\\t\\t\\t\\t\\t    {\\n\\t\\t\\t\\t\\t\\t\\t\\ttype: \\'POST\\',\\n\\t\\t\\t\\t\\t\\t\\t\\turl: \\'/GetPassCode\\',\\n\\t\\t\\t\\t\\t\\t\\t\\tdata: \\'logining[login]=\\'+username,\\n\\t\\t\\t\\t\\t\\t\\t\\tsuccess: function(Str)\\n\\t\\t\\t\\t\\t\\t\\t\\t{\\n\\t\\t\\t\\t\\t\\t\\t\\t    var data = jQuery.parseJSON(Str).Content.split(\\'+\\');\\n\\t\\t\\t\\t\\t\\t\\t\\t    /*var data = jQuery.parseJSON(Str).split(\\'+\\');*/\\n\\t\\t\\t\\t\\t\\t\\t\\t    password = getHash(hex_md0(password),data[0],data[1]);\\n\\t\\t\\t\\t\\t\\t\\t\\t    $.ajax(\\n\\t\\t\\t\\t\\t\\t    \\t\\t    {\\n\\t\\t\\t\\t\\t\\t\\t\\t\\ttype: \\'POST\\',\\n\\t\\t\\t\\t\\t\\t\\t\\t\\turl: \\'/login\\',\\n\\t\\t\\t\\t\\t\\t\\t\\t        data: \\'logining[login]=\\'+username+\\'&logining[password]=\\'+\\npassword+\\'&logining[salt]=\\'+data[0]+\\'&logining[itcount]=\\'+data[1],\\n\\t\\t\\t\\t\\t\\t\\t\\t\\tsuccess: function(Str)\\n\\t\\t\\t\\t\\t\\t\\t\\t    \\t{\\n\\t\\t\\t\\t\\t\\t\\t\\t\\t\\tconsole.log(Str);\\n\\t\\t\\t\\t\\t\\t\\t\\t\\t\\tvar data = jQuery.parseJSON(Str);\\n\\t\\t\\t\\t\\t\\t\\t\\t\\t\\t\\n\\t\\t\\t\\t\\t\\t\\t\\t\\t\\tif (!data.Content)\\n\\t\\t\\t\\t\\t\\t\\t\\t\\t\\t{\\n\\t\\t\\t\\t\\t\\t\\t\\t\\t\\t    location.reload();\\n\\t\\t\\t\\t\\t\\t\\t\\t\\t\\t}\\n\\t\\t\\t\\t\\t\\t\\t\\t\\t\\telse\\n\\t\\t\\t\\t\\t\\t\\t\\t\\t\\t{\\n\\t\\t\\t\\t\\t\\t\\t\\t\\t\\t    var primarypassword = $(\\'#password\\').val();\\n\\t\\t\\t\\t\\t\\t\\t\\t\\t\\t    $.ajax(\\n\\t\\t\\t\\t\\t\\t\\t\\t\\t\\t    {\\n\\t\\t\\t\\t\\t\\t\\t\\t\\t\\t\\ttype: \\'POST\\',\\n\\t\\t\\t\\t\\t\\t\\t\\t\\t\\t\\turl: \\'/login\\',\\n\\t\\t\\t\\t\\t\\t\\t\\t\\t\\t        data: \\'logining[login]=\\'+username+\\'&logining[password]=\\'+password+\\'&logining[salt]=\\'+data[0]+\\'&logining[itcount]=\\'+data[1]+\\'&logining[primarypassword]=\\'+primarypassword,\\n\\t\\t\\t\\t\\t\\t\\t\\t\\t\\t\\tsuccess: function(Str)\\n\\t\\t\\t\\t\\t\\t\\t\\t\\t\\t\\t{\\n\\t\\t\\t\\t\\t\\t\\t\\t\\t\\t\\t    $(\\'<div />\\', {\\n\\t\\t\\t\\t\\t\\t\\t\\t\\t\\t\\t    html: data.Content\\n\\t\\t\\t\\t\\t\\t\\t\\t\\t\\t\\t    }).dialog(\\n\\t\\t\\t\\t\\t\\t\\t\\t\\t\\t\\t    {resizable: false, modal: true, title: \"\",\\n\\t\\t\\t\\t\\t\\t\\t\\t\\t\\t    \\t\\tshow: {effect: \"explode\", duration: 300},\\n\\t\\t\\t\\t\\t\\t\\t\\t\\t\\t    \\t\\thide: {effect: \"explode\", duration: 300},\\n\\t\\t\\t\\t\\t\\t\\t\\t\\t\\t    \\t    \"buttons\": {\\n\\t\\t\\t\\t\\t\\t\\t\\t\\t\\t\\t\\t\"OK\": function() { $(this).dialog(\"close\"); }\\n\\t\\t\\t\\t\\t\\t\\t\\t\\t\\t\\t    }\\n\\t\\t\\t\\t\\t\\t\\t\\t\\t\\t\\t    });\\n\\t\\t\\t\\t\\t\\t\\t\\t\\t\\t\\t}\\n\\t\\t\\t\\t\\t\\t\\t\\t\\t\\t    });\\n\\t\\t\\t\\t\\t\\t\\t\\t\\t\\t}\\n\\t\\t\\t\\t\\t\\t\\t\\t\\t}\\n\\t\\t\\t\\t\\t\\t\\t\\t    });\\n\\t\\t\\t\\t\\t\\t\\t\\t}\\n\\t\\t\\t\\t\\t\\t\\t    });\\n\\t\\t\\t\\t\\t\\t\\t}\\n\\t\\t\\t\\t\\t\\t    }\\n\\t\\t\\t\\t\\t\\t    return false;\\n\\t\\t\\t\\t\\t\\t});\\n\\t\\t\\t\\t\\t\\t$(\"[jq=SendIniviteForm]\").ajaxForm(\\n\\t\\t\\t\\t\\t\\t{\\n\\t\\t\\t\\t\\t\\t\\turl: \\'/SendInviteSave\\',\\n\\t\\t\\t\\t\\t\\t\\tsuccess: function(Str)\\n\\t\\t\\t\\t\\t\\t\\t{\\n\\t\\t\\t\\t\\t\\t\\t    var data = jQuery.parseJSON(Str);\\n\\n\\t\\t\\t\\t\\t\\t\\t    $(\\'<div />\\', {\\n\\t\\t\\t\\t\\t\\t\\t\\thtml: data.Content+\\'<div jq=\"Output\"></div>\\'\\n\\t\\t\\t\\t\\t\\t\\t    }).dialog(\\n\\t\\t\\t\\t\\t\\t\\t\\t{resizable: false, modal: true, title: \"\",\\n\\t\\t\\t\\t\\t\\t\\t\\tshow: {effect: \"explode\", duration: 300},\\n\\t\\t\\t\\t\\t\\t\\t        hide: {effect: \"explode\", duration: 300},\\n\\t\\t\\t\\t\\t\\t\\t\\t\"buttons\": {\\n\\t\\t\\t\\t\\t\\t\\t\\t    \"OK\": function() { $(this).dialog(\"close\"); }\\n\\t\\t\\t\\t    \\t\\t\\t\\t}\\n\\t\\t\\t\\t\\t\\t\\t\\t});\\n\\t\\t\\t\\t\\t\\t\\t}\\n\\t\\t\\t\\t\\t\\t});\\n\\t\\t\\t\\t\\t});\\n\\t\\t\\t\\t\\t</script>\\n<div class=\"lt46\">\\n<input type=\"text\" class=\"google_search\" onfocus=\"$(this).parent().css(\\'background-image\\',\\'url(../img/search-icon2.png)\\').animate({\\'width\\': \\'250px\\'},300);\" onblur=\"$(this).parent().css(\\'background-image\\',\\'url(../img/search-icon.png)\\').animate({\\'width\\': \\'200px\\'},300);\" jq=\"google_search_input\">\\n</div>\\n<div class=\"lt44\">\\n<a href=\"/\" style=\"background-color:#fff;\"><img src=\"/img/logo_litmir.png\" alt=\"ЛитМир - Электронная Библиотека\"></a>\\n<meta itemprop=\"headline\" content=\"ЛитМир\"></meta>\\n<meta itemprop=\"description\" content=\"Электронная Библиотека\"></meta>\\n</div>\\n</div>\\n</div>\\n<div class=\"container\"><div style=\"height:194px;\"><div style=\"height:2px;\"></div><div style=\"height:190px;\"><div class=\"widget_tab\"><span><span style=\"color:#f05a29; font-size:14px;font-size:1.4rem;font-family:Roboto;\">Лит</span><span style=\"color:#000; font-size:14px;font-size:1.4rem;font-family:Roboto;\">Мир</span></span><span style=\"color:#444;font-size:12px;font-size:1.2rem;font-family:Roboto;\">: бестселлеры месяца</div><div class=\"art_main\"><div class=\"art_td_c\"><a href=\"/bd/?b=597385&from=widget_litmir1\" target=\"_top\"><img class=\"art_c\" height=\"165\" border=\"0\" alt=\"Загадочные убийства\" src=\"/data/Book/0/597000/597385/BC5_1510943471.jpg\"></a></div><div class=\"art_td_c\"><a href=\"/bd/?b=593948&from=widget_litmir1\" target=\"_top\"><img class=\"art_c\" height=\"165\" border=\"0\" alt=\"Девушка из Англии\" src=\"/data/Book/0/593000/593948/BC5_1508146311.jpg\"></a></div><div class=\"art_td_c\"><a href=\"/bd/?b=595686&from=widget_litmir1\" target=\"_top\"><img class=\"art_c\" height=\"165\" border=\"0\" alt=\"С мечтой о Риме\" src=\"/data/Book/0/595000/595686/BC5_1509474635.jpg\"></a></div><div class=\"art_td_c\"><a href=\"/bd/?b=594226&from=widget_litmir1\" target=\"_top\"><img class=\"art_c\" height=\"165\" border=\"0\" alt=\"Мужчины с Марса, женщины с Венеры. Новая версия для современного мира. Умения, навыки, приемы для счастливых отношений\" src=\"/data/Book/0/594000/594226/BC5_1508319017.jpg\"></a></div><div class=\"art_td_c\"><a href=\"/bd/?b=591542&from=widget_litmir1\" target=\"_top\"><img class=\"art_c\" height=\"165\" border=\"0\" alt=\"Храню тебя в сердце моем\" src=\"/data/Book/0/591000/591542/BC5_1506245417.jpg\"></a></div><div class=\"art_td_c\"><a href=\"/bd/?b=590861&from=widget_litmir1\" target=\"_top\"><img class=\"art_c\" height=\"165\" border=\"0\" alt=\"Академия магии при Храме всех богов. Наследница Тумана\" src=\"/data/Book/0/590000/590861/BC5_1505651434.jpg\"></a></div><div class=\"art_td_c\"><a href=\"/bd/?b=587391&from=widget_litmir1\" target=\"_top\"><img class=\"art_c\" height=\"165\" border=\"0\" alt=\"Грехи отца\" src=\"/data/Book/0/587000/587391/BC5_1502454673.jpg\"></a></div><div class=\"art_td_c\"><a href=\"/bd/?b=594258&from=widget_litmir1\" target=\"_top\"><img class=\"art_c\" height=\"165\" border=\"0\" alt=\"Земля лишних. Побег\" src=\"/data/Book/0/594000/594258/BC5_1508340619.jpg\"></a></div><div class=\"art_td_c\"><a href=\"/bd/?b=596649&from=widget_litmir1\" target=\"_top\"><img class=\"art_c\" height=\"165\" border=\"0\" alt=\"Хаос: отступление?\" src=\"/data/Book/0/596000/596649/BC5_1510327855.jpg\"></a></div></div></div><div style=\"height:2px;\"></div></div></div><div class=\"container\"><div class=\"lt8\"> <div itemscope=\"\" itemtype=\"http://schema.org/SiteNavigationElement\" style=\"border: 0px;\">\\n<div class=\"center\">\\n<ul class=\"top-menu wht-list\">\\n<li>\\n<a href=\"/all_genre\" itemprop=\"url\">ЖАНРЫ</a>&nbsp;<span class=\"quant\">252</span>\\n</li>\\n<li>\\n<a href=\"/as\" itemprop=\"url\">АВТОРЫ</a>&nbsp;<span class=\"quant\">237 073</span>\\n</li>\\n<li>\\n<a href=\"/bs/?rs=5%7C1%7C0\" itemprop=\"url\">КНИГИ</a>&nbsp;<span class=\"quant\">525 780</span>\\n</li>\\n<li>\\n<a href=\"/series\" itemprop=\"url\">СЕРИИ</a>&nbsp;<span class=\"quant\">19 083</span>\\n</li>\\n<li>\\n<a href=\"/Users/?order=ForumMessageDateDown&type=last_user\" title=\"Онлайн - 415\" itemprop=\"url\">ПОЛЬЗОВАТЕЛИ</a>&nbsp;<span class=\"quant\">455 405</span>\\n</li>\\n</ul>\\n</div>\\n</div>\\n</div></div><div class=\"container\"><div class=\"island lt20\"><div class=\"lt20a\"><span itemscope itemtype=\"http://schema.org/BreadcrumbList\"><span itemprop=\"itemListElement\" itemscope itemtype=\"http://schema.org/ListItem\"> <a itemscope itemtype=\"http://schema.org/Thing\" itemprop=\"item\" href=\"/\"><span itemprop=\"name\" style=\"font-size:14px;font-size:1.4rem;\">ЛитМир - Электронная Библиотека</span></a><meta itemprop=\"position\" content=\"1\"> <span style=\"font-size:14px;font-size:1.4rem;\">></span> </span><span itemprop=\"itemListElement\" itemscope itemtype=\"http://schema.org/ListItem\"> <a itemscope itemtype=\"http://schema.org/Thing\" itemprop=\"item\" href=\"/a/?id=4895\"><span itemprop=\"name\" style=\"font-size:14px;font-size:1.4rem;\">Докинз Ричард</span></a> <meta itemprop=\"position\" content=\"2\" /> <span style=\"font-size:14px;font-size:1.4rem;\">></span> </span><span itemprop=\"itemListElement\" itemscope itemtype=\"http://schema.org/ListItem\"> <a itemscope itemtype=\"http://schema.org/Thing\" itemprop=\"item\" href=\"/bd/?b=7296\"><span itemprop=\"name\" style=\"font-size:14px;font-size:1.4rem;\">Эгоистичный ген</span></a> <meta itemprop=\"position\" content=\"3\" /> <span style=\"font-size:14px;font-size:1.4rem;\">></span> </span><span itemprop=\"itemListElement\" itemscope itemtype=\"http://schema.org/ListItem\"> <span itemprop=\"name\" style=\"font-size:14px;font-size:1.4rem;\">Стр.1</span> <meta itemprop=\"position\" content=\"4\" /></span></span></div></div></div><table class=\"lts49\"><tr><td><div jq=\"main_content\" class=\"lt19\"><div class=\"container\"><table class=\"lts49\"><tr><td class=\"right_content\"><div class=\"lt26b\"><div style=\"margin:0 10px;\"><div class=\"lts1\"><div class=\"island\"><div class=\"lt20a\"><form jq=\"ReadStyleForm\" method=\"post\" onkeydown=\"if (event.keyCode == 13) return false;\"><div class=\"lts49\"><div style=\"overflow:auto;\"><div class=\"lts6 rs_row rs_column1\" style=\"float:left;padding-left:0;padding-top:16px;\"><div id=\"jq-dropdown-book_72961\" class=\"jq-dropdown jq-dropdown-tip\"><ul class=\"jq-dropdown-menu\"><div class=\"rs_content\"><table class=\"lt62\"><tr><td style=\"padding-left:0px;\"><a class=\"lt47s\" el=\"selected\" href=\"/br/?b=7296&p=1#section_1\">Ричард Докинз Эгоистичный ген</a></td><td>1</td></tr><tr><td style=\"padding-left:30px;\"><a class=\"lt47s\" el=\"selected\" href=\"/br/?b=7296&p=1#section_2\">«Кому следует прочитать эту книгу? Всякому, кого интересует Вселенная и место, занимаемое в ней чело...</a></td><td>1</td></tr><tr><td style=\"padding-left:30px;\"><a class=\"lt47s\" el=\"selected\" href=\"/br/?b=7296&p=1#section_3\">Предисловие к русскому изданию</a></td><td>1</td></tr><tr><td style=\"padding-left:30px;\"><a class=\"lt47\" href=\"/br/?b=7296&p=2#section_4\">Предисловие к первому изданию</a></td><td>2</td></tr><tr><td style=\"padding-left:30px;\"><a class=\"lt47\" href=\"/br/?b=7296&p=3#section_5\">Предисловие ко второму изданию</a></td><td>3</td></tr><tr><td style=\"padding-left:30px;\"><a class=\"lt47\" href=\"/br/?b=7296&p=4#section_6\">Глава 1. Для чего мы живём?</a></td><td>4</td></tr><tr><td style=\"padding-left:30px;\"><a class=\"lt47\" href=\"/br/?b=7296&p=7#section_7\">Глава 2. Репликаторы</a></td><td>7</td></tr><tr><td style=\"padding-left:30px;\"><a class=\"lt47\" href=\"/br/?b=7296&p=10#section_8\">Глава 3. Бессмертные спирали</a></td><td>10</td></tr><tr><td style=\"padding-left:30px;\"><a class=\"lt47\" href=\"/br/?b=7296&p=18#section_9\">Глава 4. Генная машина</a></td><td>18</td></tr><tr><td style=\"padding-left:30px;\"><a class=\"lt47\" href=\"/br/?b=7296&p=25#section_10\">Глава 5. Агрессия: стабильность и эгоистичная машина</a></td><td>25</td></tr><tr><td style=\"padding-left:30px;\"><a class=\"lt47\" href=\"/br/?b=7296&p=32#section_11\">Глава 6. Генное братство</a></td><td>32</td></tr><tr><td style=\"padding-left:30px;\"><a class=\"lt47\" href=\"/br/?b=7296&p=39#section_12\">Глава 7. Планирование семьи</a></td><td>39</td></tr><tr><td style=\"padding-left:30px;\"><a class=\"lt47\" href=\"/br/?b=7296&p=44#section_13\">Глава 8. Битва поколений</a></td><td>44</td></tr><tr><td style=\"padding-left:30px;\"><a class=\"lt47\" href=\"/br/?b=7296&p=49#section_14\">Глава 9. Битва полов</a></td><td>49</td></tr><tr><td style=\"padding-left:30px;\"><a class=\"lt47\" href=\"/br/?b=7296&p=57#section_15\">Глава 10. Почеши мне спину, а я тебя оседлаю</a></td><td>57</td></tr><tr><td style=\"padding-left:30px;\"><a class=\"lt47\" href=\"/br/?b=7296&p=65#section_16\">Глава 11. Мимы\\xa0— новые репликаторы</a></td><td>65</td></tr><tr><td style=\"padding-left:30px;\"><a class=\"lt47\" href=\"/br/?b=7296&p=69#section_17\">Глава 12. Добрые парни финишируют первыми</a></td><td>69</td></tr><tr><td style=\"padding-left:30px;\"><a class=\"lt47\" href=\"/br/?b=7296&p=79#section_18\">Глава 13. «Длинная рука» гена</a></td><td>79</td></tr></table></div></ul></div><a data-jq-dropdown=\"#jq-dropdown-book_72961\" data-vertical-offset=\"10\"><span class=\"orange_desc2\">Содержание</span>&nbsp;&nbsp;<img class=\"triangle\" src=\"/img/triangle.png\"></a></div><div class=\"lts6 rs_row rs_column4\" style=\"float:right;padding-left:0;padding-top:16px;\"><a class=\"blue_desc\" style=\"color:#16BAFF\" onclick=\"$(this).parents(\\'form\\').submit();return false;\">Сохранить</a><br /><div jq=\"Output\" class=\"lts1\" style=\"margin-left:-5px;\"></div></div><div class=\"lts6 rs_row rs_column3\" style=\"float:right;padding-left:0;padding-top:16px;\"><div id=\"jq-dropdown-book_7296\" class=\"jq-dropdown jq-dropdown-tip jq-dropdown-anchor-right\"><div class=\"jq-dropdown-panel\"><div style=\"padding:10px;\"><div>Шрифт</div> <div style=\"margin-top:9px; margin-right:5px;\"> <input type=\"hidden\" id=\"userid\" class=\"lts7\" value=\"0\">\\n<input type=\"hidden\" name=\"read_style[font_family]\" id=\"fontval\" class=\"lts7\" jq=\"select_font_type\" WatchChange=\"true\" value=\"Arial\">\\n<input type=\"hidden\" id=\"font\" class=\"lts7\" value=\"0\">\\n<div class=\"select\" id=\"selectfont\"><a href=\"\" onclick=\"hideoptions(\\'optionsfont\\');\\n\\t\\t\\tfocusoptions[\\'optionsfont\\']=\\'#font\\'+($(\\'#font\\').val());\\n\\t\\t\\t$(\\'#font\\'+($(\\'#font\\').val())).focus().find(\\'li\\').removeClass(\\'option\\').addClass(\\'seloption\\');return false;\" onmouseover=\"showoptions[\\'optionsfont\\']=true;\" onmouseout=\"showoptions[\\'optionsfont\\']=false;\">\\n<div>Arial</div></a></div>\\n<ul class=\"options wht-list scroll-pane\" id=\"optionsfont\" style=\"display:none;\" onmouseover=\"if (moveoptions[\\'optionsfont\\'] != focusoptions[\\'optionsfont\\']) $(focusoptions[\\'optionsfont\\']).find(\\'li\\').removeClass(\\'seloption\\').addClass(\\'option\\');\" onmouseout=\"$(focusoptions[\\'optionsfont\\']).find(\\'li\\').removeClass(\\'option\\').addClass(\\'seloption\\');\">\\n<a href=\"\" id=\"font0\" onclick=\"$(\\'#font\\').val(\\'0\\').change();$(\\'#fontval\\').val(\\'Arial\\').change();$(\\'#selectfont\\').find(\\'a\\').find(\\'div\\').html(\\'Arial\\');\\n\\t\\t\\t        focusoptions[\\'optionsfont\\']=\\'#font\\'+$(\\'#font\\').val();return false;\" onmouseover=\"$(this).find(\\'li\\').removeClass(\\'option\\').addClass(\\'seloption\\');moveoptions[\\'optionsfont\\']=\\'#font0\\';\" onmouseout=\"$(this).find(\\'li\\').removeClass(\\'seloption\\').addClass(\\'option\\');\" class=\"lts39\">\\n<li class=\"option\">Arial</li></a>\\n<a href=\"\" id=\"font1\" onclick=\"$(\\'#font\\').val(\\'1\\').change();$(\\'#fontval\\').val(\\'Arial Black\\').change();$(\\'#selectfont\\').find(\\'a\\').find(\\'div\\').html(\\'Arial Black\\');\\n\\t\\t\\t        focusoptions[\\'optionsfont\\']=\\'#font\\'+$(\\'#font\\').val();return false;\" onmouseover=\"$(this).find(\\'li\\').removeClass(\\'option\\').addClass(\\'seloption\\');moveoptions[\\'optionsfont\\']=\\'#font1\\';\" onmouseout=\"$(this).find(\\'li\\').removeClass(\\'seloption\\').addClass(\\'option\\');\" style=\"display:none;\" class=\"lts39 hidefont\">\\n<li class=\"option\">Arial Black</li></a>\\n<a href=\"\" id=\"font2\" onclick=\"$(\\'#font\\').val(\\'2\\').change();$(\\'#fontval\\').val(\\'Arial Narrow\\').change();$(\\'#selectfont\\').find(\\'a\\').find(\\'div\\').html(\\'Arial Narrow\\');\\n\\t\\t\\t        focusoptions[\\'optionsfont\\']=\\'#font\\'+$(\\'#font\\').val();return false;\" onmouseover=\"$(this).find(\\'li\\').removeClass(\\'option\\').addClass(\\'seloption\\');moveoptions[\\'optionsfont\\']=\\'#font2\\';\" onmouseout=\"$(this).find(\\'li\\').removeClass(\\'seloption\\').addClass(\\'option\\');\" style=\"display:none;\" class=\"lts39 hidefont\">\\n<li class=\"option\">Arial Narrow</li></a>\\n<a href=\"\" id=\"font3\" onclick=\"$(\\'#font\\').val(\\'3\\').change();$(\\'#fontval\\').val(\\'Book Antiqua\\').change();$(\\'#selectfont\\').find(\\'a\\').find(\\'div\\').html(\\'Book Antiqua\\');\\n\\t\\t\\t        focusoptions[\\'optionsfont\\']=\\'#font\\'+$(\\'#font\\').val();return false;\" onmouseover=\"$(this).find(\\'li\\').removeClass(\\'option\\').addClass(\\'seloption\\');moveoptions[\\'optionsfont\\']=\\'#font3\\';\" onmouseout=\"$(this).find(\\'li\\').removeClass(\\'seloption\\').addClass(\\'option\\');\" style=\"display:none;\" class=\"lts39 hidefont\">\\n<li class=\"option\">Book Antiqua</li></a>\\n<a href=\"\" id=\"font4\" onclick=\"$(\\'#font\\').val(\\'4\\').change();$(\\'#fontval\\').val(\\'Century Gothic\\').change();$(\\'#selectfont\\').find(\\'a\\').find(\\'div\\').html(\\'Century Gothic\\');\\n\\t\\t\\t        focusoptions[\\'optionsfont\\']=\\'#font\\'+$(\\'#font\\').val();return false;\" onmouseover=\"$(this).find(\\'li\\').removeClass(\\'option\\').addClass(\\'seloption\\');moveoptions[\\'optionsfont\\']=\\'#font4\\';\" onmouseout=\"$(this).find(\\'li\\').removeClass(\\'seloption\\').addClass(\\'option\\');\" style=\"display:none;\" class=\"lts39 hidefont\">\\n<li class=\"option\">Century Gothic</li></a>\\n<a href=\"\" id=\"font5\" onclick=\"$(\\'#font\\').val(\\'5\\').change();$(\\'#fontval\\').val(\\'Comic Sans MS\\').change();$(\\'#selectfont\\').find(\\'a\\').find(\\'div\\').html(\\'Comic Sans MS\\');\\n\\t\\t\\t        focusoptions[\\'optionsfont\\']=\\'#font\\'+$(\\'#font\\').val();return false;\" onmouseover=\"$(this).find(\\'li\\').removeClass(\\'option\\').addClass(\\'seloption\\');moveoptions[\\'optionsfont\\']=\\'#font5\\';\" onmouseout=\"$(this).find(\\'li\\').removeClass(\\'seloption\\').addClass(\\'option\\');\" style=\"display:none;\" class=\"lts39 hidefont\">\\n<li class=\"option\">Comic Sans MS</li></a>\\n<a href=\"\" id=\"font6\" onclick=\"$(\\'#font\\').val(\\'6\\').change();$(\\'#fontval\\').val(\\'Courier New\\').change();$(\\'#selectfont\\').find(\\'a\\').find(\\'div\\').html(\\'Courier New\\');\\n\\t\\t\\t        focusoptions[\\'optionsfont\\']=\\'#font\\'+$(\\'#font\\').val();return false;\" onmouseover=\"$(this).find(\\'li\\').removeClass(\\'option\\').addClass(\\'seloption\\');moveoptions[\\'optionsfont\\']=\\'#font6\\';\" onmouseout=\"$(this).find(\\'li\\').removeClass(\\'seloption\\').addClass(\\'option\\');\" class=\"lts39\">\\n<li class=\"option\">Courier New</li></a>\\n<a href=\"\" id=\"font7\" onclick=\"$(\\'#font\\').val(\\'7\\').change();$(\\'#fontval\\').val(\\'Franklin Gothic Medium\\').change();$(\\'#selectfont\\').find(\\'a\\').find(\\'div\\').html(\\'Franklin Gothic Medium\\');\\n\\t\\t\\t        focusoptions[\\'optionsfont\\']=\\'#font\\'+$(\\'#font\\').val();return false;\" onmouseover=\"$(this).find(\\'li\\').removeClass(\\'option\\').addClass(\\'seloption\\');moveoptions[\\'optionsfont\\']=\\'#font7\\';\" onmouseout=\"$(this).find(\\'li\\').removeClass(\\'seloption\\').addClass(\\'option\\');\" style=\"display:none;\" class=\"lts39 hidefont\">\\n<li class=\"option\">Franklin Gothic Medium</li></a>\\n<a href=\"\" id=\"font8\" onclick=\"$(\\'#font\\').val(\\'8\\').change();$(\\'#fontval\\').val(\\'Garamond\\').change();$(\\'#selectfont\\').find(\\'a\\').find(\\'div\\').html(\\'Garamond\\');\\n\\t\\t\\t        focusoptions[\\'optionsfont\\']=\\'#font\\'+$(\\'#font\\').val();return false;\" onmouseover=\"$(this).find(\\'li\\').removeClass(\\'option\\').addClass(\\'seloption\\');moveoptions[\\'optionsfont\\']=\\'#font8\\';\" onmouseout=\"$(this).find(\\'li\\').removeClass(\\'seloption\\').addClass(\\'option\\');\" style=\"display:none;\" class=\"lts39 hidefont\">\\n<li class=\"option\">Garamond</li></a>\\n<a href=\"\" id=\"font9\" onclick=\"$(\\'#font\\').val(\\'9\\').change();$(\\'#fontval\\').val(\\'Georgia\\').change();$(\\'#selectfont\\').find(\\'a\\').find(\\'div\\').html(\\'Georgia\\');\\n\\t\\t\\t        focusoptions[\\'optionsfont\\']=\\'#font\\'+$(\\'#font\\').val();return false;\" onmouseover=\"$(this).find(\\'li\\').removeClass(\\'option\\').addClass(\\'seloption\\');moveoptions[\\'optionsfont\\']=\\'#font9\\';\" onmouseout=\"$(this).find(\\'li\\').removeClass(\\'seloption\\').addClass(\\'option\\');\" class=\"lts39\">\\n<li class=\"option\">Georgia</li></a>\\n<a href=\"\" id=\"font10\" onclick=\"$(\\'#font\\').val(\\'10\\').change();$(\\'#fontval\\').val(\\'Impact\\').change();$(\\'#selectfont\\').find(\\'a\\').find(\\'div\\').html(\\'Impact\\');\\n\\t\\t\\t        focusoptions[\\'optionsfont\\']=\\'#font\\'+$(\\'#font\\').val();return false;\" onmouseover=\"$(this).find(\\'li\\').removeClass(\\'option\\').addClass(\\'seloption\\');moveoptions[\\'optionsfont\\']=\\'#font10\\';\" onmouseout=\"$(this).find(\\'li\\').removeClass(\\'seloption\\').addClass(\\'option\\');\" style=\"display:none;\" class=\"lts39 hidefont\">\\n<li class=\"option\">Impact</li></a>\\n<a href=\"\" id=\"font11\" onclick=\"$(\\'#font\\').val(\\'11\\').change();$(\\'#fontval\\').val(\\'Lucida Console\\').change();$(\\'#selectfont\\').find(\\'a\\').find(\\'div\\').html(\\'Lucida Console\\');\\n\\t\\t\\t        focusoptions[\\'optionsfont\\']=\\'#font\\'+$(\\'#font\\').val();return false;\" onmouseover=\"$(this).find(\\'li\\').removeClass(\\'option\\').addClass(\\'seloption\\');moveoptions[\\'optionsfont\\']=\\'#font11\\';\" onmouseout=\"$(this).find(\\'li\\').removeClass(\\'seloption\\').addClass(\\'option\\');\" style=\"display:none;\" class=\"lts39 hidefont\">\\n<li class=\"option\">Lucida Console</li></a>\\n<a href=\"\" id=\"font12\" onclick=\"$(\\'#font\\').val(\\'12\\').change();$(\\'#fontval\\').val(\\'Microsoft Sans Serif\\').change();$(\\'#selectfont\\').find(\\'a\\').find(\\'div\\').html(\\'Microsoft Sans Serif\\');\\n\\t\\t\\t        focusoptions[\\'optionsfont\\']=\\'#font\\'+$(\\'#font\\').val();return false;\" onmouseover=\"$(this).find(\\'li\\').removeClass(\\'option\\').addClass(\\'seloption\\');moveoptions[\\'optionsfont\\']=\\'#font12\\';\" onmouseout=\"$(this).find(\\'li\\').removeClass(\\'seloption\\').addClass(\\'option\\');\" style=\"display:none;\" class=\"lts39 hidefont\">\\n<li class=\"option\">Microsoft Sans Serif</li></a>\\n<a href=\"\" id=\"font13\" onclick=\"$(\\'#font\\').val(\\'13\\').change();$(\\'#fontval\\').val(\\'Palatino Linotype\\').change();$(\\'#selectfont\\').find(\\'a\\').find(\\'div\\').html(\\'Palatino Linotype\\');\\n\\t\\t\\t        focusoptions[\\'optionsfont\\']=\\'#font\\'+$(\\'#font\\').val();return false;\" onmouseover=\"$(this).find(\\'li\\').removeClass(\\'option\\').addClass(\\'seloption\\');moveoptions[\\'optionsfont\\']=\\'#font13\\';\" onmouseout=\"$(this).find(\\'li\\').removeClass(\\'seloption\\').addClass(\\'option\\');\" style=\"display:none;\" class=\"lts39 hidefont\">\\n<li class=\"option\">Palatino Linotype</li></a>\\n<a href=\"\" id=\"font14\" onclick=\"$(\\'#font\\').val(\\'14\\').change();$(\\'#fontval\\').val(\\'Tahoma\\').change();$(\\'#selectfont\\').find(\\'a\\').find(\\'div\\').html(\\'Tahoma\\');\\n\\t\\t\\t        focusoptions[\\'optionsfont\\']=\\'#font\\'+$(\\'#font\\').val();return false;\" onmouseover=\"$(this).find(\\'li\\').removeClass(\\'option\\').addClass(\\'seloption\\');moveoptions[\\'optionsfont\\']=\\'#font14\\';\" onmouseout=\"$(this).find(\\'li\\').removeClass(\\'seloption\\').addClass(\\'option\\');\" class=\"lts39\">\\n<li class=\"option\">Tahoma</li></a>\\n<a href=\"\" id=\"font15\" onclick=\"$(\\'#font\\').val(\\'15\\').change();$(\\'#fontval\\').val(\\'Times New Roman\\').change();$(\\'#selectfont\\').find(\\'a\\').find(\\'div\\').html(\\'Times New Roman\\');\\n\\t\\t\\t        focusoptions[\\'optionsfont\\']=\\'#font\\'+$(\\'#font\\').val();return false;\" onmouseover=\"$(this).find(\\'li\\').removeClass(\\'option\\').addClass(\\'seloption\\');moveoptions[\\'optionsfont\\']=\\'#font15\\';\" onmouseout=\"$(this).find(\\'li\\').removeClass(\\'seloption\\').addClass(\\'option\\');\" class=\"lts39\">\\n<li class=\"option\">Times New Roman</li></a>\\n<a href=\"\" id=\"font16\" onclick=\"$(\\'#font\\').val(\\'16\\').change();$(\\'#fontval\\').val(\\'Trebuchet MS\\').change();$(\\'#selectfont\\').find(\\'a\\').find(\\'div\\').html(\\'Trebuchet MS\\');\\n\\t\\t\\t        focusoptions[\\'optionsfont\\']=\\'#font\\'+$(\\'#font\\').val();return false;\" onmouseover=\"$(this).find(\\'li\\').removeClass(\\'option\\').addClass(\\'seloption\\');moveoptions[\\'optionsfont\\']=\\'#font16\\';\" onmouseout=\"$(this).find(\\'li\\').removeClass(\\'seloption\\').addClass(\\'option\\');\" class=\"lts39\">\\n<li class=\"option\">Trebuchet MS</li></a>\\n<a href=\"\" id=\"font17\" onclick=\"$(\\'#font\\').val(\\'17\\').change();$(\\'#fontval\\').val(\\'Verdana\\').change();$(\\'#selectfont\\').find(\\'a\\').find(\\'div\\').html(\\'Verdana\\');\\n\\t\\t\\t        focusoptions[\\'optionsfont\\']=\\'#font\\'+$(\\'#font\\').val();return false;\" onmouseover=\"$(this).find(\\'li\\').removeClass(\\'option\\').addClass(\\'seloption\\');moveoptions[\\'optionsfont\\']=\\'#font17\\';\" onmouseout=\"$(this).find(\\'li\\').removeClass(\\'seloption\\').addClass(\\'option\\');\" class=\"lts39\">\\n<li class=\"option\">Verdana</li></a>\\n<a id=\"#fontmore\" onclick=\"$(\\'.hidefont\\').show();$(this).hide();$(\\'.scroll-pane\\').jScrollPane();return false;\" onmouseover=\"$(this).find(\\'li\\').removeClass(\\'option\\').addClass(\\'seloption\\');moveoptions[\\'optionsfont\\']=\\'#fontmore\\';showoptions[\\'optionsfont\\']=true;\" onmouseout=\"$(this).find(\\'li\\').removeClass(\\'seloption\\').addClass(\\'option\\');showoptions[\\'optionsfont\\']=false;\">\\n<li class=\"option\">Показать ещё...</li></a>\\n</ul></div><div class=\"rs_font3\"><input type=\"hidden\" id=\"fontsizeval\" name=\"read_style[font_size]\" class=\"lts7\" jq=\"select_font_size\" WatchChange=\"true\" value=\"18\">Размер шрифта&nbsp;&nbsp;&nbsp;<input type=\"text\" id=\"fontsize\" size=\"3\" value=\"18\" onkeydown=\"if (event.keyCode == 13) {$(\\'#slider\\').slider(\\'value\\',$(this).val());$(\\'#fontsizeval\\').val($(this).val()).change();return false;}\" onchange=\"$(\\'#slider\\').slider(\\'value\\',$(this).val());$(\\'#fontsizeval\\').val($(this).val()).change();\"></div><br /><div><div id=\"slider\" class=\"slider rs_font6\"><script type=\"text/javascript\">$(function(){\\n  $(\\'#slider\\').slider({\\n\\tmin: 9,\\n\\tmax: 99,\\n\\tvalue: 18,\\n\\tslide: function( event, ui ) {\\n\\t$(\"#fontsize\").val(ui.value);\\n        $(\"#fontsizeval\").val(ui.value).change();\\n      }\\n    });\\n});\\n</script></div></div><br /><div style=\"clear:both;\"><input type=\"hidden\" id=\"textalignval\" name=\"read_style[text_align]\" class=\"lts7\" jq=\"select_text_align\" WatchChange=\"true\" value=\"justify\"><div class=\"rs_text_align\" style=\"cursor:pointer;\"><a href=\"\" onclick=\"$(\\'#textalignval\\').val(\\'left\\').change();return false;\"><img src=\\'/img/taleft.png\\'></span></div><div class=\"rs_text_align\" style=\"cursor:pointer;\"><a href=\"\" onclick=\"$(\\'#textalignval\\').val(\\'center\\').change();return false;\"><img src=\\'/img/tacenter.png\\'></span></div><div class=\"rs_text_align\" style=\"cursor:pointer;\"><a href=\"\" onclick=\"$(\\'#textalignval\\').val(\\'right\\').change();return false;\"><img src=\\'/img/taright.png\\'></span></div><div class=\"rs_text_align\" style=\"cursor:pointer;\"><a href=\"\" onclick=\"$(\\'#textalignval\\').val(\\'justify\\').change();return false;\"><img src=\\'/img/tajustify.png\\'></span></div></div><div class=\"rs_color\" style=\"clear:both;\">Цвет фона<br /><input id=\"bcolval\" size=\"6\" name=\"read_style[background_color]\" class=\"lts7\" jq=\"select_background_color\" PickColorInput=\"true\" WatchChange=\"true\" type=\"text\" value=\"#FFFFFF\"><br />Цвет шрифта<br /><input id=\"fcolval\" size=\"6\" name=\"read_style[font_color]\" class=\"lts7\" jq=\"select_font_color\" PickColorInput=\"true\" WatchChange=\"true\" type=\"text\" value=\"#000000\"></div><div class=\"search_clear\" style=\"margin:9px 0 0 0;\"><a href=\"\" jq=\"ResetParam\" onclick=\"return false;\">Очистить</a></div></div></div></div><a data-jq-dropdown=\"#jq-dropdown-book_7296\" data-vertical-offset=\"10\"><span class=\"orange_desc2\">Настройки</span>&nbsp;&nbsp;<img class=\"triangle\" src=\"/img/triangle.png\"></a></div><div class=\"lts6 rs_row rs_column2\" style=\"float:right;padding-left:0;\"><a href=\"\" onclick=\"var val = $(\\'#fontsizeval\\').val(); if (val>9) {val--;$(\\'#slider\\').slider(\\'value\\',val);$(\\'#fontsize\\').val(val);$(\\'#fontsizeval\\').val(val).change(); }; return false;\"><div class=\"rs_color_scheme\">A</div></a><a href=\"\" onclick=\"var val = $(\\'#fontsizeval\\').val(); if (val<99) {val++;$(\\'#slider\\').slider(\\'value\\',val);$(\\'#fontsize\\').val(val);$(\\'#fontsizeval\\').val(val).change(); }; return false;\"><div class=\"rs_color_scheme\" style=\"font-size:18px;font-size:1.8rem;padding:0px;width:28px;height:28px;\">A</div></a><div class=\"rs_color_scheme\" style=\"border:0px;width:5px;padding:0px;\"></div><a href=\"\" onclick=\"$(\\'#bcolval\\').val(\\'#FFFFFF\\').change();$(\\'#fcolval\\').val(\\'#000000\\').change();return false;\"><div class=\"rs_color_scheme rs_color_scheme1\"></div></a><a href=\"\" onclick=\"$(\\'#bcolval\\').val(\\'#F8F1E3\\').change();$(\\'#fcolval\\').val(\\'#000000\\').change();return false;\"><div class=\"rs_color_scheme rs_color_scheme2\"></div></a><a href=\"\" onclick=\"$(\\'#bcolval\\').val(\\'#5A5A5A\\').change();$(\\'#fcolval\\').val(\\'#FFFFFF\\').change();return false;\"><div class=\"rs_color_scheme rs_color_scheme3\"></div></a><a href=\"\" onclick=\"$(\\'#bcolval\\').val(\\'#121212\\').change();$(\\'#fcolval\\').val(\\'#B0B0B0\\').change();return false;\"><div class=\"rs_color_scheme rs_color_scheme4\"></div></a><script type=\"text/javascript\">    function createTexture()\\n    {\\n\\t$(\\'.BookText\\').find(\\'*\\').andSelf().css(\\'background-color\\', \"transparent\");\\n\\t$(\\'.BookText\\').css(\\'background\\', \"#fff url(\\'/img/tree.jpg\\') repeat\");\\n    }\\n</script></div></div></div></form><script type=\"text/javascript\">$(function(){\\n    var fontfamily = \\'Arial\\';\\n    var fontfamilycode = 0;\\n    var fontsize = \\'18\\';\\n    var textalign = \\'justify\\';\\n    var backgroundcolor = \\'#FFFFFF\\';\\n    var fontcolor = \\'#000000\\';\\n\\n\\n    $(\\'#fontval\\').val(fontfamily).change();\\n    $(\\'#font\\').val(fontfamilycode);\\n    $(\\'#fontsizeval\\').val(fontsize).change();\\n    $(\\'#textalignval\\').val(textalign).change();\\n    $(\\'#bcolval\\').val(backgroundcolor).change();\\n    $(\\'#fcolval\\').val(fontcolor).change();\\n\\n    $(\\'#selectfont\\').find(\\'a\\').find(\\'div\\').html(fontfamily);\\n\\n    $(\\'#fontsize\\').val(fontsize);\\n    $(\\'#slider\\').slider(\\'value\\',fontsize);\\n\\n    $(\\'.hidefont\\').hide();\\n$(\\'.jspContainer\\').css(\\'height\\',160)});\\n</script></div></div></div><div class=\"lt118\"><table class=\"lt117\" jq=\"go_to_page\" Ajax=\"\"><tr><td class=\"lt119\"><form action=\"/br/?b=7296\" method=\"get\"><input type=\"hidden\" name=\"b\" value=\"7296\"><input class=\"lt40\" name=\"p\" type=\"text\" value=\"1\"><input class=\"lt41\" type=\"submit\" value=\"OK\"></form></td><td style=\"padding-right: 10px\"></div><a class=\"ps\" page=\"1\"><div>1</div></a><a class=\"p\" page=\"2\" href=\"/br/?b=7296&p=2\"><div>2</div></a><a class=\"p\" page=\"3\" href=\"/br/?b=7296&p=3\"><div>3</div></a><a class=\"p\"><div>...</div></a><a class=\"p\" page=\"90\" href=\"/br/?b=7296&p=90\"><div>90</div></a></div></td></tr></table></div><style>.page_content { margin:40px 23px; overflow:hidden; background-color:#FFFFFF;  } .BookText * { font-family:Arial; color:#000000; text-align:justify; font-size:18px; font-size:1.8rem; }</style><div class=\"page_content\"><table class=\"page_content_table\"><tr><td><div class=\"BookText\"><div class=\"page_text\"><a name=\"section_1\" class=\"fb2-title-main\"><p>Ричард Докинз</p><p>Эгоистичный ген</p></a><div class=\"fb2-cite\"><p>«Кому следует прочитать эту книгу? Всякому, кого интересует Вселенная и место, занимаемое в ней человеком».</p><div class=\"fb2-text-author\">Джеффри Р.\\xa0Бейлис. «Поведение животных».</div></div><div class=\"fb2-empty-line\"></div><div class=\"fb2-cite\"><p>Мы созданы нашими генами. Мы, животные, существуем для того, чтобы сохранить их, и служим всего лишь машинами, обеспечивающими их выживание, после чего нас просто выбрасывают. Мир эгоистичного гена\\xa0— это мир жестокой конкуренции, безжалостной эксплуатации и обмана. Ну а как же акты явного альтруизма, наблюдаемые в природе: пчелы, совершающие самоубийство, когда они жалят врага, чтобы защитить улей, или птицы, рискующие своей жизнью, чтобы предупредить стаю о приближении ястреба? Противоречит ли это фундаментальному закону об эгоистичности гена? Ни в коем случае: Докинз показывает, что эгоистичный ген\\xa0— это еще и очень хитрый ген. И он лелеет надежду, что вид <i>Homo sapiens</i>\\xa0— единственный на всем земном шаре\\xa0— в силах взбунтоваться против намерений эгоистичного гена. Эта книга\\xa0— призыв взяться за оружие. Это руководство и одновременно манифест, и она захватывает, как остросюжетный роман. «Эгоистичный ген»\\xa0— блестящая первая книга Ричарда Докинза, и она все еще остается его самой известной книгой, международный бестселлер, переведенный на тринадцать языков. Для этого нового издания написаны примечания, в которых изложены очень интересные размышления о тексте первого издания, а также большие новые главы.</p></div><div class=\"fb2-empty-line\"></div><div class=\"fb2-cite\"><p>«…высоконаучно, остроумно и очень хорошо написано… опьяняюще здорово».\\xa0</p><div class=\"fb2-text-author\">Сэр Питер Медоуэр. Спектейтор</div></div><div class=\"fb2-empty-line\"></div><div class=\"fb2-cite\"><p>Ричард Докинз преподает зоологию в Оксфордском университете, член совета Нового Колледжа и автор книги «Слепой часовщик».</p></div><div class=\"fb2-empty-line\"></div><div class=\"fb2-cite\"><p>«научно-популярное произведение такого рода позволяет читателю ощутить себя почти гением».</p><div class=\"fb2-text-author\">Нью-Йорк Таймс</div></div><a name=\"section_3\" class=\"fb2-title\"><p>Предисловие к русскому изданию</p></a><p>Мне выпало на долю редкостное удовольствие представить читателю перевод второго издания книги известного английского эволюциониста Р.\\xa0Докинза «Эгоистичный ген». Необходимость ее перевода стала мне ясна с тех пор, как я познакомился с ее первым изданием. Будем надеяться, что мы когда-нибудь увидим на русском языке и другие произведения этого блестящего натуралиста-философа\\xa0— «Расширенный фенотип» и особенно «Слепой часовщик».</p><p>Не буду излагать содержание книги, чтобы не портить впечатление у читателей, однако выскажу ряд своих замечаний, ибо, несмотря на восхищение Докинзом, не могу согласиться с некоторыми его положениями безоговорочно.</p><p>Докинз\\xa0— убежденный\\xa0дарвинист. В конечном счете весь «Эгоистичный ген» строго выводится из двух высказываний Дарвина. Во-первых, Дарвин писал, что «ненаследственное изменение для нас несущественно», во-вторых, он сознавал и ясно указывал, что, если бы у какого-либо вида был найден признак, полезный другому виду или даже\\xa0— с учетом внутривидовой борьбы\\xa0— другой особи того же вида, это оказалось бы неразрешимой проблемой для теории естественного отбора. Тем не менее широкое распространение получили такие концепции, как групповой отбор, кин-отбор, рассуждения о генах и эволюции альтруизма и т.\\xa0д. Докинз убежденный противник таких концепции и на протяжении всей книги с присущим ему остроумием и изобретательностью оспаривает их, доказывая, что каким бы альтруистичным ни казалось поведение любого живого существа, в конечном счете оно приводит к возрастанию частоты встречаемости в популяции определяющего этот признак «гена-эгоиста».</p><p>Все это так, но… что же все-таки представляет собой эгоизм на генном уровне?</p><p>Автор исходит из широко распространенной концепции «первичного бульона», в котором зародились первичные гены-молекулы-репликаторы, способные создавать копии самих себя. Реплицируясь из поколения в поколение, они становятся потенциально вечными. С момента возникновения репликаторов между ними начинается борьба за ресурсы, в ходе которой они строят себе «машины для выживания\\xa0— фенотипы. Сначала это клетки, а затем многоклеточные образования\\xa0— сложные организмы. Наши тела\\xa0— это временные, преходящие структуры, создаваемые бессмертными генами-репликаторами себе на потребу.</p><p>С таким утверждением можно и поспорить. Ведь гены не вечны, их синтез при репликации полуконсервативен. В разделившихся клетках только 50% ДНК наследуются от материнской клетки, вторая цепь ДНК строится заново, и через 50 поколений доля исходных генов в популяции уменьшается в 2^50 раз.</p><p>То же самое и с фенотипическими структурами\\xa0— цитоплазмой и клеточной мембраной. Дочерние клетки наследуют 50% цитоплазмы материнской клетки, их потомки 25% и т.\\xa0д. Все отличие фенов от генов в том, что их репликация не прямая, информация о ней заключена в генах. Но и ген, взятый отдельно, без фенотипического окружения бессилен, он не может реплицироваться.</p><p>Картина первых генов-репликаторов, плавающих в теплом «первичном бульоне», слишком идиллична, чтобы быть верной. Удачная мутация репликатора разбавляется всем объемом первичного океана. Венцом такой эволюции мог бы быть мыслящий океан планеты Солярис, описанный С.\\xa0Лемом. Но как раз подобная эволюция идти не может: вероятность встречи и совместного действия удачных репликаторов, разбавленных всем объемом гидросферы Земли, равна нулю.</p><p>Так что, похоже, клетка возникла раньше жизни. Репликаторы размножались а первичных пузырьках, ограниченных полупроницаемыми мембранами, которые сейчас получают в эксперименте (коацерваты Опарина, микросферы Факса) или находят в морской пене (маригранулы Эгами). И с первой протоклетки, которую можно было бы без особой натяжки признать живой, преимущество в борьбе за существование получал репликатор, реплицирующий не только себя (эти «нарциссы» как раз вымирали), но и структуры первичной цитоплазмы и мембраны. Для генов лучший способ выжить\\xa0— реплицироваться в клетке один раз, а все остальное время и ресурсы потратить на репликацию иных полимеров.</p><p>Эгоизм ли это\\xa0— не знаю. Скорее такая стратегия похожа на концепцию «разумного эгоизма», выдвинутую Н.\\xa0Г.\\xa0Чернышевским. А может быть, при описании биологических феноменов вообще лучше отказаться от таких терминов, как «альтруизм», «эгоизм» и т.\\xa0д.? Ведь сама идея «генов альтруизма» возникла в борьбе с теми, кто полагал, что дарвинизм сводится к бесконечной «борьбе клыков и когтей». Обе точки зрения\\xa0— отход от прямого пути.</p><p>Кто-то из великих сказал, что важность и нетривиальность какого-либо суждения определить просто: суждение заслуживает этих оценок, если и противоположное является таковым. Докинз пишет: «Они [гены\\xa0— Б.\\xa0М.]\\xa0— репликаторы, а мы\\xa0— машины, необходимые им для того, чтобы выжить». Противоположное высказывание звучит так: «Мы\\xa0— клетки-репликаторы, а гены\\xa0— детали матрицы памяти, необходимые нам для того, чтобы выжить». С точки зрения кибернетики все мы\\xa0— самовоспроизводящиеся автоматы фон Неймана. Копирование, матричная репликация\\xa0— это еще не жизнь. Жизнь начинается с генетического кода, когда репликатор воспроизводит не только свою структуру, а и другие, ничего общего с ним не имеющие структуры.</p><p>Завершу свои сомнения высказываниями кибернетика Патти: «Там, где нет различия между генотипом и фенотипом, или между описанием признака и самим признаком (иными словами, где нет процесса кодирования, который связывает описание с описываемым объектом путем сведения многих состояний к одному), не может быть эволюции посредством естественного отбора.»</p><p>Докинз прав: «Все живое эволюционирует в результате дифференциального выживания реплицирующихся единиц». Но реплицирующиеся единицы\\xa0— не просто гены-репликаторы, а их дискретные единства с фенотипическими признаками. Это то, что я назвал в свое время первой аксиомой биологии, или аксиомой Вейсмана—фон Неймана. А термины «эгоизм» и «альтруизм» оставим моралистам. Вне человеческого общества есть только большая или меньшая вероятность удачной репликации реплицирующейся единицы.</p></div></div></td></tr></table><div class=\"BookText\"><div class=\"lt61\" style=\"text-align:center;\">1</div></div><div class=\"lts13\"></div></div><script type=\"text/javascript\">\\t$(function(){$(\"body\").css(\"background-color\", \"#FFFFFF\");$(\".BookText\").find(\"*\").not(\"[jq=ReadRightBanners] > *\").andSelf().css(\"background-color\", \"#FFFFFF\").css(\"color\", \"#000000\").css(\"font-family\", \"Arial\").css(\"font-size\", \"18px\").css(\"font-size_r\", \"18rem\");});</script><div class=\"lts1\"><div class=\"lts3\"> <a class=\"lt12\" href=\"/bd/?b=7296\">Перейти к описанию</a> <a class=\"lt12\" href=\"/br/?b=7296&p=2\">Следующая страница</a></div></div></div></div><div style=\"display:none;\" jq=\"GetParam\">{\"b\":\"7296\",\"o\":1}</div></div></td></tr></table></div></td></tr><tr><td><div class=\"lt20\"></div></td></tr></table><div class=\"container\" style=\"min-height:200px;\"><div style=\"height:190px;\"><div class=\"widget_tab\" style=\"background:transparent;padding-bottom:0;text-align:left;padding-left:20px;\"><span><span style=\"color:#000; font-size:14px;font-size:1.4rem;font-family:Roboto;\">Лит</span><span style=\"color:#f05a29; font-size:14px;font-size:1.4rem;font-family:Roboto;\">Рес</span></span><span style=\"color:#444;font-size:12px;font-size:1.2rem;font-family:Roboto;\"> представляет: бестселлеры месяца</span></div><div class=\"art_main\"><div class=\"art_td_c\"><a href=\"https://www.litres.ru/dzhennifer-makmahon/sestry-nochi/?lfrom=241867185\" target=\"_blank\"><img class=\"art_c\" height=\"165\" border=\"0\" style=\"min-height:165px;\" alt=\"Сестры ночи\" src=\"/data/Book/0/587000/587184/BC5_1502281927.jpg\"></a></div><div class=\"art_td_c\"><a href=\"https://www.litres.ru/karenina-katya/dnevnik-avtoledi-sovety-zhenschinam-za-rulem/?lfrom=241867185\" target=\"_blank\"><img class=\"art_c\" height=\"165\" border=\"0\" style=\"min-height:165px;\" alt=\"Дневник автоледи. Советы женщинам за рулем\" src=\"/data/Book/0/596000/596878/BC5_1510587225.jpg\"></a></div><div class=\"art_td_c\"><a href=\"https://www.litres.ru/pages/biblio_book/?art=27050256&lfrom=241867185\" target=\"_blank\"><img class=\"art_c\" height=\"165\" border=\"0\" style=\"min-height:165px;\" alt=\"Выдающийся лидер. Как закрепить успех, развивая свои сильные стороны\" src=\"/data/Book/0/596000/596278/BC5_1510047066.jpg\"></a></div><div class=\"art_td_c\"><a href=\"https://www.litres.ru/pavel-kuvshinov/hroniki-gelinora-krov-voinov/?lfrom=241867185\" target=\"_blank\"><img class=\"art_c\" height=\"165\" border=\"0\" style=\"min-height:165px;\" alt=\"Хроники Гелинора. Кровь Воинов\" src=\"/data/Book/0/590000/590724/BC5_1505489562.jpg\"></a></div><div class=\"art_td_c\"><a href=\"https://www.litres.ru/mihail-lancov/dmitriy-donskoy-imperiya-rus/?lfrom=241867185\" target=\"_blank\"><img class=\"art_c\" height=\"165\" border=\"0\" style=\"min-height:165px;\" alt=\"Дмитрий Донской. Империя Русь\" src=\"/data/Book/0/590000/590146/BC5_1504960217.jpg\"></a></div><div class=\"art_td_c\"><a href=\"https://www.litres.ru/sharlotta-link/lozh-bez-spaseniya/?lfrom=241867185\" target=\"_blank\"><img class=\"art_c\" height=\"165\" border=\"0\" style=\"min-height:165px;\" alt=\"Ложь без спасения\" src=\"/data/Book/0/592000/592357/BC5_1506785724.jpg\"></a></div><div class=\"art_td_c\"><a href=\"https://www.litres.ru/darya-kova-10372089/razvedennaya-zhena-ili-zhili-dolgo-i-schastlivo-vol-1/?lfrom=241867185\" target=\"_blank\"><img class=\"art_c\" height=\"165\" border=\"0\" style=\"min-height:165px;\" alt=\"Разведенная жена, или Жили долго и счастливо? vol.1\" src=\"/data/Book/0/595000/595936/BC5_1509637085.jpg\"></a></div><div class=\"art_td_c\"><a href=\"https://www.litres.ru/mihail-aleksandrovich-miheev/pohititeli-princess/?lfrom=241867185\" target=\"_blank\"><img class=\"art_c\" height=\"165\" border=\"0\" style=\"min-height:165px;\" alt=\"Похитители принцесс\" src=\"/data/Book/0/587000/587237/BC5_1502303434.jpg\"></a></div><div class=\"art_td_c\"><a href=\"https://www.litres.ru/vladislav-urevich-morozov/voyna-2020-na-uzhnom-flange/?lfrom=241867185\" target=\"_blank\"><img class=\"art_c\" height=\"165\" border=\"0\" style=\"min-height:165px;\" alt=\"Война 2020. На южном фланге\" src=\"/data/Book/0/594000/594089/BC5_1508232724.jpg\"></a></div></div></div><div style=\"height:35px;\"></div></div><div class=\"lt8a\"><div class=\"container\"> <div style=\"border: 0px;\">\\n<div class=\"center\">\\n<ul class=\"top-menu wht-list\">\\n<li>\\n<a href=\"/all_genre\">ЖАНРЫ</a>&nbsp;<span class=\"quant\">252</span>\\n</li>\\n<li>\\n<a href=\"/as\">АВТОРЫ</a>&nbsp;<span class=\"quant\">237 073</span>\\n</li>\\n<li>\\n<a href=\"/bs/?rs=5%7C1%7C0\">КНИГИ</a>&nbsp;<span class=\"quant\">525 780</span>\\n</li>\\n<li>\\n<a href=\"/series\">СЕРИИ</a>&nbsp;<span class=\"quant\">19 083</span>\\n</li>\\n<li>\\n<a href=\"/Users/?order=ForumMessageDateDown&type=last_user\" title=\"Онлайн - 415\">ПОЛЬЗОВАТЕЛИ</a>&nbsp;<span class=\"quant\">455 405</span>\\n</li>\\n</ul>\\n</div>\\n</div>\\n</div></div><div itemscope=\"\" itemtype=\"http://schema.org/WPFooter\" class=\"footer\"><meta itemprop=\"copyrightYear\" content=\"2017\"></meta><div class=\"container\"><div class=\"email_block\"><div style=\"float:left;margin: 30px 0 23px 0;\"><span class=\"email_key\">E-mail:</span><br /><span class=\"email_value\"><span class=\"__cf_email__\" data-cfemail=\"036b666f6f6c436f6a776e6a712d606c\">[email&#160;protected]</span></span></div><div style=\"float:right;margin: 30px 0 23px 0;\"><span class=\"email_key\"><a href=\"/ForRightsOwners\">Для авторов<br> и правообладателей</a></span></div><div class=\"center\" style=\"padding: 30px 0 23px 0;min-width:100px\"> <ul class=\"top-menu wht-list\"><li style=\"margin-top:3px;\"><span class=\"vk_text\"><span class=\"vk_text_first\">М</span>Ы</span>&nbsp;</li></ul>\\n<div class=\"vk_image\"><a href=\"https://vk.com/litmir.club\" target=\"_blank\"><img class=\"lazy\" alt=\"В контакте\" src=\"/img/blank.gif\" data-src=\"/img/vk.png\"></a></div>\\n<div class=\"vk_image\"><a href=\"/rss/?Id=1\" target=\"_blank\"><img class=\"lazy\" alt=\"RSS\" src=\"/img/blank.gif\" data-src=\"/img/rss.png\"></a></div>\\n</div></div></div></div></div></div><div class=\"lt14\" jq=\"counters\">\\n\\n<script src=\"/cdn-cgi/scripts/0e574bed/cloudflare-static/email-decode.min.js\"></script><script type=\"text/javascript\">\\n    (function (d, w, c) {\\n        (w[c] = w[c] || []).push(function() {\\n            try {\\n                w.yaCounter34502010 = new Ya.Metrika({\\n                    id:34502010,\\n                    clickmap:true,\\n                    trackLinks:true,\\n                    accurateTrackBounce:true,\\n                    webvisor:true\\n                });\\n            } catch(e) { }\\n        });\\n\\n        var n = d.getElementsByTagName(\"script\")[0],\\n            s = d.createElement(\"script\"),\\n            f = function () { n.parentNode.insertBefore(s, n); };\\n        s.type = \"text/javascript\";\\n        s.async = true;\\n        s.src = \"https://mc.yandex.ru/metrika/watch.js\";\\n\\n        if (w.opera == \"[object Opera]\") {\\n            d.addEventListener(\"DOMContentLoaded\", f, false);\\n        } else { f(); }\\n    })(document, window, \"yandex_metrika_callbacks\");\\n</script>\\n<noscript><div><img src=\"https://mc.yandex.ru/watch/34502010\" style=\"position:absolute; left:-9999px;\" alt=\"\" /></div></noscript>\\n\\n</div><div jq=\"xsJsData\" style=\"display:none\" Data=\\'{\"REQUEST\":{\"xs\":\"br\\\\/\",\"b\":\"7296\",\"xs_d1\":\"br\"},\"Prefix\":{\"ShowLikeButtons\":false,\"IsLogined\":false,\"BookId\":7296,\"Page\":\"1\"}}\\'></div><div id=\"hidden_content\" style=\"display:none\"></div></div><script type=\"text/javascript\">PreBodyJs();</script><script type=\"text/javascript\" language=\"JavaScript\" src=\"https://www.litres.ru/pages/get_vidget/?rt=1&rp=4&sr=1&sc=9&img=96&tit=0&autr=0&pr=0&r=50&qb=1&pid=241867185&o=l_vidget2\" async></script><script type=\"text/javascript\">\\t\\t\\t\\t$(function(){\\n\\t\\t\\t\\t    $(\\'.lazy\\').lazy({scrollDirection: \\'vertical\\',\\n\\t\\t\\t\\t\\t             effect: \\'fadeIn\\',\\n\\t\\t\\t\\t\\t             visibleOnly: true});\\n\\t\\t\\t\\t});\\n</script>\\n</body>\\n</html>'"
      ]
     },
     "execution_count": 182,
     "metadata": {},
     "output_type": "execute_result"
    }
   ],
   "source": [
    "import requests\n",
    "resp = requests.get('https://www.litmir.me/br/?b=7296')\n",
    "\n",
    "resp.text"
   ]
  },
  {
   "cell_type": "code",
   "execution_count": 186,
   "metadata": {
    "ExecuteTime": {
     "end_time": "2017-11-23T15:25:23.522601Z",
     "start_time": "2017-11-23T15:25:23.482932Z"
    },
    "scrolled": false
   },
   "outputs": [
    {
     "data": {
      "text/plain": [
       "[('{', 38),\n",
       " ('и', 38),\n",
       " ('<a', 36),\n",
       " ('href=\"\"', 32),\n",
       " ('}', 29),\n",
       " ('=', 27),\n",
       " ('—', 26),\n",
       " ('в', 25),\n",
       " ('false;\"', 22),\n",
       " ('<li', 21),\n",
       " ('/>', 18),\n",
       " ('class=\"art_td_c\"><a', 18),\n",
       " ('class=\"art_c\"', 18),\n",
       " ('height=\"165\"', 18),\n",
       " ('border=\"0\"', 18),\n",
       " (\"focusoptions['optionsfont']='#font'+$('#font').val();return\", 18),\n",
       " ('onmouseout=\"$(this).find(\\'li\\').removeClass(\\'seloption\\').addClass(\\'option\\');\"',\n",
       "  18),\n",
       " ('style=\"padding-left:30px;\"><a', 17),\n",
       " ('style=\"display:none;\"', 15),\n",
       " ('class=\"lt47\"', 15),\n",
       " ('<script', 14),\n",
       " ('<div', 14),\n",
       " ('var', 14),\n",
       " ('с', 14),\n",
       " ('не', 14),\n",
       " ('-', 13),\n",
       " ('<meta', 13),\n",
       " ('});', 13),\n",
       " ('type=\"text/javascript\"', 12),\n",
       " ('</li>', 12),\n",
       " ('на', 11),\n",
       " ('</div>', 11),\n",
       " ('class=\"lts39', 11),\n",
       " ('hidefont\">', 11),\n",
       " ('target=\"_blank\"><img', 11),\n",
       " ('для', 10),\n",
       " ('<li>', 10),\n",
       " ('а', 10),\n",
       " ('что', 10),\n",
       " ('Докинз', 9),\n",
       " ('target=\"_top\"><img', 9),\n",
       " ('это', 9),\n",
       " ('style=\"min-height:165px;\"', 9),\n",
       " ('<link', 8),\n",
       " ('<input', 8),\n",
       " ('или', 8),\n",
       " ('itemscope', 8),\n",
       " ('rel=\"stylesheet\"', 7),\n",
       " ('<span', 7),\n",
       " ('type=\"text\"', 7),\n",
       " ('if', 7),\n",
       " ('false;\"><div', 7),\n",
       " ('к', 7),\n",
       " ('class=\"lts7\"', 7),\n",
       " ('class=\"lts39\">', 7),\n",
       " ('чтобы', 7),\n",
       " ('как', 7),\n",
       " ('type=\"text/css\"', 6),\n",
       " ('return', 6),\n",
       " ('type=\"hidden\"', 6),\n",
       " ('Sans', 6),\n",
       " ('без', 5),\n",
       " ('<ul', 5),\n",
       " ('type=\"text/javascript\">', 5),\n",
       " ('из', 5),\n",
       " ('о', 5),\n",
       " ('WatchChange=\"true\"', 5),\n",
       " ('0', 5),\n",
       " ('их', 5),\n",
       " ('бы', 5),\n",
       " ('0px', 4),\n",
       " ('font-size:', 4),\n",
       " ('else', 4),\n",
       " ('url:', 4),\n",
       " ('success:', 4),\n",
       " ('function(Str)', 4),\n",
       " ('data', 4),\n",
       " ('{effect:', 4),\n",
       " ('\"explode\",', 4),\n",
       " ('duration:', 4),\n",
       " ('300},', 4),\n",
       " ('class=\"container\"><div', 4),\n",
       " ('itemprop=\"itemListElement\"', 4),\n",
       " ('itemtype=\"http://schema.org/ListItem\">', 4),\n",
       " ('itemprop=\"name\"', 4),\n",
       " ('itemprop=\"position\"', 4),\n",
       " ('class=\"lts6', 4),\n",
       " ('rs_row', 4),\n",
       " ('мы', 4),\n",
       " ('class=\"rs_text_align\"', 4),\n",
       " ('style=\"cursor:pointer;\"><a', 4),\n",
       " ('false;\"><img', 4),\n",
       " ('class=\"rs_color_scheme', 4),\n",
       " ('class=\"fb2-empty-line\"></div><div', 4),\n",
       " ('же', 4),\n",
       " ('за', 4),\n",
       " ('только', 4),\n",
       " ('от', 4),\n",
       " ('Ричард', 3),\n",
       " ('itemscope=\"\"', 3),\n",
       " ('wht-list\">', 3),\n",
       " ('</ul>', 3),\n",
       " ('function', 3),\n",
       " ('$.ajax(', 3),\n",
       " ('type:', 3),\n",
       " (\"'POST',\", 3),\n",
       " ('data:', 3),\n",
       " ('</script>', 3),\n",
       " ('при', 3),\n",
       " ('class=\"top-menu', 3),\n",
       " ('itemtype=\"http://schema.org/Thing\"', 3),\n",
       " ('itemprop=\"item\"', 3),\n",
       " ('style=\"font-size:14px;font-size:1.4rem;\">></span>', 3),\n",
       " ('</span><span', 3),\n",
       " ('==', 3),\n",
       " ('class=\"lt47s\"', 3),\n",
       " ('el=\"selected\"', 3),\n",
       " ('ней', 3),\n",
       " ('Для', 3),\n",
       " ('я', 3),\n",
       " ('Gothic', 3),\n",
       " ('New', 3),\n",
       " ('};', 3),\n",
       " ('class=\"p\"', 3),\n",
       " ('того,', 3),\n",
       " ('они', 3),\n",
       " ('еще', 3),\n",
       " ('очень', 3),\n",
       " ('он', 3),\n",
       " ('всем', 3),\n",
       " ('«Эгоистичный', 3),\n",
       " ('все', 3),\n",
       " ('книги', 3),\n",
       " ('эволюции', 3),\n",
       " ('т.', 3),\n",
       " ('между', 3),\n",
       " ('клетки,', 3),\n",
       " ('генов', 3),\n",
       " ('Но', 3),\n",
       " ('может', 3),\n",
       " ('быть', 3),\n",
       " ('30px', 3),\n",
       " ('23px', 3),\n",
       " ('ген\"', 2),\n",
       " ('Страница', 2),\n",
       " ('1', 2),\n",
       " ('content=\"Читать', 2),\n",
       " ('бесплатно,', 2),\n",
       " ('ген,', 2),\n",
       " ('Эгоистичный', 2),\n",
       " ('padding:', 2),\n",
       " ('10px', 2),\n",
       " ('10px;', 2),\n",
       " ('color:', 2),\n",
       " ('.art_td_c', 2),\n",
       " ('165px;', 2),\n",
       " ('height:', 2),\n",
       " ('display:', 2),\n",
       " ('flex;', 2),\n",
       " ('justify-content:', 2),\n",
       " ('class=\"container\">', 2),\n",
       " ('rel=\"nofollow\"><a', 2),\n",
       " ('onmouseover=\"showdiv1=true;\"', 2),\n",
       " ('onmouseout=\"showdiv1=false;\"', 2),\n",
       " ('class=\"form-window\">', 2),\n",
       " ('class=\"arrow\"></span>', 2),\n",
       " ('<form', 2),\n",
       " ('action=\"/br/?b=7296\"', 2),\n",
       " ('method=\"post\">', 2),\n",
       " ('</form>', 2),\n",
       " ('onmouseover=\"showdiv2=true;\"', 2),\n",
       " ('onmouseout=\"showdiv2=false;\"', 2),\n",
       " ('type=\"submit\"', 2),\n",
       " ('hash', 2),\n",
       " ('поле', 2),\n",
       " ('обязательно', 2),\n",
       " (\"заполнения.');\", 2),\n",
       " ('password', 2),\n",
       " (\"$('#password').val();\", 2),\n",
       " (\"'/login',\", 2),\n",
       " ('jQuery.parseJSON(Str);', 2),\n",
       " (\"$('<div\", 2),\n",
       " (\"/>',\", 2),\n",
       " ('html:', 2),\n",
       " ('}).dialog(', 2),\n",
       " ('{resizable:', 2),\n",
       " ('false,', 2),\n",
       " ('modal:', 2),\n",
       " ('true,', 2),\n",
       " ('title:', 2),\n",
       " ('\"\",', 2),\n",
       " ('show:', 2),\n",
       " ('hide:', 2),\n",
       " ('\"buttons\":', 2),\n",
       " ('\"OK\":', 2),\n",
       " ('function()', 2),\n",
       " ('$(this).dialog(\"close\");', 2),\n",
       " ('Электронная', 2),\n",
       " ('style=\"height:190px;\"><div', 2),\n",
       " ('style=\"color:#f05a29;', 2),\n",
       " ('font-size:14px;font-size:1.4rem;font-family:Roboto;\">Лит</span><span', 2),\n",
       " ('style=\"color:#000;', 2),\n",
       " ('бестселлеры', 2),\n",
       " ('class=\"art_main\"><div', 2),\n",
       " ('тебя', 2),\n",
       " ('style=\"border:', 2),\n",
       " ('0px;\">', 2),\n",
       " ('class=\"center\">', 2),\n",
       " ('class=\"quant\">252</span>', 2),\n",
       " ('class=\"quant\">237', 2),\n",
       " ('073</span>', 2),\n",
       " ('class=\"quant\">525', 2),\n",
       " ('780</span>', 2),\n",
       " ('class=\"quant\">19', 2),\n",
       " ('083</span>', 2),\n",
       " ('href=\"/Users/?order=ForumMessageDateDown&type=last_user\"', 2),\n",
       " ('title=\"Онлайн', 2),\n",
       " ('class=\"quant\">455', 2),\n",
       " ('405</span>', 2),\n",
       " ('</div></div><div', 2),\n",
       " ('class=\"lts1\"><div', 2),\n",
       " ('onkeydown=\"if', 2),\n",
       " ('(event.keyCode', 2),\n",
       " ('13)', 2),\n",
       " ('class=\"jq-dropdown', 2),\n",
       " ('следует', 2),\n",
       " ('прочитать', 2),\n",
       " ('эту', 2),\n",
       " ('книгу?', 2),\n",
       " ('Всякому,', 2),\n",
       " ('кого', 2),\n",
       " ('интересует', 2),\n",
       " ('Вселенная', 2),\n",
       " ('место,', 2),\n",
       " ('занимаемое', 2),\n",
       " ('русскому', 2),\n",
       " ('чего', 2),\n",
       " ('Битва', 2),\n",
       " ('мне', 2),\n",
       " ('новые', 2),\n",
       " ('data-vertical-offset=\"10\"><span', 2),\n",
       " ('class=\"triangle\"', 2),\n",
       " ('src=\"/img/triangle.png\"></a></div><div', 2),\n",
       " ('/><div', 2),\n",
       " ('value=\"0\">', 2),\n",
       " ('class=\"option\">Arial', 2),\n",
       " (\"MS');\", 2),\n",
       " ('MS</li></a>', 2),\n",
       " ('type=\"text/javascript\">$(function(){', 2),\n",
       " ('/><input', 2),\n",
       " ('size=\"6\"', 2),\n",
       " ('PickColorInput=\"true\"', 2),\n",
       " ('onclick=\"var', 2),\n",
       " ('val', 2),\n",
       " (\"$('#fontsizeval').val();\", 2),\n",
       " ('class=\"rs_color_scheme\"', 2),\n",
       " ('class=\"BookText\"><div', 2),\n",
       " ('Р.', 2),\n",
       " ('их,', 2),\n",
       " ('нас', 2),\n",
       " ('просто', 2),\n",
       " ('эгоистичного', 2),\n",
       " ('когда', 2),\n",
       " ('ли', 2),\n",
       " ('И', 2),\n",
       " ('книга', 2),\n",
       " ('Это', 2),\n",
       " ('она', 2),\n",
       " ('ген»', 2),\n",
       " ('его', 2),\n",
       " ('этого', 2),\n",
       " ('издания', 2),\n",
       " ('«Слепой', 2),\n",
       " ('читателю', 2),\n",
       " ('себя', 2),\n",
       " ('ее', 2),\n",
       " ('у', 2),\n",
       " ('убежденный', 2),\n",
       " ('В', 2),\n",
       " ('конечном', 2),\n",
       " ('счете', 2),\n",
       " ('что,', 2),\n",
       " ('если', 2),\n",
       " ('какого-либо', 2),\n",
       " ('естественного', 2),\n",
       " ('д.', 2),\n",
       " ('таких', 2),\n",
       " ('концепции', 2),\n",
       " ('популяции', 2),\n",
       " ('С', 2),\n",
       " ('начинается', 2),\n",
       " ('себе', 2),\n",
       " ('выживания', 2),\n",
       " ('можно', 2),\n",
       " ('Ведь', 2),\n",
       " ('гены', 2),\n",
       " ('репликации', 2),\n",
       " ('50%', 2),\n",
       " ('ДНК', 2),\n",
       " ('материнской', 2),\n",
       " ('фенотипическими', 2),\n",
       " ('цитоплазмы', 2),\n",
       " ('репликация', 2),\n",
       " ('объемом', 2),\n",
       " ('раз', 2),\n",
       " ('вероятность', 2),\n",
       " ('возникла', 2),\n",
       " ('первой', 2),\n",
       " ('борьбе', 2),\n",
       " ('время', 2),\n",
       " ('А', 2),\n",
       " ('«эгоизм»', 2),\n",
       " ('точки', 2),\n",
       " ('зрения', 2),\n",
       " ('необходимые', 2),\n",
       " ('выжить».', 2),\n",
       " ('Неймана.', 2),\n",
       " ('свои', 2),\n",
       " ('где', 2),\n",
       " ('нет', 2),\n",
       " ('аксиомой', 2),\n",
       " ('class=\"lt12\"', 2),\n",
       " ('0;\"><span', 2),\n",
       " ('class=\"vk_image\"><a', 2),\n",
       " ('class=\"lazy\"', 2),\n",
       " ('src=\"/img/blank.gif\"', 2),\n",
       " ('<!DOCTYPE', 1),\n",
       " ('html>', 1),\n",
       " ('<html', 1),\n",
       " ('xmlns=\"http://www.w3.org/1999/xhtml\"', 1),\n",
       " ('prefix=\"og:', 1),\n",
       " ('http://ogp.me/ns#', 1),\n",
       " ('book:', 1),\n",
       " ('http://ogp.me/ns/book#', 1),\n",
       " ('profile:', 1),\n",
       " ('http://ogp.me/ns/profile#\">', 1),\n",
       " ('<head>', 1),\n",
       " ('<title>Читать', 1),\n",
       " ('\"Эгоистичный', 1),\n",
       " ('ЛитМир</title>', 1),\n",
       " ('http-equiv=\"Content-Type\"', 1),\n",
       " ('content=\"text/html;', 1),\n",
       " ('charset=UTF-8\"', 1),\n",
       " ('name=\"description\"', 1),\n",
       " ('книгу', 1),\n",
       " ('онлайн', 1),\n",
       " ('&quot;Эгоистичный', 1),\n",
       " ('ген&quot;', 1),\n",
       " ('регистрации.\"', 1),\n",
       " ('name=\"keywords\"', 1),\n",
       " ('content=\"Эгоистичный', 1),\n",
       " ('Ричард,', 1),\n",
       " ('читать', 1),\n",
       " ('онлайн,', 1),\n",
       " ('скачать', 1),\n",
       " ('регистрации\"', 1),\n",
       " ('property=\"og:title\"', 1),\n",
       " ('\"', 1),\n",
       " ('ЛитМир\"', 1),\n",
       " ('property=\"og:type\"', 1),\n",
       " ('content=\"website\"', 1),\n",
       " ('property=\"og:site_name\"', 1),\n",
       " ('content=\"Литмир', 1),\n",
       " ('электронная', 1),\n",
       " ('библиотека\"', 1),\n",
       " ('property=\"og:image\"', 1),\n",
       " ('content=\"https://www.litmir.me/img/logo_litmir.png\"', 1),\n",
       " ('property=\"og:url\"', 1),\n",
       " ('content=\"https://www.litmir.me/br/?b=7296\"', 1),\n",
       " ('src=\"/cdn-cgi/apps/head/IxaylHoxvMLg3maEw1XNeMdh8Pg.js\"></script><link', 1),\n",
       " ('rel=\"shortcut', 1),\n",
       " ('icon\"', 1),\n",
       " ('type=\"image/x-icon\"', 1),\n",
       " ('href=\"/favicon.ico\"', 1),\n",
       " ('rel=\"canonical\"', 1),\n",
       " ('href=\"https://www.litmir.me/br/?b=7296&p=1\"', 1),\n",
       " ('href=\"/Static/377/BookRead.min.css\"', 1),\n",
       " ('href=\"/static/slider.min2.css\"', 1),\n",
       " ('href=\"/plugin/jquery-ui-1.11.4.custom/jquery-ui.min.css\"', 1),\n",
       " ('href=\"/static/jquery.jscrollpane.css\"', 1),\n",
       " ('href=\"/static/timepicker.css\"', 1),\n",
       " ('href=\"/Static/377/litru.min.css\"', 1),\n",
       " ('src=\"/static/jquery.min.js\"></script>', 1),\n",
       " ('src=\"/static/jquery-ui.min.js\"></script>', 1),\n",
       " ('src=\"/static/jquery.jscrollpane.min.js\"></script>', 1),\n",
       " ('src=\"/static/datepicker-ru.js\"></script>', 1),\n",
       " ('src=\"/static/timepicker-ru.js\"></script>', 1),\n",
       " ('src=\"/static/jquery.mousewheel.js\"></script>', 1),\n",
       " ('src=\"//www.google.com/jsapi\"></script>', 1),\n",
       " ('src=\"/static/lazy.min.js\"></script>', 1),\n",
       " ('src=\"/static/jquery.md5.js\"></script>', 1),\n",
       " ('src=\"/Static/377/litru.min.js\"></script>', 1),\n",
       " ('src=\"/Static/377/BookRead.min.js\"></script>', 1),\n",
       " ('media=\"screen', 1),\n",
       " ('and', 1),\n",
       " ('(max-width:1000px)\"', 1),\n",
       " ('href=\"/Static/377/tablet.min.css\"><meta', 1),\n",
       " ('name=viewport', 1),\n",
       " ('content=\"width=device-width,', 1),\n",
       " ('initial-scale=1\"><style>', 1),\n",
       " ('.pl-h4{font-size:14px;font-size:1.4rem;color:#39424C;border:none;display:block;margin:15px',\n",
       "  1),\n",
       " ('10px;font-weight:bold;}', 1),\n",
       " ('.pl-block{width:100%!important;max-width:600px;border:0px;font-weight:normal;letter-spacing:normal;margin:0px;outline:0px;padding:0px;text-align:left;text-indent:0px;}',\n",
       "  1),\n",
       " ('.pl-a.pl-even{background-color:#f6f6f6;}', 1),\n",
       " ('.pl-shop{padding-left:5px;line-height:17px;width:180px;display:table-cell;vertical-align:middle;}',\n",
       "  1),\n",
       " ('.pl-bookauthor{line-height:17px;width:130px;display:table-cell;vertical-align:middle;overflow:hidden;color:#000;overflow:hidden;}',\n",
       "  1),\n",
       " ('.pl-bookname{line-height:17px;width:auto;display:table-cell;vertical-align:middle;color:#000;overflow:hidden;}',\n",
       "  1),\n",
       " ('.pl-blockprice{padding-right:5px;text-align:right', 1),\n",
       " ('!important;font-weight:bold;color:#000;display:table-cell;vertical-align:middle;}',\n",
       "  1),\n",
       " ('.pl-a{width:100%;display:table;min-height:38px;border-top:1px', 1),\n",
       " ('solid', 1),\n",
       " ('#ecebec;text-align:left;text-shadow:none!important;text-indent:0px;vertical-align:middle;height:38px;}',\n",
       "  1),\n",
       " ('.pl-a,.pl-a:visited{color:#0768D8;text-decoration:none;}', 1),\n",
       " ('.pl-amore,.pl-amore:visited{color:#000', 1),\n",
       " ('!important;text-decoration:none', 1),\n",
       " ('!important;}', 1),\n",
       " ('.pl-a:hover{color:#2A9430;text-decoration:none;}', 1),\n",
       " ('.pl-priced{height:38px;vertical-align:middle;}', 1),\n",
       " ('.pl-price{white-space:nowrap;font-size:14px;font-size:1.4rem;margin-left:10px;padding-left:2px;color:#2A9430;}',\n",
       "  1),\n",
       " ('.pl-icon{width:16px;vertical-align:-3px;margin-right:7px;}', 1),\n",
       " ('.pl-discount{color:red;}', 1),\n",
       " ('.pl-divmore{text-align:center;background-color:', 1),\n",
       " ('#E9E9E9;padding:7px', 1),\n",
       " ('5px;max-width:590px;}', 1),\n",
       " ('</style>', 1),\n",
       " ('<style>.art_td_text', 1),\n",
       " ('vertical-align:', 1),\n",
       " ('top;', 1),\n",
       " ('a.art_a,a.art_t{', 1),\n",
       " ('120%;', 1),\n",
       " ('blue;', 1),\n",
       " ('text-decoration:', 1),\n",
       " ('underline;', 1),\n",
       " ('.art_p,.art_p{', 1),\n",
       " ('9pt;', 1),\n",
       " ('red;', 1),\n",
       " ('float:left;', 1),\n",
       " ('img{', 1),\n",
       " ('min-height:', 1),\n",
       " ('margin-right:', 1),\n",
       " ('.art_main', 1),\n",
       " ('margin-right:10px;', 1),\n",
       " ('margin-left:20px;', 1),\n",
       " ('overflow-y:hidden;', 1),\n",
       " ('space-between;', 1),\n",
       " ('flex-wrap:wrap;', 1),\n",
       " ('.art_main2', 1),\n",
       " ('overflow:auto;', 1),\n",
       " ('center;', 1),\n",
       " ('padding-top:5px;', 1),\n",
       " ('padding-bottom:19px;', 1),\n",
       " ('.widget_tab', 1),\n",
       " ('18px', 1),\n",
       " ('18px;', 1),\n",
       " ('25px;', 1),\n",
       " ('font-family:', 1),\n",
       " ('RobotoBold;', 1),\n",
       " ('16px;', 1),\n",
       " ('1.6rem;', 1),\n",
       " ('background-color:', 1),\n",
       " ('transparent;', 1),\n",
       " ('border-radius:', 1),\n",
       " ('4px;', 1),\n",
       " ('text-align:left;', 1),\n",
       " ('}</style></head>', 1),\n",
       " ('<body', 1),\n",
       " ('onclick=\"hideall();\"', 1),\n",
       " ('class=\"lb\">', 1),\n",
       " ('<div><div', 1),\n",
       " ('jq=\"litru_content_box\"', 1),\n",
       " ('class=\"lt4\"><div', 1),\n",
       " ('itemtype=\"http://schema.org/WPHeader\"', 1),\n",
       " ('class=\"lt5\"><div', 1),\n",
       " ('class=\"user-links', 1),\n",
       " ('class=\"entry\"', 1),\n",
       " ('onclick=\"hidetxt(\\'div1\\');return', 1),\n",
       " ('class=\"lts39\">Вход</a>', 1),\n",
       " ('id=\"div1\"', 1),\n",
       " ('<h3>Войти', 1),\n",
       " ('сайт</h3>', 1),\n",
       " ('jq=\"LoginEnter\"', 1),\n",
       " ('jq=\"Login\"', 1),\n",
       " ('id=\"username\"', 1),\n",
       " ('name=\"logining[login]\"', 1),\n",
       " ('placeholder=\"E-mail', 1),\n",
       " ('ID\">', 1),\n",
       " ('jq=\"Password\"', 1),\n",
       " ('id=\"password\"', 1),\n",
       " ('name=\"logining[password]\"', 1),\n",
       " ('type=\"password\"', 1),\n",
       " ('placeholder=\"Пароль\">', 1),\n",
       " ('class=\"forget-link\"><a', 1),\n",
       " ('href=\"/PasswordRecover\">Я', 1),\n",
       " ('забыл', 1),\n",
       " ('пароль</a></span>', 1),\n",
       " ('<button', 1),\n",
       " ('class=\"entry-button\">Войти</button>', 1),\n",
       " ('class=\"social-link\">', 1),\n",
       " ('href=\"/SocialConnect/?name=facebook\"', 1),\n",
       " ('title=\"facebook\"><img', 1),\n",
       " ('src=\"/img/social/facebook.png\"></a>&nbsp;&nbsp;<a', 1),\n",
       " ('href=\"/SocialConnect/?name=twitter\"', 1),\n",
       " ('title=\"twitter\"><img', 1),\n",
       " ('src=\"/img/social/twitter.png\"></a>&nbsp;&nbsp;<a', 1),\n",
       " ('href=\"/SocialConnect/?name=vkontakte\"', 1),\n",
       " ('title=\"vkontakte\"><img', 1),\n",
       " ('src=\"/img/social/vkontakte.png\"></a>&nbsp;&nbsp;<a', 1),\n",
       " ('href=\"/SocialConnect/?name=livejournal\"', 1),\n",
       " ('title=\"livejournal\"><img', 1),\n",
       " ('src=\"/img/social/livejournal.png\"></a>&nbsp;&nbsp;<a', 1),\n",
       " ('href=\"/SocialConnect/?name=yandex\"', 1),\n",
       " ('title=\"yandex\"><img', 1),\n",
       " ('src=\"/img/social/yandex.png\"></a>&nbsp;&nbsp;<a', 1),\n",
       " ('href=\"/SocialConnect/?name=mail\"', 1),\n",
       " ('title=\"mail\"><img', 1),\n",
       " ('src=\"/img/social/mail.png\"></a>&nbsp;&nbsp;<a', 1),\n",
       " ('href=\"/SocialConnect/?name=google\"', 1),\n",
       " ('title=\"google\"><img', 1),\n",
       " ('src=\"/img/social/google.png\"></a>&nbsp;&nbsp;', 1),\n",
       " ('class=\"reg\"', 1),\n",
       " ('onclick=\"hidetxt(\\'div2\\');', 1),\n",
       " ('class=\"lts39a\">Регистрация</a>', 1),\n",
       " ('id=\"div2\"', 1),\n",
       " ('<h3>Регистрация</h3>', 1),\n",
       " ('jq=\"SendIniviteForm\"', 1),\n",
       " ('name=\"SendInivite[u_email]\"', 1),\n",
       " ('placeholder=\"E-mail\">', 1),\n",
       " ('class=\"reg-button\"', 1),\n",
       " ('value=\"Зарегистрироваться\">', 1),\n",
       " ('getHash(password,salt,itcount)', 1),\n",
       " ('password;', 1),\n",
       " ('(itcount', 1),\n",
       " ('<', 1),\n",
       " ('1)', 1),\n",
       " ('itcount', 1),\n",
       " ('1;', 1),\n",
       " ('for', 1),\n",
       " ('(var', 1),\n",
       " ('i=0;', 1),\n",
       " ('i<itcount;', 1),\n",
       " ('i++)', 1),\n",
       " ('$.md5(salt+hash);', 1),\n",
       " ('hash;', 1),\n",
       " ('$(function()', 1),\n",
       " ('$(\"[jq=LoginEnter]\").on(\\'submit\\',function(event){', 1),\n",
       " ('username', 1),\n",
       " (\"$('#username').val();\", 1),\n",
       " ('(!username)', 1),\n",
       " (\"$('#username').attr('placeholder','Это\", 1),\n",
       " ('(!password)', 1),\n",
       " (\"$('#password').attr('placeholder','Это\", 1),\n",
       " (\"'/GetPassCode',\", 1),\n",
       " (\"'logining[login]='+username,\", 1),\n",
       " (\"jQuery.parseJSON(Str).Content.split('+');\", 1),\n",
       " ('/*var', 1),\n",
       " (\"jQuery.parseJSON(Str).split('+');*/\", 1),\n",
       " ('getHash(hex_md0(password),data[0],data[1]);', 1),\n",
       " (\"'logining[login]='+username+'&logining[password]='+\", 1),\n",
       " (\"password+'&logining[salt]='+data[0]+'&logining[itcount]='+data[1],\", 1),\n",
       " ('console.log(Str);', 1),\n",
       " ('(!data.Content)', 1),\n",
       " ('location.reload();', 1),\n",
       " ('primarypassword', 1),\n",
       " (\"'logining[login]='+username+'&logining[password]='+password+'&logining[salt]='+data[0]+'&logining[itcount]='+data[1]+'&logining[primarypassword]='+primarypassword,\",\n",
       "  1),\n",
       " ('data.Content', 1),\n",
       " ('false;', 1),\n",
       " ('$(\"[jq=SendIniviteForm]\").ajaxForm(', 1),\n",
       " (\"'/SendInviteSave',\", 1),\n",
       " (\"data.Content+'<div\", 1),\n",
       " ('jq=\"Output\"></div>\\'', 1),\n",
       " ('class=\"lt46\">', 1),\n",
       " ('class=\"google_search\"', 1),\n",
       " ('onfocus=\"$(this).parent().css(\\'background-image\\',\\'url(../img/search-icon2.png)\\').animate({\\'width\\':',\n",
       "  1),\n",
       " ('\\'250px\\'},300);\"', 1),\n",
       " ('onblur=\"$(this).parent().css(\\'background-image\\',\\'url(../img/search-icon.png)\\').animate({\\'width\\':',\n",
       "  1),\n",
       " ('\\'200px\\'},300);\"', 1),\n",
       " ('jq=\"google_search_input\">', 1),\n",
       " ('class=\"lt44\">', 1),\n",
       " ('href=\"/\"', 1),\n",
       " ('style=\"background-color:#fff;\"><img', 1),\n",
       " ('src=\"/img/logo_litmir.png\"', 1),\n",
       " ('alt=\"ЛитМир', 1),\n",
       " ('Библиотека\"></a>', 1),\n",
       " ('itemprop=\"headline\"', 1),\n",
       " ('content=\"ЛитМир\"></meta>', 1),\n",
       " ('itemprop=\"description\"', 1),\n",
       " ('content=\"Электронная', 1),\n",
       " ('Библиотека\"></meta>', 1),\n",
       " ('style=\"height:194px;\"><div', 1),\n",
       " ('style=\"height:2px;\"></div><div', 1),\n",
       " ('class=\"widget_tab\"><span><span', 1),\n",
       " ('font-size:14px;font-size:1.4rem;font-family:Roboto;\">Мир</span></span><span',\n",
       "  1),\n",
       " ('style=\"color:#444;font-size:12px;font-size:1.2rem;font-family:Roboto;\">:',\n",
       "  1),\n",
       " ('месяца</div><div', 1),\n",
       " ('href=\"/bd/?b=597385&from=widget_litmir1\"', 1),\n",
       " ('alt=\"Загадочные', 1),\n",
       " ('убийства\"', 1),\n",
       " ('src=\"/data/Book/0/597000/597385/BC5_1510943471.jpg\"></a></div><div', 1),\n",
       " ('href=\"/bd/?b=593948&from=widget_litmir1\"', 1),\n",
       " ('alt=\"Девушка', 1),\n",
       " ('Англии\"', 1),\n",
       " ('src=\"/data/Book/0/593000/593948/BC5_1508146311.jpg\"></a></div><div', 1),\n",
       " ('href=\"/bd/?b=595686&from=widget_litmir1\"', 1),\n",
       " ('alt=\"С', 1),\n",
       " ('мечтой', 1),\n",
       " ('Риме\"', 1),\n",
       " ('src=\"/data/Book/0/595000/595686/BC5_1509474635.jpg\"></a></div><div', 1),\n",
       " ('href=\"/bd/?b=594226&from=widget_litmir1\"', 1),\n",
       " ('alt=\"Мужчины', 1),\n",
       " ('Марса,', 1),\n",
       " ('женщины', 1),\n",
       " ('Венеры.', 1),\n",
       " ('Новая', 1),\n",
       " ('версия', 1),\n",
       " ('современного', 1),\n",
       " ('мира.', 1),\n",
       " ('Умения,', 1),\n",
       " ('навыки,', 1),\n",
       " ('приемы', 1),\n",
       " ('счастливых', 1),\n",
       " ('отношений\"', 1),\n",
       " ('src=\"/data/Book/0/594000/594226/BC5_1508319017.jpg\"></a></div><div', 1),\n",
       " ('href=\"/bd/?b=591542&from=widget_litmir1\"', 1),\n",
       " ('alt=\"Храню', 1),\n",
       " ('сердце', 1),\n",
       " ('моем\"', 1),\n",
       " ('src=\"/data/Book/0/591000/591542/BC5_1506245417.jpg\"></a></div><div', 1),\n",
       " ('href=\"/bd/?b=590861&from=widget_litmir1\"', 1),\n",
       " ('alt=\"Академия', 1),\n",
       " ('магии', 1),\n",
       " ('Храме', 1),\n",
       " ('всех', 1),\n",
       " ('богов.', 1),\n",
       " ('Наследница', 1),\n",
       " ('Тумана\"', 1),\n",
       " ('src=\"/data/Book/0/590000/590861/BC5_1505651434.jpg\"></a></div><div', 1),\n",
       " ('href=\"/bd/?b=587391&from=widget_litmir1\"', 1),\n",
       " ('alt=\"Грехи', 1),\n",
       " ('отца\"', 1),\n",
       " ('src=\"/data/Book/0/587000/587391/BC5_1502454673.jpg\"></a></div><div', 1),\n",
       " ('href=\"/bd/?b=594258&from=widget_litmir1\"', 1),\n",
       " ('alt=\"Земля', 1),\n",
       " ('лишних.', 1),\n",
       " ('Побег\"', 1),\n",
       " ('src=\"/data/Book/0/594000/594258/BC5_1508340619.jpg\"></a></div><div', 1),\n",
       " ('href=\"/bd/?b=596649&from=widget_litmir1\"', 1),\n",
       " ('alt=\"Хаос:', 1),\n",
       " ('отступление?\"', 1),\n",
       " ('src=\"/data/Book/0/596000/596649/BC5_1510327855.jpg\"></a></div></div></div><div',\n",
       "  1),\n",
       " ('style=\"height:2px;\"></div></div></div><div', 1),\n",
       " ('class=\"lt8\">', 1),\n",
       " ('itemtype=\"http://schema.org/SiteNavigationElement\"', 1),\n",
       " ('href=\"/all_genre\"', 1),\n",
       " ('itemprop=\"url\">ЖАНРЫ</a>&nbsp;<span', 1),\n",
       " ('href=\"/as\"', 1),\n",
       " ('itemprop=\"url\">АВТОРЫ</a>&nbsp;<span', 1),\n",
       " ('href=\"/bs/?rs=5%7C1%7C0\"', 1),\n",
       " ('itemprop=\"url\">КНИГИ</a>&nbsp;<span', 1),\n",
       " ('href=\"/series\"', 1),\n",
       " ('itemprop=\"url\">СЕРИИ</a>&nbsp;<span', 1),\n",
       " ('415\"', 1),\n",
       " ('itemprop=\"url\">ПОЛЬЗОВАТЕЛИ</a>&nbsp;<span', 1),\n",
       " ('class=\"island', 1),\n",
       " ('lt20\"><div', 1),\n",
       " ('class=\"lt20a\"><span', 1),\n",
       " ('itemtype=\"http://schema.org/BreadcrumbList\"><span', 1),\n",
       " ('href=\"/\"><span', 1),\n",
       " ('style=\"font-size:14px;font-size:1.4rem;\">ЛитМир', 1),\n",
       " ('Библиотека</span></a><meta', 1),\n",
       " ('content=\"1\">', 1),\n",
       " ('href=\"/a/?id=4895\"><span', 1),\n",
       " ('style=\"font-size:14px;font-size:1.4rem;\">Докинз', 1),\n",
       " ('Ричард</span></a>', 1),\n",
       " ('content=\"2\"', 1),\n",
       " ('href=\"/bd/?b=7296\"><span', 1),\n",
       " ('style=\"font-size:14px;font-size:1.4rem;\">Эгоистичный', 1),\n",
       " ('ген</span></a>', 1),\n",
       " ('content=\"3\"', 1),\n",
       " ('style=\"font-size:14px;font-size:1.4rem;\">Стр.1</span>', 1),\n",
       " ('content=\"4\"', 1),\n",
       " ('/></span></span></div></div></div><table', 1),\n",
       " ('class=\"lts49\"><tr><td><div', 1),\n",
       " ('jq=\"main_content\"', 1),\n",
       " ('class=\"lt19\"><div', 1),\n",
       " ('class=\"container\"><table', 1),\n",
       " ('class=\"lts49\"><tr><td', 1),\n",
       " ('class=\"right_content\"><div', 1),\n",
       " ('class=\"lt26b\"><div', 1),\n",
       " ('style=\"margin:0', 1),\n",
       " ('10px;\"><div', 1),\n",
       " ('class=\"island\"><div', 1),\n",
       " ('class=\"lt20a\"><form', 1),\n",
       " ('jq=\"ReadStyleForm\"', 1),\n",
       " ('method=\"post\"', 1),\n",
       " ('class=\"lts49\"><div', 1),\n",
       " ('style=\"overflow:auto;\"><div', 1),\n",
       " ('rs_column1\"', 1),\n",
       " ('style=\"float:left;padding-left:0;padding-top:16px;\"><div', 1),\n",
       " ('id=\"jq-dropdown-book_72961\"', 1),\n",
       " ('jq-dropdown-tip\"><ul', 1),\n",
       " ('class=\"jq-dropdown-menu\"><div', 1),\n",
       " ('class=\"rs_content\"><table', 1),\n",
       " ('class=\"lt62\"><tr><td', 1),\n",
       " ('style=\"padding-left:0px;\"><a', 1),\n",
       " ('href=\"/br/?b=7296&p=1#section_1\">Ричард', 1),\n",
       " ('ген</a></td><td>1</td></tr><tr><td', 1),\n",
       " ('href=\"/br/?b=7296&p=1#section_2\">«Кому', 1),\n",
       " ('чело...</a></td><td>1</td></tr><tr><td', 1),\n",
       " ('href=\"/br/?b=7296&p=1#section_3\">Предисловие', 1),\n",
       " ('изданию</a></td><td>1</td></tr><tr><td', 1),\n",
       " ('href=\"/br/?b=7296&p=2#section_4\">Предисловие', 1),\n",
       " ('первому', 1),\n",
       " ('изданию</a></td><td>2</td></tr><tr><td', 1),\n",
       " ('href=\"/br/?b=7296&p=3#section_5\">Предисловие', 1),\n",
       " ('ко', 1),\n",
       " ('второму', 1),\n",
       " ('изданию</a></td><td>3</td></tr><tr><td', 1),\n",
       " ('href=\"/br/?b=7296&p=4#section_6\">Глава', 1),\n",
       " ('1.', 1),\n",
       " ('живём?</a></td><td>4</td></tr><tr><td', 1),\n",
       " ('href=\"/br/?b=7296&p=7#section_7\">Глава', 1),\n",
       " ('2.', 1),\n",
       " ('Репликаторы</a></td><td>7</td></tr><tr><td', 1),\n",
       " ('href=\"/br/?b=7296&p=10#section_8\">Глава', 1),\n",
       " ('3.', 1),\n",
       " ('Бессмертные', 1),\n",
       " ('спирали</a></td><td>10</td></tr><tr><td', 1),\n",
       " ('href=\"/br/?b=7296&p=18#section_9\">Глава', 1),\n",
       " ('4.', 1),\n",
       " ('Генная', 1),\n",
       " ('машина</a></td><td>18</td></tr><tr><td', 1),\n",
       " ('href=\"/br/?b=7296&p=25#section_10\">Глава', 1),\n",
       " ('5.', 1),\n",
       " ('Агрессия:', 1),\n",
       " ('стабильность', 1),\n",
       " ('эгоистичная', 1),\n",
       " ('машина</a></td><td>25</td></tr><tr><td', 1),\n",
       " ('href=\"/br/?b=7296&p=32#section_11\">Глава', 1),\n",
       " ('6.', 1),\n",
       " ('Генное', 1),\n",
       " ('братство</a></td><td>32</td></tr><tr><td', 1),\n",
       " ('href=\"/br/?b=7296&p=39#section_12\">Глава', 1),\n",
       " ('7.', 1),\n",
       " ('Планирование', 1),\n",
       " ('семьи</a></td><td>39</td></tr><tr><td', 1),\n",
       " ('href=\"/br/?b=7296&p=44#section_13\">Глава', 1),\n",
       " ('8.', 1),\n",
       " ('поколений</a></td><td>44</td></tr><tr><td', 1),\n",
       " ('href=\"/br/?b=7296&p=49#section_14\">Глава', 1),\n",
       " ('9.', 1),\n",
       " ('полов</a></td><td>49</td></tr><tr><td', 1),\n",
       " ('href=\"/br/?b=7296&p=57#section_15\">Глава', 1),\n",
       " ('10.', 1),\n",
       " ('Почеши', 1),\n",
       " ('спину,', 1),\n",
       " ('оседлаю</a></td><td>57</td></tr><tr><td', 1),\n",
       " ('href=\"/br/?b=7296&p=65#section_16\">Глава', 1),\n",
       " ('11.', 1),\n",
       " ('Мимы', 1),\n",
       " ('репликаторы</a></td><td>65</td></tr><tr><td', 1),\n",
       " ('href=\"/br/?b=7296&p=69#section_17\">Глава', 1),\n",
       " ('12.', 1),\n",
       " ('Добрые', 1),\n",
       " ('парни', 1),\n",
       " ('финишируют', 1),\n",
       " ('первыми</a></td><td>69</td></tr><tr><td', 1),\n",
       " ('href=\"/br/?b=7296&p=79#section_18\">Глава', 1),\n",
       " ('13.', 1),\n",
       " ('«Длинная', 1),\n",
       " ('рука»', 1),\n",
       " ('гена</a></td><td>79</td></tr></table></div></ul></div><a', 1),\n",
       " ('data-jq-dropdown=\"#jq-dropdown-book_72961\"', 1),\n",
       " ('class=\"orange_desc2\">Содержание</span>&nbsp;&nbsp;<img', 1),\n",
       " ('rs_column4\"', 1),\n",
       " ('style=\"float:right;padding-left:0;padding-top:16px;\"><a', 1),\n",
       " ('class=\"blue_desc\"', 1),\n",
       " ('style=\"color:#16BAFF\"', 1),\n",
       " ('onclick=\"$(this).parents(\\'form\\').submit();return', 1),\n",
       " ('false;\">Сохранить</a><br', 1),\n",
       " ('jq=\"Output\"', 1),\n",
       " ('class=\"lts1\"', 1),\n",
       " ('style=\"margin-left:-5px;\"></div></div><div', 1),\n",
       " ('rs_column3\"', 1),\n",
       " ('style=\"float:right;padding-left:0;padding-top:16px;\"><div', 1),\n",
       " ('id=\"jq-dropdown-book_7296\"', 1),\n",
       " ('jq-dropdown-tip', 1),\n",
       " ('jq-dropdown-anchor-right\"><div', 1),\n",
       " ('class=\"jq-dropdown-panel\"><div', 1),\n",
       " ('style=\"padding:10px;\"><div>Шрифт</div>', 1),\n",
       " ('style=\"margin-top:9px;', 1),\n",
       " ('margin-right:5px;\">', 1),\n",
       " ('id=\"userid\"', 1),\n",
       " ('name=\"read_style[font_family]\"', 1),\n",
       " ('id=\"fontval\"', 1),\n",
       " ('jq=\"select_font_type\"', 1),\n",
       " ('value=\"Arial\">', 1),\n",
       " ('id=\"font\"', 1),\n",
       " ('class=\"select\"', 1),\n",
       " ('id=\"selectfont\"><a', 1),\n",
       " ('onclick=\"hideoptions(\\'optionsfont\\');', 1),\n",
       " (\"focusoptions['optionsfont']='#font'+($('#font').val());\", 1),\n",
       " (\"$('#font'+($('#font').val())).focus().find('li').removeClass('option').addClass('seloption');return\",\n",
       "  1),\n",
       " ('onmouseover=\"showoptions[\\'optionsfont\\']=true;\"', 1),\n",
       " ('onmouseout=\"showoptions[\\'optionsfont\\']=false;\">', 1),\n",
       " ('<div>Arial</div></a></div>', 1),\n",
       " ('class=\"options', 1),\n",
       " ('wht-list', 1),\n",
       " ('scroll-pane\"', 1),\n",
       " ('id=\"optionsfont\"', 1),\n",
       " ('onmouseover=\"if', 1),\n",
       " (\"(moveoptions['optionsfont']\", 1),\n",
       " ('!=', 1),\n",
       " (\"focusoptions['optionsfont'])\", 1),\n",
       " ('$(focusoptions[\\'optionsfont\\']).find(\\'li\\').removeClass(\\'seloption\\').addClass(\\'option\\');\"',\n",
       "  1),\n",
       " ('onmouseout=\"$(focusoptions[\\'optionsfont\\']).find(\\'li\\').removeClass(\\'option\\').addClass(\\'seloption\\');\">',\n",
       "  1),\n",
       " ('id=\"font0\"', 1),\n",
       " ('onclick=\"$(\\'#font\\').val(\\'0\\').change();$(\\'#fontval\\').val(\\'Arial\\').change();$(\\'#selectfont\\').find(\\'a\\').find(\\'div\\').html(\\'Arial\\');',\n",
       "  1),\n",
       " ('onmouseover=\"$(this).find(\\'li\\').removeClass(\\'option\\').addClass(\\'seloption\\');moveoptions[\\'optionsfont\\']=\\'#font0\\';\"',\n",
       "  1),\n",
       " ('class=\"option\">Arial</li></a>', 1),\n",
       " ('id=\"font1\"', 1),\n",
       " ('onclick=\"$(\\'#font\\').val(\\'1\\').change();$(\\'#fontval\\').val(\\'Arial', 1),\n",
       " (\"Black').change();$('#selectfont').find('a').find('div').html('Arial\", 1),\n",
       " (\"Black');\", 1),\n",
       " ('onmouseover=\"$(this).find(\\'li\\').removeClass(\\'option\\').addClass(\\'seloption\\');moveoptions[\\'optionsfont\\']=\\'#font1\\';\"',\n",
       "  1),\n",
       " ('Black</li></a>', 1),\n",
       " ('id=\"font2\"', 1),\n",
       " ('onclick=\"$(\\'#font\\').val(\\'2\\').change();$(\\'#fontval\\').val(\\'Arial', 1),\n",
       " (\"Narrow').change();$('#selectfont').find('a').find('div').html('Arial\", 1),\n",
       " (\"Narrow');\", 1),\n",
       " ('onmouseover=\"$(this).find(\\'li\\').removeClass(\\'option\\').addClass(\\'seloption\\');moveoptions[\\'optionsfont\\']=\\'#font2\\';\"',\n",
       "  1),\n",
       " ('Narrow</li></a>', 1),\n",
       " ('id=\"font3\"', 1),\n",
       " ('onclick=\"$(\\'#font\\').val(\\'3\\').change();$(\\'#fontval\\').val(\\'Book', 1),\n",
       " (\"Antiqua').change();$('#selectfont').find('a').find('div').html('Book\", 1),\n",
       " (\"Antiqua');\", 1),\n",
       " ('onmouseover=\"$(this).find(\\'li\\').removeClass(\\'option\\').addClass(\\'seloption\\');moveoptions[\\'optionsfont\\']=\\'#font3\\';\"',\n",
       "  1),\n",
       " ('class=\"option\">Book', 1),\n",
       " ('Antiqua</li></a>', 1),\n",
       " ('id=\"font4\"', 1),\n",
       " ('onclick=\"$(\\'#font\\').val(\\'4\\').change();$(\\'#fontval\\').val(\\'Century',\n",
       "  1),\n",
       " (\"Gothic').change();$('#selectfont').find('a').find('div').html('Century\", 1),\n",
       " (\"Gothic');\", 1),\n",
       " ('onmouseover=\"$(this).find(\\'li\\').removeClass(\\'option\\').addClass(\\'seloption\\');moveoptions[\\'optionsfont\\']=\\'#font4\\';\"',\n",
       "  1),\n",
       " ('class=\"option\">Century', 1),\n",
       " ('Gothic</li></a>', 1),\n",
       " ('id=\"font5\"', 1),\n",
       " ('onclick=\"$(\\'#font\\').val(\\'5\\').change();$(\\'#fontval\\').val(\\'Comic', 1),\n",
       " (\"MS').change();$('#selectfont').find('a').find('div').html('Comic\", 1),\n",
       " ('onmouseover=\"$(this).find(\\'li\\').removeClass(\\'option\\').addClass(\\'seloption\\');moveoptions[\\'optionsfont\\']=\\'#font5\\';\"',\n",
       "  1),\n",
       " ('class=\"option\">Comic', 1),\n",
       " ('id=\"font6\"', 1),\n",
       " ('onclick=\"$(\\'#font\\').val(\\'6\\').change();$(\\'#fontval\\').val(\\'Courier',\n",
       "  1),\n",
       " (\"New').change();$('#selectfont').find('a').find('div').html('Courier\", 1),\n",
       " (\"New');\", 1),\n",
       " ('onmouseover=\"$(this).find(\\'li\\').removeClass(\\'option\\').addClass(\\'seloption\\');moveoptions[\\'optionsfont\\']=\\'#font6\\';\"',\n",
       "  1),\n",
       " ('class=\"option\">Courier', 1),\n",
       " ('New</li></a>', 1),\n",
       " ('id=\"font7\"', 1),\n",
       " ('onclick=\"$(\\'#font\\').val(\\'7\\').change();$(\\'#fontval\\').val(\\'Franklin',\n",
       "  1),\n",
       " (\"Medium').change();$('#selectfont').find('a').find('div').html('Franklin\",\n",
       "  1),\n",
       " (\"Medium');\", 1),\n",
       " ('onmouseover=\"$(this).find(\\'li\\').removeClass(\\'option\\').addClass(\\'seloption\\');moveoptions[\\'optionsfont\\']=\\'#font7\\';\"',\n",
       "  1),\n",
       " ('class=\"option\">Franklin', 1),\n",
       " ('Medium</li></a>', 1),\n",
       " ('id=\"font8\"', 1),\n",
       " ('onclick=\"$(\\'#font\\').val(\\'8\\').change();$(\\'#fontval\\').val(\\'Garamond\\').change();$(\\'#selectfont\\').find(\\'a\\').find(\\'div\\').html(\\'Garamond\\');',\n",
       "  1),\n",
       " ('onmouseover=\"$(this).find(\\'li\\').removeClass(\\'option\\').addClass(\\'seloption\\');moveoptions[\\'optionsfont\\']=\\'#font8\\';\"',\n",
       "  1),\n",
       " ('class=\"option\">Garamond</li></a>', 1),\n",
       " ('id=\"font9\"', 1),\n",
       " ('onclick=\"$(\\'#font\\').val(\\'9\\').change();$(\\'#fontval\\').val(\\'Georgia\\').change();$(\\'#selectfont\\').find(\\'a\\').find(\\'div\\').html(\\'Georgia\\');',\n",
       "  1),\n",
       " ('onmouseover=\"$(this).find(\\'li\\').removeClass(\\'option\\').addClass(\\'seloption\\');moveoptions[\\'optionsfont\\']=\\'#font9\\';\"',\n",
       "  1),\n",
       " ('class=\"option\">Georgia</li></a>', 1),\n",
       " ('id=\"font10\"', 1),\n",
       " ('onclick=\"$(\\'#font\\').val(\\'10\\').change();$(\\'#fontval\\').val(\\'Impact\\').change();$(\\'#selectfont\\').find(\\'a\\').find(\\'div\\').html(\\'Impact\\');',\n",
       "  1),\n",
       " ('onmouseover=\"$(this).find(\\'li\\').removeClass(\\'option\\').addClass(\\'seloption\\');moveoptions[\\'optionsfont\\']=\\'#font10\\';\"',\n",
       "  1),\n",
       " ('class=\"option\">Impact</li></a>', 1),\n",
       " ('id=\"font11\"', 1),\n",
       " ('onclick=\"$(\\'#font\\').val(\\'11\\').change();$(\\'#fontval\\').val(\\'Lucida',\n",
       "  1),\n",
       " (\"Console').change();$('#selectfont').find('a').find('div').html('Lucida\", 1),\n",
       " (\"Console');\", 1),\n",
       " ('onmouseover=\"$(this).find(\\'li\\').removeClass(\\'option\\').addClass(\\'seloption\\');moveoptions[\\'optionsfont\\']=\\'#font11\\';\"',\n",
       "  1),\n",
       " ('class=\"option\">Lucida', 1),\n",
       " ('Console</li></a>', 1),\n",
       " ('id=\"font12\"', 1),\n",
       " ('onclick=\"$(\\'#font\\').val(\\'12\\').change();$(\\'#fontval\\').val(\\'Microsoft',\n",
       "  1),\n",
       " (\"Serif').change();$('#selectfont').find('a').find('div').html('Microsoft\",\n",
       "  1),\n",
       " (\"Serif');\", 1),\n",
       " ('onmouseover=\"$(this).find(\\'li\\').removeClass(\\'option\\').addClass(\\'seloption\\');moveoptions[\\'optionsfont\\']=\\'#font12\\';\"',\n",
       "  1),\n",
       " ('class=\"option\">Microsoft', 1),\n",
       " ('Serif</li></a>', 1),\n",
       " ('id=\"font13\"', 1),\n",
       " ('onclick=\"$(\\'#font\\').val(\\'13\\').change();$(\\'#fontval\\').val(\\'Palatino',\n",
       "  1),\n",
       " (\"Linotype').change();$('#selectfont').find('a').find('div').html('Palatino\",\n",
       "  1),\n",
       " (\"Linotype');\", 1),\n",
       " ('onmouseover=\"$(this).find(\\'li\\').removeClass(\\'option\\').addClass(\\'seloption\\');moveoptions[\\'optionsfont\\']=\\'#font13\\';\"',\n",
       "  1),\n",
       " ('class=\"option\">Palatino', 1),\n",
       " ('Linotype</li></a>', 1),\n",
       " ('id=\"font14\"', 1),\n",
       " ('onclick=\"$(\\'#font\\').val(\\'14\\').change();$(\\'#fontval\\').val(\\'Tahoma\\').change();$(\\'#selectfont\\').find(\\'a\\').find(\\'div\\').html(\\'Tahoma\\');',\n",
       "  1),\n",
       " ('onmouseover=\"$(this).find(\\'li\\').removeClass(\\'option\\').addClass(\\'seloption\\');moveoptions[\\'optionsfont\\']=\\'#font14\\';\"',\n",
       "  1),\n",
       " ('class=\"option\">Tahoma</li></a>', 1),\n",
       " ('id=\"font15\"', 1),\n",
       " ('onclick=\"$(\\'#font\\').val(\\'15\\').change();$(\\'#fontval\\').val(\\'Times', 1),\n",
       " (\"Roman').change();$('#selectfont').find('a').find('div').html('Times\", 1),\n",
       " (\"Roman');\", 1),\n",
       " ('onmouseover=\"$(this).find(\\'li\\').removeClass(\\'option\\').addClass(\\'seloption\\');moveoptions[\\'optionsfont\\']=\\'#font15\\';\"',\n",
       "  1),\n",
       " ('class=\"option\">Times', 1),\n",
       " ('Roman</li></a>', 1),\n",
       " ('id=\"font16\"', 1),\n",
       " ('onclick=\"$(\\'#font\\').val(\\'16\\').change();$(\\'#fontval\\').val(\\'Trebuchet',\n",
       "  1),\n",
       " (\"MS').change();$('#selectfont').find('a').find('div').html('Trebuchet\", 1),\n",
       " ('onmouseover=\"$(this).find(\\'li\\').removeClass(\\'option\\').addClass(\\'seloption\\');moveoptions[\\'optionsfont\\']=\\'#font16\\';\"',\n",
       "  1),\n",
       " ('class=\"option\">Trebuchet', 1),\n",
       " ('id=\"font17\"', 1),\n",
       " ('onclick=\"$(\\'#font\\').val(\\'17\\').change();$(\\'#fontval\\').val(\\'Verdana\\').change();$(\\'#selectfont\\').find(\\'a\\').find(\\'div\\').html(\\'Verdana\\');',\n",
       "  1),\n",
       " ('onmouseover=\"$(this).find(\\'li\\').removeClass(\\'option\\').addClass(\\'seloption\\');moveoptions[\\'optionsfont\\']=\\'#font17\\';\"',\n",
       "  1),\n",
       " ('class=\"option\">Verdana</li></a>', 1),\n",
       " ('id=\"#fontmore\"', 1),\n",
       " ('onclick=\"$(\\'.hidefont\\').show();$(this).hide();$(\\'.scroll-pane\\').jScrollPane();return',\n",
       "  1),\n",
       " ('onmouseover=\"$(this).find(\\'li\\').removeClass(\\'option\\').addClass(\\'seloption\\');moveoptions[\\'optionsfont\\']=\\'#fontmore\\';showoptions[\\'optionsfont\\']=true;\"',\n",
       "  1),\n",
       " ('onmouseout=\"$(this).find(\\'li\\').removeClass(\\'seloption\\').addClass(\\'option\\');showoptions[\\'optionsfont\\']=false;\">',\n",
       "  1),\n",
       " ('class=\"option\">Показать', 1),\n",
       " ('ещё...</li></a>', 1),\n",
       " ('</ul></div><div', 1),\n",
       " ('class=\"rs_font3\"><input', 1),\n",
       " ('id=\"fontsizeval\"', 1),\n",
       " ('name=\"read_style[font_size]\"', 1),\n",
       " ('jq=\"select_font_size\"', 1),\n",
       " ('value=\"18\">Размер', 1),\n",
       " ('шрифта&nbsp;&nbsp;&nbsp;<input', 1),\n",
       " ('id=\"fontsize\"', 1),\n",
       " ('size=\"3\"', 1),\n",
       " ('value=\"18\"', 1),\n",
       " (\"{$('#slider').slider('value',$(this).val());$('#fontsizeval').val($(this).val()).change();return\",\n",
       "  1),\n",
       " ('false;}\"', 1),\n",
       " ('onchange=\"$(\\'#slider\\').slider(\\'value\\',$(this).val());$(\\'#fontsizeval\\').val($(this).val()).change();\"></div><br',\n",
       "  1),\n",
       " ('/><div><div', 1),\n",
       " ('id=\"slider\"', 1),\n",
       " ('class=\"slider', 1),\n",
       " ('rs_font6\"><script', 1),\n",
       " (\"$('#slider').slider({\", 1),\n",
       " ('min:', 1),\n",
       " ('9,', 1),\n",
       " ('max:', 1),\n",
       " ('99,', 1),\n",
       " ('value:', 1),\n",
       " ('18,', 1),\n",
       " ('slide:', 1),\n",
       " ('function(', 1),\n",
       " ('event,', 1),\n",
       " ('ui', 1),\n",
       " (')', 1),\n",
       " ('$(\"#fontsize\").val(ui.value);', 1),\n",
       " ('$(\"#fontsizeval\").val(ui.value).change();', 1),\n",
       " ('</script></div></div><br', 1),\n",
       " ('style=\"clear:both;\"><input', 1),\n",
       " ('id=\"textalignval\"', 1),\n",
       " ('name=\"read_style[text_align]\"', 1),\n",
       " ('jq=\"select_text_align\"', 1),\n",
       " ('value=\"justify\"><div', 1),\n",
       " ('onclick=\"$(\\'#textalignval\\').val(\\'left\\').change();return', 1),\n",
       " (\"src='/img/taleft.png'></span></div><div\", 1),\n",
       " ('onclick=\"$(\\'#textalignval\\').val(\\'center\\').change();return', 1),\n",
       " (\"src='/img/tacenter.png'></span></div><div\", 1),\n",
       " ('onclick=\"$(\\'#textalignval\\').val(\\'right\\').change();return', 1),\n",
       " (\"src='/img/taright.png'></span></div><div\", 1),\n",
       " ('onclick=\"$(\\'#textalignval\\').val(\\'justify\\').change();return', 1),\n",
       " (\"src='/img/tajustify.png'></span></div></div><div\", 1),\n",
       " ('class=\"rs_color\"', 1),\n",
       " ('style=\"clear:both;\">Цвет', 1),\n",
       " ('фона<br', 1),\n",
       " ('id=\"bcolval\"', 1),\n",
       " ('name=\"read_style[background_color]\"', 1),\n",
       " ('jq=\"select_background_color\"', 1),\n",
       " ('value=\"#FFFFFF\"><br', 1),\n",
       " ('/>Цвет', 1),\n",
       " ('шрифта<br', 1),\n",
       " ('id=\"fcolval\"', 1),\n",
       " ('name=\"read_style[font_color]\"', 1),\n",
       " ('jq=\"select_font_color\"', 1),\n",
       " ('value=\"#000000\"></div><div', 1),\n",
       " ('class=\"search_clear\"', 1),\n",
       " ('style=\"margin:9px', 1),\n",
       " ('0;\"><a', 1),\n",
       " ('jq=\"ResetParam\"', 1),\n",
       " ('onclick=\"return', 1),\n",
       " ('false;\">Очистить</a></div></div></div></div><a', 1),\n",
       " ('data-jq-dropdown=\"#jq-dropdown-book_7296\"', 1),\n",
       " ('class=\"orange_desc2\">Настройки</span>&nbsp;&nbsp;<img', 1),\n",
       " ('rs_column2\"', 1),\n",
       " ('style=\"float:right;padding-left:0;\"><a', 1),\n",
       " ('(val>9)', 1),\n",
       " (\"{val--;$('#slider').slider('value',val);$('#fontsize').val(val);$('#fontsizeval').val(val).change();\",\n",
       "  1),\n",
       " ('class=\"rs_color_scheme\">A</div></a><a', 1),\n",
       " ('(val<99)', 1),\n",
       " (\"{val++;$('#slider').slider('value',val);$('#fontsize').val(val);$('#fontsizeval').val(val).change();\",\n",
       "  1),\n",
       " ('style=\"font-size:18px;font-size:1.8rem;padding:0px;width:28px;height:28px;\">A</div></a><div',\n",
       "  1),\n",
       " ('style=\"border:0px;width:5px;padding:0px;\"></div><a', 1),\n",
       " ('onclick=\"$(\\'#bcolval\\').val(\\'#FFFFFF\\').change();$(\\'#fcolval\\').val(\\'#000000\\').change();return',\n",
       "  1),\n",
       " ('rs_color_scheme1\"></div></a><a', 1),\n",
       " ...]"
      ]
     },
     "execution_count": 186,
     "metadata": {},
     "output_type": "execute_result"
    }
   ],
   "source": [
    "from collections import Counter\n",
    "sorted(Counter(resp.text.split()).items(), key=lambda x: -x[1])"
   ]
  },
  {
   "cell_type": "code",
   "execution_count": null,
   "metadata": {
    "collapsed": true
   },
   "outputs": [],
   "source": []
  },
  {
   "cell_type": "code",
   "execution_count": null,
   "metadata": {
    "collapsed": true
   },
   "outputs": [],
   "source": []
  },
  {
   "cell_type": "code",
   "execution_count": 189,
   "metadata": {
    "ExecuteTime": {
     "end_time": "2017-11-24T11:00:16.292068Z",
     "start_time": "2017-11-24T11:00:15.828509Z"
    }
   },
   "outputs": [
    {
     "data": {
      "text/plain": [
       "'<!DOCTYPE html>\\n<!--[if lt IE 7]>      <html lang=\"en\" class=\"no-js lt-ie9 lt-ie8 lt-ie7 not-logged-in client-root\"> <![endif]-->\\n<!--[if IE 7]>         <html lang=\"en\" class=\"no-js lt-ie9 lt-ie8 not-logged-in client-root\"> <![endif]-->\\n<!--[if IE 8]>         <html lang=\"en\" class=\"no-js lt-ie9 not-logged-in client-root\"> <![endif]-->\\n<!--[if gt IE 8]><!--> <html lang=\"en\" class=\"no-js not-logged-in client-root\"> <!--<![endif]-->\\n    <head><meta charset=\"utf-8\">\\n        <meta http-equiv=\"X-UA-Compatible\" content=\"IE=edge\">\\n\\n        <title>\\nÐ\\x92ÐµÑ\\x80Ð° (@aloe_ve) â\\x80¢ Instagram photos and videos\\n</title>\\n\\n        \\n        <meta name=\"robots\" content=\"noimageindex, noarchive\">\\n        <meta name=\"mobile-web-app-capable\" content=\"yes\">\\n        <meta name=\"theme-color\" content=\"#000000\">\\n        <meta id=\"viewport\" name=\"viewport\" content=\"width=device-width, user-scalable=no, initial-scale=1, minimum-scale=1, maximum-scale=1\">\\n        \\n\\n        <link rel=\"manifest\" href=\"/data/manifest.json\">\\n\\n        \\n          <link href=\"https://graph.instagram.com\" rel=\"preconnect\" crossorigin>\\n        \\n\\n        <link rel=\"preload\" href=\"/static/bundles/en_US_ProfilePageContainer.js/8e981c30ec26.js\" as=\"script\" type=\"text/javascript\" crossorigin=\"anonymous\" />\\n\\n        <script type=\"text/javascript\">\\n        (function() {\\n            var docElement = document.documentElement;\\n            var classRE = new RegExp(\\'(^|\\\\\\\\s)no-js(\\\\\\\\s|$)\\');\\n            var className = docElement.className;\\n            docElement.className = className.replace(classRE, \\'$1js$2\\');\\n        })();\\n        </script>\\n        <script type=\"text/javascript\">\\n        (function() {\\n          if (\\'PerformanceObserver\\' in window && \\'PerformancePaintTiming\\' in window) {\\n            window.__bufferedPerformance = [];\\n            var ob = new PerformanceObserver(function(e) {\\n              window.__bufferedPerformance.push.apply(window.__bufferedPerformance,e.getEntries());\\n            });\\n            ob.observe({entryTypes:[\\'paint\\']});\\n          }\\n        })();\\n        </script>\\n    \\n                <link rel=\"apple-touch-icon-precomposed\" sizes=\"76x76\" href=\"/static/images/ico/apple-touch-icon-76x76-precomposed.png/932e4d9af891.png\">\\n                <link rel=\"apple-touch-icon-precomposed\" sizes=\"120x120\" href=\"/static/images/ico/apple-touch-icon-120x120-precomposed.png/004705c9353f.png\">\\n                <link rel=\"apple-touch-icon-precomposed\" sizes=\"152x152\" href=\"/static/images/ico/apple-touch-icon-152x152-precomposed.png/82467bc9bcce.png\">\\n                <link rel=\"apple-touch-icon-precomposed\" sizes=\"167x167\" href=\"/static/images/ico/apple-touch-icon-167x167-precomposed.png/515cb4eeeeee.png\">\\n                <link rel=\"apple-touch-icon-precomposed\" sizes=\"180x180\" href=\"/static/images/ico/apple-touch-icon-180x180-precomposed.png/94fd767f257b.png\">\\n                \\n                    <link rel=\"icon\" sizes=\"192x192\" href=\"/static/images/ico/favicon-192.png/b407fa101800.png\">\\n                \\n            \\n            \\n                    <link rel=\"mask-icon\" href=\"/static/images/ico/favicon.svg/9d8680ab8a3c.svg\" color=\"#262626\">\\n                  \\n                  <link rel=\"shortcut icon\" type=\"image/x-icon\" href=\"/static/images/ico/favicon.ico/dfa85bb1fd63.ico\">\\n                \\n            \\n            \\n            \\n    \\n    \\n            <link rel=\"alternate\" href=\"android-app://com.instagram.android/https/instagram.com/_u/aloe_ve/\" />\\n        \\n            <meta property=\"al:ios:app_name\" content=\"Instagram\" />\\n            <meta property=\"al:ios:app_store_id\" content=\"389801252\" />\\n            <meta property=\"al:ios:url\" content=\"instagram://user?username=aloe_ve\" />\\n            <meta property=\"al:android:app_name\" content=\"Instagram\" />\\n            <meta property=\"al:android:package\" content=\"com.instagram.android\" />\\n            <meta property=\"al:android:url\" content=\"https://www.instagram.com/_u/aloe_ve/\" />\\n        <link rel=\"canonical\" href=\"https://www.instagram.com/aloe_ve/\" /><meta content=\"7,826 Followers, 217 Following, 996 Posts - See Instagram photos and videos from Ð\\x92ÐµÑ\\x80Ð° (@aloe_ve)\" name=\"description\" />\\n            <meta property=\"og:type\" content=\"profile\" />\\n            <meta property=\"og:image\" content=\"https://instagram.fhrk1-1.fna.fbcdn.net/t51.2885-19/s150x150/23098587_180488872503345_7542351987870793728_n.jpg\" />\\n            <meta property=\"og:title\" content=\"Ð\\x92ÐµÑ\\x80Ð° (@aloe_ve) â\\x80¢ Instagram photos and videos\" />\\n            <meta property=\"og:description\" content=\"7,826 Followers, 217 Following, 996 Posts - See Instagram photos and videos from Ð\\x92ÐµÑ\\x80Ð° (@aloe_ve)\" />\\n            <meta property=\"og:url\" content=\"https://www.instagram.com/aloe_ve/\" />\\n        \\n    <link rel=\"alternate\" href=\"https://www.instagram.com/aloe_ve/\" hreflang=\"x-default\" />\\n<link rel=\"alternate\" href=\"https://www.instagram.com/aloe_ve/?hl=en\" hreflang=\"en\" />\\n<link rel=\"alternate\" href=\"https://www.instagram.com/aloe_ve/?hl=fr\" hreflang=\"fr\" />\\n<link rel=\"alternate\" href=\"https://www.instagram.com/aloe_ve/?hl=it\" hreflang=\"it\" />\\n<link rel=\"alternate\" href=\"https://www.instagram.com/aloe_ve/?hl=de\" hreflang=\"de\" />\\n<link rel=\"alternate\" href=\"https://www.instagram.com/aloe_ve/?hl=es\" hreflang=\"es\" />\\n<link rel=\"alternate\" href=\"https://www.instagram.com/aloe_ve/?hl=zh-cn\" hreflang=\"zh-cn\" />\\n<link rel=\"alternate\" href=\"https://www.instagram.com/aloe_ve/?hl=zh-tw\" hreflang=\"zh-tw\" />\\n<link rel=\"alternate\" href=\"https://www.instagram.com/aloe_ve/?hl=ja\" hreflang=\"ja\" />\\n<link rel=\"alternate\" href=\"https://www.instagram.com/aloe_ve/?hl=ko\" hreflang=\"ko\" />\\n<link rel=\"alternate\" href=\"https://www.instagram.com/aloe_ve/?hl=pt\" hreflang=\"pt\" />\\n<link rel=\"alternate\" href=\"https://www.instagram.com/aloe_ve/?hl=pt-br\" hreflang=\"pt-br\" />\\n<link rel=\"alternate\" href=\"https://www.instagram.com/aloe_ve/?hl=af\" hreflang=\"af\" />\\n<link rel=\"alternate\" href=\"https://www.instagram.com/aloe_ve/?hl=cs\" hreflang=\"cs\" />\\n<link rel=\"alternate\" href=\"https://www.instagram.com/aloe_ve/?hl=da\" hreflang=\"da\" />\\n<link rel=\"alternate\" href=\"https://www.instagram.com/aloe_ve/?hl=el\" hreflang=\"el\" />\\n<link rel=\"alternate\" href=\"https://www.instagram.com/aloe_ve/?hl=fi\" hreflang=\"fi\" />\\n<link rel=\"alternate\" href=\"https://www.instagram.com/aloe_ve/?hl=hr\" hreflang=\"hr\" />\\n<link rel=\"alternate\" href=\"https://www.instagram.com/aloe_ve/?hl=hu\" hreflang=\"hu\" />\\n<link rel=\"alternate\" href=\"https://www.instagram.com/aloe_ve/?hl=id\" hreflang=\"id\" />\\n<link rel=\"alternate\" href=\"https://www.instagram.com/aloe_ve/?hl=ms\" hreflang=\"ms\" />\\n<link rel=\"alternate\" href=\"https://www.instagram.com/aloe_ve/?hl=nb\" hreflang=\"nb\" />\\n<link rel=\"alternate\" href=\"https://www.instagram.com/aloe_ve/?hl=nl\" hreflang=\"nl\" />\\n<link rel=\"alternate\" href=\"https://www.instagram.com/aloe_ve/?hl=pl\" hreflang=\"pl\" />\\n<link rel=\"alternate\" href=\"https://www.instagram.com/aloe_ve/?hl=ru\" hreflang=\"ru\" />\\n<link rel=\"alternate\" href=\"https://www.instagram.com/aloe_ve/?hl=sk\" hreflang=\"sk\" />\\n<link rel=\"alternate\" href=\"https://www.instagram.com/aloe_ve/?hl=sv\" hreflang=\"sv\" />\\n<link rel=\"alternate\" href=\"https://www.instagram.com/aloe_ve/?hl=th\" hreflang=\"th\" />\\n<link rel=\"alternate\" href=\"https://www.instagram.com/aloe_ve/?hl=tl\" hreflang=\"tl\" />\\n<link rel=\"alternate\" href=\"https://www.instagram.com/aloe_ve/?hl=tr\" hreflang=\"tr\" />\\n<link rel=\"alternate\" href=\"https://www.instagram.com/aloe_ve/?hl=hi\" hreflang=\"hi\" />\\n<link rel=\"alternate\" href=\"https://www.instagram.com/aloe_ve/?hl=bn\" hreflang=\"bn\" />\\n<link rel=\"alternate\" href=\"https://www.instagram.com/aloe_ve/?hl=gu\" hreflang=\"gu\" />\\n<link rel=\"alternate\" href=\"https://www.instagram.com/aloe_ve/?hl=kn\" hreflang=\"kn\" />\\n<link rel=\"alternate\" href=\"https://www.instagram.com/aloe_ve/?hl=ml\" hreflang=\"ml\" />\\n<link rel=\"alternate\" href=\"https://www.instagram.com/aloe_ve/?hl=mr\" hreflang=\"mr\" />\\n<link rel=\"alternate\" href=\"https://www.instagram.com/aloe_ve/?hl=pa\" hreflang=\"pa\" />\\n<link rel=\"alternate\" href=\"https://www.instagram.com/aloe_ve/?hl=ta\" hreflang=\"ta\" />\\n<link rel=\"alternate\" href=\"https://www.instagram.com/aloe_ve/?hl=te\" hreflang=\"te\" />\\n<link rel=\"alternate\" href=\"https://www.instagram.com/aloe_ve/?hl=ne\" hreflang=\"ne\" />\\n<link rel=\"alternate\" href=\"https://www.instagram.com/aloe_ve/?hl=si\" hreflang=\"si\" />\\n<link rel=\"alternate\" href=\"https://www.instagram.com/aloe_ve/?hl=ur\" hreflang=\"ur\" />\\n<link rel=\"alternate\" href=\"https://www.instagram.com/aloe_ve/?hl=vi\" hreflang=\"vi\" />\\n<link rel=\"alternate\" href=\"https://www.instagram.com/aloe_ve/?hl=bg\" hreflang=\"bg\" />\\n<link rel=\"alternate\" href=\"https://www.instagram.com/aloe_ve/?hl=fr-ca\" hreflang=\"fr-ca\" />\\n<link rel=\"alternate\" href=\"https://www.instagram.com/aloe_ve/?hl=ro\" hreflang=\"ro\" />\\n<link rel=\"alternate\" href=\"https://www.instagram.com/aloe_ve/?hl=sr\" hreflang=\"sr\" />\\n<link rel=\"alternate\" href=\"https://www.instagram.com/aloe_ve/?hl=uk\" hreflang=\"uk\" />\\n<link rel=\"alternate\" href=\"https://www.instagram.com/aloe_ve/?hl=zh-hk\" hreflang=\"zh-hk\" />\\n<link rel=\"alternate\" href=\"https://www.instagram.com/aloe_ve/?hl=es-la\" hreflang=\"es-ar\" />\\n<link rel=\"alternate\" href=\"https://www.instagram.com/aloe_ve/?hl=es-la\" hreflang=\"es-ni\" />\\n<link rel=\"alternate\" href=\"https://www.instagram.com/aloe_ve/?hl=es-la\" hreflang=\"es-sv\" />\\n<link rel=\"alternate\" href=\"https://www.instagram.com/aloe_ve/?hl=es-la\" hreflang=\"es-cr\" />\\n<link rel=\"alternate\" href=\"https://www.instagram.com/aloe_ve/?hl=es-la\" hreflang=\"es-ec\" />\\n<link rel=\"alternate\" href=\"https://www.instagram.com/aloe_ve/?hl=es-la\" hreflang=\"es-hn\" />\\n<link rel=\"alternate\" href=\"https://www.instagram.com/aloe_ve/?hl=es-la\" hreflang=\"es-mx\" />\\n<link rel=\"alternate\" href=\"https://www.instagram.com/aloe_ve/?hl=es-la\" hreflang=\"es-uy\" />\\n<link rel=\"alternate\" href=\"https://www.instagram.com/aloe_ve/?hl=es-la\" hreflang=\"es-pe\" />\\n<link rel=\"alternate\" href=\"https://www.instagram.com/aloe_ve/?hl=es-la\" hreflang=\"es-py\" />\\n<link rel=\"alternate\" href=\"https://www.instagram.com/aloe_ve/?hl=es-la\" hreflang=\"es-pa\" />\\n<link rel=\"alternate\" href=\"https://www.instagram.com/aloe_ve/?hl=es-la\" hreflang=\"es-cl\" />\\n<link rel=\"alternate\" href=\"https://www.instagram.com/aloe_ve/?hl=es-la\" hreflang=\"es-pr\" />\\n<link rel=\"alternate\" href=\"https://www.instagram.com/aloe_ve/?hl=es-la\" hreflang=\"es-do\" />\\n<link rel=\"alternate\" href=\"https://www.instagram.com/aloe_ve/?hl=es-la\" hreflang=\"es-cu\" />\\n<link rel=\"alternate\" href=\"https://www.instagram.com/aloe_ve/?hl=es-la\" hreflang=\"es-ve\" />\\n<link rel=\"alternate\" href=\"https://www.instagram.com/aloe_ve/?hl=es-la\" hreflang=\"es-bo\" />\\n<link rel=\"alternate\" href=\"https://www.instagram.com/aloe_ve/?hl=es-la\" hreflang=\"es-gt\" />\\n<link rel=\"alternate\" href=\"https://www.instagram.com/aloe_ve/?hl=es-la\" hreflang=\"es-co\" />\\n    \\n</head>\\n    <body class=\"\">\\n        \\n    <span id=\"react-root\"></span>\\n\\n        \\n\\n        \\n            <script type=\"text/javascript\">window._sharedData = {\"activity_counts\": null, \"config\": {\"csrf_token\": \"Vx7Oi2cojLa658OZHUZbIL7IV4uWXbQ0\", \"viewer\": null}, \"country_code\": \"RU\", \"language_code\": \"en\", \"entry_data\": {\"ProfilePage\": [{\"user\": {\"biography\": \"\\\\u041e\\\\u0440\\\\u0433\\\\u0430\\\\u043d\\\\u0438\\\\u0437\\\\u0430\\\\u0446\\\\u0438\\\\u044f \\\\u043a\\\\u043e\\\\u043d\\\\u0446\\\\u0435\\\\u0440\\\\u0442\\\\u043e\\\\u0432: aloepromo@gmail.com\", \"blocked_by_viewer\": false, \"country_block\": false, \"external_url\": \"http://www.aloeband.ru/\", \"external_url_linkshimmed\": \"http://l.instagram.com/?u=http%3A%2F%2Fwww.aloeband.ru%2F\\\\u0026e=ATPMFj5sXELPBJRxeC7MAswXQpkCjnbQHKWY_gYLSxtrnGxjZ7M1UW8YPjWRz94qBOPRsCZ0\", \"followed_by\": {\"count\": 7826}, \"followed_by_viewer\": false, \"follows\": {\"count\": 217}, \"follows_viewer\": false, \"full_name\": \"\\\\u0412\\\\u0435\\\\u0440\\\\u0430\", \"has_blocked_viewer\": false, \"has_requested_viewer\": false, \"id\": \"27603478\", \"is_private\": false, \"is_verified\": false, \"profile_pic_url\": \"https://instagram.fhrk1-1.fna.fbcdn.net/t51.2885-19/s150x150/23098587_180488872503345_7542351987870793728_n.jpg\", \"profile_pic_url_hd\": \"https://instagram.fhrk1-1.fna.fbcdn.net/t51.2885-19/s320x320/23098587_180488872503345_7542351987870793728_n.jpg\", \"requested_by_viewer\": false, \"username\": \"aloe_ve\", \"connected_fb_page\": null, \"media\": {\"nodes\": [{\"__typename\": \"GraphImage\", \"id\": \"1655063215690030483\", \"comments_disabled\": false, \"dimensions\": {\"height\": 720, \"width\": 1080}, \"gating_info\": null, \"media_preview\": \"ACocyBKBxtQ++KUuhXJAz2A449f/AK1WZreNeFJJxzxjHH6H25quQMHacY7H/P8A+qqJIhGzMBjBbkD29fp701mYDaeB9BV1WVkBJAbG3uTx0+n8qarA7gcH69KB2KNJVouB90YHXFM8w+g/KgRIxIqFm7Cg+lWbGFZ5lR/unk4747fSixcp/ZRIbExL5rMGUDOB1PcD/GqgO4e9dHqEaiJmHYHHp6VzKkj8qCSRkAXOfm9Pam/L7/pTQf1pM+1Mk//Z\", \"owner\": {\"id\": \"27603478\"}, \"thumbnail_src\": \"https://instagram.fhrk1-1.fna.fbcdn.net/t51.2885-15/s640x640/sh0.08/e35/c180.0.720.720/23823856_400552513734972_88850473783656448_n.jpg\", \"thumbnail_resources\": [{\"src\": \"https://instagram.fhrk1-1.fna.fbcdn.net/t51.2885-15/s150x150/e35/c180.0.720.720/23823856_400552513734972_88850473783656448_n.jpg\", \"config_width\": 150, \"config_height\": 150}, {\"src\": \"https://instagram.fhrk1-1.fna.fbcdn.net/t51.2885-15/s240x240/e35/c180.0.720.720/23823856_400552513734972_88850473783656448_n.jpg\", \"config_width\": 240, \"config_height\": 240}, {\"src\": \"https://instagram.fhrk1-1.fna.fbcdn.net/t51.2885-15/s320x320/e35/c180.0.720.720/23823856_400552513734972_88850473783656448_n.jpg\", \"config_width\": 320, \"config_height\": 320}, {\"src\": \"https://instagram.fhrk1-1.fna.fbcdn.net/t51.2885-15/s480x480/e35/c180.0.720.720/23823856_400552513734972_88850473783656448_n.jpg\", \"config_width\": 480, \"config_height\": 480}, {\"src\": \"https://instagram.fhrk1-1.fna.fbcdn.net/t51.2885-15/s640x640/sh0.08/e35/c180.0.720.720/23823856_400552513734972_88850473783656448_n.jpg\", \"config_width\": 640, \"config_height\": 640}], \"is_video\": false, \"code\": \"Bb39znMBR2T\", \"date\": 1511518931, \"display_src\": \"https://instagram.fhrk1-1.fna.fbcdn.net/t51.2885-15/e35/23823856_400552513734972_88850473783656448_n.jpg\", \"caption\": \"\\\\u041f\\\\u0440\\\\u043e\\\\u0435\\\\u043a\\\\u0442 \\\\u0422\\\\u043e\\\\u0442\\\\u0435\\\\u043c\\\\u044b \\\\u0420\\\\u043e\\\\u043a\\\\u0430 @totemsofrock\\\\n\\\\u0424\\\\u043e\\\\u0442\\\\u043e\\\\u0433\\\\u0440\\\\u0430\\\\u0444 \\\\u041e\\\\u043b\\\\u044c\\\\u0433\\\\u0430 \\\\u0411\\\\u0430\\\\u0440\\\\u0430\\\\u043d\\\\u0446\\\\u0435\\\\u0432\\\\u0430 @olga.barantseva\\\\n\\\\u0412\\\\u043e\\\\u043b\\\\u043a \\\\u0414\\\\u0440\\\\u0430\\\\u0433\\\\u043e \\\\u0436\\\\u0438\\\\u0432\\\\u0435\\\\u0442 \\\\u0437\\\\u0434\\\\u0435\\\\u0441\\\\u044c  @zoo_studiya_kovcheg\", \"comments\": {\"count\": 3}, \"likes\": {\"count\": 314}}, {\"__typename\": \"GraphImage\", \"id\": \"1654480915248114283\", \"comments_disabled\": false, \"dimensions\": {\"height\": 1080, \"width\": 1080}, \"gating_info\": null, \"media_preview\": \"ACoqtx2n2lCJlAPQHuPfPv1x26Vz08LW0hRuo5B9R2NdkG7dD6f4Vi61GGVZB/CSp/EZ/Qipiy2S6be7l2uSTnqef8inXqm3XfEMBj83oM9/Xn2/wrnYm2nkZH5V0kUuY9smMY6H09DwPw4+metWyTOnmCfMCCOOnf8AwrMNzITnOPwp1yQG2r0Hv+X5VXoSE32NX+15zwdv5H/Grgla4QBiNv8AdH6c/wA/1K1R+y4ORyp/H+n15IGMH0qzBH5Zycj0HbPr747A8k4yAuaVl2Ku+5QmtWQkgfL6/wD1uvB4rQt8yRbG46jI9fX0+vHI/GrWAR7fn/n+uQB95RUbKIhle/GPfr7j/wCv06imSc86lWIbqDzTK1L2Eth15YcEDv8A/XHf+hqRdIJAJbBIGRjp7U7rqKwNM6ue4Bx/+qrMU6ycN8rfzqnJ94/U/wA6jNZ3NuVGqxKf5x/n14GeBxxmqF/OQvl8ZJz8voO/58D2FTxsSi5PU4PuOeD7ViyEliTzzVoyZr2jNJEC3IBxn6dP8OM59O9XBNj/APWP/iqg0sZhIPIyf5VD5r/3j+Zpb3Gf/9k=\", \"owner\": {\"id\": \"27603478\"}, \"thumbnail_src\": \"https://instagram.fhrk1-1.fna.fbcdn.net/t51.2885-15/s640x640/sh0.08/e35/23823557_667388720315958_7766117838372208640_n.jpg\", \"thumbnail_resources\": [{\"src\": \"https://instagram.fhrk1-1.fna.fbcdn.net/t51.2885-15/s150x150/e35/23823557_667388720315958_7766117838372208640_n.jpg\", \"config_width\": 150, \"config_height\": 150}, {\"src\": \"https://instagram.fhrk1-1.fna.fbcdn.net/t51.2885-15/s240x240/e35/23823557_667388720315958_7766117838372208640_n.jpg\", \"config_width\": 240, \"config_height\": 240}, {\"src\": \"https://instagram.fhrk1-1.fna.fbcdn.net/t51.2885-15/s320x320/e35/23823557_667388720315958_7766117838372208640_n.jpg\", \"config_width\": 320, \"config_height\": 320}, {\"src\": \"https://instagram.fhrk1-1.fna.fbcdn.net/t51.2885-15/s480x480/e35/23823557_667388720315958_7766117838372208640_n.jpg\", \"config_width\": 480, \"config_height\": 480}, {\"src\": \"https://instagram.fhrk1-1.fna.fbcdn.net/t51.2885-15/s640x640/sh0.08/e35/23823557_667388720315958_7766117838372208640_n.jpg\", \"config_width\": 640, \"config_height\": 640}], \"is_video\": false, \"code\": \"Bb15aBpBupr\", \"date\": 1511449516, \"display_src\": \"https://instagram.fhrk1-1.fna.fbcdn.net/t51.2885-15/e35/23823557_667388720315958_7766117838372208640_n.jpg\", \"caption\": \"\\\\u0422\\\\u0430\\\\u043a! \\\\u041f\\\\u0440\\\\u0435\\\\u043a\\\\u0440\\\\u0430\\\\u0442\\\\u0438\\\\u0442\\\\u044c \\\\u0438\\\\u0441\\\\u0442\\\\u0435\\\\u0440\\\\u0438\\\\u043a\\\\u0443. \\\\u0412\\\\u043b\\\\u0430\\\\u0434\\\\u0438\\\\u0432\\\\u043e\\\\u0441\\\\u0442\\\\u043e\\\\u043a! \\\\u0420\\\\u0430\\\\u043c\\\\u0441\\\\u044b \\\\u0432 \\\\u043a\\\\u043e\\\\u043c\\\\u043c\\\\u0435\\\\u043d\\\\u0442\\\\u0430\\\\u0445 \\\\u043d\\\\u0430\\\\u0442\\\\u043e\\\\u043b\\\\u043a\\\\u043d\\\\u0443\\\\u043b\\\\u0438 \\\\u043d\\\\u0430\\\\u0441 \\\\u043d\\\\u0430 \\\\u0433\\\\u0435\\\\u043d\\\\u0438\\\\u0430\\\\u043b\\\\u044c\\\\u043d\\\\u0443\\\\u044e \\\\u0438\\\\u0434\\\\u0435\\\\u044e. \\\\u0421\\\\u0435\\\\u0439\\\\u0447\\\\u0430\\\\u0441 \\\\u0432\\\\u0441\\\\u0435 \\\\u043e\\\\u0444\\\\u043e\\\\u0440\\\\u043c\\\\u0438\\\\u043c \\\\u0438 \\\\u0440\\\\u0430\\\\u0441\\\\u0441\\\\u043a\\\\u0430\\\\u0436\\\\u0435\\\\u043c. \\\\u041d\\\\u0435 \\\\u0443\\\\u0441\\\\u0442\\\\u0440\\\\u0430\\\\u0438\\\\u0432\\\\u0430\\\\u0439\\\\u0442\\\\u0435 \\\\u0441\\\\u0446\\\\u0435\\\\u043d :)\", \"comments\": {\"count\": 3}, \"likes\": {\"count\": 557}}, {\"__typename\": \"GraphImage\", \"id\": \"1654416075334732877\", \"comments_disabled\": false, \"dimensions\": {\"height\": 1349, \"width\": 1080}, \"gating_info\": null, \"media_preview\": \"ACEq6ENnt0qo8rNFvVTnt64zjd+XPerZGVx6iqszi3UM7YGceg/TNSFrle1nDll4LLg59Qemfcd+1WJG28VTCx7/ADYiCCuDjpnP+FDnA+fj6VotTGXkWvMoqlvT1NFMnU11YYHPaobh/kbHVVJH5GuQO8DvXRyJshKj+GMj9Of1rOS5beZvF8xVgQqjZBTPII75UHg9ue9Vvsk8P71WBAG7k/jyD14pbu4823XsyMufpjGR/Kskuc8joapO6G1Zs0P7Sl/uD8qKq/afYfpRQKy7Fq6uF3DaACuD7HFaNxeIYC46OCoHuex+nOa5tzmkQ/MB2qp6/IimuVWLqOJBsPdW/oR/KqDGrl8AGXHGVGfzNUTUo1e4ZooopiP/2Q==\", \"owner\": {\"id\": \"27603478\"}, \"thumbnail_src\": \"https://instagram.fhrk1-1.fna.fbcdn.net/t51.2885-15/s640x640/sh0.08/e35/c0.133.1066.1066/23966991_1415696448555898_1272843081774792704_n.jpg\", \"thumbnail_resources\": [{\"src\": \"https://instagram.fhrk1-1.fna.fbcdn.net/t51.2885-15/s150x150/e35/c0.133.1066.1066/23966991_1415696448555898_1272843081774792704_n.jpg\", \"config_width\": 150, \"config_height\": 150}, {\"src\": \"https://instagram.fhrk1-1.fna.fbcdn.net/t51.2885-15/s240x240/e35/c0.133.1066.1066/23966991_1415696448555898_1272843081774792704_n.jpg\", \"config_width\": 240, \"config_height\": 240}, {\"src\": \"https://instagram.fhrk1-1.fna.fbcdn.net/t51.2885-15/s320x320/e35/c0.133.1066.1066/23966991_1415696448555898_1272843081774792704_n.jpg\", \"config_width\": 320, \"config_height\": 320}, {\"src\": \"https://instagram.fhrk1-1.fna.fbcdn.net/t51.2885-15/s480x480/e35/c0.133.1066.1066/23966991_1415696448555898_1272843081774792704_n.jpg\", \"config_width\": 480, \"config_height\": 480}, {\"src\": \"https://instagram.fhrk1-1.fna.fbcdn.net/t51.2885-15/s640x640/sh0.08/e35/c0.133.1066.1066/23966991_1415696448555898_1272843081774792704_n.jpg\", \"config_width\": 640, \"config_height\": 640}], \"is_video\": false, \"code\": \"Bb1qqexBcxN\", \"date\": 1511441786, \"display_src\": \"https://instagram.fhrk1-1.fna.fbcdn.net/t51.2885-15/e35/23966991_1415696448555898_1272843081774792704_n.jpg\", \"caption\": \"\\\\u0412\\\\u043b\\\\u0430\\\\u0434\\\\u0438\\\\u0432\\\\u043e\\\\u0441\\\\u0442\\\\u043e\\\\u043a \\\\u0432\\\\u0441\\\\u0451.\\\\n\\\\u0420\\\\u0435\\\\u0431\\\\u044f\\\\u0442\\\\u0430. \\\\u041c\\\\u044b \\\\u0437\\\\u0430\\\\u043a\\\\u0430\\\\u043d\\\\u0447\\\\u0438\\\\u0432\\\\u0430\\\\u0435\\\\u043c \\\\u043d\\\\u0430\\\\u0448 \\\\u044d\\\\u043a\\\\u043f\\\\u0435\\\\u0440\\\\u0438\\\\u043c\\\\u0435\\\\u043d\\\\u0442 \\\\u0441 \\\\u0412\\\\u043b\\\\u0430\\\\u0434\\\\u0438\\\\u0432\\\\u043e\\\\u0441\\\\u0442\\\\u043e\\\\u043a\\\\u043e\\\\u043c. \\\\n\\\\u041d\\\\u0430\\\\u043c \\\\u043f\\\\u0440\\\\u0438\\\\u0445\\\\u043e\\\\u0434\\\\u044f\\\\u0442 \\\\u0434\\\\u0435\\\\u043d\\\\u044c\\\\u0433\\\\u0438: \\\\u0438\\\\u0437 \\\\u041c\\\\u043e\\\\u0441\\\\u043a\\\\u0432\\\\u044b. \\\\u0438\\\\u0437 \\\\u041f\\\\u0438\\\\u0442\\\\u0435\\\\u0440\\\\u0430, \\\\u0438\\\\u0437 \\\\u0421\\\\u0430\\\\u043c\\\\u0430\\\\u0440\\\\u044b, \\\\u0438\\\\u0437 \\\\u0421\\\\u0435\\\\u0432\\\\u0430\\\\u0441\\\\u0442\\\\u043e\\\\u043f\\\\u043e\\\\u043b\\\\u044f, \\\\u0438\\\\u0437 \\\\u041a\\\\u0430\\\\u0437\\\\u0430\\\\u043d\\\\u0438. \\\\n\\\\u0415\\\\u0441\\\\u0442\\\\u044c \\\\u043b\\\\u044e\\\\u0434\\\\u0438, \\\\u043a\\\\u043e\\\\u0442\\\\u043e\\\\u0440\\\\u044b\\\\u0435 \\\\u043f\\\\u0438\\\\u0448\\\\u0443\\\\u0442: \\\\u0434\\\\u0430\\\\u0432\\\\u0430\\\\u0439\\\\u0442\\\\u0435 \\\\u044f \\\\u043f\\\\u0440\\\\u043e\\\\u0441\\\\u0442\\\\u043e \\\\u043a\\\\u0443\\\\u043f\\\\u043b\\\\u044e \\\\u0431\\\\u0438\\\\u043b\\\\u0435\\\\u0442\\\\u044b \\\\u0434\\\\u043b\\\\u044f \\\\u0432\\\\u0441\\\\u0435\\\\u0439 \\\\u0433\\\\u0440\\\\u0443\\\\u043f\\\\u043f\\\\u044b. \\\\n\\\\u0410\\\\u043a\\\\u0442\\\\u0438\\\\u0432\\\\u043d\\\\u044b \\\\u0432\\\\u0441\\\\u0435, \\\\u043a\\\\u0440\\\\u043e\\\\u043c\\\\u0435 \\\\u0412\\\\u043b\\\\u0430\\\\u0434\\\\u0438\\\\u0432\\\\u043e\\\\u0441\\\\u0442\\\\u043e\\\\u043a\\\\u0430.\\\\n\\\\u041d\\\\u043e \\\\u043c\\\\u044b \\\\u0436\\\\u0435 \\\\u0432\\\\u0441\\\\u0435 \\\\u044d\\\\u0442\\\\u043e \\\\u0437\\\\u0430\\\\u0442\\\\u0435\\\\u044f\\\\u043b\\\\u0438 , \\\\u0447\\\\u0442\\\\u043e\\\\u0431 \\\\u0434\\\\u0430\\\\u0442\\\\u044c \\\\u0432\\\\u043e\\\\u0437\\\\u043c\\\\u043e\\\\u0436\\\\u043d\\\\u043e\\\\u0441\\\\u0442\\\\u044c \\\\u0433\\\\u043e\\\\u0440\\\\u043e\\\\u0434\\\\u0443, \\\\u043a\\\\u043e\\\\u0442\\\\u043e\\\\u0440\\\\u044b\\\\u0439 \\\\u043d\\\\u0430\\\\u0441 \\\\u0445\\\\u043e\\\\u0447\\\\u0435\\\\u0442, \\\\u043f\\\\u0440\\\\u043e\\\\u044f\\\\u0432\\\\u0438\\\\u0442\\\\u044c \\\\u0441\\\\u0432\\\\u043e\\\\u044e \\\\u0438\\\\u043d\\\\u0438\\\\u0446\\\\u0438\\\\u0430\\\\u0442\\\\u0438\\\\u0432\\\\u0443 \\\\u0438 \\\\u0441\\\\u0434\\\\u0435\\\\u043b\\\\u0430\\\\u0442\\\\u044c \\\\u043a\\\\u043e\\\\u043d\\\\u0446\\\\u0435\\\\u0440\\\\u0442. \\\\n\\\\u0423 \\\\u043d\\\\u0430\\\\u0441 \\\\u0435\\\\u0441\\\\u0442\\\\u044c \\\\u043e\\\\u0434\\\\u043d\\\\u043e \\\\u0436\\\\u0435\\\\u043b\\\\u0430\\\\u043d\\\\u0438\\\\u0435: \\\\u0435\\\\u0437\\\\u0434\\\\u0438\\\\u0442\\\\u044c \\\\u0432 \\\\u0433\\\\u043e\\\\u0440\\\\u043e\\\\u0434\\\\u0430, \\\\u0432 \\\\u043a\\\\u043e\\\\u0442\\\\u043e\\\\u0440\\\\u044b\\\\u0445 \\\\u043d\\\\u0430\\\\u0441 \\\\u0434\\\\u0435\\\\u0439\\\\u0441\\\\u0442\\\\u0432\\\\u0438\\\\u0442\\\\u0435\\\\u043b\\\\u044c\\\\u043d\\\\u043e \\\\u0436\\\\u0434\\\\u0443\\\\u0442.\\\\n\\\\u0412 \\\\u044d\\\\u0442\\\\u043e\\\\u043c \\\\u043d\\\\u0435\\\\u0442 \\\\u043d\\\\u0438\\\\u043a\\\\u0430\\\\u043a\\\\u043e\\\\u0433\\\\u043e \\\\u0443\\\\u043a\\\\u043e\\\\u0440\\\\u0430 \\\\u0412\\\\u043b\\\\u0430\\\\u0434\\\\u0438\\\\u0432\\\\u043e\\\\u0441\\\\u0442\\\\u043e\\\\u043a\\\\u0443. \\\\u041f\\\\u0440\\\\u043e\\\\u0441\\\\u0442\\\\u043e \\\\u043f\\\\u043e\\\\u043b\\\\u0443\\\\u0447\\\\u0430\\\\u0435\\\\u0442\\\\u0441\\\\u044f, \\\\u0447\\\\u0442\\\\u043e \\\\u043b\\\\u044e\\\\u0434\\\\u0435\\\\u0439, \\\\u043a\\\\u043e\\\\u0442\\\\u043e\\\\u0440\\\\u044b\\\\u0435 \\\\u043f\\\\u0438\\\\u0448\\\\u0443\\\\u0442 \\\\\"\\\\u041f\\\\u0420\\\\u0418\\\\u0415\\\\u0417\\\\u0416\\\\u0410\\\\u0419\\\\u0422\\\\u0415 \\\\u041a \\\\u041d\\\\u0410\\\\u041c, \\\\u041c\\\\u042b \\\\u0421\\\\u041e\\\\u0421\\\\u041a\\\\u0423\\\\u0427\\\\u0418\\\\u041b\\\\u0418\\\\u0421\\\\u042c\\\\\", \\\\u0441\\\\u043e\\\\u0432\\\\u0441\\\\u0435\\\\u043c \\\\u043d\\\\u0435 \\\\u0442\\\\u0430\\\\u043a \\\\u043c\\\\u043d\\\\u043e\\\\u0433\\\\u043e. \\\\u041f\\\\u0440\\\\u043e\\\\u0441\\\\u0442\\\\u043e \\\\u043e\\\\u043d\\\\u0438 \\\\u0433\\\\u0440\\\\u043e\\\\u043c\\\\u043a\\\\u0438\\\\u0435))\\\\n\\\\u0415\\\\u0441\\\\u043b\\\\u0438 \\\\u043a\\\\u0442\\\\u043e-\\\\u0442\\\\u043e \\\\u0441\\\\u043a\\\\u0438\\\\u043d\\\\u0443\\\\u043b \\\\u0434\\\\u0435\\\\u043d\\\\u044c\\\\u0433\\\\u0438 - \\\\u043d\\\\u043e \\\\u043d\\\\u0435 \\\\u043e\\\\u0442\\\\u043f\\\\u0438\\\\u0441\\\\u0430\\\\u043b\\\\u0441\\\\u044f \\\\u043c\\\\u043d\\\\u0435, \\\\u043f\\\\u043e\\\\u0436\\\\u0430\\\\u043b\\\\u0443\\\\u0439\\\\u0441\\\\u0442\\\\u0430, \\\\u043d\\\\u0430\\\\u043f\\\\u0438\\\\u0448\\\\u0438\\\\u0442\\\\u0435 \\\\u0441\\\\u0432\\\\u043e\\\\u0438 \\\\u043a\\\\u043e\\\\u043d\\\\u0442\\\\u0430\\\\u043a\\\\u0442\\\\u043d\\\\u044b\\\\u0435 \\\\u0434\\\\u0430\\\\u043d\\\\u043d\\\\u044b\\\\u0435 \\\\u043c\\\\u043d\\\\u0435 \\\\u0432 \\\\u043b\\\\u0438\\\\u0447\\\\u043a\\\\u0443, \\\\u0447\\\\u0442\\\\u043e\\\\u0431\\\\u044b \\\\u044f \\\\u043c\\\\u043e\\\\u0433\\\\u043b\\\\u0430 \\\\u0432\\\\u0435\\\\u0440\\\\u043d\\\\u0443\\\\u0442\\\\u044c \\\\u0432\\\\u0441\\\\u0435 \\\\u0441\\\\u0440\\\\u0435\\\\u0434\\\\u0441\\\\u0442\\\\u0432\\\\u0430.\\\\n\\\\u041f\\\\u043e\\\\u0442\\\\u0440\\\\u0430\\\\u0447\\\\u0443 \\\\u043d\\\\u0430 \\\\u044d\\\\u0442\\\\u043e \\\\u0432\\\\u0435\\\\u0447\\\\u0435\\\\u0440\\\\u043e\\\\u043a.\\\\n\\\\u0421\\\\u043f\\\\u0430\\\\u0441\\\\u0438\\\\u0431\\\\u043e \\\\u0432\\\\u0430\\\\u043c! \\\\u0412\\\\u044b \\\\u0443 \\\\u043d\\\\u0430\\\\u0441 \\\\u043b\\\\u0443\\\\u0447\\\\u0448\\\\u0438\\\\u0435!\", \"comments\": {\"count\": 30}, \"likes\": {\"count\": 992}}, {\"__typename\": \"GraphImage\", \"id\": \"1654352758515861992\", \"comments_disabled\": false, \"dimensions\": {\"height\": 1080, \"width\": 1080}, \"gating_info\": null, \"media_preview\": \"ACoq6Oq1yoYDd90dR+HGfYH+mayIdYPmHzB8jHjHVfT6+/fPT0rTuLhYQCRls8Docdz/AJ707Diud2jqwtwozsGAQM46bu/1PqRwap6hFtZbheq4GD0znjP16fXFXorhZRlcZ9O4/wA/lVe837duP3Z+93/Menp70k05cl7PzB3hrJPToMsdQM8pjIABGRjnBHqfcfhkcZrWrKtLmKNduAnuOn498/XNagOeRVNOO5Ckpao57T7QKBNIQrMP3YOOP9rB6+g+ufSi5u/k/fJskBwuDzjuTnn8ejHpjmrV+XhO8n9zjgD7wbtg9hnHH3QO1c3JI0jF25Zjk/WnuNS5NYvU0lfPzKfoRWzazNIuXHtnsazrTTZEwXO0P94dwPTHr/KtxmWMBQOvAAqJwU1br3OudVSirpc3W3T/AIfsUp7PILIME9QO/wDhUi2SgDLNnHY8VaSRXJVTyvUelPxVxbilG+xwuMW72EdQ4KsMg8EGsqDS44ZfNzuUfcB7H3Pf2rXprDA4pIoQrkgn8qUoCcmooCTEpPXFT0DK0VuYpGcHKt0Hp/n86s0UUbgf/9k=\", \"owner\": {\"id\": \"27603478\"}, \"thumbnail_src\": \"https://instagram.fhrk1-1.fna.fbcdn.net/t51.2885-15/s640x640/sh0.08/e35/23734639_155575728391676_7366538300472950784_n.jpg\", \"thumbnail_resources\": [{\"src\": \"https://instagram.fhrk1-1.fna.fbcdn.net/t51.2885-15/s150x150/e35/23734639_155575728391676_7366538300472950784_n.jpg\", \"config_width\": 150, \"config_height\": 150}, {\"src\": \"https://instagram.fhrk1-1.fna.fbcdn.net/t51.2885-15/s240x240/e35/23734639_155575728391676_7366538300472950784_n.jpg\", \"config_width\": 240, \"config_height\": 240}, {\"src\": \"https://instagram.fhrk1-1.fna.fbcdn.net/t51.2885-15/s320x320/e35/23734639_155575728391676_7366538300472950784_n.jpg\", \"config_width\": 320, \"config_height\": 320}, {\"src\": \"https://instagram.fhrk1-1.fna.fbcdn.net/t51.2885-15/s480x480/e35/23734639_155575728391676_7366538300472950784_n.jpg\", \"config_width\": 480, \"config_height\": 480}, {\"src\": \"https://instagram.fhrk1-1.fna.fbcdn.net/t51.2885-15/s640x640/sh0.08/e35/23734639_155575728391676_7366538300472950784_n.jpg\", \"config_width\": 640, \"config_height\": 640}], \"is_video\": false, \"code\": \"Bb1cRGYhono\", \"date\": 1511434238, \"display_src\": \"https://instagram.fhrk1-1.fna.fbcdn.net/t51.2885-15/e35/23734639_155575728391676_7366538300472950784_n.jpg\", \"caption\": \"\\\\u0410 \\\\u0441\\\\u043a\\\\u043e\\\\u0440\\\\u043e \\\\u043d\\\\u0430 \\\\u043d\\\\u0430\\\\u0448\\\\u0435\\\\u043c \\\\u0441\\\\u0430\\\\u0439\\\\u0442\\\\u0435 \\\\u043e\\\\u0442\\\\u043a\\\\u0440\\\\u043e\\\\u0435\\\\u0442\\\\u0441\\\\u044f \\\\u043c\\\\u0430\\\\u0433\\\\u0430\\\\u0437\\\\u0438\\\\u043d) www.aloeband.ru\", \"comments\": {\"count\": 6}, \"likes\": {\"count\": 318}}, {\"__typename\": \"GraphImage\", \"id\": \"1654274086652045257\", \"comments_disabled\": false, \"dimensions\": {\"height\": 1080, \"width\": 1080}, \"gating_info\": null, \"media_preview\": \"ACoq1y3OPejOOv8AP/IpxJyQD3/z/wDqpMnANUIMEev6/wBKQZHXJ/P/AOvTiT2JyaAWY8H/AApDHqOP8TmnU1l3gq2CD1qgdMj7NIPbeaALhJyR/hRuOM9Pbio0fPTkHnOT39KkycZ5/WgALkd+Pwo3nrn/AD+VHPv+v8s0mSfp+NAEgyR1I/AU6ohnODn8M0u33P5mkBViUBcDoKnzzVSy+ZOefrVoimgFDHPH6YoLHpk+3NKf8f6ULSAcCR2z+NOpKWkM/9k=\", \"owner\": {\"id\": \"27603478\"}, \"thumbnail_src\": \"https://instagram.fhrk1-1.fna.fbcdn.net/t51.2885-15/s640x640/sh0.08/e35/23734820_827242184148983_4882026262358392832_n.jpg\", \"thumbnail_resources\": [{\"src\": \"https://instagram.fhrk1-1.fna.fbcdn.net/t51.2885-15/s150x150/e35/23734820_827242184148983_4882026262358392832_n.jpg\", \"config_width\": 150, \"config_height\": 150}, {\"src\": \"https://instagram.fhrk1-1.fna.fbcdn.net/t51.2885-15/s240x240/e35/23734820_827242184148983_4882026262358392832_n.jpg\", \"config_width\": 240, \"config_height\": 240}, {\"src\": \"https://instagram.fhrk1-1.fna.fbcdn.net/t51.2885-15/s320x320/e35/23734820_827242184148983_4882026262358392832_n.jpg\", \"config_width\": 320, \"config_height\": 320}, {\"src\": \"https://instagram.fhrk1-1.fna.fbcdn.net/t51.2885-15/s480x480/e35/23734820_827242184148983_4882026262358392832_n.jpg\", \"config_width\": 480, \"config_height\": 480}, {\"src\": \"https://instagram.fhrk1-1.fna.fbcdn.net/t51.2885-15/s640x640/sh0.08/e35/23734820_827242184148983_4882026262358392832_n.jpg\", \"config_width\": 640, \"config_height\": 640}], \"is_video\": false, \"code\": \"Bb1KYRgB2fJ\", \"date\": 1511424860, \"display_src\": \"https://instagram.fhrk1-1.fna.fbcdn.net/t51.2885-15/e35/23734820_827242184148983_4882026262358392832_n.jpg\", \"caption\": \"\\\\u0412\\\\u0441\\\\u0451 \\\\u0440\\\\u0430\\\\u0432\\\\u043d\\\\u043e \\\\u0442\\\\u0443\\\\u0442 \\\\u043d\\\\u0438\\\\u0447\\\\u0435\\\\u0433\\\\u043e \\\\u043d\\\\u0435 \\\\u0440\\\\u0430\\\\u0437\\\\u0431\\\\u0435\\\\u0440\\\\u0435\\\\u0442\\\\u0435, \\\\u0438\\\\u0434\\\\u0438\\\\u0442\\\\u0435 \\\\u0441\\\\u0440\\\\u0430\\\\u0437\\\\u0443 \\\\u0441\\\\u043b\\\\u0443\\\\u0448\\\\u0430\\\\u0442\\\\u044c \\\\u0432 \\\\u0442\\\\u0435\\\\u043b\\\\u0435\\\\u0433\\\\u0440\\\\u0430\\\\u043c, \\\\u0438\\\\u0449\\\\u0438\\\\u0442\\\\u0435 \\\\u0442\\\\u0430\\\\u043c @aloeveraband\", \"comments\": {\"count\": 22}, \"likes\": {\"count\": 469}}, {\"__typename\": \"GraphImage\", \"id\": \"1653866831175702849\", \"comments_disabled\": false, \"dimensions\": {\"height\": 1080, \"width\": 1080}, \"gating_info\": null, \"media_preview\": \"ACoq3JACuSQAOufTuKgCebjIwi/dB6n3P9B+dOA8w7n4A6L/AFPqf0FTZFSMMYpKXIpMg9KYCUlITTd1IZMcCm/5z/k0rGmkj/P/AOqmIQ4pvy0Nimcd+BQApYdv5Gk3UhYDpTd1IYsV5FKQmfnIzj/PFWSB/k1yun/678K6gdKYCECoyAOn6081GaQFOO7VyUI2OvVT/Q9xUm6srVOGRhwfXvV1TwKBo//Z\", \"owner\": {\"id\": \"27603478\"}, \"thumbnail_src\": \"https://instagram.fhrk1-1.fna.fbcdn.net/t51.2885-15/s640x640/sh0.08/e35/23734276_156575614956503_2942465618995052544_n.jpg\", \"thumbnail_resources\": [{\"src\": \"https://instagram.fhrk1-1.fna.fbcdn.net/t51.2885-15/s150x150/e35/23734276_156575614956503_2942465618995052544_n.jpg\", \"config_width\": 150, \"config_height\": 150}, {\"src\": \"https://instagram.fhrk1-1.fna.fbcdn.net/t51.2885-15/s240x240/e35/23734276_156575614956503_2942465618995052544_n.jpg\", \"config_width\": 240, \"config_height\": 240}, {\"src\": \"https://instagram.fhrk1-1.fna.fbcdn.net/t51.2885-15/s320x320/e35/23734276_156575614956503_2942465618995052544_n.jpg\", \"config_width\": 320, \"config_height\": 320}, {\"src\": \"https://instagram.fhrk1-1.fna.fbcdn.net/t51.2885-15/s480x480/e35/23734276_156575614956503_2942465618995052544_n.jpg\", \"config_width\": 480, \"config_height\": 480}, {\"src\": \"https://instagram.fhrk1-1.fna.fbcdn.net/t51.2885-15/s640x640/sh0.08/e35/23734276_156575614956503_2942465618995052544_n.jpg\", \"config_width\": 640, \"config_height\": 640}], \"is_video\": false, \"code\": \"Bbztx7SB1lB\", \"date\": 1511376311, \"display_src\": \"https://instagram.fhrk1-1.fna.fbcdn.net/t51.2885-15/e35/23734276_156575614956503_2942465618995052544_n.jpg\", \"caption\": \"\\\\u0427\\\\u0438\\\\u0442\\\\u0430\\\\u044e \\\\u0432 \\\\u0442\\\\u0435\\\\u043b\\\\u0435\\\\u0433\\\\u0440\\\\u0430\\\\u043c\\\\u0435: \\\\u0438\\\\u0449\\\\u0438\\\\u0442\\\\u0435 @aloeveraband\", \"comments\": {\"count\": 9}, \"likes\": {\"count\": 666}}, {\"__typename\": \"GraphSidecar\", \"id\": \"1653331442153039957\", \"comments_disabled\": false, \"dimensions\": {\"height\": 1080, \"width\": 1080}, \"gating_info\": null, \"media_preview\": null, \"owner\": {\"id\": \"27603478\"}, \"thumbnail_src\": \"https://instagram.fhrk1-1.fna.fbcdn.net/t51.2885-15/s640x640/sh0.08/e35/23734041_265385987317863_7149115798840147968_n.jpg\", \"thumbnail_resources\": [{\"src\": \"https://instagram.fhrk1-1.fna.fbcdn.net/t51.2885-15/s150x150/e35/23734041_265385987317863_7149115798840147968_n.jpg\", \"config_width\": 150, \"config_height\": 150}, {\"src\": \"https://instagram.fhrk1-1.fna.fbcdn.net/t51.2885-15/s240x240/e35/23734041_265385987317863_7149115798840147968_n.jpg\", \"config_width\": 240, \"config_height\": 240}, {\"src\": \"https://instagram.fhrk1-1.fna.fbcdn.net/t51.2885-15/s320x320/e35/23734041_265385987317863_7149115798840147968_n.jpg\", \"config_width\": 320, \"config_height\": 320}, {\"src\": \"https://instagram.fhrk1-1.fna.fbcdn.net/t51.2885-15/s480x480/e35/23734041_265385987317863_7149115798840147968_n.jpg\", \"config_width\": 480, \"config_height\": 480}, {\"src\": \"https://instagram.fhrk1-1.fna.fbcdn.net/t51.2885-15/s640x640/sh0.08/e35/23734041_265385987317863_7149115798840147968_n.jpg\", \"config_width\": 640, \"config_height\": 640}], \"is_video\": false, \"code\": \"Bbx0C_ZhChV\", \"date\": 1511312488, \"display_src\": \"https://instagram.fhrk1-1.fna.fbcdn.net/t51.2885-15/e35/23734041_265385987317863_7149115798840147968_n.jpg\", \"caption\": \"4 \\\\u0443\\\\u0442\\\\u0440\\\\u0430 \\\\u043f\\\\u043e \\\\u041c\\\\u043e\\\\u0441\\\\u043a\\\\u0432\\\\u0435, \\\\u0430 \\\\u044d\\\\u0442\\\\u043e \\\\u0437\\\\u043d\\\\u0430\\\\u0447\\\\u0438\\\\u0442, \\\\u0447\\\\u0442\\\\u043e \\\\u0441\\\\u043e\\\\u043e\\\\u0431\\\\u0449\\\\u0435\\\\u043d\\\\u0438\\\\u0435 \\\\u0434\\\\u043b\\\\u044f \\\\u0412\\\\u043b\\\\u0430\\\\u0434\\\\u0438\\\\u0432\\\\u043e\\\\u0441\\\\u0442\\\\u043e\\\\u043a\\\\u0430.\\\\n\\\\u0412\\\\u041b\\\\u0410\\\\u0414\\\\u0418\\\\u0412\\\\u041e\\\\u0421\\\\u0422\\\\u041e\\\\u041a!\\\\n\\\\ud83d\\\\ude0d\\\\n\\\\u041c\\\\u044b \\\\u0441\\\\u0430\\\\u043c\\\\u0438 \\\\u043d\\\\u0435 \\\\u0437\\\\u043d\\\\u0430\\\\u0435\\\\u043c, \\\\u0432 \\\\u0447\\\\u0435\\\\u043c \\\\u0434\\\\u0435\\\\u043b\\\\u043e. \\\\u041d\\\\u043e \\\\u043f\\\\u043e\\\\u0447\\\\u0435\\\\u043c\\\\u0443-\\\\u0442\\\\u043e \\\\u043b\\\\u044e\\\\u0434\\\\u0438 \\\\u0438\\\\u0437 \\\\u0434\\\\u0440\\\\u0443\\\\u0433\\\\u0438\\\\u0445 \\\\u0433\\\\u043e\\\\u0440\\\\u043e\\\\u0434\\\\u043e\\\\u0432 \\\\u0445\\\\u043e\\\\u0442\\\\u044f\\\\u0442, \\\\u0447\\\\u0442\\\\u043e\\\\u0431 \\\\u043c\\\\u044b \\\\u043a \\\\u0432\\\\u0430\\\\u043c \\\\u043f\\\\u0440\\\\u0438\\\\u0435\\\\u0445\\\\u0430\\\\u043b\\\\u0438. \\\\u0418 \\\\u0441\\\\u043a\\\\u0438\\\\u0434\\\\u044b\\\\u0432\\\\u0430\\\\u044e\\\\u0442 \\\\u0434\\\\u0435\\\\u043d\\\\u044c\\\\u0433\\\\u0438 \\\\u0434\\\\u043b\\\\u044f \\\\u0442\\\\u043e\\\\u0433\\\\u043e, \\\\u0447\\\\u0442\\\\u043e\\\\u0431\\\\u044b \\\\u043e\\\\u0431\\\\u0449\\\\u0438\\\\u043c\\\\u0438 \\\\u0441\\\\u0438\\\\u043b\\\\u0430\\\\u043c\\\\u0438 \\\\u043e\\\\u0440\\\\u0433\\\\u0430\\\\u043d\\\\u0438\\\\u0437\\\\u043e\\\\u0432\\\\u0430\\\\u0442\\\\u044c \\\\u0412\\\\u0410\\\\u041c \\\\u043d\\\\u0430\\\\u0448 \\\\u043a\\\\u043e\\\\u043d\\\\u0446\\\\u0435\\\\u0440\\\\u0442.\\\\n\\\\u2764\\\\ufe0f\\\\n\\\\u042d\\\\u0442\\\\u043e \\\\u0443\\\\u0434\\\\u0438\\\\u0432\\\\u0438\\\\u0442\\\\u0435\\\\u043b\\\\u044c\\\\u043d\\\\u043e \\\\u043f\\\\u0440\\\\u0438\\\\u044f\\\\u0442\\\\u043d\\\\u043e! \\\\u0422\\\\u043e \\\\u0435\\\\u0441\\\\u0442\\\\u044c \\\\u043b\\\\u044e\\\\u0434\\\\u0438 ,\\\\u0443\\\\u0436\\\\u0435 \\\\u043f\\\\u043e\\\\u0431\\\\u044b\\\\u0432\\\\u0430\\\\u0432\\\\u0448\\\\u0438\\\\u0435 \\\\u043d\\\\u0430 \\\\u043d\\\\u0430\\\\u0448\\\\u0435\\\\u043c \\\\u043a\\\\u043e\\\\u043d\\\\u0446\\\\u0435\\\\u0440\\\\u0442\\\\u0435, \\\\u0433\\\\u043e\\\\u0442\\\\u043e\\\\u0432\\\\u044b \\\\u0442\\\\u0440\\\\u0430\\\\u0442\\\\u0438\\\\u0442\\\\u044c \\\\u0441\\\\u043e\\\\u0431\\\\u0441\\\\u0442\\\\u0432\\\\u0435\\\\u043d\\\\u043d\\\\u044b\\\\u0435 \\\\u0434\\\\u0435\\\\u043d\\\\u044c\\\\u0433\\\\u0438, \\\\u0447\\\\u0442\\\\u043e\\\\u0431\\\\u044b \\\\u043a\\\\u0430\\\\u043a \\\\u043c\\\\u043e\\\\u0436\\\\u043d\\\\u043e \\\\u0431\\\\u043e\\\\u043b\\\\u044c\\\\u0448\\\\u0435\\\\u00a0 \\\\u0431\\\\u044b\\\\u043b\\\\u043e\\\\u00a0 \\\\u0432 \\\\u043c\\\\u0438\\\\u0440\\\\u0435 \\\\u0441\\\\u0447\\\\u0430\\\\u0441\\\\u0442\\\\u043b\\\\u0438\\\\u0432\\\\u044b\\\\u0445 \\\\u0438 \\\\u0442\\\\u0430\\\\u043d\\\\u0446\\\\u0443\\\\u044e\\\\u0449\\\\u0438\\\\u0445.\\\\n\\\\ud83d\\\\udc9b\\\\n\\\\u0413\\\\u043e\\\\u0441\\\\u043f\\\\u043e\\\\u0434\\\\u0438! \\\\u041c\\\\u044b \\\\u0447\\\\u0442\\\\u043e! \\\\u0421\\\\u0442\\\\u0440\\\\u043e\\\\u0438\\\\u043c \\\\u043e\\\\u0431\\\\u0449\\\\u0435\\\\u0441\\\\u0442\\\\u0432\\\\u043e \\\\u043e\\\\u0441\\\\u043d\\\\u043e\\\\u0432\\\\u0430\\\\u043d\\\\u043d\\\\u043e\\\\u0435 \\\\u043d\\\\u0430 \\\\u043b\\\\u044e\\\\u0431\\\\u0432\\\\u0438 \\\\u0438 \\\\u0437\\\\u0430\\\\u0431\\\\u043e\\\\u0442\\\\u0435 \\\\u043e \\\\u0447\\\\u0435\\\\u043b\\\\u043e\\\\u0432\\\\u0435\\\\u043a\\\\u0435?!\\\\n\\\\ud83d\\\\udc9a\\\\n\\\\u041c\\\\u044b \\\\u043d\\\\u0435 \\\\u0437\\\\u043d\\\\u0430\\\\u0435\\\\u043c, \\\\u0447\\\\u0435\\\\u043c \\\\u0437\\\\u0430\\\\u043a\\\\u043e\\\\u043d\\\\u0447\\\\u0438\\\\u0442\\\\u0441\\\\u044f \\\\u044d\\\\u0442\\\\u043e\\\\u0442 \\\\u044d\\\\u043a\\\\u0441\\\\u043f\\\\u0435\\\\u0440\\\\u0438\\\\u043c\\\\u0435\\\\u043d, \\\\u043d\\\\u043e \\\\u043e\\\\u043d \\\\u0443\\\\u0436\\\\u0435 \\\\u043f\\\\u043e\\\\u0434\\\\u0430\\\\u0440\\\\u0438\\\\u043b \\\\u043d\\\\u0430\\\\u043c \\\\u0432\\\\u0435\\\\u0440\\\\u0443 \\\\u0432 \\\\u0434\\\\u043e\\\\u0431\\\\u0440\\\\u043e.\\\\n\\\\ud83d\\\\udc9c\\\\n\\\\u0415\\\\u0441\\\\u043b\\\\u0438 \\\\u0436\\\\u0435 \\\\u044d\\\\u043a\\\\u0441\\\\u043f\\\\u0435\\\\u0440\\\\u0438\\\\u043c\\\\u0435\\\\u043d\\\\u0442 \\\\u043f\\\\u0440\\\\u043e\\\\u0439\\\\u0434\\\\u0435\\\\u0442 \\\\u0443\\\\u0441\\\\u043f\\\\u0435\\\\u0448\\\\u043d\\\\u043e... \\\\u042d\\\\u0442\\\\u043e \\\\u0431\\\\u0443\\\\u0434\\\\u0435\\\\u0442 \\\\u0431\\\\u0435\\\\u0441\\\\u043f\\\\u0440\\\\u0435\\\\u0446\\\\u0435\\\\u043d\\\\u0434\\\\u0435\\\\u0442\\\\u043d\\\\u043e\\\\u0435 \\\\u0441\\\\u043e\\\\u0431\\\\u044b\\\\u0442\\\\u0438\\\\u0435.\\\\n\\\\u042d\\\\u0442\\\\u043e \\\\u0437\\\\u043d\\\\u0430\\\\u0447\\\\u0438\\\\u0442, \\\\u0447\\\\u0442\\\\u043e \\\\u0434\\\\u043b\\\\u044f \\\\u0434\\\\u043e\\\\u0441\\\\u0442\\\\u0438\\\\u0436\\\\u0435\\\\u043d\\\\u0438\\\\u044f \\\\u0436\\\\u0435\\\\u043b\\\\u0430\\\\u0435\\\\u043c\\\\u043e\\\\u0433\\\\u043e \\\\u0432\\\\u0430\\\\u043c \\\\u0431\\\\u043e\\\\u043b\\\\u044c\\\\u0448\\\\u0435 \\\\u043d\\\\u0435 \\\\u043d\\\\u0443\\\\u0436\\\\u043d\\\\u044b \\\\u043f\\\\u043e\\\\u0441\\\\u0440\\\\u0435\\\\u0434\\\\u043d\\\\u0438\\\\u043a\\\\u0438: \\\\u043a\\\\u043b\\\\u0443\\\\u0431\\\\u044b, \\\\u043e\\\\u0440\\\\u0433\\\\u0430\\\\u043d\\\\u0438\\\\u0437\\\\u0430\\\\u0442\\\\u043e\\\\u0440\\\\u044b, \\\\u043f\\\\u0440\\\\u043e\\\\u043c\\\\u043e\\\\u0443\\\\u0442\\\\u0435\\\\u0440\\\\u044b, \\\\u0431\\\\u0438\\\\u043b\\\\u0435\\\\u0442\\\\u043d\\\\u044b\\\\u0435 \\\\u043a\\\\u0430\\\\u0441\\\\u0441\\\\u044b, \\\\u0440\\\\u0435\\\\u043a\\\\u043b\\\\u0430\\\\u043c\\\\u0449\\\\u0438\\\\u043a\\\\u0438, \\\\u043f\\\\u0438\\\\u0430\\\\u0440\\\\u0449\\\\u0438\\\\u043a\\\\u0438.\\\\n\\\\u042d\\\\u0442\\\\u043e \\\\u0431\\\\u0443\\\\u0434\\\\u0435\\\\u0442 \\\\u0437\\\\u043d\\\\u0430\\\\u0447\\\\u0438\\\\u0442, \\\\u0447\\\\u0442\\\\u043e \\\\u0440\\\\u0435\\\\u0448\\\\u0430\\\\u0435\\\\u0442\\\\u0435 \\\\u0432\\\\u044b. \\\\u0412\\\\u043e\\\\u0442 \\\\u0442\\\\u0430\\\\u043a \\\\u043b\\\\u0435\\\\u0433\\\\u043a\\\\u043e, \\\\u0448\\\\u0443\\\\u0442\\\\u044f, \\\\u0441 \\\\u043b\\\\u044e\\\\u0431\\\\u043e\\\\u0432\\\\u044c\\\\u044e \\\\u0432 \\\\u0441\\\\u0435\\\\u0440\\\\u0434\\\\u0446\\\\u0435... \\\\u043c\\\\u044b \\\\u0441\\\\u043b\\\\u043e\\\\u043c\\\\u0430\\\\u0435\\\\u043c \\\\u0441\\\\u0438\\\\u0441\\\\u0442\\\\u0435\\\\u043c\\\\u0443.\\\\n\\\\u041a\\\\u0430\\\\u043a \\\\u0436\\\\u0435 \\\\u044d\\\\u0442\\\\u043e \\\\u0438\\\\u043d\\\\u0442\\\\u0435\\\\u0440\\\\u0435\\\\u0441\\\\u043d\\\\u043e. \\\\u041a\\\\u0430\\\\u043a \\\\u0431\\\\u044b \\\\u043d\\\\u0435 \\\\u043b\\\\u0435\\\\u0433\\\\u043b\\\\u0438 \\\\u043a\\\\u0430\\\\u0440\\\\u0442\\\\u044b - \\\\u0432\\\\u044b\\\\u0445\\\\u043e\\\\u0434\\\\u0438\\\\u0442, \\\\u043c\\\\u044b \\\\u0443\\\\u0436\\\\u0435 \\\\u0432\\\\u044b\\\\u0438\\\\u0433\\\\u0440\\\\u0430\\\\u043b\\\\u0438.\\\\n\\\\ud83d\\\\udc9c\\\\n\\\\u0422\\\\u0435\\\\u043f\\\\u0435\\\\u0440\\\\u044c \\\\u043e\\\\u0442\\\\u043f\\\\u0440\\\\u0430\\\\u0432\\\\u0438\\\\u0442\\\\u044c \\\\u043b\\\\u044e\\\\u0431\\\\u0443\\\\u044e \\\\u0436\\\\u0435\\\\u043b\\\\u0430\\\\u0435\\\\u0438\\\\u043c\\\\u0443\\\\u044e \\\\u0441\\\\u0443\\\\u043c\\\\u043c\\\\u0443 \\\\u043c\\\\u043e\\\\u0436\\\\u043d\\\\u043e \\\\u0432\\\\u043e\\\\u0442 \\\\u0437\\\\u0434\\\\u0435\\\\u0441\\\\u044c.\\\\u00a0https://radario.ru/events/211667\\\\n\\\\u00a0\\\\u0423\\\\u0434\\\\u043e\\\\u0431\\\\u043d\\\\u043e. \\\\u0411\\\\u044b\\\\u0441\\\\u0442\\\\u0440\\\\u043e. \\\\u041d\\\\u0435 \\\\u0437\\\\u0430\\\\u0431\\\\u044b\\\\u0432\\\\u0430\\\\u0439\\\\u0442\\\\u0435 \\\\u043f\\\\u0440\\\\u0438\\\\u0441\\\\u044b\\\\u043b\\\\u0430\\\\u0442\\\\u044c \\\\u0432 \\\\u043b\\\\u044e\\\\u0431\\\\u044b\\\\u0445 \\\\u0441\\\\u043e\\\\u0446\\\\u0441\\\\u0435\\\\u0442\\\\u044f\\\\u0445 \\\\u0441\\\\u043a\\\\u0440\\\\u0438\\\\u043d\\\\u044b \\\\u043f\\\\u0435\\\\u0440\\\\u0435\\\\u0432\\\\u043e\\\\u0434\\\\u0430 \\\\u0438 \\\\u0441\\\\u0432\\\\u043e\\\\u0439 \\\\u043d\\\\u043e\\\\u043c\\\\u0435\\\\u0440 \\\\u043a\\\\u0430\\\\u0440\\\\u0442\\\\u044b, \\\\u0447\\\\u0442\\\\u043e\\\\u0431 \\\\u043c\\\\u044b \\\\u043c\\\\u043e\\\\u0433\\\\u043b\\\\u0438 \\\\u0432\\\\u0435\\\\u0440\\\\u043d\\\\u0443\\\\u0442\\\\u044c \\\\u0434\\\\u0435\\\\u043d\\\\u044c\\\\u0433\\\\u0438 \\\\u043f\\\\u0440\\\\u0438 \\\\u043d\\\\u0435\\\\u043e\\\\u0431\\\\u0445\\\\u043e\\\\u0434\\\\u0438\\\\u043c\\\\u043e\\\\u0441\\\\u0442\\\\u0438.\\\\n#\\\\u0430\\\\u043b\\\\u043e\\\\u044d\\\\u0432\\\\u0435\\\\u0440\\\\u0430 #\\\\u0432\\\\u043b\\\\u0430\\\\u0434\\\\u0438\\\\u0432\\\\u043e\\\\u0441\\\\u0442\\\\u043e\\\\u043a #\\\\u043c\\\\u0443\\\\u0437\\\\u044b\\\\u043a\\\\u0430\\\\n\\\\n\\\\u041b\\\\u044e\\\\u0431\\\\u043e\\\\u043e\\\\u043e\\\\u0432\\\\u044c.\", \"comments\": {\"count\": 3}, \"likes\": {\"count\": 310}}, {\"__typename\": \"GraphImage\", \"id\": \"1652608321527805187\", \"comments_disabled\": false, \"dimensions\": {\"height\": 718, \"width\": 1080}, \"gating_info\": null, \"media_preview\": \"ACobr22n+ZlnOFDEfLyTg469AP1NXjp0LEMgGR/DkkHHr3H1H5UmnPG8XlxksQSSCMHk+nI/HNakUJUbs9c0xGClmxBEpCMp4ySQTxgEf3evI59ajkjYMFCsXzubIyGYHgj+JRjOfbgjvWlcXfkymOT5mwSjZHGexH5DJ5/Os97h948rJG1mx3B4DH14x7d6LhYbPaSN+/m5QEdBhnGfTnb3x2x0FVWMWTiPAz/fq2l45+4xABAxkYCkgbQG64H+cCoWByeV6/3T/wDE0BbuTXF0iBjbHCyfewMcgdvQ8n+dR22pzxkAkyDGdp5/XqPX379azFPBHbrXR6eoS1VlGGctuPc4OBRuGxlAvdb5R99csQB6noPwyc/hT0n2YcKGYk7h2YOBgZznqDx9fWo7n5HkK8fMvTjqDn86rxH73up/TBFIZNMRH12kO24qM/Ljpz1I546VfSN2UMNoBAP/AC0/+KrKi+ZSDzjJ/Haf8KFuZQAAxwPelew7XP/Z\", \"owner\": {\"id\": \"27603478\"}, \"thumbnail_src\": \"https://instagram.fhrk1-1.fna.fbcdn.net/t51.2885-15/s640x640/sh0.08/e35/c181.0.718.718/23824477_822430024584314_4205470317969145856_n.jpg\", \"thumbnail_resources\": [{\"src\": \"https://instagram.fhrk1-1.fna.fbcdn.net/t51.2885-15/s150x150/e35/c181.0.718.718/23824477_822430024584314_4205470317969145856_n.jpg\", \"config_width\": 150, \"config_height\": 150}, {\"src\": \"https://instagram.fhrk1-1.fna.fbcdn.net/t51.2885-15/s240x240/e35/c181.0.718.718/23824477_822430024584314_4205470317969145856_n.jpg\", \"config_width\": 240, \"config_height\": 240}, {\"src\": \"https://instagram.fhrk1-1.fna.fbcdn.net/t51.2885-15/s320x320/e35/c181.0.718.718/23824477_822430024584314_4205470317969145856_n.jpg\", \"config_width\": 320, \"config_height\": 320}, {\"src\": \"https://instagram.fhrk1-1.fna.fbcdn.net/t51.2885-15/s480x480/e35/c181.0.718.718/23824477_822430024584314_4205470317969145856_n.jpg\", \"config_width\": 480, \"config_height\": 480}, {\"src\": \"https://instagram.fhrk1-1.fna.fbcdn.net/t51.2885-15/s640x640/sh0.08/e35/c181.0.718.718/23824477_822430024584314_4205470317969145856_n.jpg\", \"config_width\": 640, \"config_height\": 640}], \"is_video\": false, \"code\": \"BbvPoM1hPUD\", \"date\": 1511226285, \"display_src\": \"https://instagram.fhrk1-1.fna.fbcdn.net/t51.2885-15/e35/23824477_822430024584314_4205470317969145856_n.jpg\", \"caption\": \"\\\\u0414\\\\u043b\\\\u044f \\\\u043a\\\\u043e\\\\u0433\\\\u043e \\\\u0442\\\\u044b, \\\\u0412\\\\u0435\\\\u0440\\\\u0430, \\\\u0434\\\\u0435\\\\u043b\\\\u0430\\\\u0435\\\\u0448\\\\u044c \\\\u043f\\\\u043e\\\\u0441\\\\u0442\\\\u044b \\\\u0432 4 \\\\u0443\\\\u0442\\\\u0440\\\\u0430 \\\\u043f\\\\u043e \\\\u041c\\\\u043e\\\\u0441\\\\u043a\\\\u0432\\\\u0435?!\\\\n\\\\u0414\\\\u043b\\\\u044f \\\\u0412\\\\u041b\\\\u0410\\\\u0414\\\\u0418\\\\u0412\\\\u041e\\\\u0421\\\\u0422\\\\u041e\\\\u041a\\\\u0410!\\\\n\\\\u203c\\\\ufe0f\\\\u041c\\\\u042b \\\\u041d\\\\u0418\\\\u041a\\\\u041e\\\\u0413\\\\u0414\\\\u0410 \\\\u041a \\\\u0412\\\\u0410\\\\u041c \\\\u0411\\\\u041e\\\\u041b\\\\u042c\\\\u0428\\\\u0415 \\\\u041d\\\\u0415 \\\\u041f\\\\u0420\\\\u0418\\\\u041b\\\\u0415\\\\u0422\\\\u0418\\\\u041c\\\\n\\\\u041c\\\\u044b \\\\u0443\\\\u0436\\\\u0435 \\\\u0442\\\\u0440\\\\u0438 \\\\u0440\\\\u0430\\\\u0437\\\\u0430 \\\\u0431\\\\u044b\\\\u043b\\\\u0438 \\\\u0432\\\\u043e \\\\u0412\\\\u043b\\\\u0430\\\\u0434\\\\u0438\\\\u043a\\\\u0435. \\\\u041c\\\\u044b \\\\u043d\\\\u0430 \\\\u0442\\\\u0440\\\\u0438 \\\\u0440\\\\u0430\\\\u0437\\\\u0430 \\\\u0441\\\\u0447\\\\u0430\\\\u0441\\\\u0442\\\\u043b\\\\u0438\\\\u0432\\\\u0435\\\\u0435 \\\\u0431\\\\u043e\\\\u043b\\\\u044c\\\\u0448\\\\u0438\\\\u043d\\\\u0441\\\\u0442\\\\u0432\\\\u0430 \\\\u0436\\\\u0438\\\\u0442\\\\u0435\\\\u043b\\\\u0435\\\\u0439 \\\\u0420\\\\u043e\\\\u0441\\\\u0441\\\\u0438\\\\u0438.\\\\u00a0 \\\\u041d\\\\u043e \\\\u043c\\\\u044b \\\\u043a \\\\u0432\\\\u0430\\\\u043c \\\\u0431\\\\u043e\\\\u043b\\\\u044c\\\\u0448\\\\u0435 \\\\u043d\\\\u0435 \\\\u043f\\\\u0440\\\\u0438\\\\u0435\\\\u0434\\\\u0435\\\\u043c.\\\\n\\\\u041f\\\\u043e\\\\u0447\\\\u0435\\\\u043c\\\\u0443? \\\\u0414\\\\u043e\\\\u0440\\\\u043e\\\\u0433\\\\u043e, \\\\u0431\\\\u043b\\\\u0026\\\\u0442\\\\u044c!\\\\n\\\\u041f\\\\u0440\\\\u0438\\\\u0432\\\\u0435\\\\u0437\\\\u0442\\\\u0438 \\\\u0433\\\\u0440\\\\u0443\\\\u043f\\\\u043f\\\\u0443 \\\\u0438\\\\u0437 \\\\u041c\\\\u043e\\\\u0441\\\\u043a\\\\u0432\\\\u044b \\\\u0432\\\\u043e \\\\u0412\\\\u043b\\\\u0430\\\\u0434\\\\u0438\\\\u043a - \\\\u0434\\\\u043e\\\\u0440\\\\u043e\\\\u0433\\\\u043e. \\\\u0420\\\\u0435\\\\u0447\\\\u044c \\\\u043d\\\\u0435 \\\\u043f\\\\u0440\\\\u043e \\\\u0433\\\\u043e\\\\u043d\\\\u043e\\\\u0440\\\\u0430\\\\u0440. \\\\u0421\\\\u0430\\\\u043c \\\\u043f\\\\u0435\\\\u0440\\\\u0435\\\\u043b\\\\u0435\\\\u0442 \\\\u0438 \\\\u0432\\\\u044b\\\\u043f\\\\u043e\\\\u043b\\\\u043d\\\\u0435\\\\u043d\\\\u0438\\\\u0435 \\\\u0442\\\\u0435\\\\u0445\\\\u043d\\\\u0438\\\\u0447\\\\u0435\\\\u0441\\\\u043a\\\\u043e\\\\u0433\\\\u043e \\\\u0440\\\\u0430\\\\u0439\\\\u0434\\\\u0435\\\\u0440\\\\u0430 \\\\u0441\\\\u043a\\\\u043b\\\\u0430\\\\u0434\\\\u044b\\\\u0432\\\\u0430\\\\u0435\\\\u0442\\\\u0441\\\\u044f \\\\u0432 \\\\u043d\\\\u0435\\\\u043f\\\\u0440\\\\u0438\\\\u043b\\\\u0438\\\\u0447\\\\u043d\\\\u0443\\\\u044e \\\\u0441\\\\u0443\\\\u043c\\\\u043c\\\\u0443.\\\\n\\\\u0422\\\\u0430\\\\u043a \\\\u0447\\\\u0442\\\\u043e \\\\u043e\\\\u0442\\\\u0434\\\\u0435\\\\u043b\\\\u044c\\\\u043d\\\\u044b\\\\u0439 \\\\u0440\\\\u0435\\\\u0441\\\\u043f\\\\u0435\\\\u043a\\\\u0442 \\\\u043d\\\\u0430\\\\u0448\\\\u0435\\\\u043c\\\\u0443 \\\\u043e\\\\u0440\\\\u0433\\\\u0430\\\\u043d\\\\u0438\\\\u0437\\\\u0430\\\\u0442\\\\u043e\\\\u0440\\\\u0443, \\\\u043a\\\\u043e\\\\u0442\\\\u043e\\\\u0440\\\\u044b\\\\u0439 \\\\u0442\\\\u0440\\\\u0438 \\\\u0433\\\\u043e\\\\u0434\\\\u0430 \\\\u0434\\\\u0435\\\\u043b\\\\u0430\\\\u043b \\\\u043d\\\\u0430\\\\u0448\\\\u0438 \\\\u043a\\\\u043e\\\\u043d\\\\u0446\\\\u0435\\\\u0440\\\\u0442\\\\u044b, \\\\u0443\\\\u0445\\\\u043e\\\\u0434\\\\u044f \\\\u0432 \\\\u0436\\\\u0435\\\\u0441\\\\u0442\\\\u043a\\\\u0438\\\\u0439 \\\\u043c\\\\u0438\\\\u043d\\\\u0443\\\\u0441. \\\\u2753\\\\u0427\\\\u041e \\\\u0414\\\\u0415\\\\u041b\\\\u0410\\\\u0422\\\\u042c-\\\\u0422\\\\u041e , \\\\u0427\\\\u0422\\\\u041e\\\\u0411 \\\\u0410\\\\u041b\\\\u041e\\\\u042d\\\\u0412\\\\u0415\\\\u0420\\\\u0410 \\\\u041f\\\\u0420\\\\u0418\\\\u0415\\\\u0425\\\\u0410\\\\u041b\\\\u0418 \\\\u0412\\\\u041e \\\\u0412\\\\u041b\\\\u0410\\\\u0414\\\\u0418\\\\u041a?\\\\n\\\\u0428\\\\u0430\\\\u043d\\\\u0441\\\\u043e\\\\u0432 \\\\u043d\\\\u0430 \\\\u043d\\\\u0430\\\\u0448\\\\u0443 \\\\u0432\\\\u0441\\\\u0442\\\\u0440\\\\u0435\\\\u0447\\\\u0443 \\\\u043c\\\\u0430\\\\u043b\\\\u043e.\\\\n\\\\u041d\\\\u043e. \\\\u0412\\\\u0447\\\\u0435\\\\u0440\\\\u0430 \\\\u0431\\\\u044b\\\\u043b\\\\u0430 \\\\u043f\\\\u0440\\\\u044f\\\\u043c\\\\u0430\\\\u044f \\\\u0442\\\\u0440\\\\u0430\\\\u043d\\\\u0441\\\\u043b\\\\u044f\\\\u0446\\\\u0438\\\\u044f \\\\u0441 \\\\u044d\\\\u0444\\\\u0438\\\\u0440\\\\u0430 \\\\u043d\\\\u0430 \\\\u041d\\\\u0430\\\\u0448\\\\u0435\\\\u043c \\\\u0440\\\\u0430\\\\u0434\\\\u0438\\\\u043e. \\\\u0412 \\\\u043e\\\\u0447\\\\u0435\\\\u0440\\\\u0435\\\\u0434\\\\u043d\\\\u043e\\\\u0439 \\\\u0440\\\\u0430\\\\u0437 \\\\u0440\\\\u0435\\\\u0431\\\\u044f\\\\u0442\\\\u0430 \\\\u0438\\\\u0437 \\\\u0412\\\\u043b\\\\u0430\\\\u0434\\\\u0438\\\\u043a\\\\u0430 \\\\u043f\\\\u0438\\\\u0441\\\\u0430\\\\u043b\\\\u0438, \\\\u0447\\\\u0442\\\\u043e \\\\u0441\\\\u043e\\\\u0441\\\\u043a\\\\u0443\\\\u0447\\\\u0438\\\\u043b\\\\u0438\\\\u0441\\\\u044c \\\\u043f\\\\u043e \\\\u043d\\\\u0430\\\\u0448\\\\u0438\\\\u043c \\\\u043a\\\\u043e\\\\u043d\\\\u0446\\\\u0435\\\\u0440\\\\u0442\\\\u0430\\\\u043c.\\\\n\\\\u0415\\\\u0441\\\\u043b\\\\u0438 \\\\u0431\\\\u044b \\\\u0432\\\\u044b \\\\u0441\\\\u043e\\\\u0431\\\\u0440\\\\u0430\\\\u043b\\\\u0438 \\\\u0434\\\\u0435\\\\u043d\\\\u044c\\\\u0433\\\\u0438 \\\\u043d\\\\u0430\\\\u043c \\\\u043d\\\\u0430 \\\\u0431\\\\u0438\\\\u043b\\\\u0435\\\\u0442\\\\u044b - \\\\u0434\\\\u0430 \\\\u043c\\\\u044b \\\\u0431\\\\u044b \\\\u043f\\\\u0440\\\\u0438\\\\u0435\\\\u0445\\\\u0430\\\\u043b\\\\u0438, \\\\u043d\\\\u0435 \\\\u0437\\\\u0430\\\\u0434\\\\u0443\\\\u043c\\\\u044b\\\\u0432\\\\u0430\\\\u044f\\\\u0441\\\\u044c! - \\\\u0441\\\\u043a\\\\u0430\\\\u0437\\\\u0430\\\\u043b\\\\u0430 \\\\u044f\\\\n\\\\u0421\\\\u043e\\\\u0431\\\\u0435\\\\u0440\\\\u0435\\\\u043c! - \\\\u0441\\\\u043a\\\\u0430\\\\u0437\\\\u0430\\\\u043b \\\\u0412\\\\u043b\\\\u0430\\\\u0434\\\\u0438\\\\u0432\\\\u043e\\\\u0441\\\\u0442\\\\u043e\\\\u043a. \\\\u2753\\\\u0410 \\\\u041f\\\\u041e\\\\u0427\\\\u0415\\\\u041c\\\\u0423 \\\\u0411\\\\u042b \\\\u041d\\\\u0415 \\\\u041f\\\\u041e\\\\u041f\\\\u0420\\\\u041e\\\\u0411\\\\u041e\\\\u0412\\\\u0410\\\\u0422\\\\u042c?\\\\n\\\\u042d\\\\u0442\\\\u043e \\\\u0431\\\\u0443\\\\u0434\\\\u0435\\\\u0442 \\\\u043f\\\\u0435\\\\u0440\\\\u0432\\\\u044b\\\\u0439 \\\\u0441\\\\u043b\\\\u0443\\\\u0447\\\\u0430\\\\u0439, \\\\u043a\\\\u043e\\\\u0433\\\\u0434\\\\u0430 \\\\u043a\\\\u043e\\\\u043d\\\\u0446\\\\u0435\\\\u0440\\\\u0442 \\\\u0432 \\\\u0433\\\\u043e\\\\u0440\\\\u043e\\\\u0434\\\\u0435 \\\\u0434\\\\u0435\\\\u043b\\\\u0430\\\\u0435\\\\u0442 \\\\u043d\\\\u0435 \\\\u043e\\\\u0440\\\\u0433\\\\u0430\\\\u043d\\\\u0438\\\\u0437\\\\u0430\\\\u0442\\\\u043e\\\\u0440, \\\\u043d\\\\u0435 \\\\u043a\\\\u043b\\\\u0443\\\\u0431,\\\\u00a0 \\\\u0430 \\\\u0432\\\\u044b.\\\\n\\\\u0415\\\\u0441\\\\u043b\\\\u0438 \\\\u0432\\\\u044b \\\\u0434\\\\u0435\\\\u0439\\\\u0441\\\\u0442\\\\u0432\\\\u0438\\\\u0442\\\\u0435\\\\u043b\\\\u044c\\\\u043d\\\\u043e \\\\u0445\\\\u043e\\\\u0442\\\\u0438\\\\u0442\\\\u0435 \\\\u043a\\\\u043e\\\\u043d\\\\u0446\\\\u0435\\\\u0440\\\\u0442 - \\\\u043c\\\\u044b \\\\u043f\\\\u0440\\\\u0438\\\\u0435\\\\u0434\\\\u0435\\\\u043c.\\\\n\\\\u041c\\\\u044b \\\\u0441\\\\u043f\\\\u0438\\\\u0441\\\\u0430\\\\u043b\\\\u0438\\\\u0441\\\\u044c \\\\u0441 \\\\u043a\\\\u043b\\\\u0443\\\\u0431\\\\u043e\\\\u043c, \\\\u043f\\\\u043e\\\\u0441\\\\u0447\\\\u0438\\\\u0442\\\\u0430\\\\u043b\\\\u0438 \\\\u0430\\\\u0440\\\\u0435\\\\u043d\\\\u0434\\\\u0443 \\\\u043f\\\\u043b\\\\u043e\\\\u0449\\\\u0430\\\\u0434\\\\u043a\\\\u0438, \\\\u0442\\\\u0435\\\\u0445\\\\u043d\\\\u0438\\\\u0447\\\\u0435\\\\u0441\\\\u043a\\\\u0438\\\\u0439 \\\\u0440\\\\u0430\\\\u0439\\\\u0434\\\\u0435\\\\u0440, \\\\u0443\\\\u0437\\\\u043d\\\\u0430\\\\u043b\\\\u0438 \\\\u0441\\\\u0432\\\\u043e\\\\u0431\\\\u043e\\\\u0434\\\\u043d\\\\u0443\\\\u044e \\\\u0434\\\\u0430\\\\u0442\\\\u0443, \\\\u043f\\\\u043e\\\\u0441\\\\u043c\\\\u043e\\\\u0442\\\\u0440\\\\u0435\\\\u043b\\\\u0438 \\\\u0431\\\\u0438\\\\u043b\\\\u0435\\\\u0442\\\\u044b.\\\\n\\\\u041f\\\\u043e\\\\u043b\\\\u0443\\\\u0447\\\\u0430\\\\u0435\\\\u0442\\\\u0441\\\\u044f: 8 \\\\u043c\\\\u0430\\\\u0440\\\\u0442\\\\u0430, \\\\u043a\\\\u043b\\\\u0443\\\\u0431 \\\\u0412\\\\u043e\\\\u0434\\\\u043e\\\\u043b\\\\u0435\\\\u0439 (\\\\u042f \\\\u0432\\\\u043e\\\\u0434\\\\u043e\\\\u043b\\\\u0435\\\\u0439! \\\\u042d\\\\u0442\\\\u043e \\\\u0437\\\\u043d\\\\u0430\\\\u043a!)\\\\n\\\\u0446\\\\u0435\\\\u043d\\\\u0430 \\\\u0432\\\\u043e\\\\u043f\\\\u0440\\\\u043e\\\\u0441\\\\u0430 \\\\u043e\\\\u043a\\\\u043e\\\\u043b\\\\u043e 200 000\\\\u0440 (\\\\u043c\\\\u044b \\\\u0436 \\\\u0433\\\\u043e\\\\u0432\\\\u043e\\\\u0440\\\\u0438\\\\u043b\\\\u0438, \\\\u0447\\\\u0442\\\\u043e \\\\u0434\\\\u043e\\\\u0440\\\\u043e\\\\u0433\\\\u043e). \\\\ud83d\\\\udd06\\\\u0417\\\\u0410\\\\u041d\\\\u0418\\\\u041c\\\\u0410\\\\u0422\\\\u0415\\\\u041b\\\\u042c\\\\u041d\\\\u0410\\\\u042f \\\\u041c\\\\u0410\\\\u0422\\\\u0415\\\\u041c\\\\u0410\\\\u0422\\\\u0418\\\\u041a\\\\u0410\\\\n\\\\n\\\\u0421\\\\u0440\\\\u0435\\\\u0434\\\\u043d\\\\u044f\\\\u044f \\\\u0446\\\\u0435\\\\u043d\\\\u0430 \\\\u0431\\\\u0438\\\\u043b\\\\u0435\\\\u0442\\\\u0430 \\\\u043d\\\\u0430 \\\\u043a\\\\u043e\\\\u043d\\\\u0446\\\\u0435\\\\u0440\\\\u0442 \\\\u0433\\\\u0434\\\\u0435-\\\\u0442\\\\u043e 700\\\\u0440. \\\\u0422\\\\u043e \\\\u0435\\\\u0441\\\\u0442\\\\u044c, \\\\u0435\\\\u0441\\\\u043b\\\\u0438 285 \\\\u0447\\\\u0435\\\\u043b\\\\u043e\\\\u0432\\\\u0435\\\\u043a \\\\u0438\\\\u0437 \\\\u0412\\\\u043b\\\\u0430\\\\u0434\\\\u0438\\\\u0432\\\\u043e\\\\u0441\\\\u0442\\\\u043e\\\\u043a\\\\u0430 \\\\u0445\\\\u043e\\\\u0442\\\\u044f\\\\u0442 \\\\u043d\\\\u0430 \\\\u043d\\\\u0430\\\\u0448 \\\\u043a\\\\u043e\\\\u043d\\\\u0446\\\\u0435\\\\u0440\\\\u0442 \\\\u0438 \\\\u043a\\\\u0430\\\\u043a \\\\u0431\\\\u044b \\\\u0437\\\\u0430\\\\u0440\\\\u0430\\\\u043d\\\\u0435\\\\u0435 \\\\u044d\\\\u0442\\\\u043e\\\\u0442 \\\\u0431\\\\u0438\\\\u043b\\\\u0435\\\\u0442 \\\\u043a\\\\u0443\\\\u043f\\\\u044f\\\\u0442, \\\\u0442\\\\u043e \\\\u043c\\\\u044b \\\\u0431\\\\u0443\\\\u0434\\\\u0435\\\\u043c \\\\u0432\\\\u043c\\\\u0435\\\\u0441\\\\u0442\\\\u0435 \\\\u0441 \\\\u0432\\\\u0430\\\\u043c\\\\u0438 \\\\u043f\\\\u0440\\\\u0430\\\\u0437\\\\u0434\\\\u043d\\\\u043e\\\\u0432\\\\u0430\\\\u0442\\\\u044c \\\\u0432\\\\u0435\\\\u0441\\\\u043d\\\\u0443 \\\\u0438 \\\\u0443\\\\u0441\\\\u0442\\\\u0440\\\\u043e\\\\u0438\\\\u043c \\\\u0442\\\\u0430\\\\u043d\\\\u0446\\\\u044b.\\\\n\\\\u0412\\\\u044b \\\\u043c\\\\u043e\\\\u0436\\\\u0435\\\\u0442\\\\u0435 \\\\u0437\\\\u0430\\\\u043a\\\\u0438\\\\u0434\\\\u044b\\\\u0432\\\\u0430\\\\u0442\\\\u044c \\\\u0431\\\\u043e\\\\u043b\\\\u044c\\\\u0448\\\\u0435/\\\\u043c\\\\u0435\\\\u043d\\\\u044c\\\\u0448\\\\u0435 \\\\u0438 \\\\u043a\\\\u0430\\\\u043a \\\\u0442\\\\u043e\\\\u043b\\\\u044c\\\\u043a\\\\u043e \\\\u043d\\\\u0430\\\\u0431\\\\u0435\\\\u0440\\\\u0435\\\\u0442\\\\u0441\\\\u044f \\\\u043d\\\\u0443\\\\u0436\\\\u043d\\\\u0430\\\\u044f \\\\u0441\\\\u0443\\\\u043c\\\\u043c\\\\u0430 - \\\\u043c\\\\u044b \\\\u0435\\\\u0434\\\\u0435\\\\u043c. \\\\u2753\\\\u0410 \\\\u0415\\\\u0421\\\\u041b\\\\u0418 \\\\u041d\\\\u0415 \\\\u0421\\\\u041e\\\\u0411\\\\u0415\\\\u0420\\\\u0415\\\\u0422\\\\u0415?\\\\n\\\\u041d\\\\u0435 \\\\u0441\\\\u043e\\\\u0431\\\\u0435\\\\u0440\\\\u0435\\\\u043c - \\\\u043e\\\\u0442\\\\u043f\\\\u0440\\\\u0430\\\\u0432\\\\u0438\\\\u043c \\\\u0432\\\\u0430\\\\u043c \\\\u0434\\\\u0435\\\\u043d\\\\u044c\\\\u0433\\\\u0438 \\\\u043e\\\\u0431\\\\u0440\\\\u0430\\\\u0442\\\\u043d\\\\u043e. \\\\u0422\\\\u0435\\\\u0445\\\\u043d\\\\u0438\\\\u0447\\\\u0435\\\\u0441\\\\u043a\\\\u0438 \\\\u0434\\\\u0443\\\\u043c\\\\u0430\\\\u0435\\\\u043c \\\\u043e\\\\u0441\\\\u0443\\\\u0449\\\\u0435\\\\u0441\\\\u0442\\\\u0432\\\\u0438\\\\u0442\\\\u044c \\\\u044d\\\\u0442\\\\u043e \\\\u0442\\\\u0430\\\\u043a:\\\\n\\\\u2705\\\\u043e\\\\u0442\\\\u043f\\\\u0440\\\\u0430\\\\u0432\\\\u043b\\\\u044f\\\\u0435\\\\u0442\\\\u0435 \\\\u0434\\\\u0435\\\\u043d\\\\u044c\\\\u0433\\\\u0438\\\\n\\\\u2705\\\\u043f\\\\u0440\\\\u0438\\\\u0441\\\\u044b\\\\u043b\\\\u0430\\\\u0435\\\\u0442\\\\u0435 \\\\u0441\\\\u043a\\\\u0440\\\\u0438\\\\u043d, \\\\u043d\\\\u043e\\\\u043c\\\\u0435\\\\u0440 \\\\u0442\\\\u0435\\\\u043b\\\\u0435\\\\u0444\\\\u043e\\\\u043d\\\\u0430/\\\\u043d\\\\u043e\\\\u043c\\\\u0435\\\\u0440 \\\\u043a\\\\u0430\\\\u0440\\\\u0442\\\\u044b\\\\n\\\\u2705\\\\u043c\\\\u044b \\\\u0432\\\\u0441\\\\u0435 \\\\u044d\\\\u0442\\\\u043e \\\\u0437\\\\u0430\\\\u043d\\\\u043e\\\\u0441\\\\u0438\\\\u043c \\\\u0432 \\\\u0442\\\\u0430\\\\u0431\\\\u043b\\\\u0438\\\\u0447\\\\u043a\\\\u0443, \\\\u0445\\\\u0440\\\\u0430\\\\u043d\\\\u0438\\\\u043c \\\\u0431\\\\u0435\\\\u0440\\\\u0435\\\\u0436\\\\u043d\\\\u043e\\\\n\\\\u2705\\\\u0435\\\\u0441\\\\u043b\\\\u0438 \\\\u043d\\\\u0435 \\\\u043d\\\\u0430\\\\u0431\\\\u0438\\\\u0440\\\\u0430\\\\u0435\\\\u043c \\\\u0441\\\\u0443\\\\u043c\\\\u043c\\\\u0443 - \\\\u043e\\\\u0442\\\\u043f\\\\u0440\\\\u0430\\\\u043b\\\\u044f\\\\u0435\\\\u043c \\\\u043e\\\\u0431\\\\u0440\\\\u0430\\\\u0442\\\\u043d\\\\u043e \\\\u043f\\\\u043e \\\\u0432\\\\u0430\\\\u0448\\\\u0438\\\\u043c \\\\u0440\\\\u0435\\\\u043a\\\\u0432\\\\u0438\\\\u0437\\\\u0438\\\\u0442\\\\u0430\\\\u043c\\\\n\\\\n\\\\u041f\\\\u043e\\\\u0437\\\\u0436\\\\u0435 \\\\u0430\\\\u0432\\\\u0442\\\\u043e\\\\u043c\\\\u0430\\\\u0442\\\\u0438\\\\u0437\\\\u0438\\\\u0440\\\\u0443\\\\u0435\\\\u043c \\\\u043f\\\\u0440\\\\u043e\\\\u0446\\\\u0435\\\\u0441\\\\u0441 \\\\u043d\\\\u0430 \\\\u0441\\\\u0430\\\\u0439\\\\u0442\\\\u0435. \\\\u2753\\\\u041f\\\\u041e\\\\u0427\\\\u0415\\\\u041c\\\\u0423 \\\\u041d\\\\u0415 \\\\u0421\\\\u041e\\\\u0411\\\\u0420\\\\u0410\\\\u0422\\\\u042c \\\\u041d\\\\u0410 \\\\u041f\\\\u041b\\\\u0410\\\\u041d\\\\u0415\\\\u0422\\\\u0415?\\\\n\\\\u0411\\\\u0443\\\\u043c\\\\u0430\\\\u0436\\\\u043d\\\\u0430\\\\u044f \\\\u0432\\\\u043e\\\\u043b\\\\u043e\\\\u043a\\\\u0438\\\\u0442\\\\u0430, \\\\u0432\\\\u044b\\\\u0441\\\\u043e\\\\u043a\\\\u0438\\\\u0435 \\\\u043e\\\\u0442\\\\u0447\\\\u0438\\\\u0441\\\\u043b\\\\u0435\\\\u043d\\\\u0438\\\\u044f.\\\\n\\\\n\\\\u041a\\\\u0423\\\\u0414\\\\u0410 \\\\u041f\\\\u0420\\\\u0418\\\\u0421\\\\u042b\\\\u041b\\\\u0410\\\\u0422\\\\u042c?\\\\n\\\\n\\\\u0421\\\\u0431\\\\u0435\\\\u0440\\\\u0431\\\\u0430\\\\u043d\\\\u043a 5336 6900 2235 0575\\\\n\\\\u0410\\\\u043b\\\\u044c\\\\u0444\\\\u0430\\\\u0431\\\\u0430\\\\u043d\\\\u043a 5559 4933 5740 6561\\\\n\\\\u0422\\\\u0438\\\\u043d\\\\u044c\\\\u043a\\\\u043e\\\\u0444 ( \\\\u043c\\\\u043e\\\\u0436\\\\u043d\\\\u043e \\\\u043f\\\\u043e\\\\u043f\\\\u043b\\\\u043d\\\\u0438\\\\u0442\\\\u044c \\\\u0431\\\\u0435\\\\u0437 \\\\u043a\\\\u043e\\\\u043c\\\\u0438\\\\u0441\\\\u0441\\\\u0438\\\\u0438 \\\\u043b\\\\u044e\\\\u0431\\\\u043e\\\\u0439 \\\\u043a\\\\u0430\\\\u0440\\\\u0442\\\\u043e\\\\u0439) 5536 9137 6023 7988\\\\n\\\\u0420\\\\u043e\\\\u043a\\\\u0435\\\\u0442\\\\u0431\\\\u0430\\\\u043d\\\\u043a 5321 3002 4072 5650\\\\n\\\\u0412\\\\u0441\\\\u0435 \\\\u043a\\\\u0430\\\\u0440\\\\u0442\\\\u044b \\\\u043d\\\\u0430 \\\\u0438\\\\u043c\\\\u044f \\\\u0412\\\\u0435\\\\u0440\\\\u044b \\\\u0412\\\\u044f\\\\u0447\\\\u0435\\\\u0441\\\\u043b\\\\u0430\\\\u0432\\\\u043e\\\\u0432\\\\u043d\\\\u044b. \\\\u2753\\\\u0421\\\\u0420\\\\u041e\\\\u041a\\\\u0418?\\\\n\\\\u0434\\\\u043e \\\\u043a\\\\u043e\\\\u043d\\\\u0446\\\\u0430 \\\\u0434\\\\u0435\\\\u043a\\\\u0430\\\\u0431\\\\u0440\\\\u044f.\\\\n\\\\n\\\\u041b\\\\u044e\\\\u0431\\\\u043e\\\\u043e\\\\u043e\\\\u0432\\\\u044c\", \"comments\": {\"count\": 20}, \"likes\": {\"count\": 335}}, {\"__typename\": \"GraphImage\", \"id\": \"1652396943185651957\", \"comments_disabled\": false, \"dimensions\": {\"height\": 810, \"width\": 1080}, \"gating_info\": null, \"media_preview\": \"ACof55UJrVs5EVSGQMx7+mT69vyrNRmBxjP+fXtW1aQecMgYI6j/ADwcVmzS3YVxGzhyOMEYUflyRz3zVSbaFY7QONqjHOSeST7AcfWuhFmAMd/pWXfQ7RgDnPp+v6VK8w30RzmKXJqaSEx8N19qgPFa7ktW3LMV06IUAG3vxk8989vwxV201IQHOCe2O316ZzWQCR079aKVgUjrF12LByrZzwBj/PFUbzVFlB8sFCfXH6elYWaXPFKw0xSSeTznoajpc0lWSf/Z\", \"owner\": {\"id\": \"27603478\"}, \"thumbnail_src\": \"https://instagram.fhrk1-1.fna.fbcdn.net/t51.2885-15/s640x640/sh0.08/e35/c135.0.810.810/23824851_1985402821745734_3546237488513155072_n.jpg\", \"thumbnail_resources\": [{\"src\": \"https://instagram.fhrk1-1.fna.fbcdn.net/t51.2885-15/s150x150/e35/c135.0.810.810/23824851_1985402821745734_3546237488513155072_n.jpg\", \"config_width\": 150, \"config_height\": 150}, {\"src\": \"https://instagram.fhrk1-1.fna.fbcdn.net/t51.2885-15/s240x240/e35/c135.0.810.810/23824851_1985402821745734_3546237488513155072_n.jpg\", \"config_width\": 240, \"config_height\": 240}, {\"src\": \"https://instagram.fhrk1-1.fna.fbcdn.net/t51.2885-15/s320x320/e35/c135.0.810.810/23824851_1985402821745734_3546237488513155072_n.jpg\", \"config_width\": 320, \"config_height\": 320}, {\"src\": \"https://instagram.fhrk1-1.fna.fbcdn.net/t51.2885-15/s480x480/e35/c135.0.810.810/23824851_1985402821745734_3546237488513155072_n.jpg\", \"config_width\": 480, \"config_height\": 480}, {\"src\": \"https://instagram.fhrk1-1.fna.fbcdn.net/t51.2885-15/s640x640/sh0.08/e35/c135.0.810.810/23824851_1985402821745734_3546237488513155072_n.jpg\", \"config_width\": 640, \"config_height\": 640}], \"is_video\": false, \"code\": \"BbufkPahaj1\", \"date\": 1511201087, \"display_src\": \"https://instagram.fhrk1-1.fna.fbcdn.net/t51.2885-15/e35/23824851_1985402821745734_3546237488513155072_n.jpg\", \"caption\": \"\\\\u0427\\\\u0442\\\\u043e \\\\u0437\\\\u0430 \\\\u043f\\\\u043e\\\\u0434\\\\u043e\\\\u0437\\\\u0440\\\\u0438\\\\u0442\\\\u0435\\\\u043b\\\\u044c\\\\u043d\\\\u0430\\\\u044f \\\\u0442\\\\u0438\\\\u0448\\\\u0438\\\\u043d\\\\u0430 \\\\u043d\\\\u0430 \\\\u0432\\\\u0430\\\\u0448\\\\u0435\\\\u0439 \\\\u0441\\\\u0442\\\\u0440\\\\u0430\\\\u043d\\\\u0438\\\\u0446\\\\u0435? - \\\\u0441\\\\u043f\\\\u0440\\\\u043e\\\\u0441\\\\u0438\\\\u0442\\\\u0435 \\\\u0432\\\\u044b\\\\n\\\\u0418 \\\\u043d\\\\u0438\\\\u043a\\\\u0442\\\\u043e \\\\u0432\\\\u0430\\\\u043c, \\\\u0440\\\\u0430\\\\u0437\\\\u0443\\\\u043c\\\\u0435\\\\u0435\\\\u0442\\\\u0441\\\\u044f,\\\\u043d\\\\u0435 \\\\u043e\\\\u0442\\\\u0432\\\\u0435\\\\u0442\\\\u0438\\\\u0442.\\\\n\\\\u0422\\\\u043e\\\\u043b\\\\u044c\\\\u043a\\\\u043e \\\\u043c\\\\u0435\\\\u0440\\\\u043d\\\\u043e\\\\u0435 \\\\u043f\\\\u043e\\\\u0441\\\\u0430\\\\u043f\\\\u044b\\\\u0432\\\\u0430\\\\u043d\\\\u0438\\\\u0435 \\\\u0438 \\\\u0441\\\\u043e\\\\u043d\\\\u043d\\\\u043e\\\\u0435 \\\\u043f\\\\u0440\\\\u0438\\\\u0447\\\\u043c\\\\u043e\\\\u043a\\\\u0438\\\\u0432\\\\u0430\\\\u043d\\\\u0438\\\\u0435 \\\\u0443\\\\u0441\\\\u043b\\\\u044b\\\\u0448\\\\u0438\\\\u0442\\\\u0435 \\\\u0432\\\\u044b \\\\u0432 \\\\u043e\\\\u0442\\\\u0432\\\\u0435\\\\u0442.\\\\n\\\\u0423 \\\\u043d\\\\u0430\\\\u0441 \\\\u0437\\\\u0430\\\\u043a\\\\u043e\\\\u043d\\\\u0447\\\\u0438\\\\u043b\\\\u0441\\\\u044f \\\\u0442\\\\u0443\\\\u0440. \\\\u041e\\\\u0433\\\\u043d\\\\u0435\\\\u043d\\\\u043d\\\\u044b\\\\u0439. \\\\u041f\\\\u043e\\\\u0442\\\\u0440\\\\u044f\\\\u0441\\\\u0430\\\\u044e\\\\u0449\\\\u0438\\\\u0439. \\\\u041d\\\\u0430\\\\u043f\\\\u043e\\\\u043b\\\\u043d\\\\u0435\\\\u043d\\\\u043d\\\\u044b\\\\u0439 \\\\u043b\\\\u044e\\\\u0431\\\\u043e\\\\u0432\\\\u044c\\\\u044e, \\\\u0442\\\\u0430\\\\u043d\\\\u0446\\\\u0430\\\\u043c\\\\u0438 \\\\u0438 \\\\u0435\\\\u0449\\\\u0435 \\\\u0440\\\\u0430\\\\u0437 \\\\u043b\\\\u044e\\\\u0431\\\\u043e\\\\u0432\\\\u044c\\\\u044e \\\\u0442\\\\u0443\\\\u0440.\\\\n\\\\ud83c\\\\udfbc\\\\n\\\\u0422\\\\u0443\\\\u0440 - \\\\u044d\\\\u0442\\\\u043e \\\\u043e\\\\u0434\\\\u043d\\\\u043e \\\\u0431\\\\u043e\\\\u043b\\\\u044c\\\\u0448\\\\u043e\\\\u0435 \\\\u0431\\\\u0435\\\\u0437\\\\u0443\\\\u043c\\\\u0438\\\\u0435, \\\\u0433\\\\u0434\\\\u0435 \\\\u0435\\\\u0441\\\\u0442\\\\u044c \\\\u043c\\\\u0435\\\\u0441\\\\u0442\\\\u043e \\\\u0432\\\\u0441\\\\u0435\\\\u043c\\\\u0443 \\\\u0441\\\\u043f\\\\u0435\\\\u043a\\\\u0442\\\\u0440\\\\u0443 \\\\u044d\\\\u043c\\\\u043e\\\\u0446\\\\u0438\\\\u0439 \\\\u0438 \\\\u0441\\\\u043e\\\\u0441\\\\u0442\\\\u043e\\\\u043d\\\\u0438\\\\u0439, \\\\u0437\\\\u0430 \\\\u0438\\\\u0441\\\\u043a\\\\u043b\\\\u044e\\\\u0447\\\\u043d\\\\u0435\\\\u0438\\\\u0435\\\\u043c \\\\u043e\\\\u0434\\\\u043d\\\\u043e\\\\u0433\\\\u043e: \\\\u0432 \\\\u0442\\\\u0443\\\\u0440\\\\u0435 \\\\u043e\\\\u0442\\\\u0441\\\\u0443\\\\u0442\\\\u0441\\\\u0442\\\\u0432\\\\u0443\\\\u0435\\\\u0442 \\\\u0441\\\\u043e\\\\u0441\\\\u0442\\\\u043e\\\\u044f\\\\u043d\\\\u0438\\\\u0435 \\\\u0437\\\\u0434\\\\u043e\\\\u0440\\\\u043e\\\\u0432\\\\u043e\\\\u0433\\\\u043e \\\\u0441\\\\u043d\\\\u0430.\\\\n\\\\u0422\\\\u0430\\\\u043a \\\\u0447\\\\u0442\\\\u043e \\\\u043c\\\\u044b \\\\u0443\\\\u043f\\\\u0430\\\\u043b\\\\u0438 \\\\u0432 \\\\u043e\\\\u0431\\\\u044a\\\\u044f\\\\u0442\\\\u0438\\\\u044f \\\\u043d\\\\u0430\\\\u0448\\\\u0438\\\\u0445 \\\\u043a\\\\u0440\\\\u043e\\\\u0432\\\\u0430\\\\u0442\\\\u0435\\\\u0439, \\\\u0437\\\\u0430\\\\u0432\\\\u0435\\\\u0440\\\\u043d\\\\u0443\\\\u043b\\\\u0438\\\\u0441\\\\u044c \\\\u0432 \\\\u043e\\\\u0434\\\\u0435\\\\u044f\\\\u043b\\\\u043a\\\\u043e-\\\\u0440\\\\u0443\\\\u043b\\\\u0435\\\\u0442\\\\u0438\\\\u043a \\\\u0438... Zzzzzzzzzz\\\\n\\\\n\\\\u041c\\\\u044b \\\\u043f\\\\u0440\\\\u0438\\\\u0434\\\\u0435\\\\u043c \\\\u0432 \\\\u0441\\\\u0435\\\\u0431\\\\u044f \\\\u0438 \\\\u043d\\\\u0430\\\\u0447\\\\u043d\\\\u0435\\\\u043c \\\\u0434\\\\u0435\\\\u043b\\\\u0438\\\\u0442\\\\u044c\\\\u0441\\\\u044f \\\\u0432\\\\u043f\\\\u0435\\\\u0447\\\\u0430\\\\u0442\\\\u043b\\\\u0435\\\\u043d\\\\u0438\\\\u044f\\\\u043c\\\\u0438, \\\\u043f\\\\u0438\\\\u0441\\\\u0430\\\\u0442\\\\u044c \\\\u0447\\\\u0443\\\\u0432\\\\u0441\\\\u0442\\\\u0432\\\\u0435\\\\u043d\\\\u043d\\\\u044b\\\\u0435 \\\\u043f\\\\u043e\\\\u0441\\\\u0442\\\\u044b \\\\u0438 \\\\u0440\\\\u0430\\\\u0441\\\\u0441\\\\u043a\\\\u0430\\\\u0436\\\\u0435\\\\u043c \\\\u043e \\\\u0442\\\\u043e\\\\u043c, \\\\u0447\\\\u0442\\\\u043e \\\\u0436\\\\u0434\\\\u0435\\\\u0442 \\\\u043d\\\\u0430\\\\u0441 \\\\u0438 \\\\u0432\\\\u0430\\\\u0441 \\\\u0434\\\\u0430\\\\u043b\\\\u044c\\\\u0448\\\\u0435.\\\\n\\\\ud83c\\\\udfba\\\\n\\\\u0410 \\\\u043f\\\\u043e\\\\u043a\\\\u0430 - \\\\u0440\\\\u0430\\\\u0441\\\\u0441\\\\u043a\\\\u0430\\\\u0436\\\\u0438\\\\u0442\\\\u0435 \\\\u043e \\\\u0441\\\\u0432\\\\u043e\\\\u0438\\\\u0445 \\\\u0432\\\\u043f\\\\u0435\\\\u0447\\\\u0430\\\\u0442\\\\u043b\\\\u0435\\\\u043d\\\\u0438\\\\u044f\\\\u0445 \\\\u0412\\\\u042b!\\\\n\\\\n\\\\u041a\\\\u0430\\\\u043a \\\\u0432\\\\u044b \\\\u0441\\\\u0435\\\\u0431\\\\u044f \\\\u0447\\\\u0443\\\\u0432\\\\u0441\\\\u0442\\\\u0432\\\\u043e\\\\u0432\\\\u0430\\\\u043b\\\\u0438 \\\\u043d\\\\u0430 \\\\u043a\\\\u043e\\\\u043d\\\\u0446\\\\u0435\\\\u0440\\\\u0442\\\\u0435? \\\\u0427\\\\u0442\\\\u043e \\\\u043e\\\\u0436\\\\u0438\\\\u0434\\\\u0430\\\\u043b\\\\u0438? \\\\u0427\\\\u0422\\\\u043e \\\\u043f\\\\u043e\\\\u043b\\\\u0443\\\\u0447\\\\u0438\\\\u043b\\\\u0438? \\\\u0412\\\\u0441\\\\u043f\\\\u043e\\\\u043c\\\\u043d\\\\u0438\\\\u0442\\\\u0435 \\\\u0441\\\\u0432\\\\u043e\\\\u0438 \\\\u043e\\\\u0449\\\\u0443\\\\u0449\\\\u0435\\\\u043d\\\\u0438\\\\u044f, \\\\u043a\\\\u043e\\\\u0433\\\\u0434\\\\u0430 \\\\u0432\\\\u044b \\\\u0442\\\\u043e\\\\u043b\\\\u044c\\\\u043a\\\\u043e \\\\u043f\\\\u0440\\\\u0438\\\\u0448\\\\u043b\\\\u0438 \\\\u043d\\\\u0430 \\\\u043f\\\\u043b\\\\u043e\\\\u0449\\\\u0430\\\\u0434\\\\u043a\\\\u0443. \\\\u0422\\\\u043e\\\\u043c\\\\u0438\\\\u0442\\\\u0435\\\\u043b\\\\u044c\\\\u043d\\\\u044b\\\\u0439 \\\\u0447\\\\u0430\\\\u0441 \\\\u043e\\\\u0436\\\\u0438\\\\u0434\\\\u0430\\\\u043d\\\\u0438\\\\u044f, \\\\u043a\\\\u043e\\\\u0433\\\\u0434\\\\u0430 \\\\u0441\\\\u043e\\\\u0431\\\\u0435\\\\u0440\\\\u0435\\\\u0442\\\\u0441\\\\u044f \\\\u043d\\\\u0430\\\\u0440\\\\u043e\\\\u0434 \\\\u0438 \\\\u0437\\\\u0430\\\\u043f\\\\u043e\\\\u043b\\\\u043d\\\\u0438\\\\u0442\\\\u0441\\\\u044f \\\\u0442\\\\u0430\\\\u043d\\\\u0446\\\\u043f\\\\u043e\\\\u043b. \\\\u0420\\\\u0430\\\\u0437\\\\u0433\\\\u043b\\\\u044f\\\\u0434\\\\u044b\\\\u0432\\\\u0430\\\\u043b\\\\u0438 \\\\u043b\\\\u0438 \\\\u043b\\\\u044e\\\\u0434\\\\u0435\\\\u0439? \\\\u0427\\\\u0422\\\\u041e \\\\u0434\\\\u0443\\\\u043c\\\\u0430\\\\u043b\\\\u0438? \\\\u041a\\\\u0430\\\\u043a \\\\u043e\\\\u0449\\\\u0443\\\\u0449\\\\u0430\\\\u043b\\\\u0438 \\\\u0441\\\\u0435\\\\u0431\\\\u044f \\\\u0441\\\\u0440\\\\u0435\\\\u0434\\\\u0438 \\\\u043d\\\\u0438\\\\u0445?\\\\n\\\\ud83c\\\\udfb8\\\\n\\\\u041a\\\\u0430\\\\u043a \\\\u0432\\\\u044b \\\\u0447\\\\u0443\\\\u0432\\\\u0441\\\\u0442\\\\u0432\\\\u043e\\\\u0432\\\\u0430\\\\u043b\\\\u0438 \\\\u0441\\\\u0435\\\\u0431\\\\u044f \\\\u043f\\\\u043e\\\\u0441\\\\u043b\\\\u0435? \\\\u041a\\\\u0440\\\\u0438\\\\u0447\\\\u0430\\\\u043b\\\\u0438 \\\\u043b\\\\u0438 \\\\u0432\\\\u044b \\\\u0441\\\\u043e \\\\u0432\\\\u0441\\\\u0435\\\\u043c\\\\u0438 \\\\u0432\\\\u043c\\\\u0435\\\\u0441\\\\u0442\\\\u0435 \\\\\"\\\\u0421\\\\u0430\\\\u043c\\\\u043e\\\\u043a\\\\u0430\\\\u0442\\\\\"? \\\\u041f\\\\u0440\\\\u044b\\\\u0433\\\\u0430\\\\u043b\\\\u0438 \\\\u043b\\\\u0438 \\\\u043d\\\\u0430 \\\\u043b\\\\u0435\\\\u0433\\\\u0447\\\\u0435? \\\\u0418\\\\u043b\\\\u0438 \\\\u0441\\\\u0442\\\\u043e\\\\u044f\\\\u043b\\\\u0438: \\\\u0431\\\\u043b\\\\u0430\\\\u0436\\\\u0435\\\\u043d\\\\u043d\\\\u044b\\\\u0439, \\\\u0441\\\\u0447\\\\u0430\\\\u0442\\\\u0441\\\\u043b\\\\u0438\\\\u0432\\\\u044b\\\\u0439, \\\\u0432\\\\u0435\\\\u0441\\\\u044c \\\\u0432 \\\\u043c\\\\u0443\\\\u0437\\\\u044b\\\\u043a\\\\u0435, \\\\u043d\\\\u0435 \\\\u0441\\\\u043f\\\\u043e\\\\u0441\\\\u043e\\\\u043d\\\\u044b\\\\u0439 \\\\u043f\\\\u043e\\\\u0448\\\\u0435\\\\u0432\\\\u0435\\\\u043b\\\\u0438\\\\u0442\\\\u044c\\\\u0441\\\\u044f?\\\\n\\\\ud83e\\\\udd41\\\\n\\\\u041f\\\\u043e\\\\u0441\\\\u043b\\\\u0435 \\\\u043a\\\\u043e\\\\u043d\\\\u0446\\\\u0435\\\\u0440\\\\u0442\\\\u0430 \\\\u043f\\\\u0440\\\\u043e\\\\u0448\\\\u043b\\\\u043e \\\\u0432\\\\u0440\\\\u0435\\\\u043c\\\\u044f: \\\\u0443 \\\\u043a\\\\u043e\\\\u0433\\\\u043e-\\\\u0442\\\\u043e \\\\u043e\\\\u0434\\\\u0438\\\\u043d \\\\u0434\\\\u0435\\\\u043d\\\\u044c, \\\\u0443 \\\\u043a\\\\u043e\\\\u0433\\\\u043e-\\\\u0442\\\\u043e \\\\u0442\\\\u0440\\\\u0438 \\\\u043d\\\\u0435\\\\u0434\\\\u0435\\\\u043b\\\\u0438. \\\\u041d\\\\u0443 \\\\u043a\\\\u0430\\\\u043a? \\\\u0427\\\\u0442\\\\u043e \\\\u0432\\\\u043d\\\\u0443\\\\u0442\\\\u0440\\\\u0438? \\\\u0427\\\\u0442\\\\u043e \\\\u0441\\\\u043d\\\\u0430\\\\u0440\\\\u0443\\\\u0436\\\\u0438?\\\\n\\\\n\\\\u041b\\\\u044e\\\\u0431\\\\u043e\\\\u043e\\\\u043e\\\\u0432\\\\u044c. #\\\\u0430\\\\u043b\\\\u043e\\\\u044d\\\\u0432\\\\u0435\\\\u0440\\\\u04305\\\\u043b\\\\u0435\\\\u0442 \\\\n\\\\u0424\\\\u043e\\\\u0442\\\\u043e: @ann.luky\", \"comments\": {\"count\": 20}, \"likes\": {\"count\": 660}}, {\"__typename\": \"GraphImage\", \"id\": \"1651557043708208623\", \"comments_disabled\": false, \"dimensions\": {\"height\": 719, \"width\": 1080}, \"gating_info\": null, \"media_preview\": \"ACobwwqseDx9Oc+mP61Z3mVVQhU2cbgOTn19cVFDGeSuAVG7k4/KpQUZduSccnPAHrj3I/L3qybfeTQI+WjTq5xjHXBznJ6Y68VvwxJZptyTk5bPY468dAfesKK72nnPHCnP3SBgDrgjGM0JcbiS2WLfePrg8D6cfl6UmwSZ0fmJnG5c+mRTTcIDgsKw0ga4kyoCZOcDgDGPx/Ed6t+Wq/KUBI4PPp+NZObXQ29mnuznYVXd8+dvQ/0pYzjJK7gPfp7/AFqF+Dx2pYz1981TJROrEYBAwQMd8DP86YZMEbRjHfPWoieMUJ1H1oK62LsU7RPuyQSPyHtTDOWOTjJ5qvktknn/APXTamxalY//2Q==\", \"owner\": {\"id\": \"27603478\"}, \"thumbnail_src\": \"https://instagram.fhrk1-1.fna.fbcdn.net/t51.2885-15/s640x640/sh0.08/e35/c180.0.719.719/23734122_1053795054762363_3409832041611526144_n.jpg\", \"thumbnail_resources\": [{\"src\": \"https://instagram.fhrk1-1.fna.fbcdn.net/t51.2885-15/s150x150/e35/c180.0.719.719/23734122_1053795054762363_3409832041611526144_n.jpg\", \"config_width\": 150, \"config_height\": 150}, {\"src\": \"https://instagram.fhrk1-1.fna.fbcdn.net/t51.2885-15/s240x240/e35/c180.0.719.719/23734122_1053795054762363_3409832041611526144_n.jpg\", \"config_width\": 240, \"config_height\": 240}, {\"src\": \"https://instagram.fhrk1-1.fna.fbcdn.net/t51.2885-15/s320x320/e35/c180.0.719.719/23734122_1053795054762363_3409832041611526144_n.jpg\", \"config_width\": 320, \"config_height\": 320}, {\"src\": \"https://instagram.fhrk1-1.fna.fbcdn.net/t51.2885-15/s480x480/e35/c180.0.719.719/23734122_1053795054762363_3409832041611526144_n.jpg\", \"config_width\": 480, \"config_height\": 480}, {\"src\": \"https://instagram.fhrk1-1.fna.fbcdn.net/t51.2885-15/s640x640/sh0.08/e35/c180.0.719.719/23734122_1053795054762363_3409832041611526144_n.jpg\", \"config_width\": 640, \"config_height\": 640}], \"is_video\": false, \"code\": \"BbrgmGEhaXv\", \"date\": 1511100963, \"display_src\": \"https://instagram.fhrk1-1.fna.fbcdn.net/t51.2885-15/e35/23734122_1053795054762363_3409832041611526144_n.jpg\", \"caption\": \"\\\\u041c\\\\u042b \\\\u0412 \\\\u0418\\\\u0416\\\\u0415\\\\u0412\\\\u0421\\\\u041a\\\\u0415!\\\\n\\\\u0412\\\\u0441\\\\u0451, \\\\u0440\\\\u0435\\\\u0431\\\\u044f\\\\u0442! \\\\n\\\\u041e\\\\u043f\\\\u044f\\\\u0442\\\\u044c \\\\u0418\\\\u0436\\\\u0435\\\\u0432\\\\u0441\\\\u043a\\\\u0443 \\\\u0434\\\\u043e\\\\u0441\\\\u0442\\\\u0430\\\\u043b\\\\u0441\\\\u044f \\\\\"\\\\u0417\\\\u0435\\\\u043b\\\\u0435\\\\u043d\\\\u044b\\\\u0439 \\\\u043a\\\\u043e\\\\u043d\\\\u0446\\\\u0435\\\\u0440\\\\u0442\\\\\", \\\\u0430 \\\\u0437\\\\u043d\\\\u0430\\\\u0447\\\\u0438\\\\u0442, \\\\\"\\\\u0431\\\\u0443\\\\u0434\\\\u044c, \\\\u0447\\\\u0442\\\\u043e \\\\u0431\\\\u0443\\\\u0434\\\\u0435\\\\u0442\\\\\", \\\\u043d\\\\u0438\\\\u043a\\\\u0430\\\\u043a\\\\u0438\\\\u0445 \\\\u0433\\\\u0440\\\\u0430\\\\u043d\\\\u0438\\\\u0446 \\\\u0438 \\\\u043f\\\\u0440\\\\u0430\\\\u0432\\\\u0438\\\\u043b \\\\u0438 \\\\u0432\\\\u043e\\\\u043e\\\\u0431\\\\u0449\\\\u0435 \\\\u0432\\\\u0441\\\\u044e \\\\u043e\\\\u0442\\\\u0432\\\\u0435\\\\u0442\\\\u0441\\\\u0432\\\\u0435\\\\u043d\\\\u043d\\\\u043e\\\\u0441\\\\u0442\\\\u044c \\\\u0437\\\\u0430 \\\\u043f\\\\u0440\\\\u043e\\\\u0438\\\\u0441\\\\u0445\\\\u043e\\\\u0434\\\\u044f\\\\u0449\\\\u0435\\\\u0435 \\\\u043c\\\\u044b \\\\u0441 \\\\u0441\\\\u0435\\\\u0431\\\\u044f \\\\u0441\\\\u043d\\\\u0438\\\\u043c\\\\u0430\\\\u0435\\\\u043c!\\\\n\\\\u0412\\\\u0441\\\\u044f \\\\u043d\\\\u0430\\\\u0448\\\\u0430 \\\\u0431\\\\u0430\\\\u043d\\\\u0434\\\\u0430 \\\\u0432 \\\\u043d\\\\u0435\\\\u0432\\\\u0435\\\\u0440\\\\u043e\\\\u044f\\\\u0442\\\\u043d\\\\u043e\\\\u043c \\\\u0440\\\\u0430\\\\u0441\\\\u043f\\\\u043e\\\\u043b\\\\u043e\\\\u0436\\\\u0435\\\\u043d\\\\u0438\\\\u0438 \\\\u0434\\\\u0443\\\\u0445\\\\u0430, \\\\u0437\\\\u0430\\\\u043a\\\\u0443\\\\u043f\\\\u0430\\\\u0435\\\\u043c\\\\u0441\\\\u044f \\\\u0432\\\\u0438\\\\u043d\\\\u043e\\\\u043c \\\\u0438 \\\\u0440\\\\u0430\\\\u0437\\\\u043c\\\\u0438\\\\u043d\\\\u0430\\\\u0435\\\\u043c\\\\u0441\\\\u044f \\\\u043f\\\\u0435\\\\u0440\\\\u0435\\\\u0434 \\\\u043f\\\\u0440\\\\u0435\\\\u0434\\\\u0441\\\\u0442\\\\u043e\\\\u044f\\\\u0449\\\\u0438\\\\u043c\\\\u0438 \\\\u0442\\\\u0430\\\\u043d\\\\u0446\\\\u0430\\\\u043c\\\\u0438.\\\\n\\\\u041d\\\\u0430\\\\u0441\\\\u0442\\\\u0440\\\\u043e\\\\u0435\\\\u043d\\\\u0438\\\\u0435 - \\\\u043e\\\\u0433\\\\u043e\\\\u043d\\\\u044c! \\\\u0416\\\\u0438\\\\u0437\\\\u043d\\\\u0438 \\\\u0432\\\\u043d\\\\u0443\\\\u0442\\\\u0440\\\\u0438 - \\\\u043c\\\\u043e\\\\u0440\\\\u0435!\\\\n\\\\u041f\\\\u0438\\\\u043d\\\\u0442\\\\u0430 \\\\u0411\\\\u0430\\\\u0440. 19:00 \\\\u043e\\\\u0442\\\\u043a\\\\u0440\\\\u043e\\\\u0435\\\\u043c \\\\u0434\\\\u0432\\\\u0435\\\\u0440\\\\u0438. \\\\u0432 20:00 \\\\u043d\\\\u0430\\\\u0447\\\\u043d\\\\u0435\\\\u043c.\\\\n\\\\u041f\\\\u0440\\\\u0438\\\\u0445\\\\u043e\\\\u0434\\\\u0438\\\\u0442\\\\u0435. \\\\u0418\\\\u043b\\\\u0438 \\\\u043d\\\\u0435 \\\\u043f\\\\u0440\\\\u0438\\\\u0445\\\\u043e\\\\u0434\\\\u0438\\\\u0442\\\\u0435. \\\\u0421\\\\u043c\\\\u043e\\\\u0442\\\\u0440\\\\u044f, \\\\u0447\\\\u0435\\\\u0433\\\\u043e \\\\u0432\\\\u044b \\\\u0445\\\\u043e\\\\u0442\\\\u0438\\\\u0442\\\\u0435 \\\\u043e\\\\u0442 \\\\u044d\\\\u0442\\\\u043e\\\\u0433\\\\u043e \\\\u0432\\\\u0435\\\\u0447\\\\u0435\\\\u0440\\\\u0430. \\\\u041c\\\\u044b \\\\u0445\\\\u043e\\\\u0442\\\\u0438\\\\u043c \\\\u043b\\\\u0435\\\\u0433\\\\u043a\\\\u043e\\\\u0441\\\\u0442\\\\u0438 \\\\u0438 \\\\u043c\\\\u0443\\\\u0437\\\\u044b\\\\u043a\\\\u0438, \\\\u043f\\\\u043e\\\\u044d\\\\u0442\\\\u043e\\\\u043c\\\\u0443 \\\\u043c\\\\u044b \\\\u0441\\\\u0430\\\\u043c\\\\u0438 - \\\\u043f\\\\u0440\\\\u0438\\\\u0434\\\\u0435\\\\u043c) \\\\n\\\\u041b\\\\u042e\\\\u0411\\\\u041e\\\\u041e\\\\u041e\\\\u041e\\\\u041e\\\\u041e\\\\u0412\\\\u042c)\", \"comments\": {\"count\": 3}, \"likes\": {\"count\": 701}}, {\"__typename\": \"GraphImage\", \"id\": \"1649961065502981394\", \"comments_disabled\": false, \"dimensions\": {\"height\": 1080, \"width\": 1080}, \"gating_info\": null, \"media_preview\": \"ACoq2pAXG5SVP1GP69PaqMkbZyXBI/2T6557Grr7VG5sADqT2pFKMMjBB+lIZiTWSuxbOCeSQCck+3arEREJOwkZABwpHTOO/X1P0rUO32oG3tj9KNRGS8zFlPJCsTyG6kEf1pBIo42f+OVsbl9V/MUzzE/vL+YoA57zS+Q5J7dzkfnUW5l+6xGKb5eefUetIY8df51qQXY2kljYk5Kc/Ve/5darmU564Hb1P09qsWsghQ9OvI9QakIWeEg48wAYA6EA8AD2Bx9KQyjvHuaXcBwVP6f4Uzysdh+lHlD0FMRHgjrSYz3q5GcwNnnB4qlSAX2GR9TUbbwcj+E9RT6sWxPmAdj196BkCSMeW60/caSThj9TUeTQI//Z\", \"owner\": {\"id\": \"27603478\"}, \"thumbnail_src\": \"https://instagram.fhrk1-1.fna.fbcdn.net/t51.2885-15/s640x640/sh0.08/e35/23667533_1355714657891475_8808343965448273920_n.jpg\", \"thumbnail_resources\": [{\"src\": \"https://instagram.fhrk1-1.fna.fbcdn.net/t51.2885-15/s150x150/e35/23667533_1355714657891475_8808343965448273920_n.jpg\", \"config_width\": 150, \"config_height\": 150}, {\"src\": \"https://instagram.fhrk1-1.fna.fbcdn.net/t51.2885-15/s240x240/e35/23667533_1355714657891475_8808343965448273920_n.jpg\", \"config_width\": 240, \"config_height\": 240}, {\"src\": \"https://instagram.fhrk1-1.fna.fbcdn.net/t51.2885-15/s320x320/e35/23667533_1355714657891475_8808343965448273920_n.jpg\", \"config_width\": 320, \"config_height\": 320}, {\"src\": \"https://instagram.fhrk1-1.fna.fbcdn.net/t51.2885-15/s480x480/e35/23667533_1355714657891475_8808343965448273920_n.jpg\", \"config_width\": 480, \"config_height\": 480}, {\"src\": \"https://instagram.fhrk1-1.fna.fbcdn.net/t51.2885-15/s640x640/sh0.08/e35/23667533_1355714657891475_8808343965448273920_n.jpg\", \"config_width\": 640, \"config_height\": 640}], \"is_video\": false, \"code\": \"Bbl1tjih70S\", \"date\": 1510910708, \"display_src\": \"https://instagram.fhrk1-1.fna.fbcdn.net/t51.2885-15/e35/23667533_1355714657891475_8808343965448273920_n.jpg\", \"caption\": \"\\\\u0423 \\\\u043d\\\\u0430\\\\u0441 \\\\u043e\\\\u0434\\\\u0438\\\\u043d \\\\u0432\\\\u043e\\\\u043f\\\\u0440\\\\u043e\\\\u0441.\\\\n\\\\u0415\\\\u043a\\\\u0430\\\\u0442\\\\u0435\\\\u0440\\\\u0438\\\\u043d\\\\u0431\\\\u0443\\\\u0440\\\\u0433.\\\\n\\\\u0422\\\\u044b \\\\u0433\\\\u043e\\\\u0442\\\\u043e\\\\u0432?\", \"comments\": {\"count\": 20}, \"likes\": {\"count\": 896}}, {\"__typename\": \"GraphSidecar\", \"id\": \"1649138543580648441\", \"comments_disabled\": false, \"dimensions\": {\"height\": 562, \"width\": 750}, \"gating_info\": null, \"media_preview\": null, \"owner\": {\"id\": \"27603478\"}, \"thumbnail_src\": \"https://instagram.fhrk1-1.fna.fbcdn.net/t51.2885-15/e35/c90.0.540.540/23596624_1647891958606160_9076516049758715904_n.jpg\", \"thumbnail_resources\": [{\"src\": \"https://instagram.fhrk1-1.fna.fbcdn.net/t51.2885-15/s150x150/e35/c90.0.540.540/23596624_1647891958606160_9076516049758715904_n.jpg\", \"config_width\": 150, \"config_height\": 150}, {\"src\": \"https://instagram.fhrk1-1.fna.fbcdn.net/t51.2885-15/s240x240/e35/c90.0.540.540/23596624_1647891958606160_9076516049758715904_n.jpg\", \"config_width\": 240, \"config_height\": 240}, {\"src\": \"https://instagram.fhrk1-1.fna.fbcdn.net/t51.2885-15/s320x320/e35/c90.0.540.540/23596624_1647891958606160_9076516049758715904_n.jpg\", \"config_width\": 320, \"config_height\": 320}, {\"src\": \"https://instagram.fhrk1-1.fna.fbcdn.net/t51.2885-15/s480x480/e35/c90.0.540.540/23596624_1647891958606160_9076516049758715904_n.jpg\", \"config_width\": 480, \"config_height\": 480}, {\"src\": \"https://instagram.fhrk1-1.fna.fbcdn.net/t51.2885-15/e35/c90.0.540.540/23596624_1647891958606160_9076516049758715904_n.jpg\", \"config_width\": 640, \"config_height\": 640}], \"is_video\": false, \"code\": \"Bbi6sSTh5P5\", \"date\": 1510812655, \"display_src\": \"https://instagram.fhrk1-1.fna.fbcdn.net/t51.2885-15/e35/23596624_1647891958606160_9076516049758715904_n.jpg\", \"caption\": \"\\\\u041a\\\\u0442\\\\u043e \\\\u0440\\\\u0430\\\\u043d\\\\u043e \\\\u0432\\\\u0441\\\\u0442\\\\u0430\\\\u0435\\\\u0442, \\\\u0442\\\\u043e\\\\u0442 \\\\u043d\\\\u0430 \\\\u0425\\\\u0438\\\\u0442 \\\\u0424\\\\u043c \\\\u043f\\\\u0435\\\\u0441\\\\u043d\\\\u0438 \\\\u043f\\\\u043e\\\\u0435\\\\u0442. \\\\u0417\\\\u043d\\\\u0430\\\\u0439\\\\u0442\\\\u0435, \\\\u0447\\\\u0442\\\\u043e \\\\u0441\\\\u0435\\\\u0433\\\\u043e\\\\u0434\\\\u043d\\\\u044f \\\\u043a\\\\u043e\\\\u043d\\\\u0446\\\\u0435\\\\u0440\\\\u0442 \\\\u0432 \\\\u0427\\\\u0435\\\\u043b\\\\u044f\\\\u0431\\\\u0438\\\\u043d\\\\u0441\\\\u043a\\\\u0435, \\\\u0430 \\\\u0437\\\\u0430\\\\u0432\\\\u0442\\\\u0440\\\\u0430 \\\\u0432 \\\\u0415\\\\u043a\\\\u0431 #\\\\u0430\\\\u043b\\\\u043e\\\\u044d\\\\u0432\\\\u0435\\\\u0440\\\\u0430 #\\\\u0430\\\\u043b\\\\u043e\\\\u044d\\\\u0432\\\\u0435\\\\u0440\\\\u04305\\\\u043b\\\\u0435\\\\u0442\", \"comments\": {\"count\": 2}, \"likes\": {\"count\": 560}}], \"count\": 996, \"page_info\": {\"has_next_page\": true, \"end_cursor\": \"AQARmQ0QMa_3sBgSIC9dk_oX_gzLOtk7Ad3DVo7HCm9U4ta8dwjAh4l015B_FJYEk6X2WPPUE6LwVj7kho5V6HGf7ry-8ldlxHar5BMcDaHX8w\"}}, \"saved_media\": {\"nodes\": [], \"count\": 0, \"page_info\": {\"has_next_page\": false, \"end_cursor\": null}}}, \"logging_page_id\": \"profilePage_27603478\"}]}, \"gatekeepers\": {\"ld\": true, \"nr\": true, \"pl\": true}, \"qe\": {\"dash_for_vod\": {\"g\": \"\", \"p\": {}}, \"ebd\": {\"g\": \"\", \"p\": {}}, \"bc3l\": {\"g\": \"\", \"p\": {}}, \"aysf\": {\"g\": \"\", \"p\": {}}, \"notif\": {\"g\": \"\", \"p\": {}}, \"create_upsell\": {\"g\": \"\", \"p\": {}}, \"feed\": {\"g\": \"\", \"p\": {}}, \"follow_button\": {\"g\": \"\", \"p\": {}}, \"login_via_signup_page\": {\"g\": \"\", \"p\": {}}, \"loggedout\": {\"g\": \"\", \"p\": {}}, \"stories\": {\"g\": \"\", \"p\": {}}, \"su_universe\": {\"g\": \"control_msisdn_autofill_01\", \"p\": {\"has_msisdn_prefill\": \"false\"}}, \"us\": {\"g\": \"\", \"p\": {}}, \"us_li\": {\"g\": \"\", \"p\": {}}, \"nav\": {\"g\": \"\", \"p\": {}}, \"nav_lo\": {\"g\": \"\", \"p\": {}}, \"deact\": {\"g\": \"\", \"p\": {}}, \"sidecar\": {\"g\": \"\", \"p\": {}}, \"video\": {\"g\": \"\", \"p\": {}}, \"filters\": {\"g\": \"\", \"p\": {}}, \"typeahead\": {\"g\": \"\", \"p\": {}}, \"appsell\": {\"g\": \"\", \"p\": {}}, \"save\": {\"g\": \"\", \"p\": {}}, \"stale\": {\"g\": \"\", \"p\": {}}, \"reg\": {\"g\": \"\", \"p\": {}}, \"reg_vp\": {\"g\": \"\", \"p\": {}}, \"nux\": {\"g\": \"\", \"p\": {}}, \"prof_pic_upsell\": {\"g\": \"\", \"p\": {}}, \"prof_pic_creation\": {\"g\": \"\", \"p\": {}}, \"onetaplogin\": {\"g\": \"\", \"p\": {}}, \"feed_vp\": {\"g\": \"\", \"p\": {}}, \"push_notifications\": {\"g\": \"\", \"p\": {}}, \"login_poe\": {\"g\": \"\", \"p\": {}}, \"feed_perf\": {\"g\": \"\", \"p\": {}}, \"prefetch\": {\"g\": \"\", \"p\": {}}, \"report_haf\": {\"g\": \"\", \"p\": {}}, \"report_category_reorder\": {\"g\": \"\", \"p\": {}}, \"a2hs\": {\"g\": \"\", \"p\": {}}, \"bg_sync\": {\"g\": \"\", \"p\": {}}, \"disc_ppl\": {\"g\": \"\", \"p\": {}}, \"ebdsim_li\": {\"g\": \"\", \"p\": {}}}, \"hostname\": \"www.instagram.com\", \"display_properties_server_guess\": {\"pixel_ratio\": 1.5, \"viewport_width\": 360, \"viewport_height\": 480, \"orientation\": \"\"}, \"environment_switcher_visible_server_guess\": true, \"platform\": \"web\", \"nonce\": \"+90T/GvTOOkRA0Pf3EIsVw==\", \"zero_data\": {}, \"rollout_hash\": \"4a3c4a414935\", \"probably_has_app\": false, \"show_app_install\": true};</script>\\n            <script type=\"text/javascript\" src=\"/static/bundles/Polyfills.js/3fde6943f055.js\" crossorigin=\"anonymous\"></script>\\n            <script type=\"text/javascript\" src=\"/static/bundles/Vendor.js/532fa4ed9783.js\" crossorigin=\"anonymous\"></script>\\n<script type=\"text/javascript\">!function(e){function n(o){if(a[o])return a[o].exports;var t=a[o]={i:o,l:!1,exports:{}};return e[o].call(t.exports,t,t.exports,n),t.l=!0,t.exports}var o=window.webpackJsonp;window.webpackJsonp=function(a,r,i){for(var c,f,s,u=0,d=[];u<a.length;u++)f=a[u],t[f]&&d.push(t[f][0]),t[f]=0;for(c in r)Object.prototype.hasOwnProperty.call(r,c)&&(e[c]=r[c]);for(o&&o(a,r,i);d.length;)d.shift()();if(i)for(u=0;u<i.length;u++)s=n(n.s=i[u]);return s};var a={},t={40:0};n.e=function(e){function o(){c.onerror=c.onload=null,clearTimeout(f);var n=t[e];0!==n&&(n&&n[1](new Error(\"Loading chunk \"+e+\" failed.\")),t[e]=void 0)}var a=t[e];if(0===a)return new Promise(function(e){e()});if(a)return a[2];var r=new Promise(function(n,o){a=t[e]=[n,o]});a[2]=r;var i=document.getElementsByTagName(\"head\")[0],c=document.createElement(\"script\");c.type=\"text/javascript\",c.charset=\"utf-8\",c.async=!0,c.timeout=12e4,c.crossOrigin=\"anonymous\",n.nc&&c.setAttribute(\"nonce\",n.nc),c.src=n.p+\"en_US_\"+({0:\"SettingsModules\",1:\"ProfilePageContainer\",2:\"LikedByListContainer\",3:\"FollowListContainer\",4:\"CreationModules\",5:\"LocationPageContainer\",6:\"DiscoverMediaPageContainer\",7:\"TagPageContainer\",8:\"BugNub\",9:\"FeedPageContainer\",10:\"PostPageContainer\",11:\"LandingPage\",12:\"LoginAndSignupPage\",13:\"ResetPasswordPageContainer\",14:\"DiscoverPeoplePageContainer\",15:\"MobileStoriesPage\",16:\"DesktopStoriesPage\",17:\"ContactHistoryPage\",18:\"LocationsDirectoryLandingPage\",19:\"LocationsDirectoryCountryPage\",20:\"LocationsDirectoryCityPage\",21:\"DirectoryPage\",22:\"ActivityFeedPage\",23:\"CameraPage\",24:\"StoryCreationPage\",25:\"NewUserInterstitial\",26:\"FBSignupPage\",27:\"Report\",28:\"Copyright\",29:\"Community\",30:\"SupportInfo\",31:\"GenericSurvey\",32:\"Challenge\",33:\"EmailSnoozePage\",34:\"EmailUnsubscribePage\",35:\"ConfirmFollowDialog\",36:\"Consumer\",37:\"NotificationLandingPage\"}[e]||e)+\".js/\"+{0:\"32fdcba49bbe\",1:\"8e981c30ec26\",2:\"1262bf45faef\",3:\"76ffd01699f0\",4:\"12f11f4b286c\",5:\"0977c7df7ff0\",6:\"b4c87a4a40c7\",7:\"59b1aa3d9704\",8:\"d53a773c96d7\",9:\"49330f497818\",10:\"a8e6c10c0b05\",11:\"1bd41cf2b693\",12:\"854f1ac20f9e\",13:\"c26240bb4591\",14:\"776bb51e5676\",15:\"6957002a3083\",16:\"dd52520f195f\",17:\"fa75742f4359\",18:\"9a847e4b0fcf\",19:\"a4630e05a5b2\",20:\"01a27908dd56\",21:\"9e44518668b5\",22:\"3c3899c3da4d\",23:\"2e4f77825a63\",24:\"c169f77e4552\",25:\"60507c36b680\",26:\"87c8a481a446\",27:\"37a10ad9be19\",28:\"cbbad922e88a\",29:\"7bbd8239e021\",30:\"87e4fe82aa3b\",31:\"fd86ca4b3227\",32:\"6a36ce77b384\",33:\"e53cfeb65f74\",34:\"2957703c4a10\",35:\"381cc40c5b3e\",36:\"e640672138f5\",37:\"2de8f0f55ddb\"}[e]+\".js\";var f=setTimeout(o,12e4);return c.onerror=c.onload=o,i.appendChild(c),r},n.m=e,n.c=a,n.d=function(e,o,a){n.o(e,o)||Object.defineProperty(e,o,{configurable:!1,enumerable:!0,get:a})},n.n=function(e){var o=e&&e.__esModule?function(){return e.default}:function(){return e};return n.d(o,\"a\",o),o},n.o=function(e,n){return Object.prototype.hasOwnProperty.call(e,n)},n.p=\"/static/bundles/\",n.oe=function(e){throw console.error(e),e}}([]);</script>\\n            <script type=\"text/javascript\" src=\"/static/bundles/en_US_ProfilePageContainer.js/8e981c30ec26.js\" crossorigin=\"anonymous\" charset=\"utf-8\" async=\"\"></script>\\n<script type=\"text/javascript\" src=\"/static/bundles/en_US_ConsumerCommons.js/d2947b385b7f.js\" crossorigin=\"anonymous\"></script>\\n<script type=\"text/javascript\" src=\"/static/bundles/en_US_Consumer.js/e640672138f5.js\" crossorigin=\"anonymous\"></script>\\n<script>\\n!function(f,b,e,v,n,t,s){if(f.fbq)return;n=f.fbq=function(){n.callMethod?\\nn.callMethod.apply(n,arguments):n.queue.push(arguments)};if(!f._fbq)f._fbq=n;\\nn.push=n;n.loaded=!0;n.version=\\'2.0\\';n.queue=[];t=b.createElement(e);t.async=!0;\\nt.src=v;s=b.getElementsByTagName(e)[0];s.parentNode.insertBefore(t,s)}(window,\\ndocument,\\'script\\',\\'//connect.facebook.net/en_US/fbevents.js\\');\\n\\nfbq(\\'init\\', \\'1425767024389221\\');\\n\\nfbq(\\'track\\', \\'PageView\\');\\n\\n\\n</script>\\n<noscript>\\n\\n\\n</noscript>\\n\\n        \\n    </body>\\n</html>'"
      ]
     },
     "execution_count": 189,
     "metadata": {},
     "output_type": "execute_result"
    }
   ],
   "source": [
    "import requests\n",
    "response = requests.get('https://www.instagram.com/aloe_ve/')\n",
    "response.text"
   ]
  },
  {
   "cell_type": "code",
   "execution_count": null,
   "metadata": {
    "collapsed": true
   },
   "outputs": [],
   "source": []
  },
  {
   "cell_type": "code",
   "execution_count": 191,
   "metadata": {
    "ExecuteTime": {
     "end_time": "2017-11-24T16:02:48.010598Z",
     "start_time": "2017-11-24T16:02:48.007948Z"
    }
   },
   "outputs": [],
   "source": [
    "import sys"
   ]
  },
  {
   "cell_type": "code",
   "execution_count": 192,
   "metadata": {
    "ExecuteTime": {
     "end_time": "2017-11-24T16:02:51.210518Z",
     "start_time": "2017-11-24T16:02:51.206059Z"
    }
   },
   "outputs": [
    {
     "data": {
      "text/plain": [
       "['',\n",
       " '/Users/i.slinko/projects/ml/spark_home/python',\n",
       " '/Users/i.slinko/projects/ml/data_mining_course/lesson2',\n",
       " '/Users/i.slinko/projects/catboost/catboost/python-package',\n",
       " '/Users/i.slinko/miniconda3/lib/python36.zip',\n",
       " '/Users/i.slinko/miniconda3/lib/python3.6',\n",
       " '/Users/i.slinko/miniconda3/lib/python3.6/lib-dynload',\n",
       " '/Users/i.slinko/miniconda3/lib/python3.6/site-packages',\n",
       " '/Users/i.slinko/miniconda3/lib/python3.6/site-packages/Mako-1.0.7-py3.6.egg',\n",
       " '/Users/i.slinko/projects/gym',\n",
       " '/Users/i.slinko/miniconda3/lib/python3.6/site-packages/setuptools-27.2.0-py3.6.egg',\n",
       " '/Users/i.slinko/miniconda3/lib/python3.6/site-packages/torchvision-0.1.9-py3.6.egg',\n",
       " '/Users/i.slinko/miniconda3/lib/python3.6/site-packages/IPython/extensions',\n",
       " '/Users/i.slinko/.ipython']"
      ]
     },
     "execution_count": 192,
     "metadata": {},
     "output_type": "execute_result"
    }
   ],
   "source": [
    "sys.path"
   ]
  },
  {
   "cell_type": "code",
   "execution_count": null,
   "metadata": {
    "collapsed": true
   },
   "outputs": [],
   "source": []
  }
 ],
 "metadata": {
  "kernelspec": {
   "display_name": "Python 3",
   "language": "python",
   "name": "python3"
  },
  "language_info": {
   "codemirror_mode": {
    "name": "ipython",
    "version": 3
   },
   "file_extension": ".py",
   "mimetype": "text/x-python",
   "name": "python",
   "nbconvert_exporter": "python",
   "pygments_lexer": "ipython3",
   "version": "3.6.1"
  }
 },
 "nbformat": 4,
 "nbformat_minor": 2
}
