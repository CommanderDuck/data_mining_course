{
 "cells": [
  {
   "cell_type": "markdown",
   "metadata": {},
   "source": [
    "## JSON \n",
    "(англ. JavaScript Object Notation) — текстовый формат обмена данными, основанный на JavaScript."
   ]
  },
  {
   "cell_type": "code",
   "execution_count": null,
   "metadata": {
    "collapsed": true
   },
   "outputs": [],
   "source": [
    "import json"
   ]
  },
  {
   "cell_type": "markdown",
   "metadata": {},
   "source": [
    "#### Из JSON в Python:"
   ]
  },
  {
   "cell_type": "code",
   "execution_count": 36,
   "metadata": {
    "ExecuteTime": {
     "end_time": "2017-11-24T20:06:55.834128Z",
     "start_time": "2017-11-24T20:06:55.829554Z"
    }
   },
   "outputs": [
    {
     "data": {
      "text/plain": [
       "{'first_name': 'Guido', 'last_name': 'Rossum'}"
      ]
     },
     "execution_count": 36,
     "metadata": {},
     "output_type": "execute_result"
    }
   ],
   "source": [
    "json_string = '{\"first_name\": \"Guido\", \"last_name\":\"Rossum\"}'\n",
    "parsed_json = json.loads(json_string)\n",
    "parsed_json"
   ]
  },
  {
   "cell_type": "code",
   "execution_count": 37,
   "metadata": {
    "ExecuteTime": {
     "end_time": "2017-11-24T20:07:09.361809Z",
     "start_time": "2017-11-24T20:07:09.358372Z"
    }
   },
   "outputs": [
    {
     "name": "stdout",
     "output_type": "stream",
     "text": [
      "Guido\n"
     ]
    }
   ],
   "source": [
    "print(parsed_json['first_name'])"
   ]
  },
  {
   "cell_type": "markdown",
   "metadata": {},
   "source": [
    "#### Из Python в JSON:"
   ]
  },
  {
   "cell_type": "code",
   "execution_count": 38,
   "metadata": {
    "ExecuteTime": {
     "end_time": "2017-11-24T20:07:26.173496Z",
     "start_time": "2017-11-24T20:07:26.168874Z"
    }
   },
   "outputs": [
    {
     "name": "stdout",
     "output_type": "stream",
     "text": [
      "{\"first_name\": \"Guido\", \"second_name\": \"Rossum\", \"titles\": [\"BDFL\", \"Developer\"]}\n"
     ]
    }
   ],
   "source": [
    "d = {\n",
    "    'first_name': 'Guido',\n",
    "    'second_name': 'Rossum',\n",
    "    'titles': ['BDFL', 'Developer'],\n",
    "}\n",
    "\n",
    "print(json.dumps(d))"
   ]
  },
  {
   "cell_type": "markdown",
   "metadata": {},
   "source": [
    "#### Типы в JSON:"
   ]
  },
  {
   "cell_type": "code",
   "execution_count": 43,
   "metadata": {
    "ExecuteTime": {
     "end_time": "2017-11-24T20:08:29.523693Z",
     "start_time": "2017-11-24T20:08:29.519392Z"
    }
   },
   "outputs": [
    {
     "data": {
      "text/plain": [
       "'[\"foo\", {\"bar\": [\"baz\", null, true, 1.0, 2]}]'"
      ]
     },
     "execution_count": 43,
     "metadata": {},
     "output_type": "execute_result"
    }
   ],
   "source": [
    "json.dumps(['foo', {'bar': ('baz', None, True, 1.0, 2)}])"
   ]
  },
  {
   "cell_type": "code",
   "execution_count": 110,
   "metadata": {
    "ExecuteTime": {
     "end_time": "2017-11-24T20:48:01.898981Z",
     "start_time": "2017-11-24T20:48:01.895218Z"
    }
   },
   "outputs": [
    {
     "data": {
      "text/plain": [
       "['foo', {'bar': ['baz', None, True, 1.0, 2]}]"
      ]
     },
     "execution_count": 110,
     "metadata": {},
     "output_type": "execute_result"
    }
   ],
   "source": [
    "json.loads('[\"foo\", {\"bar\": [\"baz\", null, true, 1.0, 2]}]')"
   ]
  },
  {
   "cell_type": "markdown",
   "metadata": {},
   "source": [
    "#### Unicode:"
   ]
  },
  {
   "cell_type": "code",
   "execution_count": 34,
   "metadata": {
    "ExecuteTime": {
     "end_time": "2017-11-24T20:05:06.932454Z",
     "start_time": "2017-11-24T20:05:06.928048Z"
    }
   },
   "outputs": [
    {
     "name": "stdout",
     "output_type": "stream",
     "text": [
      "\"\\u043f\\u0440\\u0438\\u0432\\u0435\\u0442 \\u043c\\u0438\\u0440!\"\n"
     ]
    }
   ],
   "source": [
    "print(json.dumps('привет мир!'))"
   ]
  },
  {
   "cell_type": "markdown",
   "metadata": {},
   "source": [
    "#### Compact encoding:"
   ]
  },
  {
   "cell_type": "code",
   "execution_count": 47,
   "metadata": {
    "ExecuteTime": {
     "end_time": "2017-11-24T20:10:44.687264Z",
     "start_time": "2017-11-24T20:10:44.682975Z"
    }
   },
   "outputs": [
    {
     "data": {
      "text/plain": [
       "'[1,2,3,{\"4\":5,\"6\":7}]'"
      ]
     },
     "execution_count": 47,
     "metadata": {},
     "output_type": "execute_result"
    }
   ],
   "source": [
    "json.dumps([1, 2, 3, {'4': 5, '6': 7}], separators=(',', ':'))"
   ]
  },
  {
   "cell_type": "markdown",
   "metadata": {},
   "source": [
    "#### Pretty printing:"
   ]
  },
  {
   "cell_type": "code",
   "execution_count": 64,
   "metadata": {
    "ExecuteTime": {
     "end_time": "2017-11-24T20:18:11.432037Z",
     "start_time": "2017-11-24T20:18:11.428375Z"
    }
   },
   "outputs": [
    {
     "name": "stdout",
     "output_type": "stream",
     "text": [
      "{\n",
      "    \"4\": 5,\n",
      "    \"6\": 7\n",
      "}\n"
     ]
    }
   ],
   "source": [
    "print(json.dumps({'4': 5, '6': 7}, sort_keys=True, indent=4))"
   ]
  },
  {
   "cell_type": "markdown",
   "metadata": {},
   "source": [
    "#### Работа с файлами:"
   ]
  },
  {
   "cell_type": "code",
   "execution_count": 127,
   "metadata": {
    "ExecuteTime": {
     "end_time": "2017-11-24T21:08:59.418722Z",
     "start_time": "2017-11-24T21:08:59.415596Z"
    }
   },
   "outputs": [],
   "source": [
    "with open('train.json', 'w') as json_file:\n",
    "    json.dump({'4': 5, '6': 7}, json_file)"
   ]
  },
  {
   "cell_type": "code",
   "execution_count": 128,
   "metadata": {
    "ExecuteTime": {
     "end_time": "2017-11-24T21:09:02.551672Z",
     "start_time": "2017-11-24T21:09:02.547541Z"
    }
   },
   "outputs": [
    {
     "name": "stdout",
     "output_type": "stream",
     "text": [
      "{'4': 5, '6': 7}\n"
     ]
    }
   ],
   "source": [
    "with open('train.json') as json_file:\n",
    "    json_parsed = json.load(json_file)\n",
    "print(json_parsed)"
   ]
  },
  {
   "cell_type": "markdown",
   "metadata": {},
   "source": [
    "#### Неочевидные моменты:"
   ]
  },
  {
   "cell_type": "markdown",
   "metadata": {},
   "source": [
    "1) ключами в словаре могут быть только строчки:"
   ]
  },
  {
   "cell_type": "code",
   "execution_count": 132,
   "metadata": {
    "ExecuteTime": {
     "end_time": "2017-11-24T21:09:47.542026Z",
     "start_time": "2017-11-24T21:09:47.537198Z"
    }
   },
   "outputs": [],
   "source": [
    "json.loads('{1: 2}')"
   ]
  },
  {
   "cell_type": "markdown",
   "metadata": {},
   "source": [
    "2) строчки обрамляются только двойными кавычками: "
   ]
  },
  {
   "cell_type": "code",
   "execution_count": 135,
   "metadata": {
    "ExecuteTime": {
     "end_time": "2017-11-24T21:10:54.217081Z",
     "start_time": "2017-11-24T21:10:54.214934Z"
    }
   },
   "outputs": [],
   "source": [
    "json.loads(\"'string'\")"
   ]
  },
  {
   "cell_type": "markdown",
   "metadata": {},
   "source": [
    "3) нельзя в JSON засунуть set:"
   ]
  },
  {
   "cell_type": "code",
   "execution_count": 139,
   "metadata": {
    "ExecuteTime": {
     "end_time": "2017-11-24T21:12:29.009505Z",
     "start_time": "2017-11-24T21:12:29.006861Z"
    }
   },
   "outputs": [],
   "source": [
    "my_set = set((1,2,3))\n",
    "json.dumps(my_set)"
   ]
  },
  {
   "cell_type": "markdown",
   "metadata": {},
   "source": [
    "### Решаем на семинаре:\n",
    "\n",
    "1. (1 балла) Телефонный справочник.\n",
    "Создайте dict, где в ключах будут имена, а в значениях - телефонные номера. Преобразуйте его в json-файл с помощью функции json.dump\n",
    "\n",
    "2. (1 балл) Прочитайте файл json_task1.json -> сконвертируйте в  в python-объект (функция json.load) -> выведите слово \"world\" (оно является значением во вложенном dict'е)\n",
    "\n",
    "3. (2 балла) Исправьте синтаксические ошибки в файле json_task2.json и сконвертируйте в python-объект (функция json.load)  "
   ]
  },
  {
   "cell_type": "code",
   "execution_count": null,
   "metadata": {
    "collapsed": true
   },
   "outputs": [],
   "source": []
  },
  {
   "cell_type": "code",
   "execution_count": null,
   "metadata": {
    "collapsed": true
   },
   "outputs": [],
   "source": []
  },
  {
   "cell_type": "markdown",
   "metadata": {},
   "source": [
    "## Парсим JSON из Instagram!"
   ]
  },
  {
   "cell_type": "code",
   "execution_count": 1,
   "metadata": {
    "ExecuteTime": {
     "end_time": "2017-11-24T18:34:55.365830Z",
     "start_time": "2017-11-24T18:34:55.109768Z"
    },
    "collapsed": true
   },
   "outputs": [],
   "source": [
    "import requests"
   ]
  },
  {
   "cell_type": "code",
   "execution_count": 6,
   "metadata": {
    "ExecuteTime": {
     "end_time": "2017-11-24T18:36:28.849761Z",
     "start_time": "2017-11-24T18:36:27.857463Z"
    },
    "collapsed": true,
    "scrolled": false
   },
   "outputs": [],
   "source": [
    "response = requests.get('https://www.instagram.com/explore/tags/hse/?__a=1')\n",
    "hse_tag_json = response.json()"
   ]
  },
  {
   "cell_type": "code",
   "execution_count": 15,
   "metadata": {
    "ExecuteTime": {
     "end_time": "2017-11-24T18:42:28.997149Z",
     "start_time": "2017-11-24T18:42:28.535826Z"
    },
    "collapsed": true
   },
   "outputs": [],
   "source": [
    "import pandas as pd"
   ]
  },
  {
   "cell_type": "code",
   "execution_count": null,
   "metadata": {
    "ExecuteTime": {
     "end_time": "2017-11-24T22:44:41.618711Z",
     "start_time": "2017-11-24T22:44:34.985Z"
    }
   },
   "outputs": [],
   "source": [
    "df = pd.read_json(json.dumps(hse_tag_json['tag']['media']['nodes']))"
   ]
  },
  {
   "cell_type": "code",
   "execution_count": 150,
   "metadata": {
    "ExecuteTime": {
     "end_time": "2017-11-24T22:44:45.122482Z",
     "start_time": "2017-11-24T22:44:45.033059Z"
    }
   },
   "outputs": [
    {
     "data": {
      "text/html": [
       "<div>\n",
       "<style>\n",
       "    .dataframe thead tr:only-child th {\n",
       "        text-align: right;\n",
       "    }\n",
       "\n",
       "    .dataframe thead th {\n",
       "        text-align: left;\n",
       "    }\n",
       "\n",
       "    .dataframe tbody tr th {\n",
       "        vertical-align: top;\n",
       "    }\n",
       "</style>\n",
       "<table border=\"1\" class=\"dataframe\">\n",
       "  <thead>\n",
       "    <tr style=\"text-align: right;\">\n",
       "      <th></th>\n",
       "      <th>caption</th>\n",
       "      <th>code</th>\n",
       "      <th>comments</th>\n",
       "      <th>comments_disabled</th>\n",
       "      <th>date</th>\n",
       "      <th>dimensions</th>\n",
       "      <th>display_src</th>\n",
       "      <th>id</th>\n",
       "      <th>is_video</th>\n",
       "      <th>likes</th>\n",
       "      <th>owner</th>\n",
       "      <th>thumbnail_resources</th>\n",
       "      <th>thumbnail_src</th>\n",
       "      <th>video_views</th>\n",
       "    </tr>\n",
       "  </thead>\n",
       "  <tbody>\n",
       "    <tr>\n",
       "      <th>0</th>\n",
       "      <td>Συμμετοχη της Αρχης Λιμενων στο Ευρωπαικο προγ...</td>\n",
       "      <td>Bb4wmCqhuXe</td>\n",
       "      <td>{'count': 0}</td>\n",
       "      <td>False</td>\n",
       "      <td>2017-11-24 17:45:59</td>\n",
       "      <td>{'height': 810, 'width': 1080}</td>\n",
       "      <td>https://scontent-waw1-1.cdninstagram.com/t51.2...</td>\n",
       "      <td>1655286583492273664</td>\n",
       "      <td>False</td>\n",
       "      <td>{'count': 6}</td>\n",
       "      <td>{'id': '2145033941'}</td>\n",
       "      <td>[{'src': 'https://scontent-waw1-1.cdninstagram...</td>\n",
       "      <td>https://scontent-waw1-1.cdninstagram.com/t51.2...</td>\n",
       "      <td>NaN</td>\n",
       "    </tr>\n",
       "    <tr>\n",
       "      <th>1</th>\n",
       "      <td>Праздник к нам приходит\\n#hse #christmastree #...</td>\n",
       "      <td>Bb4uMpUh2nz</td>\n",
       "      <td>{'count': 0}</td>\n",
       "      <td>False</td>\n",
       "      <td>2017-11-24 17:25:02</td>\n",
       "      <td>{'height': 1351, 'width': 1080}</td>\n",
       "      <td>https://scontent-waw1-1.cdninstagram.com/t51.2...</td>\n",
       "      <td>1655276042199722496</td>\n",
       "      <td>False</td>\n",
       "      <td>{'count': 11}</td>\n",
       "      <td>{'id': '295396974'}</td>\n",
       "      <td>[{'src': 'https://scontent-waw1-1.cdninstagram...</td>\n",
       "      <td>https://scontent-waw1-1.cdninstagram.com/t51.2...</td>\n",
       "      <td>NaN</td>\n",
       "    </tr>\n",
       "    <tr>\n",
       "      <th>2</th>\n",
       "      <td>Mis socios en el crimen. Hacemos el trabajo!!!...</td>\n",
       "      <td>Bb4migCBKc6</td>\n",
       "      <td>{'count': 0}</td>\n",
       "      <td>False</td>\n",
       "      <td>2017-11-24 16:19:51</td>\n",
       "      <td>{'height': 640, 'width': 640}</td>\n",
       "      <td>https://scontent-waw1-1.cdninstagram.com/t51.2...</td>\n",
       "      <td>1655242359681885952</td>\n",
       "      <td>True</td>\n",
       "      <td>{'count': 9}</td>\n",
       "      <td>{'id': '327282952'}</td>\n",
       "      <td>[{'src': 'https://scontent-waw1-1.cdninstagram...</td>\n",
       "      <td>https://scontent-waw1-1.cdninstagram.com/t51.2...</td>\n",
       "      <td>18.0</td>\n",
       "    </tr>\n",
       "    <tr>\n",
       "      <th>3</th>\n",
       "      <td>Хочу такой бонус к дальности броска\\n#hse #hse...</td>\n",
       "      <td>Bb4lD0Ogk_n</td>\n",
       "      <td>{'count': 0}</td>\n",
       "      <td>False</td>\n",
       "      <td>2017-11-24 16:05:11</td>\n",
       "      <td>{'height': 640, 'width': 640}</td>\n",
       "      <td>https://scontent-waw1-1.cdninstagram.com/t51.2...</td>\n",
       "      <td>1655235853015994368</td>\n",
       "      <td>False</td>\n",
       "      <td>{'count': 15}</td>\n",
       "      <td>{'id': '6308282876'}</td>\n",
       "      <td>[{'src': 'https://scontent-waw1-1.cdninstagram...</td>\n",
       "      <td>https://scontent-waw1-1.cdninstagram.com/t51.2...</td>\n",
       "      <td>NaN</td>\n",
       "    </tr>\n",
       "    <tr>\n",
       "      <th>4</th>\n",
       "      <td>Brotherly love!!!!!! Big bruh...... Ziggy Zo!!...</td>\n",
       "      <td>Bb4cmVIh10J</td>\n",
       "      <td>{'count': 1}</td>\n",
       "      <td>False</td>\n",
       "      <td>2017-11-24 14:51:15</td>\n",
       "      <td>{'height': 1080, 'width': 1080}</td>\n",
       "      <td>https://scontent-waw1-1.cdninstagram.com/t51.2...</td>\n",
       "      <td>1655198642392751360</td>\n",
       "      <td>False</td>\n",
       "      <td>{'count': 21}</td>\n",
       "      <td>{'id': '327282952'}</td>\n",
       "      <td>[{'src': 'https://scontent-waw1-1.cdninstagram...</td>\n",
       "      <td>https://scontent-waw1-1.cdninstagram.com/t51.2...</td>\n",
       "      <td>NaN</td>\n",
       "    </tr>\n",
       "    <tr>\n",
       "      <th>5</th>\n",
       "      <td>Ain't no rest..... get it in..... #mylyfemypai...</td>\n",
       "      <td>Bb4cUxphFq4</td>\n",
       "      <td>{'count': 0}</td>\n",
       "      <td>False</td>\n",
       "      <td>2017-11-24 14:48:52</td>\n",
       "      <td>{'height': 1080, 'width': 1080}</td>\n",
       "      <td>https://scontent-waw1-1.cdninstagram.com/t51.2...</td>\n",
       "      <td>1655197436060392192</td>\n",
       "      <td>False</td>\n",
       "      <td>{'count': 10}</td>\n",
       "      <td>{'id': '327282952'}</td>\n",
       "      <td>[{'src': 'https://scontent-waw1-1.cdninstagram...</td>\n",
       "      <td>https://scontent-waw1-1.cdninstagram.com/t51.2...</td>\n",
       "      <td>NaN</td>\n",
       "    </tr>\n",
       "    <tr>\n",
       "      <th>6</th>\n",
       "      <td>Yung prince!!!!! #mylyfemypain #certified #HSE...</td>\n",
       "      <td>Bb4bv5PhYQU</td>\n",
       "      <td>{'count': 1}</td>\n",
       "      <td>False</td>\n",
       "      <td>2017-11-24 14:43:50</td>\n",
       "      <td>{'height': 1080, 'width': 1080}</td>\n",
       "      <td>https://scontent-waw1-1.cdninstagram.com/t51.2...</td>\n",
       "      <td>1655194901593555968</td>\n",
       "      <td>False</td>\n",
       "      <td>{'count': 15}</td>\n",
       "      <td>{'id': '327282952'}</td>\n",
       "      <td>[{'src': 'https://scontent-waw1-1.cdninstagram...</td>\n",
       "      <td>https://scontent-waw1-1.cdninstagram.com/t51.2...</td>\n",
       "      <td>NaN</td>\n",
       "    </tr>\n",
       "    <tr>\n",
       "      <th>7</th>\n",
       "      <td>The man is infatuated with motorcycles. Idk wh...</td>\n",
       "      <td>Bb4bD9HBh2l</td>\n",
       "      <td>{'count': 0}</td>\n",
       "      <td>False</td>\n",
       "      <td>2017-11-24 14:39:38</td>\n",
       "      <td>{'height': 800, 'width': 640}</td>\n",
       "      <td>https://scontent-waw1-1.cdninstagram.com/t51.2...</td>\n",
       "      <td>1655191882088979968</td>\n",
       "      <td>True</td>\n",
       "      <td>{'count': 11}</td>\n",
       "      <td>{'id': '327282952'}</td>\n",
       "      <td>[{'src': 'https://scontent-waw1-1.cdninstagram...</td>\n",
       "      <td>https://scontent-waw1-1.cdninstagram.com/t51.2...</td>\n",
       "      <td>25.0</td>\n",
       "    </tr>\n",
       "    <tr>\n",
       "      <th>8</th>\n",
       "      <td>He think he be doing something.... lol. My boi...</td>\n",
       "      <td>Bb4ab3shq-n</td>\n",
       "      <td>{'count': 0}</td>\n",
       "      <td>False</td>\n",
       "      <td>2017-11-24 14:33:57</td>\n",
       "      <td>{'height': 640, 'width': 640}</td>\n",
       "      <td>https://scontent-waw1-1.cdninstagram.com/t51.2...</td>\n",
       "      <td>1655189127496642560</td>\n",
       "      <td>True</td>\n",
       "      <td>{'count': 10}</td>\n",
       "      <td>{'id': '327282952'}</td>\n",
       "      <td>[{'src': 'https://scontent-waw1-1.cdninstagram...</td>\n",
       "      <td>https://scontent-waw1-1.cdninstagram.com/t51.2...</td>\n",
       "      <td>25.0</td>\n",
       "    </tr>\n",
       "    <tr>\n",
       "      <th>9</th>\n",
       "      <td>Friday work!!! #elearning #sanofi #hse #traini...</td>\n",
       "      <td>Bb4W2TYFSLr</td>\n",
       "      <td>{'count': 0}</td>\n",
       "      <td>False</td>\n",
       "      <td>2017-11-24 14:01:01</td>\n",
       "      <td>{'height': 1080, 'width': 1080}</td>\n",
       "      <td>https://scontent-waw1-1.cdninstagram.com/t51.2...</td>\n",
       "      <td>1655173351738778368</td>\n",
       "      <td>False</td>\n",
       "      <td>{'count': 19}</td>\n",
       "      <td>{'id': '2054107371'}</td>\n",
       "      <td>[{'src': 'https://scontent-waw1-1.cdninstagram...</td>\n",
       "      <td>https://scontent-waw1-1.cdninstagram.com/t51.2...</td>\n",
       "      <td>NaN</td>\n",
       "    </tr>\n",
       "    <tr>\n",
       "      <th>10</th>\n",
       "      <td>#HSE - Safety Inspection</td>\n",
       "      <td>Bb4VtxWFhBX</td>\n",
       "      <td>{'count': 1}</td>\n",
       "      <td>False</td>\n",
       "      <td>2017-11-24 13:51:06</td>\n",
       "      <td>{'height': 1080, 'width': 1080}</td>\n",
       "      <td>https://scontent-waw1-1.cdninstagram.com/t51.2...</td>\n",
       "      <td>1655168367395737600</td>\n",
       "      <td>False</td>\n",
       "      <td>{'count': 9}</td>\n",
       "      <td>{'id': '1577045332'}</td>\n",
       "      <td>[{'src': 'https://scontent-waw1-1.cdninstagram...</td>\n",
       "      <td>https://scontent-waw1-1.cdninstagram.com/t51.2...</td>\n",
       "      <td>NaN</td>\n",
       "    </tr>\n",
       "    <tr>\n",
       "      <th>11</th>\n",
       "      <td>Первое заседание студ. совета в новом составе....</td>\n",
       "      <td>Bb4Pgt0B5ZY</td>\n",
       "      <td>{'count': 0}</td>\n",
       "      <td>False</td>\n",
       "      <td>2017-11-24 12:56:54</td>\n",
       "      <td>{'height': 809, 'width': 1080}</td>\n",
       "      <td>https://scontent-waw1-1.cdninstagram.com/t51.2...</td>\n",
       "      <td>1655141081970873856</td>\n",
       "      <td>False</td>\n",
       "      <td>{'count': 42}</td>\n",
       "      <td>{'id': '9614569'}</td>\n",
       "      <td>[{'src': 'https://scontent-waw1-1.cdninstagram...</td>\n",
       "      <td>https://scontent-waw1-1.cdninstagram.com/t51.2...</td>\n",
       "      <td>NaN</td>\n",
       "    </tr>\n",
       "    <tr>\n",
       "      <th>12</th>\n",
       "      <td>DEM MOTORS 2.0 #landrover #rangerover #rangero...</td>\n",
       "      <td>Bb4OnJbAxVo</td>\n",
       "      <td>{'count': 0}</td>\n",
       "      <td>False</td>\n",
       "      <td>2017-11-24 12:49:02</td>\n",
       "      <td>{'height': 1080, 'width': 1080}</td>\n",
       "      <td>https://scontent-waw1-1.cdninstagram.com/t51.2...</td>\n",
       "      <td>1655137125886268672</td>\n",
       "      <td>False</td>\n",
       "      <td>{'count': 20}</td>\n",
       "      <td>{'id': '3611510196'}</td>\n",
       "      <td>[{'src': 'https://scontent-waw1-1.cdninstagram...</td>\n",
       "      <td>https://scontent-waw1-1.cdninstagram.com/t51.2...</td>\n",
       "      <td>NaN</td>\n",
       "    </tr>\n",
       "    <tr>\n",
       "      <th>13</th>\n",
       "      <td>DEM MOTORS 3.0 #landrover #rangerover #rangero...</td>\n",
       "      <td>Bb4OLm5gjEJ</td>\n",
       "      <td>{'count': 0}</td>\n",
       "      <td>False</td>\n",
       "      <td>2017-11-24 12:45:17</td>\n",
       "      <td>{'height': 1080, 'width': 1080}</td>\n",
       "      <td>https://scontent-waw1-1.cdninstagram.com/t51.2...</td>\n",
       "      <td>1655135233391079680</td>\n",
       "      <td>False</td>\n",
       "      <td>{'count': 18}</td>\n",
       "      <td>{'id': '3611510196'}</td>\n",
       "      <td>[{'src': 'https://scontent-waw1-1.cdninstagram...</td>\n",
       "      <td>https://scontent-waw1-1.cdninstagram.com/t51.2...</td>\n",
       "      <td>NaN</td>\n",
       "    </tr>\n",
       "    <tr>\n",
       "      <th>14</th>\n",
       "      <td>Busy afternoon on site with our lorries having...</td>\n",
       "      <td>Bb4L6IinLrb</td>\n",
       "      <td>{'count': 0}</td>\n",
       "      <td>False</td>\n",
       "      <td>2017-11-24 12:25:25</td>\n",
       "      <td>{'height': 810, 'width': 1080}</td>\n",
       "      <td>https://scontent-waw1-1.cdninstagram.com/t51.2...</td>\n",
       "      <td>1655125236470561536</td>\n",
       "      <td>False</td>\n",
       "      <td>{'count': 6}</td>\n",
       "      <td>{'id': '2039096220'}</td>\n",
       "      <td>[{'src': 'https://scontent-waw1-1.cdninstagram...</td>\n",
       "      <td>https://scontent-waw1-1.cdninstagram.com/t51.2...</td>\n",
       "      <td>NaN</td>\n",
       "    </tr>\n",
       "    <tr>\n",
       "      <th>15</th>\n",
       "      <td>Reduce tooling costs, lead times, and coordina...</td>\n",
       "      <td>Bb4JtjOlJzk</td>\n",
       "      <td>{'count': 2}</td>\n",
       "      <td>False</td>\n",
       "      <td>2017-11-24 12:06:13</td>\n",
       "      <td>{'height': 320, 'width': 480}</td>\n",
       "      <td>https://scontent-waw1-1.cdninstagram.com/t51.2...</td>\n",
       "      <td>1655115575679294720</td>\n",
       "      <td>True</td>\n",
       "      <td>{'count': 16}</td>\n",
       "      <td>{'id': '5924942449'}</td>\n",
       "      <td>[{'src': 'https://scontent-waw1-1.cdninstagram...</td>\n",
       "      <td>https://scontent-waw1-1.cdninstagram.com/t51.2...</td>\n",
       "      <td>10.0</td>\n",
       "    </tr>\n",
       "    <tr>\n",
       "      <th>16</th>\n",
       "      <td>Всем нашим гостям, кто напишет отзыв и подпише...</td>\n",
       "      <td>Bb4IQ3vH_r_</td>\n",
       "      <td>{'count': 1}</td>\n",
       "      <td>False</td>\n",
       "      <td>2017-11-24 11:53:34</td>\n",
       "      <td>{'height': 1080, 'width': 1080}</td>\n",
       "      <td>https://scontent-waw1-1.cdninstagram.com/t51.2...</td>\n",
       "      <td>1655109206788799232</td>\n",
       "      <td>False</td>\n",
       "      <td>{'count': 13}</td>\n",
       "      <td>{'id': '3175244083'}</td>\n",
       "      <td>[{'src': 'https://scontent-waw1-1.cdninstagram...</td>\n",
       "      <td>https://scontent-waw1-1.cdninstagram.com/t51.2...</td>\n",
       "      <td>NaN</td>\n",
       "    </tr>\n",
       "  </tbody>\n",
       "</table>\n",
       "</div>"
      ],
      "text/plain": [
       "                                              caption         code  \\\n",
       "0   Συμμετοχη της Αρχης Λιμενων στο Ευρωπαικο προγ...  Bb4wmCqhuXe   \n",
       "1   Праздник к нам приходит\\n#hse #christmastree #...  Bb4uMpUh2nz   \n",
       "2   Mis socios en el crimen. Hacemos el trabajo!!!...  Bb4migCBKc6   \n",
       "3   Хочу такой бонус к дальности броска\\n#hse #hse...  Bb4lD0Ogk_n   \n",
       "4   Brotherly love!!!!!! Big bruh...... Ziggy Zo!!...  Bb4cmVIh10J   \n",
       "5   Ain't no rest..... get it in..... #mylyfemypai...  Bb4cUxphFq4   \n",
       "6   Yung prince!!!!! #mylyfemypain #certified #HSE...  Bb4bv5PhYQU   \n",
       "7   The man is infatuated with motorcycles. Idk wh...  Bb4bD9HBh2l   \n",
       "8   He think he be doing something.... lol. My boi...  Bb4ab3shq-n   \n",
       "9   Friday work!!! #elearning #sanofi #hse #traini...  Bb4W2TYFSLr   \n",
       "10                           #HSE - Safety Inspection  Bb4VtxWFhBX   \n",
       "11  Первое заседание студ. совета в новом составе....  Bb4Pgt0B5ZY   \n",
       "12  DEM MOTORS 2.0 #landrover #rangerover #rangero...  Bb4OnJbAxVo   \n",
       "13  DEM MOTORS 3.0 #landrover #rangerover #rangero...  Bb4OLm5gjEJ   \n",
       "14  Busy afternoon on site with our lorries having...  Bb4L6IinLrb   \n",
       "15  Reduce tooling costs, lead times, and coordina...  Bb4JtjOlJzk   \n",
       "16  Всем нашим гостям, кто напишет отзыв и подпише...  Bb4IQ3vH_r_   \n",
       "\n",
       "        comments  comments_disabled                date  \\\n",
       "0   {'count': 0}              False 2017-11-24 17:45:59   \n",
       "1   {'count': 0}              False 2017-11-24 17:25:02   \n",
       "2   {'count': 0}              False 2017-11-24 16:19:51   \n",
       "3   {'count': 0}              False 2017-11-24 16:05:11   \n",
       "4   {'count': 1}              False 2017-11-24 14:51:15   \n",
       "5   {'count': 0}              False 2017-11-24 14:48:52   \n",
       "6   {'count': 1}              False 2017-11-24 14:43:50   \n",
       "7   {'count': 0}              False 2017-11-24 14:39:38   \n",
       "8   {'count': 0}              False 2017-11-24 14:33:57   \n",
       "9   {'count': 0}              False 2017-11-24 14:01:01   \n",
       "10  {'count': 1}              False 2017-11-24 13:51:06   \n",
       "11  {'count': 0}              False 2017-11-24 12:56:54   \n",
       "12  {'count': 0}              False 2017-11-24 12:49:02   \n",
       "13  {'count': 0}              False 2017-11-24 12:45:17   \n",
       "14  {'count': 0}              False 2017-11-24 12:25:25   \n",
       "15  {'count': 2}              False 2017-11-24 12:06:13   \n",
       "16  {'count': 1}              False 2017-11-24 11:53:34   \n",
       "\n",
       "                         dimensions  \\\n",
       "0    {'height': 810, 'width': 1080}   \n",
       "1   {'height': 1351, 'width': 1080}   \n",
       "2     {'height': 640, 'width': 640}   \n",
       "3     {'height': 640, 'width': 640}   \n",
       "4   {'height': 1080, 'width': 1080}   \n",
       "5   {'height': 1080, 'width': 1080}   \n",
       "6   {'height': 1080, 'width': 1080}   \n",
       "7     {'height': 800, 'width': 640}   \n",
       "8     {'height': 640, 'width': 640}   \n",
       "9   {'height': 1080, 'width': 1080}   \n",
       "10  {'height': 1080, 'width': 1080}   \n",
       "11   {'height': 809, 'width': 1080}   \n",
       "12  {'height': 1080, 'width': 1080}   \n",
       "13  {'height': 1080, 'width': 1080}   \n",
       "14   {'height': 810, 'width': 1080}   \n",
       "15    {'height': 320, 'width': 480}   \n",
       "16  {'height': 1080, 'width': 1080}   \n",
       "\n",
       "                                          display_src                   id  \\\n",
       "0   https://scontent-waw1-1.cdninstagram.com/t51.2...  1655286583492273664   \n",
       "1   https://scontent-waw1-1.cdninstagram.com/t51.2...  1655276042199722496   \n",
       "2   https://scontent-waw1-1.cdninstagram.com/t51.2...  1655242359681885952   \n",
       "3   https://scontent-waw1-1.cdninstagram.com/t51.2...  1655235853015994368   \n",
       "4   https://scontent-waw1-1.cdninstagram.com/t51.2...  1655198642392751360   \n",
       "5   https://scontent-waw1-1.cdninstagram.com/t51.2...  1655197436060392192   \n",
       "6   https://scontent-waw1-1.cdninstagram.com/t51.2...  1655194901593555968   \n",
       "7   https://scontent-waw1-1.cdninstagram.com/t51.2...  1655191882088979968   \n",
       "8   https://scontent-waw1-1.cdninstagram.com/t51.2...  1655189127496642560   \n",
       "9   https://scontent-waw1-1.cdninstagram.com/t51.2...  1655173351738778368   \n",
       "10  https://scontent-waw1-1.cdninstagram.com/t51.2...  1655168367395737600   \n",
       "11  https://scontent-waw1-1.cdninstagram.com/t51.2...  1655141081970873856   \n",
       "12  https://scontent-waw1-1.cdninstagram.com/t51.2...  1655137125886268672   \n",
       "13  https://scontent-waw1-1.cdninstagram.com/t51.2...  1655135233391079680   \n",
       "14  https://scontent-waw1-1.cdninstagram.com/t51.2...  1655125236470561536   \n",
       "15  https://scontent-waw1-1.cdninstagram.com/t51.2...  1655115575679294720   \n",
       "16  https://scontent-waw1-1.cdninstagram.com/t51.2...  1655109206788799232   \n",
       "\n",
       "    is_video          likes                 owner  \\\n",
       "0      False   {'count': 6}  {'id': '2145033941'}   \n",
       "1      False  {'count': 11}   {'id': '295396974'}   \n",
       "2       True   {'count': 9}   {'id': '327282952'}   \n",
       "3      False  {'count': 15}  {'id': '6308282876'}   \n",
       "4      False  {'count': 21}   {'id': '327282952'}   \n",
       "5      False  {'count': 10}   {'id': '327282952'}   \n",
       "6      False  {'count': 15}   {'id': '327282952'}   \n",
       "7       True  {'count': 11}   {'id': '327282952'}   \n",
       "8       True  {'count': 10}   {'id': '327282952'}   \n",
       "9      False  {'count': 19}  {'id': '2054107371'}   \n",
       "10     False   {'count': 9}  {'id': '1577045332'}   \n",
       "11     False  {'count': 42}     {'id': '9614569'}   \n",
       "12     False  {'count': 20}  {'id': '3611510196'}   \n",
       "13     False  {'count': 18}  {'id': '3611510196'}   \n",
       "14     False   {'count': 6}  {'id': '2039096220'}   \n",
       "15      True  {'count': 16}  {'id': '5924942449'}   \n",
       "16     False  {'count': 13}  {'id': '3175244083'}   \n",
       "\n",
       "                                  thumbnail_resources  \\\n",
       "0   [{'src': 'https://scontent-waw1-1.cdninstagram...   \n",
       "1   [{'src': 'https://scontent-waw1-1.cdninstagram...   \n",
       "2   [{'src': 'https://scontent-waw1-1.cdninstagram...   \n",
       "3   [{'src': 'https://scontent-waw1-1.cdninstagram...   \n",
       "4   [{'src': 'https://scontent-waw1-1.cdninstagram...   \n",
       "5   [{'src': 'https://scontent-waw1-1.cdninstagram...   \n",
       "6   [{'src': 'https://scontent-waw1-1.cdninstagram...   \n",
       "7   [{'src': 'https://scontent-waw1-1.cdninstagram...   \n",
       "8   [{'src': 'https://scontent-waw1-1.cdninstagram...   \n",
       "9   [{'src': 'https://scontent-waw1-1.cdninstagram...   \n",
       "10  [{'src': 'https://scontent-waw1-1.cdninstagram...   \n",
       "11  [{'src': 'https://scontent-waw1-1.cdninstagram...   \n",
       "12  [{'src': 'https://scontent-waw1-1.cdninstagram...   \n",
       "13  [{'src': 'https://scontent-waw1-1.cdninstagram...   \n",
       "14  [{'src': 'https://scontent-waw1-1.cdninstagram...   \n",
       "15  [{'src': 'https://scontent-waw1-1.cdninstagram...   \n",
       "16  [{'src': 'https://scontent-waw1-1.cdninstagram...   \n",
       "\n",
       "                                        thumbnail_src  video_views  \n",
       "0   https://scontent-waw1-1.cdninstagram.com/t51.2...          NaN  \n",
       "1   https://scontent-waw1-1.cdninstagram.com/t51.2...          NaN  \n",
       "2   https://scontent-waw1-1.cdninstagram.com/t51.2...         18.0  \n",
       "3   https://scontent-waw1-1.cdninstagram.com/t51.2...          NaN  \n",
       "4   https://scontent-waw1-1.cdninstagram.com/t51.2...          NaN  \n",
       "5   https://scontent-waw1-1.cdninstagram.com/t51.2...          NaN  \n",
       "6   https://scontent-waw1-1.cdninstagram.com/t51.2...          NaN  \n",
       "7   https://scontent-waw1-1.cdninstagram.com/t51.2...         25.0  \n",
       "8   https://scontent-waw1-1.cdninstagram.com/t51.2...         25.0  \n",
       "9   https://scontent-waw1-1.cdninstagram.com/t51.2...          NaN  \n",
       "10  https://scontent-waw1-1.cdninstagram.com/t51.2...          NaN  \n",
       "11  https://scontent-waw1-1.cdninstagram.com/t51.2...          NaN  \n",
       "12  https://scontent-waw1-1.cdninstagram.com/t51.2...          NaN  \n",
       "13  https://scontent-waw1-1.cdninstagram.com/t51.2...          NaN  \n",
       "14  https://scontent-waw1-1.cdninstagram.com/t51.2...          NaN  \n",
       "15  https://scontent-waw1-1.cdninstagram.com/t51.2...         10.0  \n",
       "16  https://scontent-waw1-1.cdninstagram.com/t51.2...          NaN  "
      ]
     },
     "execution_count": 150,
     "metadata": {},
     "output_type": "execute_result"
    }
   ],
   "source": [
    "df"
   ]
  },
  {
   "cell_type": "markdown",
   "metadata": {},
   "source": [
    "### Блиц!\n",
    "С помощью функции pandas['column_name'].map() преобразуйте колонки comments и likes из dict'ов в числа"
   ]
  },
  {
   "cell_type": "code",
   "execution_count": 152,
   "metadata": {
    "ExecuteTime": {
     "end_time": "2017-11-24T22:46:41.957067Z",
     "start_time": "2017-11-24T22:46:41.952524Z"
    }
   },
   "outputs": [],
   "source": [
    "# ny_users = set()\n",
    "# max_id = ''\n",
    "# has_next_page = True\n",
    "# for i in range(100):\n",
    "#     resp = requests.get('https://www.instagram.com/explore/tags/hse/?__a=1'.format(max_id)).json()\n",
    "#     location_dict = resp['tag']\n",
    "\n",
    "#     if resp['tag']['media']['page_info']['has_next_page']:\n",
    "#         max_id = '&max_id=' + location_dict['media']['page_info']['end_cursor']\n",
    "#     else:\n",
    "#         has_next_page = False"
   ]
  },
  {
   "cell_type": "code",
   "execution_count": null,
   "metadata": {
    "collapsed": true
   },
   "outputs": [],
   "source": []
  },
  {
   "cell_type": "code",
   "execution_count": null,
   "metadata": {
    "collapsed": true
   },
   "outputs": [],
   "source": []
  }
 ],
 "metadata": {
  "kernelspec": {
   "display_name": "Python 3",
   "language": "python",
   "name": "python3"
  },
  "language_info": {
   "codemirror_mode": {
    "name": "ipython",
    "version": 3
   },
   "file_extension": ".py",
   "mimetype": "text/x-python",
   "name": "python",
   "nbconvert_exporter": "python",
   "pygments_lexer": "ipython3",
   "version": "3.6.1"
  }
 },
 "nbformat": 4,
 "nbformat_minor": 2
}
