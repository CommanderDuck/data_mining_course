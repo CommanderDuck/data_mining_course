{
 "cells": [
  {
   "cell_type": "markdown",
   "metadata": {},
   "source": [
    "# Типы данных в python"
   ]
  },
  {
   "cell_type": "markdown",
   "metadata": {},
   "source": [
    "### int - целые числа"
   ]
  },
  {
   "cell_type": "code",
   "execution_count": 1,
   "metadata": {},
   "outputs": [
    {
     "name": "stdout",
     "output_type": "stream",
     "text": [
      "8\n"
     ]
    }
   ],
   "source": [
    "print(2**3)"
   ]
  },
  {
   "cell_type": "code",
   "execution_count": 2,
   "metadata": {
    "collapsed": true
   },
   "outputs": [],
   "source": [
    "a = 2\n",
    "b = 8"
   ]
  },
  {
   "cell_type": "code",
   "execution_count": 3,
   "metadata": {},
   "outputs": [
    {
     "name": "stdout",
     "output_type": "stream",
     "text": [
      "0.25\n",
      "0\n",
      "256\n",
      "0\n"
     ]
    }
   ],
   "source": [
    "print(a/b, a//b, a**b, b%a, sep='\\n')"
   ]
  },
  {
   "cell_type": "code",
   "execution_count": 4,
   "metadata": {},
   "outputs": [
    {
     "name": "stdout",
     "output_type": "stream",
     "text": [
      "<class 'float'>\n",
      "<class 'int'>\n",
      "<class 'int'>\n",
      "<class 'int'>\n"
     ]
    }
   ],
   "source": [
    "print(type(a/b), type(a//b), type(a**b), type(b%a), sep='\\n')"
   ]
  },
  {
   "cell_type": "markdown",
   "metadata": {},
   "source": [
    "### float - вещественные числа"
   ]
  },
  {
   "cell_type": "code",
   "execution_count": 5,
   "metadata": {},
   "outputs": [
    {
     "name": "stdout",
     "output_type": "stream",
     "text": [
      "<class 'float'>\n"
     ]
    }
   ],
   "source": [
    "c = 0.25\n",
    "print(type(c))"
   ]
  },
  {
   "cell_type": "markdown",
   "metadata": {},
   "source": [
    "Неточные!"
   ]
  },
  {
   "cell_type": "code",
   "execution_count": 6,
   "metadata": {},
   "outputs": [
    {
     "name": "stdout",
     "output_type": "stream",
     "text": [
      "3.3333333333333335\n"
     ]
    }
   ],
   "source": [
    "print(10/3)"
   ]
  },
  {
   "cell_type": "code",
   "execution_count": 7,
   "metadata": {},
   "outputs": [
    {
     "name": "stdout",
     "output_type": "stream",
     "text": [
      "oh no WTF\n"
     ]
    }
   ],
   "source": [
    "if 0.1 + 0.2 == 0.3:\n",
    "    print('OK')\n",
    "else:\n",
    "    print('oh no WTF')"
   ]
  },
  {
   "cell_type": "code",
   "execution_count": 8,
   "metadata": {},
   "outputs": [
    {
     "name": "stdout",
     "output_type": "stream",
     "text": [
      "diff is smaller than 0.03125\n",
      "diff is smaller than 0.015625\n",
      "diff is smaller than 0.0078125\n",
      "diff is smaller than 0.00390625\n",
      "diff is smaller than 0.001953125\n",
      "diff is smaller than 0.0009765625\n",
      "diff is smaller than 0.00048828125\n",
      "diff is smaller than 0.000244140625\n",
      "diff is smaller than 0.0001220703125\n",
      "diff is smaller than 6.103515625e-05\n",
      "diff is smaller than 3.0517578125e-05\n",
      "diff is smaller than 1.52587890625e-05\n",
      "diff is smaller than 7.62939453125e-06\n",
      "diff is smaller than 3.814697265625e-06\n",
      "diff is smaller than 1.9073486328125e-06\n",
      "diff is smaller than 9.5367431640625e-07\n",
      "diff is smaller than 4.76837158203125e-07\n",
      "diff is smaller than 2.384185791015625e-07\n",
      "diff is smaller than 1.1920928955078125e-07\n",
      "diff is smaller than 5.960464477539063e-08\n",
      "diff is smaller than 2.9802322387695312e-08\n",
      "diff is smaller than 1.4901161193847656e-08\n",
      "diff is smaller than 7.450580596923828e-09\n",
      "diff is smaller than 3.725290298461914e-09\n",
      "diff is smaller than 1.862645149230957e-09\n",
      "diff is smaller than 9.313225746154785e-10\n",
      "diff is smaller than 4.656612873077393e-10\n",
      "diff is smaller than 2.3283064365386963e-10\n",
      "diff is smaller than 1.1641532182693481e-10\n",
      "diff is smaller than 5.820766091346741e-11\n",
      "diff is smaller than 2.9103830456733704e-11\n",
      "diff is smaller than 1.4551915228366852e-11\n",
      "diff is smaller than 7.275957614183426e-12\n",
      "diff is smaller than 3.637978807091713e-12\n",
      "diff is smaller than 1.8189894035458565e-12\n",
      "diff is smaller than 9.094947017729282e-13\n",
      "diff is smaller than 4.547473508864641e-13\n",
      "diff is smaller than 2.2737367544323206e-13\n",
      "diff is smaller than 1.1368683772161603e-13\n",
      "diff is smaller than 5.684341886080802e-14\n",
      "diff is smaller than 2.842170943040401e-14\n",
      "diff is smaller than 1.4210854715202004e-14\n",
      "diff is smaller than 7.105427357601002e-15\n",
      "diff is smaller than 3.552713678800501e-15\n",
      "diff is smaller than 1.7763568394002505e-15\n",
      "diff is smaller than 8.881784197001252e-16\n",
      "diff is smaller than 4.440892098500626e-16\n",
      "diff is smaller than 2.220446049250313e-16\n",
      "diff is smaller than 1.1102230246251565e-16\n",
      "finally!\n"
     ]
    }
   ],
   "source": [
    "eps = 2 ** -5\n",
    "while (0.1 + 0.2 - 0.3) < eps:\n",
    "    print('diff is smaller than', eps)\n",
    "    eps = eps/2\n",
    "print('finally!')"
   ]
  },
  {
   "cell_type": "code",
   "execution_count": 81,
   "metadata": {},
   "outputs": [
    {
     "name": "stdout",
     "output_type": "stream",
     "text": [
      "11\n",
      "10\n"
     ]
    }
   ],
   "source": [
    "from math import floor, ceil\n",
    "f = 10.2\n",
    "print(ceil(f))\n",
    "print(floor(f))"
   ]
  },
  {
   "cell_type": "markdown",
   "metadata": {},
   "source": [
    "Если можно обойтись без них - лучше обойтись без них"
   ]
  },
  {
   "cell_type": "markdown",
   "metadata": {},
   "source": [
    "### bool - булевы переменные"
   ]
  },
  {
   "cell_type": "code",
   "execution_count": 9,
   "metadata": {},
   "outputs": [
    {
     "data": {
      "text/plain": [
       "True"
      ]
     },
     "execution_count": 9,
     "metadata": {},
     "output_type": "execute_result"
    }
   ],
   "source": [
    "2 == 2"
   ]
  },
  {
   "cell_type": "code",
   "execution_count": 10,
   "metadata": {},
   "outputs": [
    {
     "data": {
      "text/plain": [
       "False"
      ]
     },
     "execution_count": 10,
     "metadata": {},
     "output_type": "execute_result"
    }
   ],
   "source": [
    "2 != 2 "
   ]
  },
  {
   "cell_type": "code",
   "execution_count": 11,
   "metadata": {},
   "outputs": [
    {
     "data": {
      "text/plain": [
       "1"
      ]
     },
     "execution_count": 11,
     "metadata": {},
     "output_type": "execute_result"
    }
   ],
   "source": [
    "int(True)"
   ]
  },
  {
   "cell_type": "code",
   "execution_count": 12,
   "metadata": {},
   "outputs": [
    {
     "data": {
      "text/plain": [
       "0"
      ]
     },
     "execution_count": 12,
     "metadata": {},
     "output_type": "execute_result"
    }
   ],
   "source": [
    "int(False)"
   ]
  },
  {
   "cell_type": "code",
   "execution_count": 13,
   "metadata": {},
   "outputs": [
    {
     "data": {
      "text/plain": [
       "False"
      ]
     },
     "execution_count": 13,
     "metadata": {},
     "output_type": "execute_result"
    }
   ],
   "source": [
    "bool(0)"
   ]
  },
  {
   "cell_type": "markdown",
   "metadata": {},
   "source": [
    "### Str строковые переменные"
   ]
  },
  {
   "cell_type": "code",
   "execution_count": 14,
   "metadata": {},
   "outputs": [
    {
     "name": "stdout",
     "output_type": "stream",
     "text": [
      "23\n"
     ]
    }
   ],
   "source": [
    "print('2'+'3')"
   ]
  },
  {
   "cell_type": "code",
   "execution_count": 15,
   "metadata": {},
   "outputs": [
    {
     "name": "stdout",
     "output_type": "stream",
     "text": [
      "Hola! Hola! Hola! Hola! Hola! Hola! Hola! Hola! Hola! Hola! \n"
     ]
    }
   ],
   "source": [
    "print('Hola! ' * 10)"
   ]
  },
  {
   "cell_type": "code",
   "execution_count": 16,
   "metadata": {
    "collapsed": true
   },
   "outputs": [],
   "source": [
    "s = 'Hola'"
   ]
  },
  {
   "cell_type": "code",
   "execution_count": 17,
   "metadata": {},
   "outputs": [
    {
     "data": {
      "text/plain": [
       "'Ho'"
      ]
     },
     "execution_count": 17,
     "metadata": {},
     "output_type": "execute_result"
    }
   ],
   "source": [
    "s[:2]"
   ]
  },
  {
   "cell_type": "code",
   "execution_count": 19,
   "metadata": {},
   "outputs": [
    {
     "name": "stdout",
     "output_type": "stream",
     "text": [
      "H\n",
      "o\n",
      "l\n",
      "a\n"
     ]
    }
   ],
   "source": [
    "for letter in s:\n",
    "    print(letter)"
   ]
  },
  {
   "cell_type": "markdown",
   "metadata": {},
   "source": [
    "### Кортежи, списки"
   ]
  },
  {
   "cell_type": "markdown",
   "metadata": {},
   "source": [
    "Список - хранит произвольные элементы \n",
    "\n",
    "Кортеж - хранит произвольные элементы, неизменяемый"
   ]
  },
  {
   "cell_type": "code",
   "execution_count": 20,
   "metadata": {
    "collapsed": true
   },
   "outputs": [],
   "source": [
    "k = (1,2,'something', True, 6,6,6) "
   ]
  },
  {
   "cell_type": "code",
   "execution_count": 21,
   "metadata": {},
   "outputs": [
    {
     "data": {
      "text/plain": [
       "(1, 2, 'something', True, 6, 6, 6)"
      ]
     },
     "execution_count": 21,
     "metadata": {},
     "output_type": "execute_result"
    }
   ],
   "source": [
    "k"
   ]
  },
  {
   "cell_type": "code",
   "execution_count": 22,
   "metadata": {},
   "outputs": [
    {
     "data": {
      "text/plain": [
       "tuple"
      ]
     },
     "execution_count": 22,
     "metadata": {},
     "output_type": "execute_result"
    }
   ],
   "source": [
    "type(k)"
   ]
  },
  {
   "cell_type": "code",
   "execution_count": 23,
   "metadata": {},
   "outputs": [
    {
     "data": {
      "text/plain": [
       "(1, 2)"
      ]
     },
     "execution_count": 23,
     "metadata": {},
     "output_type": "execute_result"
    }
   ],
   "source": [
    "k[:2]"
   ]
  },
  {
   "cell_type": "code",
   "execution_count": 24,
   "metadata": {},
   "outputs": [
    {
     "name": "stdout",
     "output_type": "stream",
     "text": [
      "1 2 something True 6 6 6 "
     ]
    }
   ],
   "source": [
    "for elem in k:\n",
    "    print(elem, end=' ')"
   ]
  },
  {
   "cell_type": "code",
   "execution_count": 25,
   "metadata": {
    "collapsed": true
   },
   "outputs": [],
   "source": [
    "l = [1,2,'something']"
   ]
  },
  {
   "cell_type": "code",
   "execution_count": 26,
   "metadata": {
    "collapsed": true
   },
   "outputs": [],
   "source": [
    "l.append(True)"
   ]
  },
  {
   "cell_type": "code",
   "execution_count": 27,
   "metadata": {
    "collapsed": true
   },
   "outputs": [],
   "source": [
    "l.extend([6,6,6])"
   ]
  },
  {
   "cell_type": "code",
   "execution_count": 28,
   "metadata": {},
   "outputs": [
    {
     "data": {
      "text/plain": [
       "[1, 2, 'something', True, 6, 6, 6]"
      ]
     },
     "execution_count": 28,
     "metadata": {},
     "output_type": "execute_result"
    }
   ],
   "source": [
    "l"
   ]
  },
  {
   "cell_type": "code",
   "execution_count": 29,
   "metadata": {},
   "outputs": [
    {
     "data": {
      "text/plain": [
       "False"
      ]
     },
     "execution_count": 29,
     "metadata": {},
     "output_type": "execute_result"
    }
   ],
   "source": [
    "l == k"
   ]
  },
  {
   "cell_type": "code",
   "execution_count": 30,
   "metadata": {},
   "outputs": [
    {
     "name": "stdout",
     "output_type": "stream",
     "text": [
      "1 2 something True 6 6 6 "
     ]
    }
   ],
   "source": [
    "for elem in l:\n",
    "    print(elem, end=' ')"
   ]
  },
  {
   "cell_type": "markdown",
   "metadata": {},
   "source": [
    "### set Множества"
   ]
  },
  {
   "cell_type": "code",
   "execution_count": 32,
   "metadata": {
    "collapsed": true
   },
   "outputs": [],
   "source": [
    "a = set()"
   ]
  },
  {
   "cell_type": "code",
   "execution_count": 33,
   "metadata": {
    "collapsed": true
   },
   "outputs": [],
   "source": [
    "a.add(1)"
   ]
  },
  {
   "cell_type": "code",
   "execution_count": 34,
   "metadata": {},
   "outputs": [
    {
     "data": {
      "text/plain": [
       "{1}"
      ]
     },
     "execution_count": 34,
     "metadata": {},
     "output_type": "execute_result"
    }
   ],
   "source": [
    "a"
   ]
  },
  {
   "cell_type": "code",
   "execution_count": 35,
   "metadata": {
    "collapsed": true
   },
   "outputs": [],
   "source": [
    "a.add(1)"
   ]
  },
  {
   "cell_type": "code",
   "execution_count": 36,
   "metadata": {},
   "outputs": [
    {
     "data": {
      "text/plain": [
       "{1}"
      ]
     },
     "execution_count": 36,
     "metadata": {},
     "output_type": "execute_result"
    }
   ],
   "source": [
    "a"
   ]
  },
  {
   "cell_type": "code",
   "execution_count": 37,
   "metadata": {
    "collapsed": true
   },
   "outputs": [],
   "source": [
    "a.add(2)"
   ]
  },
  {
   "cell_type": "code",
   "execution_count": 38,
   "metadata": {},
   "outputs": [
    {
     "data": {
      "text/plain": [
       "{1, 2}"
      ]
     },
     "execution_count": 38,
     "metadata": {},
     "output_type": "execute_result"
    }
   ],
   "source": [
    "a"
   ]
  },
  {
   "cell_type": "code",
   "execution_count": 122,
   "metadata": {},
   "outputs": [
    {
     "data": {
      "text/plain": [
       "{0, 2, 3, 4, 5, 8}"
      ]
     },
     "execution_count": 122,
     "metadata": {},
     "output_type": "execute_result"
    }
   ],
   "source": [
    "set([5,5,4,2,5,8,0,3,3,5,4])"
   ]
  },
  {
   "cell_type": "code",
   "execution_count": 123,
   "metadata": {},
   "outputs": [
    {
     "data": {
      "text/plain": [
       "6"
      ]
     },
     "execution_count": 123,
     "metadata": {},
     "output_type": "execute_result"
    }
   ],
   "source": [
    "len(set([5,5,4,2,5,8,0,3,3,5,4]))"
   ]
  },
  {
   "cell_type": "markdown",
   "metadata": {},
   "source": [
    "### dict - Словари"
   ]
  },
  {
   "cell_type": "code",
   "execution_count": 39,
   "metadata": {},
   "outputs": [
    {
     "name": "stdout",
     "output_type": "stream",
     "text": [
      "{'key1': 'value1', 'key2': 'value2'}\n"
     ]
    }
   ],
   "source": [
    "myDict = dict([[ 'key1', 'value1'], ('key2', 'value2')]) \n",
    "print ( myDict )"
   ]
  },
  {
   "cell_type": "code",
   "execution_count": 40,
   "metadata": {
    "collapsed": true
   },
   "outputs": [],
   "source": [
    "phones = {'police' : 102, 'ambulance' : 103, 'firefighters' : 101}"
   ]
  },
  {
   "cell_type": "code",
   "execution_count": 41,
   "metadata": {},
   "outputs": [
    {
     "data": {
      "text/plain": [
       "102"
      ]
     },
     "execution_count": 41,
     "metadata": {},
     "output_type": "execute_result"
    }
   ],
   "source": [
    "phones['police']"
   ]
  },
  {
   "cell_type": "code",
   "execution_count": 42,
   "metadata": {},
   "outputs": [
    {
     "data": {
      "text/plain": [
       "dict_keys(['police', 'ambulance', 'firefighters'])"
      ]
     },
     "execution_count": 42,
     "metadata": {},
     "output_type": "execute_result"
    }
   ],
   "source": [
    "phones.keys()"
   ]
  },
  {
   "cell_type": "markdown",
   "metadata": {},
   "source": [
    "Пока мы повторяли типы и методы работы с ними, также повторили if, while, for, конвертацию типов. Не обязательно помнить все, главное уметь и не боятся гуглить :)"
   ]
  },
  {
   "cell_type": "markdown",
   "metadata": {},
   "source": [
    "### defaultdict from collections"
   ]
  },
  {
   "cell_type": "code",
   "execution_count": 43,
   "metadata": {
    "collapsed": true
   },
   "outputs": [],
   "source": [
    "from collections import defaultdict\n",
    "new_phones = defaultdict(int)\n",
    "phones['Kate']\n",
    "new_phones['Kate']"
   ]
  },
  {
   "cell_type": "markdown",
   "metadata": {},
   "source": [
    "## Ближе к обработке и анализу данных"
   ]
  },
  {
   "cell_type": "markdown",
   "metadata": {},
   "source": [
    "### Простой вход"
   ]
  },
  {
   "cell_type": "code",
   "execution_count": 6,
   "metadata": {
    "ExecuteTime": {
     "end_time": "2017-11-10T16:49:20.759197Z",
     "start_time": "2017-11-10T16:49:00.743053Z"
    }
   },
   "outputs": [
    {
     "name": "stdout",
     "output_type": "stream",
     "text": [
      "Enter a number\n",
      "123123\n",
      "Output:\n",
      "123123\n",
      "<class 'str'>\n",
      "123123123123123123\n"
     ]
    }
   ],
   "source": [
    "print(\"Enter a number\")\n",
    "s = input()\n",
    "print(\"Output:\")\n",
    "print(s)\n",
    "print(type(s))\n",
    "print(s * 3)"
   ]
  },
  {
   "cell_type": "code",
   "execution_count": 49,
   "metadata": {},
   "outputs": [
    {
     "name": "stdout",
     "output_type": "stream",
     "text": [
      "Enter a number\n",
      "12\n",
      "Output:\n",
      "12\n",
      "<class 'str'>\n",
      "36\n"
     ]
    }
   ],
   "source": [
    "print(\"Enter a number\")\n",
    "s = input()\n",
    "print(\"Output:\")\n",
    "print(s)\n",
    "print(type(s))\n",
    "print(int(s) * 3)"
   ]
  },
  {
   "cell_type": "markdown",
   "metadata": {},
   "source": [
    "### Разомнемся: немного задач"
   ]
  },
  {
   "cell_type": "markdown",
   "metadata": {},
   "source": [
    "1. На вход вам приходит вещественное число, обозначающее время, которое необходимо потратить на задачу. Выведите, сколько времени уйдет, чтобы выполнить 3 такие задачи.\n",
    "2. Электронные часы показывают время в формате hh:mm:ss, то есть сначала записывается количество часов, потом обязательно двузначное количество минут, затем обязательно двузначное количество секунд. С начала суток прошло N секунд. Выведите, что покажут часы.\n",
    "3. Выведите 100 первых [чисел Фибоначи](https://ru.wikipedia.org/wiki/Числа_Фибоначчи)"
   ]
  },
  {
   "cell_type": "code",
   "execution_count": 35,
   "metadata": {
    "ExecuteTime": {
     "end_time": "2017-11-10T18:24:56.282158Z",
     "start_time": "2017-11-10T18:24:53.256627Z"
    }
   },
   "outputs": [
    {
     "name": "stdout",
     "output_type": "stream",
     "text": [
      "125\n"
     ]
    }
   ],
   "source": [
    "n_seconds = int(input())"
   ]
  },
  {
   "cell_type": "markdown",
   "metadata": {},
   "source": [
    "## !!! Перерыв !!!"
   ]
  },
  {
   "cell_type": "markdown",
   "metadata": {},
   "source": [
    "## Полезные методы работы со строками"
   ]
  },
  {
   "cell_type": "code",
   "execution_count": 73,
   "metadata": {
    "collapsed": true
   },
   "outputs": [],
   "source": [
    "s1 = '    KiTten '"
   ]
  },
  {
   "cell_type": "code",
   "execution_count": 74,
   "metadata": {},
   "outputs": [
    {
     "data": {
      "text/plain": [
       "False"
      ]
     },
     "execution_count": 74,
     "metadata": {},
     "output_type": "execute_result"
    }
   ],
   "source": [
    "s1 == 'kitten'"
   ]
  },
  {
   "cell_type": "code",
   "execution_count": 75,
   "metadata": {},
   "outputs": [
    {
     "name": "stdout",
     "output_type": "stream",
     "text": [
      "    KiTten \n"
     ]
    }
   ],
   "source": [
    "print(s1)"
   ]
  },
  {
   "cell_type": "code",
   "execution_count": 94,
   "metadata": {},
   "outputs": [
    {
     "data": {
      "text/plain": [
       "True"
      ]
     },
     "execution_count": 94,
     "metadata": {},
     "output_type": "execute_result"
    }
   ],
   "source": [
    "s1.lower().strip() == 'kitten'"
   ]
  },
  {
   "cell_type": "code",
   "execution_count": 97,
   "metadata": {},
   "outputs": [
    {
     "data": {
      "text/plain": [
       "'KITTEN'"
      ]
     },
     "execution_count": 97,
     "metadata": {},
     "output_type": "execute_result"
    }
   ],
   "source": [
    "s1.upper().strip()"
   ]
  },
  {
   "cell_type": "code",
   "execution_count": 128,
   "metadata": {
    "collapsed": true
   },
   "outputs": [],
   "source": [
    "poem = \"\"\"5 little piges.\n",
    "This little pig went to market,\n",
    "This little pig stayed at home,\n",
    "This little pig had roast beef,\n",
    "And this little pig had none,\n",
    "This little pig said, \"Wee, wee, wee!\n",
    "I can't find my way home.\"\"\""
   ]
  },
  {
   "cell_type": "code",
   "execution_count": 129,
   "metadata": {},
   "outputs": [
    {
     "data": {
      "text/plain": [
       "'5 little piges.\\nThis little pig went to market,\\nThis little pig stayed at home,\\nThis little pig had roast beef,\\nAnd this little pig had none,\\nThis little pig said, \"Wee, wee, wee!\\nI can\\'t find my way home.'"
      ]
     },
     "execution_count": 129,
     "metadata": {},
     "output_type": "execute_result"
    }
   ],
   "source": [
    "poem"
   ]
  },
  {
   "cell_type": "code",
   "execution_count": 188,
   "metadata": {},
   "outputs": [
    {
     "data": {
      "text/plain": [
       "21"
      ]
     },
     "execution_count": 188,
     "metadata": {},
     "output_type": "execute_result"
    }
   ],
   "source": [
    "poem.find('little pig', 3)"
   ]
  },
  {
   "cell_type": "code",
   "execution_count": 160,
   "metadata": {},
   "outputs": [
    {
     "data": {
      "text/plain": [
       "147"
      ]
     },
     "execution_count": 160,
     "metadata": {},
     "output_type": "execute_result"
    }
   ],
   "source": [
    "poem.rfind('little pig')"
   ]
  },
  {
   "cell_type": "code",
   "execution_count": 134,
   "metadata": {},
   "outputs": [
    {
     "data": {
      "text/plain": [
       "'piges.\\nThis little pig went to market,\\nThis little pig stayed at home,\\nThis little pig had roast beef,\\nAnd this little pig had none,\\nThis little pig said, \"Wee, wee, wee!\\nI can\\'t find my way home.'"
      ]
     },
     "execution_count": 134,
     "metadata": {},
     "output_type": "execute_result"
    }
   ],
   "source": [
    "poem[9:]"
   ]
  },
  {
   "cell_type": "code",
   "execution_count": 135,
   "metadata": {},
   "outputs": [
    {
     "data": {
      "text/plain": [
       "6"
      ]
     },
     "execution_count": 135,
     "metadata": {},
     "output_type": "execute_result"
    }
   ],
   "source": [
    "poem.count('pig')"
   ]
  },
  {
   "cell_type": "code",
   "execution_count": 136,
   "metadata": {},
   "outputs": [
    {
     "data": {
      "text/plain": [
       "2"
      ]
     },
     "execution_count": 136,
     "metadata": {},
     "output_type": "execute_result"
    }
   ],
   "source": [
    "poem.count('wee')"
   ]
  },
  {
   "cell_type": "code",
   "execution_count": 137,
   "metadata": {},
   "outputs": [
    {
     "name": "stdout",
     "output_type": "stream",
     "text": [
      "5 little hippoes.\n",
      "This little hippo went to market,\n",
      "This little hippo stayed at home,\n",
      "This little hippo had roast beef,\n",
      "And this little hippo had none,\n",
      "This little hippo said, \"Wee, wee, wee!\n",
      "I can't find my way home.\n"
     ]
    }
   ],
   "source": [
    "print(poem.replace('pig', 'hippo'))"
   ]
  },
  {
   "cell_type": "code",
   "execution_count": 139,
   "metadata": {},
   "outputs": [
    {
     "name": "stdout",
     "output_type": "stream",
     "text": [
      "5 little hippoes.\n",
      "This little hippo went to market,\n",
      "This little hippo stayed at home,\n",
      "This little hippo had roast beef,\n",
      "And this little hippo had none,\n",
      "This little hippo said, Wee, wee, wee!\n",
      "I can't find my way home.\n"
     ]
    }
   ],
   "source": [
    "print(poem.replace('pig', 'hippo').replace('\"',''))"
   ]
  },
  {
   "cell_type": "code",
   "execution_count": 140,
   "metadata": {},
   "outputs": [
    {
     "data": {
      "text/plain": [
       "['5 little piges.',\n",
       " 'This little pig went to market,',\n",
       " 'This little pig stayed at home,',\n",
       " 'This little pig had roast beef,',\n",
       " 'And this little pig had none,',\n",
       " 'This little pig said, \"Wee, wee, wee!',\n",
       " \"I can't find my way home.\"]"
      ]
     },
     "execution_count": 140,
     "metadata": {},
     "output_type": "execute_result"
    }
   ],
   "source": [
    "poem.split('\\n')"
   ]
  },
  {
   "cell_type": "markdown",
   "metadata": {},
   "source": [
    "### Второй блок задач:"
   ]
  },
  {
   "cell_type": "markdown",
   "metadata": {},
   "source": [
    "1) На вход вам приходит строка, в которой буква h встречается минимум два раза. Удалите из этой строки первое и последнее вхождение буквы h, а также все символы, находящиеся между ними.\n"
   ]
  },
  {
   "cell_type": "code",
   "execution_count": null,
   "metadata": {
    "collapsed": true
   },
   "outputs": [],
   "source": []
  },
  {
   "cell_type": "markdown",
   "metadata": {},
   "source": [
    "2) Сколько различных слов в стихотворении poem?"
   ]
  },
  {
   "cell_type": "code",
   "execution_count": 141,
   "metadata": {
    "collapsed": true
   },
   "outputs": [],
   "source": [
    "processed_poem =  poem.lower()"
   ]
  },
  {
   "cell_type": "code",
   "execution_count": 143,
   "metadata": {},
   "outputs": [
    {
     "data": {
      "text/plain": [
       "'5 little piges.\\nthis little pig went to market,\\nthis little pig stayed at home,\\nthis little pig had roast beef,\\nand this little pig had none,\\nthis little pig said, \"wee, wee, wee!\\ni can\\'t find my way home.'"
      ]
     },
     "execution_count": 143,
     "metadata": {},
     "output_type": "execute_result"
    }
   ],
   "source": [
    "processed_poem"
   ]
  },
  {
   "cell_type": "code",
   "execution_count": 149,
   "metadata": {},
   "outputs": [
    {
     "data": {
      "text/plain": [
       "'5 little piges \\nthis little pig went to market \\nthis little pig stayed at home \\nthis little pig had roast beef \\nand this little pig had none \\nthis little pig said   wee  wee  wee \\ni can t find my way home '"
      ]
     },
     "execution_count": 149,
     "metadata": {},
     "output_type": "execute_result"
    }
   ],
   "source": [
    "processed_poem.replace('.',' ').replace(',',' ').replace('\"',' ').replace(\"'\",'').replace('!', ' ')"
   ]
  },
  {
   "cell_type": "code",
   "execution_count": 155,
   "metadata": {
    "collapsed": true
   },
   "outputs": [],
   "source": [
    "processed_poem = processed_poem.replace('.',' ').replace(',',' ').replace('\"',' ').replace(\"'\",' ').replace('!', ' ')"
   ]
  },
  {
   "cell_type": "code",
   "execution_count": 158,
   "metadata": {},
   "outputs": [
    {
     "data": {
      "text/plain": [
       "24"
      ]
     },
     "execution_count": 158,
     "metadata": {},
     "output_type": "execute_result"
    }
   ],
   "source": [
    "len(set(processed_poem.replace('t ', 'not ').split()))"
   ]
  },
  {
   "cell_type": "code",
   "execution_count": null,
   "metadata": {
    "collapsed": true
   },
   "outputs": [],
   "source": [
    "fi = open('input.txt')\n",
    "text = fi.read()\n",
    "fi.close()\n",
    "\n",
    "words = set(text.replace('\\n', ' ').split())\n",
    "print(len(words))"
   ]
  },
  {
   "cell_type": "markdown",
   "metadata": {},
   "source": [
    "## Еще полезные методы работы со строками"
   ]
  },
  {
   "cell_type": "code",
   "execution_count": 161,
   "metadata": {},
   "outputs": [
    {
     "data": {
      "text/plain": [
       "False"
      ]
     },
     "execution_count": 161,
     "metadata": {},
     "output_type": "execute_result"
    }
   ],
   "source": [
    "'kate'.isdigit()"
   ]
  },
  {
   "cell_type": "code",
   "execution_count": 162,
   "metadata": {},
   "outputs": [
    {
     "data": {
      "text/plain": [
       "True"
      ]
     },
     "execution_count": 162,
     "metadata": {},
     "output_type": "execute_result"
    }
   ],
   "source": [
    "'kate'.isalpha()"
   ]
  },
  {
   "cell_type": "code",
   "execution_count": 164,
   "metadata": {},
   "outputs": [
    {
     "data": {
      "text/plain": [
       "True"
      ]
     },
     "execution_count": 164,
     "metadata": {},
     "output_type": "execute_result"
    }
   ],
   "source": [
    "'123'.isdigit()"
   ]
  },
  {
   "cell_type": "code",
   "execution_count": 169,
   "metadata": {},
   "outputs": [
    {
     "name": "stdout",
     "output_type": "stream",
     "text": [
      "Tea\n",
      "Tea, aha?\n"
     ]
    }
   ],
   "source": [
    "d = input()\n",
    "if d.isdigit():\n",
    "    print(int(d)+1)\n",
    "else:\n",
    "    print(d + ', aha?')"
   ]
  },
  {
   "cell_type": "code",
   "execution_count": 171,
   "metadata": {},
   "outputs": [
    {
     "data": {
      "text/plain": [
       "True"
      ]
     },
     "execution_count": 171,
     "metadata": {},
     "output_type": "execute_result"
    }
   ],
   "source": [
    "'5littlepigs'.isalnum()"
   ]
  },
  {
   "cell_type": "code",
   "execution_count": 173,
   "metadata": {},
   "outputs": [
    {
     "data": {
      "text/plain": [
       "False"
      ]
     },
     "execution_count": 173,
     "metadata": {},
     "output_type": "execute_result"
    }
   ],
   "source": [
    "'wOrd'.islower()"
   ]
  },
  {
   "cell_type": "code",
   "execution_count": 177,
   "metadata": {},
   "outputs": [
    {
     "data": {
      "text/plain": [
       "False"
      ]
     },
     "execution_count": 177,
     "metadata": {},
     "output_type": "execute_result"
    }
   ],
   "source": [
    "'wOrd'.isupper()"
   ]
  },
  {
   "cell_type": "markdown",
   "metadata": {},
   "source": [
    "## Работа с файлами"
   ]
  },
  {
   "cell_type": "code",
   "execution_count": 185,
   "metadata": {},
   "outputs": [
    {
     "name": "stdout",
     "output_type": "stream",
     "text": [
      "The Detroit Zoo is home to animals from A to Z, including anteaters and zebras and hundreds of other species in between.\n",
      "More than 2000 animals representing over amphibians, mammals, birds and reptiles live in the Zoo’s\n",
      "humdred acres of true-to-life habitats that bring visitors face-to-face with these exotic creatures. There are also some\n",
      "animals from the IUCN Red List:  6 Lemurs, 5 langurs, 10 borean pigs and 3 Philippine dears.\n",
      "\n"
     ]
    }
   ],
   "source": [
    "f = open('zoo.txt', 'r')\n",
    "print(f.read())\n",
    "f.close()"
   ]
  },
  {
   "cell_type": "code",
   "execution_count": 186,
   "metadata": {},
   "outputs": [
    {
     "name": "stdout",
     "output_type": "stream",
     "text": [
      "The Detroit Zoo is home to animals from A to Z, including anteaters and zebras and hundreds of other species in between.\n",
      "More than 2000 animals representing over amphibians, mammals, birds and reptiles live in the Zoo’s\n",
      "humdred acres of true-to-life habitats that bring visitors face-to-face with these exotic creatures. There are also some\n",
      "animals from the IUCN Red List:  6 Lemurs, 5 langurs, 10 borean pigs and 3 Philippine dears.\n",
      "\n"
     ]
    }
   ],
   "source": [
    "with open('zoo.txt', 'r') as f:\n",
    "    print(f.read())"
   ]
  },
  {
   "cell_type": "code",
   "execution_count": 194,
   "metadata": {},
   "outputs": [
    {
     "name": "stdout",
     "output_type": "stream",
     "text": [
      "['The Detroit Zoo is home to animals from A to Z, including anteaters and zebras and hundreds of other species in between.\\n', 'More than 2000 animals representing over amphibians, mammals, birds and reptiles live in the Zoo’s\\n', 'humdred acres of true-to-life habitats that bring visitors face-to-face with these exotic creatures. There are also some\\n', 'animals from the IUCN Red List:  6 Lemurs, 5 langurs, 10 borean pigs and 3 Philippine dears.\\n']\n"
     ]
    }
   ],
   "source": [
    "with open('zoo.txt', 'r') as f:\n",
    "        print(f.readlines())"
   ]
  },
  {
   "cell_type": "code",
   "execution_count": 180,
   "metadata": {},
   "outputs": [
    {
     "name": "stdout",
     "output_type": "stream",
     "text": [
      "The Detroit Zoo is home to animals from A to Z, including anteaters and zebras and hundreds of other species in between.\n",
      "More than 2000 animals representing over amphibians, mammals, birds and reptiles live in the Zoo’s\n",
      "humdred acres of true-to-life habitats that bring visitors face-to-face with these exotic creatures. There are also some\n",
      "animals from the IUCN Red List:  6 Lemurs, 5 langurs, 10 borean pigs and 3 Philippine dears.\n",
      "\n",
      "24\n",
      "2000\n"
     ]
    }
   ],
   "source": [
    "f = open('zoo.txt', 'r')\n",
    "text = f.read()\n",
    "print(text)\n",
    "\n",
    "tokens = text.replace('.','').replace(':', ''). replace(',', '')\n",
    "tokens = tokens.split()\n",
    "\n",
    "redList = 0\n",
    "\n",
    "for i in range(len(tokens)):\n",
    "    if tokens[i] == 'animals' and tokens[i-1].isdigit():\n",
    "        numberOfAnimals = tokens[i-1]\n",
    "    if tokens[i].isdigit() and tokens[i+1] != 'animals':\n",
    "        redList += int(tokens[i])\n",
    "\n",
    "f.close()\n",
    "\n",
    "fo = open('animals_count.txt', 'w')\n",
    "fo.write('Total animals: ' + str(numberOfAnimals) + '\\n')\n",
    "fo.write('Red list animals: ' + str(redList) + '\\n')\n",
    "fo.close()\n",
    "\n",
    "fo = open('animals_count.txt', 'a')\n",
    "print('Heeey', file=fo)\n",
    "print('Total animals: ', str(numberOfAnimals), file=fo)\n",
    "fo.close()\n",
    "\n",
    "\n",
    "print(redList)\n",
    "\n",
    "print(numberOfAnimals)"
   ]
  },
  {
   "cell_type": "markdown",
   "metadata": {},
   "source": [
    "## Пора парсить сайты!"
   ]
  },
  {
   "cell_type": "code",
   "execution_count": 20,
   "metadata": {
    "ExecuteTime": {
     "end_time": "2017-11-10T17:40:27.328740Z",
     "start_time": "2017-11-10T17:40:17.320485Z"
    }
   },
   "outputs": [
    {
     "name": "stdout",
     "output_type": "stream",
     "text": [
      "Fetching package metadata ...........\n",
      "Solving package specifications: .\n",
      "\n",
      "Package plan for installation in environment /Users/i.slinko/miniconda3:\n",
      "\n",
      "The following NEW packages will be INSTALLED:\n",
      "\n",
      "    certifi:  2017.7.27.1-py36hd973bb6_0\n",
      "    chardet:  3.0.4-py36h96c241c_1      \n",
      "    pysocks:  1.6.7-py36hfa33cec_1      \n",
      "    urllib3:  1.22-py36h68b9469_0       \n",
      "\n",
      "The following packages will be UPDATED:\n",
      "\n",
      "    requests: 2.14.2-py36_0              --> 2.18.4-py36h4516966_1\n",
      "\n",
      "certifi-2017.7 100% |################################| Time: 0:00:00   4.69 MB/s\n",
      "chardet-3.0.4- 100% |################################| Time: 0:00:00   5.18 MB/s\n",
      "pysocks-1.6.7- 100% |################################| Time: 0:00:00  18.54 MB/s\n",
      "urllib3-1.22-p 100% |################################| Time: 0:00:00   7.34 MB/s\n",
      "requests-2.18. 100% |################################| Time: 0:00:00   2.32 MB/s\n"
     ]
    }
   ],
   "source": [
    "# ставим библиотеку requests (скорее всего не сработает на Windows)\n",
    "!conda install requests -y  # -y значит, соглашаемся на все вопросы"
   ]
  },
  {
   "cell_type": "code",
   "execution_count": 21,
   "metadata": {
    "ExecuteTime": {
     "end_time": "2017-11-10T17:42:21.322180Z",
     "start_time": "2017-11-10T17:42:21.193442Z"
    }
   },
   "outputs": [
    {
     "data": {
      "text/plain": [
       "b'<!DOCTYPE html>\\n<html lang=\"ru\" dir=\"ltr\" class=\"client-nojs\">\\n<head>\\n<meta charset=\"UTF-8\" />\\n<title>\\xd0\\x98\\xd0\\xb7\\xd0\\xb2\\xd0\\xbb\\xd0\\xb5\\xd1\\x87\\xd0\\xb5\\xd0\\xbd\\xd0\\xb8\\xd0\\xb5 \\xd0\\xb8 \\xd0\\xb0\\xd0\\xbd\\xd0\\xb0\\xd0\\xbb\\xd0\\xb8\\xd0\\xb7 \\xd0\\xb8\\xd0\\xbd\\xd1\\x82\\xd0\\xb5\\xd1\\x80\\xd0\\xbd\\xd0\\xb5\\xd1\\x82-\\xd0\\xb4\\xd0\\xb0\\xd0\\xbd\\xd0\\xbd\\xd1\\x8b\\xd1\\x85 \\xe2\\x80\\x94 Wiki - \\xd0\\xa4\\xd0\\xb0\\xd0\\xba\\xd1\\x83\\xd0\\xbb\\xd1\\x8c\\xd1\\x82\\xd0\\xb5\\xd1\\x82 \\xd0\\xba\\xd0\\xbe\\xd0\\xbc\\xd0\\xbf\\xd1\\x8c\\xd1\\x8e\\xd1\\x82\\xd0\\xb5\\xd1\\x80\\xd0\\xbd\\xd1\\x8b\\xd1\\x85 \\xd0\\xbd\\xd0\\xb0\\xd1\\x83\\xd0\\xba</title>\\n<meta http-equiv=\"X-UA-Compatible\" content=\"IE=EDGE\" />\\n<meta name=\"generator\" content=\"MediaWiki 1.23.2\" />\\n<link rel=\"shortcut icon\" href=\"/skins/favicon.ico\" />\\n<link rel=\"search\" type=\"application/opensearchdescription+xml\" href=\"/opensearch_desc.php\" title=\"Wiki - \\xd0\\xa4\\xd0\\xb0\\xd0\\xba\\xd1\\x83\\xd0\\xbb\\xd1\\x8c\\xd1\\x82\\xd0\\xb5\\xd1\\x82 \\xd0\\xba\\xd0\\xbe\\xd0\\xbc\\xd0\\xbf\\xd1\\x8c\\xd1\\x8e\\xd1\\x82\\xd0\\xb5\\xd1\\x80\\xd0\\xbd\\xd1\\x8b\\xd1\\x85 \\xd0\\xbd\\xd0\\xb0\\xd1\\x83\\xd0\\xba (ru)\" />\\n<link rel=\"EditURI\" type=\"application/rsd+xml\" href=\"http://wiki.cs.hse.ru/api.php?action=rsd\" />\\n<link rel=\"copyright\" href=\"/Wiki_-_%D0%A4%D0%B0%D0%BA%D1%83%D0%BB%D1%8C%D1%82%D0%B5%D1%82_%D0%BA%D0%BE%D0%BC%D0%BF%D1%8C%D1%8E%D1%82%D0%B5%D1%80%D0%BD%D1%8B%D1%85_%D0%BD%D0%B0%D1%83%D0%BA:%D0%9E%D0%BF%D0%B8%D1%81%D0%B0%D0%BD%D0%B8%D0%B5\" />\\n<link rel=\"alternate\" type=\"application/atom+xml\" title=\"Wiki - \\xd0\\xa4\\xd0\\xb0\\xd0\\xba\\xd1\\x83\\xd0\\xbb\\xd1\\x8c\\xd1\\x82\\xd0\\xb5\\xd1\\x82 \\xd0\\xba\\xd0\\xbe\\xd0\\xbc\\xd0\\xbf\\xd1\\x8c\\xd1\\x8e\\xd1\\x82\\xd0\\xb5\\xd1\\x80\\xd0\\xbd\\xd1\\x8b\\xd1\\x85 \\xd0\\xbd\\xd0\\xb0\\xd1\\x83\\xd0\\xba\\xc2\\xa0\\xe2\\x80\\x94 Atom-\\xd0\\xbb\\xd0\\xb5\\xd0\\xbd\\xd1\\x82\\xd0\\xb0\" href=\"/index.php?title=%D0%A1%D0%BB%D1%83%D0%B6%D0%B5%D0%B1%D0%BD%D0%B0%D1%8F:%D0%A1%D0%B2%D0%B5%D0%B6%D0%B8%D0%B5_%D0%BF%D1%80%D0%B0%D0%B2%D0%BA%D0%B8&amp;feed=atom\" />\\n<link rel=\"stylesheet\" href=\"http://wiki.cs.hse.ru/load.php?debug=false&amp;lang=ru&amp;modules=mediawiki.legacy.commonPrint%2Cshared%7Cmediawiki.skinning.interface%7Cmediawiki.ui.button%7Cskins.vector.styles&amp;only=styles&amp;skin=vector&amp;*\" />\\n<meta name=\"ResourceLoaderDynamicStyles\" content=\"\" />\\n<link rel=\"stylesheet\" href=\"http://wiki.cs.hse.ru/load.php?debug=false&amp;lang=ru&amp;modules=site&amp;only=styles&amp;skin=vector&amp;*\" />\\n<style>a:lang(ar),a:lang(kk-arab),a:lang(mzn),a:lang(ps),a:lang(ur){text-decoration:none}\\n/* cache key: wiki_cs:resourceloader:filter:minify-css:7:58586133cd57373dc097ce6780f32e37 */</style>\\n<script src=\"http://wiki.cs.hse.ru/load.php?debug=false&amp;lang=ru&amp;modules=startup&amp;only=scripts&amp;skin=vector&amp;*\"></script>\\n<script>if(window.mw){\\nmw.config.set({\"wgCanonicalNamespace\":\"\",\"wgCanonicalSpecialPageName\":false,\"wgNamespaceNumber\":0,\"wgPageName\":\"\\xd0\\x98\\xd0\\xb7\\xd0\\xb2\\xd0\\xbb\\xd0\\xb5\\xd1\\x87\\xd0\\xb5\\xd0\\xbd\\xd0\\xb8\\xd0\\xb5_\\xd0\\xb8_\\xd0\\xb0\\xd0\\xbd\\xd0\\xb0\\xd0\\xbb\\xd0\\xb8\\xd0\\xb7_\\xd0\\xb8\\xd0\\xbd\\xd1\\x82\\xd0\\xb5\\xd1\\x80\\xd0\\xbd\\xd0\\xb5\\xd1\\x82-\\xd0\\xb4\\xd0\\xb0\\xd0\\xbd\\xd0\\xbd\\xd1\\x8b\\xd1\\x85\",\"wgTitle\":\"\\xd0\\x98\\xd0\\xb7\\xd0\\xb2\\xd0\\xbb\\xd0\\xb5\\xd1\\x87\\xd0\\xb5\\xd0\\xbd\\xd0\\xb8\\xd0\\xb5 \\xd0\\xb8 \\xd0\\xb0\\xd0\\xbd\\xd0\\xb0\\xd0\\xbb\\xd0\\xb8\\xd0\\xb7 \\xd0\\xb8\\xd0\\xbd\\xd1\\x82\\xd0\\xb5\\xd1\\x80\\xd0\\xbd\\xd0\\xb5\\xd1\\x82-\\xd0\\xb4\\xd0\\xb0\\xd0\\xbd\\xd0\\xbd\\xd1\\x8b\\xd1\\x85\",\"wgCurRevisionId\":24315,\"wgRevisionId\":24315,\"wgArticleId\":15490,\"wgIsArticle\":true,\"wgIsRedirect\":false,\"wgAction\":\"view\",\"wgUserName\":null,\"wgUserGroups\":[\"*\"],\"wgCategories\":[],\"wgBreakFrames\":false,\"wgPageContentLanguage\":\"ru\",\"wgPageContentModel\":\"wikitext\",\"wgSeparatorTransformTable\":[\",\\\\t.\",\"\\xc2\\xa0\\\\t,\"],\"wgDigitTransformTable\":[\"\",\"\"],\"wgDefaultDateFormat\":\"dmy\",\"wgMonthNames\":[\"\",\"\\xd1\\x8f\\xd0\\xbd\\xd0\\xb2\\xd0\\xb0\\xd1\\x80\\xd1\\x8c\",\"\\xd1\\x84\\xd0\\xb5\\xd0\\xb2\\xd1\\x80\\xd0\\xb0\\xd0\\xbb\\xd1\\x8c\",\"\\xd0\\xbc\\xd0\\xb0\\xd1\\x80\\xd1\\x82\",\"\\xd0\\xb0\\xd0\\xbf\\xd1\\x80\\xd0\\xb5\\xd0\\xbb\\xd1\\x8c\",\"\\xd0\\xbc\\xd0\\xb0\\xd0\\xb9\",\"\\xd0\\xb8\\xd1\\x8e\\xd0\\xbd\\xd1\\x8c\",\"\\xd0\\xb8\\xd1\\x8e\\xd0\\xbb\\xd1\\x8c\",\"\\xd0\\xb0\\xd0\\xb2\\xd0\\xb3\\xd1\\x83\\xd1\\x81\\xd1\\x82\",\"\\xd1\\x81\\xd0\\xb5\\xd0\\xbd\\xd1\\x82\\xd1\\x8f\\xd0\\xb1\\xd1\\x80\\xd1\\x8c\",\"\\xd0\\xbe\\xd0\\xba\\xd1\\x82\\xd1\\x8f\\xd0\\xb1\\xd1\\x80\\xd1\\x8c\",\"\\xd0\\xbd\\xd0\\xbe\\xd1\\x8f\\xd0\\xb1\\xd1\\x80\\xd1\\x8c\",\"\\xd0\\xb4\\xd0\\xb5\\xd0\\xba\\xd0\\xb0\\xd0\\xb1\\xd1\\x80\\xd1\\x8c\"],\"wgMonthNamesShort\":[\"\",\"\\xd1\\x8f\\xd0\\xbd\\xd0\\xb2\",\"\\xd1\\x84\\xd0\\xb5\\xd0\\xb2\",\"\\xd0\\xbc\\xd0\\xb0\\xd1\\x80\",\"\\xd0\\xb0\\xd0\\xbf\\xd1\\x80\",\"\\xd0\\xbc\\xd0\\xb0\\xd0\\xb9\",\"\\xd0\\xb8\\xd1\\x8e\\xd0\\xbd\",\"\\xd0\\xb8\\xd1\\x8e\\xd0\\xbb\",\"\\xd0\\xb0\\xd0\\xb2\\xd0\\xb3\",\"\\xd1\\x81\\xd0\\xb5\\xd0\\xbd\",\"\\xd0\\xbe\\xd0\\xba\\xd1\\x82\",\"\\xd0\\xbd\\xd0\\xbe\\xd1\\x8f\",\"\\xd0\\xb4\\xd0\\xb5\\xd0\\xba\"],\"wgRelevantPageName\":\"\\xd0\\x98\\xd0\\xb7\\xd0\\xb2\\xd0\\xbb\\xd0\\xb5\\xd1\\x87\\xd0\\xb5\\xd0\\xbd\\xd0\\xb8\\xd0\\xb5_\\xd0\\xb8_\\xd0\\xb0\\xd0\\xbd\\xd0\\xb0\\xd0\\xbb\\xd0\\xb8\\xd0\\xb7_\\xd0\\xb8\\xd0\\xbd\\xd1\\x82\\xd0\\xb5\\xd1\\x80\\xd0\\xbd\\xd0\\xb5\\xd1\\x82-\\xd0\\xb4\\xd0\\xb0\\xd0\\xbd\\xd0\\xbd\\xd1\\x8b\\xd1\\x85\",\"wgIsProbablyEditable\":false,\"wgRestrictionEdit\":[],\"wgRestrictionMove\":[],\"wgWikiEditorEnabledModules\":{\"toolbar\":true,\"dialogs\":true,\"hidesig\":true,\"preview\":true,\"previewDialog\":false,\"publish\":true}});\\n}</script><script>if(window.mw){\\nmw.loader.implement(\"user.options\",function($,jQuery){mw.user.options.set({\"ccmeonemails\":0,\"cols\":80,\"date\":\"default\",\"diffonly\":0,\"disablemail\":0,\"editfont\":\"default\",\"editondblclick\":0,\"editsectiononrightclick\":0,\"enotifminoredits\":0,\"enotifrevealaddr\":0,\"enotifusertalkpages\":1,\"enotifwatchlistpages\":1,\"extendwatchlist\":0,\"fancysig\":0,\"forceeditsummary\":0,\"gender\":\"unknown\",\"hideminor\":0,\"hidepatrolled\":0,\"imagesize\":2,\"math\":1,\"minordefault\":0,\"newpageshidepatrolled\":0,\"nickname\":\"\",\"norollbackdiff\":0,\"numberheadings\":0,\"previewonfirst\":0,\"previewontop\":1,\"rcdays\":7,\"rclimit\":50,\"rows\":25,\"showhiddencats\":0,\"shownumberswatching\":1,\"showtoolbar\":1,\"skin\":\"vector\",\"stubthreshold\":0,\"thumbsize\":2,\"underline\":2,\"uselivepreview\":0,\"usenewrc\":0,\"watchcreations\":1,\"watchdefault\":1,\"watchdeletion\":0,\"watchlistdays\":3,\"watchlisthideanons\":0,\"watchlisthidebots\":0,\"watchlisthideliu\":0,\"watchlisthideminor\":0,\"watchlisthideown\":0,\"watchlisthidepatrolled\":0,\"watchmoves\":0,\"wllimit\":250,\\n\"useeditwarning\":1,\"prefershttps\":1,\"usebetatoolbar\":1,\"usebetatoolbar-cgd\":1,\"wikieditor-preview\":1,\"wikieditor-publish\":1,\"language\":\"ru\",\"variant-gan\":\"gan\",\"variant-iu\":\"iu\",\"variant-kk\":\"kk\",\"variant-ku\":\"ku\",\"variant-shi\":\"shi\",\"variant-sr\":\"sr\",\"variant-tg\":\"tg\",\"variant-uz\":\"uz\",\"variant-zh\":\"zh\",\"searchNs0\":true,\"searchNs1\":false,\"searchNs2\":false,\"searchNs3\":false,\"searchNs4\":false,\"searchNs5\":false,\"searchNs6\":false,\"searchNs7\":false,\"searchNs8\":false,\"searchNs9\":false,\"searchNs10\":false,\"searchNs11\":false,\"searchNs12\":false,\"searchNs13\":false,\"searchNs14\":false,\"searchNs15\":false,\"variant\":\"ru\"});},{},{});mw.loader.implement(\"user.tokens\",function($,jQuery){mw.user.tokens.set({\"editToken\":\"+\\\\\\\\\",\"patrolToken\":false,\"watchToken\":false});},{},{});\\n/* cache key: wiki_cs:resourceloader:filter:minify-js:7:b320d384680aafba3abb4bb3f6f4ff59 */\\n}</script>\\n<script>if(window.mw){\\nmw.loader.load([\"mediawiki.page.startup\",\"mediawiki.legacy.wikibits\",\"mediawiki.legacy.ajax\",\"skins.vector.js\"]);\\n}</script>\\n<!--[if lt IE 7]><style type=\"text/css\">body{behavior:url(\"/skins/vector/csshover.min.htc\")}</style><![endif]--></head>\\n<body class=\"mediawiki ltr sitedir-ltr ns-0 ns-subject page-\\xd0\\x98\\xd0\\xb7\\xd0\\xb2\\xd0\\xbb\\xd0\\xb5\\xd1\\x87\\xd0\\xb5\\xd0\\xbd\\xd0\\xb8\\xd0\\xb5_\\xd0\\xb8_\\xd0\\xb0\\xd0\\xbd\\xd0\\xb0\\xd0\\xbb\\xd0\\xb8\\xd0\\xb7_\\xd0\\xb8\\xd0\\xbd\\xd1\\x82\\xd0\\xb5\\xd1\\x80\\xd0\\xbd\\xd0\\xb5\\xd1\\x82-\\xd0\\xb4\\xd0\\xb0\\xd0\\xbd\\xd0\\xbd\\xd1\\x8b\\xd1\\x85 skin-vector action-view vector-animateLayout\">\\n\\t\\t<div id=\"mw-page-base\" class=\"noprint\"></div>\\n\\t\\t<div id=\"mw-head-base\" class=\"noprint\"></div>\\n\\t\\t<div id=\"content\" class=\"mw-body\" role=\"main\">\\n\\t\\t\\t<a id=\"top\"></a>\\n\\t\\t\\t<div id=\"mw-js-message\" style=\"display:none;\"></div>\\n\\t\\t\\t\\t\\t\\t<h1 id=\"firstHeading\" class=\"firstHeading\" lang=\"ru\"><span dir=\"auto\">\\xd0\\x98\\xd0\\xb7\\xd0\\xb2\\xd0\\xbb\\xd0\\xb5\\xd1\\x87\\xd0\\xb5\\xd0\\xbd\\xd0\\xb8\\xd0\\xb5 \\xd0\\xb8 \\xd0\\xb0\\xd0\\xbd\\xd0\\xb0\\xd0\\xbb\\xd0\\xb8\\xd0\\xb7 \\xd0\\xb8\\xd0\\xbd\\xd1\\x82\\xd0\\xb5\\xd1\\x80\\xd0\\xbd\\xd0\\xb5\\xd1\\x82-\\xd0\\xb4\\xd0\\xb0\\xd0\\xbd\\xd0\\xbd\\xd1\\x8b\\xd1\\x85</span></h1>\\n\\t\\t\\t\\t\\t\\t<div id=\"bodyContent\">\\n\\t\\t\\t\\t\\t\\t\\t\\t<div id=\"siteSub\">\\xd0\\x9c\\xd0\\xb0\\xd1\\x82\\xd0\\xb5\\xd1\\x80\\xd0\\xb8\\xd0\\xb0\\xd0\\xbb \\xd0\\xb8\\xd0\\xb7 Wiki - \\xd0\\xa4\\xd0\\xb0\\xd0\\xba\\xd1\\x83\\xd0\\xbb\\xd1\\x8c\\xd1\\x82\\xd0\\xb5\\xd1\\x82 \\xd0\\xba\\xd0\\xbe\\xd0\\xbc\\xd0\\xbf\\xd1\\x8c\\xd1\\x8e\\xd1\\x82\\xd0\\xb5\\xd1\\x80\\xd0\\xbd\\xd1\\x8b\\xd1\\x85 \\xd0\\xbd\\xd0\\xb0\\xd1\\x83\\xd0\\xba</div>\\n\\t\\t\\t\\t\\t\\t\\t\\t<div id=\"contentSub\"></div>\\n\\t\\t\\t\\t\\t\\t\\t\\t\\t\\t\\t\\t<div id=\"jump-to-nav\" class=\"mw-jump\">\\n\\t\\t\\t\\t\\t\\xd0\\x9f\\xd0\\xb5\\xd1\\x80\\xd0\\xb5\\xd0\\xb9\\xd1\\x82\\xd0\\xb8 \\xd0\\xba:\\t\\t\\t\\t\\t<a href=\"#mw-navigation\">\\xd0\\xbd\\xd0\\xb0\\xd0\\xb2\\xd0\\xb8\\xd0\\xb3\\xd0\\xb0\\xd1\\x86\\xd0\\xb8\\xd1\\x8f</a>, \\t\\t\\t\\t\\t<a href=\"#p-search\">\\xd0\\xbf\\xd0\\xbe\\xd0\\xb8\\xd1\\x81\\xd0\\xba</a>\\n\\t\\t\\t\\t</div>\\n\\t\\t\\t\\t<div id=\"mw-content-text\" lang=\"ru\" dir=\"ltr\" class=\"mw-content-ltr\"><div id=\"toc\" class=\"toc\"><div id=\"toctitle\"><h2>\\xd0\\xa1\\xd0\\xbe\\xd0\\xb4\\xd0\\xb5\\xd1\\x80\\xd0\\xb6\\xd0\\xb0\\xd0\\xbd\\xd0\\xb8\\xd0\\xb5</h2></div>\\n<ul>\\n<li class=\"toclevel-1 tocsection-1\"><a href=\"#.D0.9E_.D0.BA.D1.83.D1.80.D1.81.D0.B5\"><span class=\"tocnumber\">1</span> <span class=\"toctext\">\\xd0\\x9e \\xd0\\xba\\xd1\\x83\\xd1\\x80\\xd1\\x81\\xd0\\xb5</span></a>\\n<ul>\\n<li class=\"toclevel-2 tocsection-2\"><a href=\"#.D0.9F.D0.BE.D0.BB.D0.B5.D0.B7.D0.BD.D1.8B.D0.B5_.D1.81.D1.81.D1.8B.D0.BB.D0.BA.D0.B8\"><span class=\"tocnumber\">1.1</span> <span class=\"toctext\">\\xd0\\x9f\\xd0\\xbe\\xd0\\xbb\\xd0\\xb5\\xd0\\xb7\\xd0\\xbd\\xd1\\x8b\\xd0\\xb5 \\xd1\\x81\\xd1\\x81\\xd1\\x8b\\xd0\\xbb\\xd0\\xba\\xd0\\xb8</span></a></li>\\n<li class=\"toclevel-2 tocsection-3\"><a href=\"#.D0.9F.D1.80.D0.B0.D0.B2.D0.B8.D0.BB.D0.B0_.D0.B2.D1.8B.D1.81.D1.82.D0.B0.D0.B2.D0.BB.D0.B5.D0.BD.D0.B8.D1.8F_.D0.BE.D1.86.D0.B5.D0.BD.D0.BE.D0.BA\"><span class=\"tocnumber\">1.2</span> <span class=\"toctext\">\\xd0\\x9f\\xd1\\x80\\xd0\\xb0\\xd0\\xb2\\xd0\\xb8\\xd0\\xbb\\xd0\\xb0 \\xd0\\xb2\\xd1\\x8b\\xd1\\x81\\xd1\\x82\\xd0\\xb0\\xd0\\xb2\\xd0\\xbb\\xd0\\xb5\\xd0\\xbd\\xd0\\xb8\\xd1\\x8f \\xd0\\xbe\\xd1\\x86\\xd0\\xb5\\xd0\\xbd\\xd0\\xbe\\xd0\\xba</span></a></li>\\n<li class=\"toclevel-2 tocsection-4\"><a href=\"#.D0.9F.D1.80.D0.B0.D0.B2.D0.B8.D0.BB.D0.B0_.D1.81.D0.B4.D0.B0.D1.87.D0.B8_.D0.B7.D0.B0.D0.B4.D0.B0.D0.BD.D0.B8.D0.B9\"><span class=\"tocnumber\">1.3</span> <span class=\"toctext\">\\xd0\\x9f\\xd1\\x80\\xd0\\xb0\\xd0\\xb2\\xd0\\xb8\\xd0\\xbb\\xd0\\xb0 \\xd1\\x81\\xd0\\xb4\\xd0\\xb0\\xd1\\x87\\xd0\\xb8 \\xd0\\xb7\\xd0\\xb0\\xd0\\xb4\\xd0\\xb0\\xd0\\xbd\\xd0\\xb8\\xd0\\xb9</span></a></li>\\n</ul>\\n</li>\\n<li class=\"toclevel-1 tocsection-5\"><a href=\"#.D0.A1.D0.B5.D0.BC.D0.B8.D0.BD.D0.B0.D1.80.D1.8B\"><span class=\"tocnumber\">2</span> <span class=\"toctext\">\\xd0\\xa1\\xd0\\xb5\\xd0\\xbc\\xd0\\xb8\\xd0\\xbd\\xd0\\xb0\\xd1\\x80\\xd1\\x8b</span></a></li>\\n<li class=\"toclevel-1 tocsection-6\"><a href=\"#.D0.9F.D1.80.D0.B0.D0.BA.D1.82.D0.B8.D1.87.D0.B5.D1.81.D0.BA.D0.B8.D0.B5_.D0.B7.D0.B0.D0.B4.D0.B0.D0.BD.D0.B8.D1.8F\"><span class=\"tocnumber\">3</span> <span class=\"toctext\">\\xd0\\x9f\\xd1\\x80\\xd0\\xb0\\xd0\\xba\\xd1\\x82\\xd0\\xb8\\xd1\\x87\\xd0\\xb5\\xd1\\x81\\xd0\\xba\\xd0\\xb8\\xd0\\xb5 \\xd0\\xb7\\xd0\\xb0\\xd0\\xb4\\xd0\\xb0\\xd0\\xbd\\xd0\\xb8\\xd1\\x8f</span></a></li>\\n<li class=\"toclevel-1 tocsection-7\"><a href=\"#.D0.9F.D0.BE.D0.BB.D0.B5.D0.B7.D0.BD.D1.8B.D0.B5_.D0.BC.D0.B0.D1.82.D0.B5.D1.80.D0.B8.D0.B0.D0.BB.D1.8B\"><span class=\"tocnumber\">4</span> <span class=\"toctext\">\\xd0\\x9f\\xd0\\xbe\\xd0\\xbb\\xd0\\xb5\\xd0\\xb7\\xd0\\xbd\\xd1\\x8b\\xd0\\xb5 \\xd0\\xbc\\xd0\\xb0\\xd1\\x82\\xd0\\xb5\\xd1\\x80\\xd0\\xb8\\xd0\\xb0\\xd0\\xbb\\xd1\\x8b</span></a></li>\\n</ul>\\n</div>\\n\\n<h2><span class=\"mw-headline\" id=\".D0.9E_.D0.BA.D1.83.D1.80.D1.81.D0.B5\">\\xd0\\x9e \\xd0\\xba\\xd1\\x83\\xd1\\x80\\xd1\\x81\\xd0\\xb5</span></h2>\\n<p>\\xd0\\x9a\\xd1\\x83\\xd1\\x80\\xd1\\x81 \\xd1\\x87\\xd0\\xb8\\xd1\\x82\\xd0\\xb0\\xd0\\xb5\\xd1\\x82\\xd1\\x81\\xd1\\x8f \\xd0\\xb4\\xd0\\xbb\\xd1\\x8f \\xd1\\x81\\xd1\\x82\\xd1\\x83\\xd0\\xb4\\xd0\\xb5\\xd0\\xbd\\xd1\\x82\\xd0\\xbe\\xd0\\xb2 \\xd1\\x84\\xd0\\xb0\\xd0\\xba\\xd1\\x83\\xd0\\xbb\\xd1\\x8c\\xd1\\x82\\xd0\\xb5\\xd1\\x82\\xd0\\xb0 \\xd1\\x8d\\xd0\\xba\\xd0\\xbe\\xd0\\xbd\\xd0\\xbe\\xd0\\xbc\\xd0\\xb8\\xd1\\x87\\xd0\\xb5\\xd1\\x81\\xd0\\xba\\xd0\\xb8\\xd1\\x85 \\xd0\\xbd\\xd0\\xb0\\xd1\\x83\\xd0\\xba, \\xd0\\x9e\\xd0\\x9f \"\\xd0\\xad\\xd0\\xba\\xd0\\xbe\\xd0\\xbd\\xd0\\xbe\\xd0\\xbc\\xd0\\xb8\\xd0\\xba\\xd0\\xb0 \\xd0\\xb8 \\xd1\\x81\\xd1\\x82\\xd0\\xb0\\xd1\\x82\\xd0\\xb8\\xd1\\x81\\xd1\\x82\\xd0\\xb8\\xd0\\xba\\xd0\\xb0\"\\n</p><p>\\xd0\\x9f\\xd1\\x80\\xd0\\xbe\\xd0\\xb2\\xd0\\xbe\\xd0\\xb4\\xd0\\xb8\\xd1\\x82\\xd1\\x81\\xd1\\x8f \\xd1\\x81 2017 \\xd0\\xb3\\xd0\\xbe\\xd0\\xb4\\xd0\\xb0.\\n</p><p><br />\\n\\xd0\\xa1\\xd0\\xb5\\xd0\\xbc\\xd0\\xb8\\xd0\\xbd\\xd0\\xb0\\xd1\\x80\\xd0\\xb8\\xd1\\x81\\xd1\\x82\\xd1\\x8b:\\n</p><p>\\xd0\\x94\\xd0\\xb5\\xd0\\xbd\\xd0\\xb8\\xd0\\xba\\xd0\\xb5 \\xd0\\x95\\xd0\\xba\\xd0\\xb0\\xd1\\x82\\xd0\\xb5\\xd1\\x80\\xd0\\xb8\\xd0\\xbd\\xd0\\xb0 \\xd0\\x98\\xd0\\xb3\\xd0\\xbe\\xd1\\x80\\xd0\\xb5\\xd0\\xb2\\xd0\\xbd\\xd0\\xb0\\n</p><p>\\xd0\\xa1\\xd0\\xbb\\xd0\\xb8\\xd0\\xbd\\xd1\\x8c\\xd0\\xba\\xd0\\xbe \\xd0\\x98\\xd0\\xb3\\xd0\\xbe\\xd1\\x80\\xd1\\x8c \\xd0\\xae\\xd1\\x80\\xd1\\x8c\\xd0\\xb5\\xd0\\xb2\\xd0\\xb8\\xd1\\x87\\n</p><p>\\xd0\\xa1\\xd0\\xb5\\xd0\\xbc\\xd0\\xb8\\xd0\\xbd\\xd0\\xb0\\xd1\\x80\\xd1\\x8b \\xd0\\xbf\\xd1\\x80\\xd0\\xbe\\xd1\\x85\\xd0\\xbe\\xd0\\xb4\\xd1\\x8f\\xd1\\x82 \\xd0\\xbf\\xd0\\xbe \\xd1\\x81\\xd1\\x83\\xd0\\xb1\\xd0\\xb1\\xd0\\xbe\\xd1\\x82\\xd0\\xb0\\xd0\\xbc, \\xd1\\x81 10:30 \\xd0\\xb4\\xd0\\xbe 15:00 (16:30) \\xd1\\x81 \\xd0\\xb4\\xd0\\xb2\\xd1\\x83\\xd0\\xbc\\xd1\\x8f \\xd0\\xbf\\xd0\\xb5\\xd1\\x80\\xd0\\xb5\\xd1\\x80\\xd1\\x8b\\xd0\\xb2\\xd0\\xb0\\xd0\\xbc\\xd0\\xb8.\\n</p><p><br />\\n</p>\\n<h3><span class=\"mw-headline\" id=\".D0.9F.D0.BE.D0.BB.D0.B5.D0.B7.D0.BD.D1.8B.D0.B5_.D1.81.D1.81.D1.8B.D0.BB.D0.BA.D0.B8\">\\xd0\\x9f\\xd0\\xbe\\xd0\\xbb\\xd0\\xb5\\xd0\\xb7\\xd0\\xbd\\xd1\\x8b\\xd0\\xb5 \\xd1\\x81\\xd1\\x81\\xd1\\x8b\\xd0\\xbb\\xd0\\xba\\xd0\\xb8</span></h3>\\n<p>\\xd0\\xa2\\xd0\\xb5\\xd1\\x81\\xd1\\x82 \\xd0\\xb4\\xd0\\xbb\\xd1\\x8f \\xd0\\xbc\\xd0\\xbe\\xd1\\x80\\xd0\\xb0\\xd0\\xbb\\xd1\\x8c\\xd0\\xbd\\xd0\\xbe\\xd0\\xb9 \\xd0\\xbf\\xd0\\xbe\\xd0\\xb4\\xd0\\xb3\\xd0\\xbe\\xd1\\x82\\xd0\\xbe\\xd0\\xb2\\xd0\\xba\\xd0\\xb8: <a rel=\"nofollow\" class=\"external free\" href=\"https://goo.gl/forms/QuRhepssXRjl71yG3\">https://goo.gl/forms/QuRhepssXRjl71yG3</a>\\n</p><p>\\xd0\\x9f\\xd0\\xbe\\xd1\\x87\\xd1\\x82\\xd0\\xb0 \\xd0\\xb4\\xd0\\xbb\\xd1\\x8f \\xd1\\x81\\xd0\\xb4\\xd0\\xb0\\xd1\\x87\\xd0\\xb8 \\xd0\\xb4\\xd0\\xbe\\xd0\\xbc\\xd0\\xb0\\xd1\\x88\\xd0\\xbd\\xd0\\xb8\\xd1\\x85 \\xd0\\xb7\\xd0\\xb0\\xd0\\xb4\\xd0\\xb0\\xd0\\xbd\\xd0\\xb8\\xd0\\xb9: hsewebmining@gmail.com\\n</p><p>\\xd0\\xa7\\xd0\\xb0\\xd1\\x82 \\xd0\\xb2 telegram \\xd0\\xb4\\xd0\\xbb\\xd1\\x8f \\xd0\\xbe\\xd0\\xb1\\xd1\\x81\\xd1\\x83\\xd0\\xb6\\xd0\\xb4\\xd0\\xb5\\xd0\\xbd\\xd0\\xb8\\xd0\\xb9: <a rel=\"nofollow\" class=\"external free\" href=\"https://t.me/joinchat/BgyOMg6PNBYFpmHUtbZDTg\">https://t.me/joinchat/BgyOMg6PNBYFpmHUtbZDTg</a>\\n</p>\\n<h3><span class=\"mw-headline\" id=\".D0.9F.D1.80.D0.B0.D0.B2.D0.B8.D0.BB.D0.B0_.D0.B2.D1.8B.D1.81.D1.82.D0.B0.D0.B2.D0.BB.D0.B5.D0.BD.D0.B8.D1.8F_.D0.BE.D1.86.D0.B5.D0.BD.D0.BE.D0.BA\">\\xd0\\x9f\\xd1\\x80\\xd0\\xb0\\xd0\\xb2\\xd0\\xb8\\xd0\\xbb\\xd0\\xb0 \\xd0\\xb2\\xd1\\x8b\\xd1\\x81\\xd1\\x82\\xd0\\xb0\\xd0\\xb2\\xd0\\xbb\\xd0\\xb5\\xd0\\xbd\\xd0\\xb8\\xd1\\x8f \\xd0\\xbe\\xd1\\x86\\xd0\\xb5\\xd0\\xbd\\xd0\\xbe\\xd0\\xba</span></h3>\\n<p>\\xd0\\x98\\xd1\\x82\\xd0\\xbe\\xd0\\xb3\\xd0\\xbe\\xd0\\xb2\\xd0\\xb0\\xd1\\x8f \\xd0\\xbe\\xd1\\x86\\xd0\\xb5\\xd0\\xbd\\xd0\\xba\\xd0\\xb0 \\xd0\\xb2\\xd1\\x8b\\xd1\\x87\\xd0\\xb8\\xd1\\x81\\xd0\\xbb\\xd1\\x8f\\xd0\\xb5\\xd1\\x82\\xd1\\x81\\xd1\\x8f \\xd0\\xbd\\xd0\\xb0 \\xd0\\xbe\\xd1\\x81\\xd0\\xbd\\xd0\\xbe\\xd0\\xb2\\xd0\\xb5 \\xd0\\xbe\\xd1\\x86\\xd0\\xb5\\xd0\\xbd\\xd0\\xba\\xd0\\xb8 \\xd0\\xb7\\xd0\\xb0 \\xd1\\x80\\xd0\\xb0\\xd0\\xb1\\xd0\\xbe\\xd1\\x82\\xd1\\x83 \\xd0\\xb2 \\xd1\\x81\\xd0\\xb5\\xd0\\xbc\\xd0\\xb5\\xd1\\x81\\xd1\\x82\\xd1\\x80\\xd0\\xb5 \\xd0\\xb8 \\xd0\\xbe\\xd1\\x86\\xd0\\xb5\\xd0\\xbd\\xd0\\xba\\xd0\\xb8 \\xd0\\xb7\\xd0\\xb0 \\xd1\\x8d\\xd0\\xba\\xd0\\xb7\\xd0\\xb0\\xd0\\xbc\\xd0\\xb5\\xd0\\xbd:\\n</p><p>\\xd0\\x9e_\\xd0\\xb8\\xd1\\x82\\xd0\\xbe\\xd0\\xb3 = 0,6 * \\xd0\\x9e_\\xd0\\xbd\\xd0\\xb0\\xd0\\xba\\xd0\\xbe\\xd0\\xbf\\xd0\\xbb.+ 0,4 * \\xd0\\x9e_\\xd1\\x8d\\xd0\\xba\\xd0\\xb7\\xd0\\xb0\\xd0\\xbc\\xd0\\xb5\\xd0\\xbd\\n</p><p>\\xd0\\x9d\\xd0\\xb0\\xd0\\xba\\xd0\\xbe\\xd0\\xbf\\xd0\\xbb\\xd0\\xb5\\xd0\\xbd\\xd0\\xbd\\xd0\\xb0\\xd1\\x8f \\xd0\\xbe\\xd1\\x86\\xd0\\xb5\\xd0\\xbd\\xd0\\xba\\xd0\\xb0 (\\xd0\\x9e_\\xd0\\xbd\\xd0\\xb0\\xd0\\xba\\xd0\\xbe\\xd0\\xbf\\xd0\\xbb) \\xd1\\x80\\xd0\\xb0\\xd1\\x81\\xd1\\x81\\xd1\\x87\\xd0\\xb8\\xd1\\x82\\xd1\\x8b\\xd0\\xb2\\xd0\\xb0\\xd0\\xb5\\xd1\\x82\\xd1\\x81\\xd1\\x8f \\xd0\\xba\\xd0\\xb0\\xd0\\xba \\xd1\\x81\\xd1\\x80\\xd0\\xb5\\xd0\\xb4\\xd0\\xbd\\xd0\\xb5\\xd0\\xb5 \\xd0\\xb7\\xd0\\xbd\\xd0\\xb0\\xd1\\x87\\xd0\\xb5\\xd0\\xbd\\xd0\\xb8\\xd0\\xb5 \\xd0\\xbe\\xd1\\x86\\xd0\\xb5\\xd0\\xbd\\xd0\\xbe\\xd0\\xba \\xd0\\xb7\\xd0\\xb0 \\xd0\\xb2\\xd1\\x81\\xd0\\xb5 \\xd0\\xb2\\xd1\\x8b\\xd0\\xb4\\xd0\\xb0\\xd0\\xbd\\xd0\\xbd\\xd1\\x8b\\xd0\\xb5 \\xd0\\xb4\\xd0\\xbe\\xd0\\xbc\\xd0\\xb0\\xd1\\x88\\xd0\\xbd\\xd0\\xb8\\xd0\\xb5 \\xd0\\xb7\\xd0\\xb0\\xd0\\xb4\\xd0\\xb0\\xd0\\xbd\\xd0\\xb8\\xd1\\x8f. \\xd0\\x91\\xd0\\xbe\\xd0\\xbd\\xd1\\x83\\xd1\\x81\\xd0\\xbd\\xd1\\x8b\\xd0\\xb5 \\xd0\\xb1\\xd0\\xb0\\xd0\\xbb\\xd0\\xbb\\xd1\\x8b \\xd0\\xbc\\xd0\\xbe\\xd0\\xb3\\xd1\\x83\\xd1\\x82 \\xd0\\xb1\\xd1\\x8b\\xd1\\x82\\xd1\\x8c \\xd0\\xb2\\xd1\\x8b\\xd0\\xb4\\xd0\\xb0\\xd0\\xbd\\xd1\\x8b \\xd0\\xb2 \\xd1\\x85\\xd0\\xbe\\xd0\\xb4\\xd0\\xb5 \\xd1\\x81\\xd0\\xb5\\xd0\\xbc\\xd0\\xb8\\xd0\\xbd\\xd0\\xb0\\xd1\\x80\\xd0\\xb0.\\n</p>\\n<h3><span class=\"mw-headline\" id=\".D0.9F.D1.80.D0.B0.D0.B2.D0.B8.D0.BB.D0.B0_.D1.81.D0.B4.D0.B0.D1.87.D0.B8_.D0.B7.D0.B0.D0.B4.D0.B0.D0.BD.D0.B8.D0.B9\">\\xd0\\x9f\\xd1\\x80\\xd0\\xb0\\xd0\\xb2\\xd0\\xb8\\xd0\\xbb\\xd0\\xb0 \\xd1\\x81\\xd0\\xb4\\xd0\\xb0\\xd1\\x87\\xd0\\xb8 \\xd0\\xb7\\xd0\\xb0\\xd0\\xb4\\xd0\\xb0\\xd0\\xbd\\xd0\\xb8\\xd0\\xb9</span></h3>\\n<p>\\xd0\\x94\\xd0\\xb5\\xd0\\xb4\\xd0\\xbb\\xd0\\xb0\\xd0\\xb9\\xd0\\xbd\\xd1\\x8b \\xd0\\xbf\\xd0\\xbe \\xd0\\xb2\\xd1\\x81\\xd0\\xb5\\xd0\\xbc \\xd0\\xb4\\xd0\\xbe\\xd0\\xbc\\xd0\\xb0\\xd1\\x88\\xd0\\xbd\\xd0\\xb8\\xd0\\xbc \\xd0\\xb7\\xd0\\xb0\\xd0\\xb4\\xd0\\xb0\\xd0\\xbd\\xd0\\xb8\\xd1\\x8f\\xd0\\xbc \\xd1\\x8f\\xd0\\xb2\\xd0\\xbb\\xd1\\x8f\\xd1\\x8e\\xd1\\x82\\xd1\\x81\\xd1\\x8f \\xd0\\xb6\\xd1\\x91\\xd1\\x81\\xd1\\x82\\xd0\\xba\\xd0\\xb8\\xd0\\xbc\\xd0\\xb8, \\xd1\\x82\\xd0\\xbe \\xd0\\xb5\\xd1\\x81\\xd1\\x82\\xd1\\x8c \\xd0\\xbf\\xd0\\xbe\\xd1\\x81\\xd0\\xbb\\xd0\\xb5 \\xd1\\x81\\xd1\\x80\\xd0\\xbe\\xd0\\xba\\xd0\\xb0 \\xd1\\x80\\xd0\\xb0\\xd0\\xb1\\xd0\\xbe\\xd1\\x82\\xd0\\xb0 \\xd0\\xbd\\xd0\\xb5 \\xd0\\xbf\\xd1\\x80\\xd0\\xb8\\xd0\\xbd\\xd0\\xb8\\xd0\\xbc\\xd0\\xb0\\xd1\\x8e\\xd1\\x82\\xd1\\x81\\xd1\\x8f.\\n</p><p>\\xd0\\x9f\\xd1\\x80\\xd0\\xb8 \\xd0\\xbe\\xd0\\xb1\\xd0\\xbd\\xd0\\xb0\\xd1\\x80\\xd1\\x83\\xd0\\xb6\\xd0\\xb5\\xd0\\xbd\\xd0\\xb8\\xd0\\xb8 \\xd0\\xbf\\xd0\\xbb\\xd0\\xb0\\xd0\\xb3\\xd0\\xb8\\xd0\\xb0\\xd1\\x82\\xd0\\xb0 \\xd0\\xbe\\xd1\\x86\\xd0\\xb5\\xd0\\xbd\\xd0\\xba\\xd0\\xb8 \\xd0\\xb7\\xd0\\xb0 \\xd0\\xb4\\xd0\\xbe\\xd0\\xbc\\xd0\\xb0\\xd1\\x88\\xd0\\xbd\\xd0\\xb5\\xd0\\xb5 \\xd0\\xb7\\xd0\\xb0\\xd0\\xb4\\xd0\\xb0\\xd0\\xbd\\xd0\\xb8\\xd0\\xb5 \\xd0\\xbe\\xd0\\xb1\\xd0\\xbd\\xd1\\x83\\xd0\\xbb\\xd1\\x8f\\xd1\\x8e\\xd1\\x82\\xd1\\x81\\xd1\\x8f \\xd0\\xb2\\xd1\\x81\\xd0\\xb5\\xd0\\xbc \\xd0\\xb7\\xd0\\xb0\\xd0\\xb4\\xd0\\xb5\\xd0\\xb9\\xd1\\x81\\xd1\\x82\\xd0\\xb2\\xd0\\xbe\\xd0\\xb2\\xd0\\xb0\\xd0\\xbd\\xd0\\xbd\\xd1\\x8b\\xd0\\xbc \\xd0\\xb2 \\xd1\\x81\\xd0\\xbf\\xd0\\xb8\\xd1\\x81\\xd1\\x8b\\xd0\\xb2\\xd0\\xb0\\xd0\\xbd\\xd0\\xb8\\xd0\\xb8 \\xd1\\x81\\xd1\\x82\\xd1\\x83\\xd0\\xb4\\xd0\\xb5\\xd0\\xbd\\xd1\\x82\\xd0\\xb0\\xd0\\xbc, \\xd0\\xb0 \\xd1\\x82\\xd0\\xb0\\xd0\\xba\\xd0\\xb6\\xd0\\xb5 \\xd0\\xbf\\xd0\\xbe\\xd0\\xb4\\xd0\\xb0\\xd1\\x91\\xd1\\x82\\xd1\\x81\\xd1\\x8f \\xd0\\xb4\\xd0\\xbe\\xd0\\xba\\xd0\\xbb\\xd0\\xb0\\xd0\\xb4\\xd0\\xbd\\xd0\\xb0\\xd1\\x8f \\xd0\\xb7\\xd0\\xb0\\xd0\\xbf\\xd0\\xb8\\xd1\\x81\\xd0\\xba\\xd0\\xb0 \\xd0\\xb2 \\xd0\\xb4\\xd0\\xb5\\xd0\\xba\\xd0\\xb0\\xd0\\xbd\\xd0\\xb0\\xd1\\x82. \\xd0\\xa1\\xd0\\xbb\\xd0\\xb5\\xd0\\xb4\\xd1\\x83\\xd0\\xb5\\xd1\\x82 \\xd0\\xbf\\xd0\\xbe\\xd0\\xbc\\xd0\\xbd\\xd0\\xb8\\xd1\\x82\\xd1\\x8c, \\xd1\\x87\\xd1\\x82\\xd0\\xbe \\xd0\\xbf\\xd1\\x80\\xd0\\xb8 \\xd0\\xbf\\xd0\\xbe\\xd0\\xb2\\xd1\\x82\\xd0\\xbe\\xd1\\x80\\xd0\\xbd\\xd0\\xbe\\xd0\\xbc \\xd1\\x81\\xd0\\xbf\\xd0\\xb8\\xd1\\x81\\xd1\\x8b\\xd0\\xb2\\xd0\\xb0\\xd0\\xbd\\xd0\\xb8\\xd0\\xb8 \\xd0\\xb4\\xd0\\xb5\\xd0\\xba\\xd0\\xb0\\xd0\\xbd\\xd0\\xb0\\xd1\\x82 \\xd0\\xb8\\xd0\\xbc\\xd0\\xb5\\xd0\\xb5\\xd1\\x82 \\xd0\\xbf\\xd1\\x80\\xd0\\xb0\\xd0\\xb2\\xd0\\xbe \\xd0\\xbe\\xd1\\x82\\xd1\\x87\\xd0\\xb8\\xd1\\x81\\xd0\\xbb\\xd0\\xb8\\xd1\\x82\\xd1\\x8c \\xd1\\x81\\xd1\\x82\\xd1\\x83\\xd0\\xb4\\xd0\\xb5\\xd0\\xbd\\xd1\\x82\\xd0\\xb0.\\n</p><p>\\xd0\\x9f\\xd1\\x80\\xd0\\xb8 \\xd0\\xbd\\xd0\\xb0\\xd0\\xbb\\xd0\\xb8\\xd1\\x87\\xd0\\xb8\\xd0\\xb8 \\xd1\\x83\\xd0\\xb2\\xd0\\xb0\\xd0\\xb6\\xd0\\xb8\\xd1\\x82\\xd0\\xb5\\xd0\\xbb\\xd1\\x8c\\xd0\\xbd\\xd0\\xbe\\xd0\\xb9 \\xd0\\xbf\\xd1\\x80\\xd0\\xb8\\xd1\\x87\\xd0\\xb8\\xd0\\xbd\\xd1\\x8b \\xd0\\xbf\\xd1\\x80\\xd0\\xbe\\xd0\\xbf\\xd1\\x83\\xd1\\x89\\xd0\\xb5\\xd0\\xbd\\xd0\\xbd\\xd1\\x83\\xd1\\x8e \\xd0\\xbf\\xd1\\x80\\xd0\\xbe\\xd0\\xb2\\xd0\\xb5\\xd1\\x80\\xd0\\xbe\\xd1\\x87\\xd0\\xbd\\xd1\\x83\\xd1\\x8e \\xd0\\xbc\\xd0\\xbe\\xd0\\xb6\\xd0\\xbd\\xd0\\xbe \\xd0\\xbd\\xd0\\xb0\\xd0\\xbf\\xd0\\xb8\\xd1\\x81\\xd0\\xb0\\xd1\\x82\\xd1\\x8c \\xd0\\xbf\\xd0\\xbe\\xd0\\xb7\\xd0\\xb4\\xd0\\xbd\\xd0\\xb5\\xd0\\xb5, \\xd0\\xb0 \\xd0\\xb4\\xd0\\xb5\\xd0\\xb4\\xd0\\xbb\\xd0\\xb0\\xd0\\xb9\\xd0\\xbd \\xd0\\xbf\\xd0\\xbe \\xd0\\xb4\\xd0\\xbe\\xd0\\xbc\\xd0\\xb0\\xd1\\x88\\xd0\\xbd\\xd0\\xb5\\xd0\\xbc\\xd1\\x83 \\xd0\\xb7\\xd0\\xb0\\xd0\\xb4\\xd0\\xb0\\xd0\\xbd\\xd0\\xb8\\xd1\\x8e \\xd0\\xbc\\xd0\\xbe\\xd0\\xb6\\xd0\\xb5\\xd1\\x82 \\xd0\\xb1\\xd1\\x8b\\xd1\\x82\\xd1\\x8c \\xd0\\xbf\\xd0\\xb5\\xd1\\x80\\xd0\\xb5\\xd0\\xbd\\xd0\\xb5\\xd1\\x81\\xd1\\x91\\xd0\\xbd. \\xd0\\x94\\xd0\\xb5\\xd0\\xb4\\xd0\\xbb\\xd0\\xb0\\xd0\\xb9\\xd0\\xbd \\xd0\\xbf\\xd0\\xbe \\xd0\\xb4\\xd0\\xbe\\xd0\\xbc\\xd0\\xb0\\xd1\\x88\\xd0\\xbd\\xd0\\xb5\\xd0\\xbc\\xd1\\x83 \\xd0\\xb7\\xd0\\xb0\\xd0\\xb4\\xd0\\xb0\\xd0\\xbd\\xd0\\xb8\\xd1\\x8e \\xd0\\xbf\\xd0\\xb5\\xd1\\x80\\xd0\\xb5\\xd0\\xbd\\xd0\\xbe\\xd1\\x81\\xd0\\xb8\\xd1\\x82\\xd1\\x81\\xd1\\x8f \\xd0\\xbd\\xd0\\xb0 \\xd0\\xba\\xd0\\xbe\\xd0\\xbb\\xd0\\xb8\\xd1\\x87\\xd0\\xb5\\xd1\\x81\\xd1\\x82\\xd0\\xb2\\xd0\\xbe \\xd0\\xb4\\xd0\\xbd\\xd0\\xb5\\xd0\\xb9, \\xd1\\x80\\xd0\\xb0\\xd0\\xb2\\xd0\\xbd\\xd0\\xbe\\xd0\\xb5 \\xd0\\xbf\\xd1\\x80\\xd0\\xbe\\xd0\\xb4\\xd0\\xbe\\xd0\\xbb\\xd0\\xb6\\xd0\\xb8\\xd1\\x82\\xd0\\xb5\\xd0\\xbb\\xd1\\x8c\\xd0\\xbd\\xd0\\xbe\\xd1\\x81\\xd1\\x82\\xd0\\xb8 \\xd1\\x83\\xd0\\xb2\\xd0\\xb0\\xd0\\xb6\\xd0\\xb8\\xd1\\x82\\xd0\\xb5\\xd0\\xbb\\xd1\\x8c\\xd0\\xbd\\xd0\\xbe\\xd0\\xb9 \\xd0\\xbf\\xd1\\x80\\xd0\\xb8\\xd1\\x87\\xd0\\xb8\\xd0\\xbd\\xd1\\x8b. \\xd0\\xa0\\xd0\\xb5\\xd1\\x88\\xd0\\xb5\\xd0\\xbd\\xd0\\xb8\\xd0\\xb5 \\xd0\\xbe \\xd1\\x82\\xd0\\xbe\\xd0\\xbc, \\xd1\\x8f\\xd0\\xb2\\xd0\\xbb\\xd1\\x8f\\xd0\\xb5\\xd1\\x82\\xd1\\x81\\xd1\\x8f \\xd0\\xbb\\xd0\\xb8 \\xd0\\xbf\\xd1\\x80\\xd0\\xb8\\xd1\\x87\\xd0\\xb8\\xd0\\xbd\\xd0\\xb0 \\xd1\\x83\\xd0\\xb2\\xd0\\xb0\\xd0\\xb6\\xd0\\xb8\\xd1\\x82\\xd0\\xb5\\xd0\\xbb\\xd1\\x8c\\xd0\\xbd\\xd0\\xbe\\xd0\\xb9, \\xd0\\xbf\\xd1\\x80\\xd0\\xb8\\xd0\\xbd\\xd0\\xb8\\xd0\\xbc\\xd0\\xb0\\xd0\\xb5\\xd1\\x82 \\xd0\\xb8\\xd1\\x81\\xd0\\xba\\xd0\\xbb\\xd1\\x8e\\xd1\\x87\\xd0\\xb8\\xd1\\x82\\xd0\\xb5\\xd0\\xbb\\xd1\\x8c\\xd0\\xbd\\xd0\\xbe \\xd1\\x83\\xd1\\x87\\xd0\\xb5\\xd0\\xb1\\xd0\\xbd\\xd1\\x8b\\xd0\\xb9 \\xd0\\xbe\\xd1\\x84\\xd0\\xb8\\xd1\\x81.\\n</p>\\n<h2><span class=\"mw-headline\" id=\".D0.A1.D0.B5.D0.BC.D0.B8.D0.BD.D0.B0.D1.80.D1.8B\">\\xd0\\xa1\\xd0\\xb5\\xd0\\xbc\\xd0\\xb8\\xd0\\xbd\\xd0\\xb0\\xd1\\x80\\xd1\\x8b</span></h2>\\n<p><b>\\xd0\\xa2\\xd0\\xb5\\xd0\\xbc\\xd0\\xb0 1</b>. \\xd0\\x9e\\xd1\\x81\\xd0\\xbd\\xd0\\xbe\\xd0\\xb2\\xd1\\x8b \\xd0\\xb0\\xd0\\xbd\\xd0\\xb0\\xd0\\xbb\\xd0\\xb8\\xd0\\xb7\\xd0\\xb0 \\xd0\\xb4\\xd0\\xb0\\xd0\\xbd\\xd0\\xbd\\xd1\\x8b\\xd1\\x85 \\xd0\\xb2 \\xd1\\x8f\\xd0\\xb7\\xd1\\x8b\\xd0\\xba\\xd0\\xb5 Python:\\n</p><p>\\xd0\\x9f\\xd0\\xbe\\xd0\\xb2\\xd1\\x82\\xd0\\xbe\\xd1\\x80\\xd0\\xb5\\xd0\\xbd\\xd0\\xb8\\xd0\\xb5 \\xd0\\xbe\\xd1\\x81\\xd0\\xbd\\xd0\\xbe\\xd0\\xb2\\xd0\\xbd\\xd1\\x8b\\xd1\\x85 \\xd1\\x84\\xd1\\x83\\xd0\\xbd\\xd0\\xba\\xd1\\x86\\xd0\\xb8\\xd0\\xb9 \\xd0\\xb8 \\xd0\\xbe\\xd0\\xb1\\xd1\\x8a\\xd0\\xb5\\xd0\\xba\\xd1\\x82\\xd0\\xbe\\xd0\\xb2 \\xd1\\x8f\\xd0\\xb7\\xd1\\x8b\\xd0\\xba\\xd0\\xb0 Python. \\xd0\\x9e\\xd0\\xb1\\xd0\\xb7\\xd0\\xbe\\xd1\\x80 \\xd0\\xb1\\xd0\\xb8\\xd0\\xb1\\xd0\\xbb\\xd0\\xb8\\xd0\\xbe\\xd1\\x82\\xd0\\xb5\\xd0\\xba numpy, pandas \\xd0\\xbd\\xd0\\xb0 \\xd0\\xbe\\xd1\\x81\\xd0\\xbd\\xd0\\xbe\\xd0\\xb2\\xd0\\xb5 \\xd0\\xb4\\xd0\\xb0\\xd0\\xbd\\xd0\\xbd\\xd1\\x8b\\xd1\\x85 \\xd0\\xb8\\xd0\\xb7 \\xd1\\x81\\xd0\\xbe\\xd1\\x80\\xd0\\xb5\\xd0\\xb2\\xd0\\xbd\\xd0\\xbe\\xd0\\xb2\\xd0\\xb0\\xd0\\xbd\\xd0\\xb8\\xd0\\xb9 \\xd0\\xbf\\xd0\\xbb\\xd0\\xb0\\xd1\\x82\\xd1\\x84\\xd0\\xbe\\xd1\\x80\\xd0\\xbc\\xd1\\x8b kaggle.com. \\n</p><p><b>\\xd0\\xa2\\xd0\\xb5\\xd0\\xbc\\xd0\\xb0 2</b>. \\xd0\\x92\\xd0\\xb8\\xd0\\xb7\\xd1\\x83\\xd0\\xb0\\xd0\\xbb\\xd0\\xb8\\xd0\\xb7\\xd0\\xb0\\xd1\\x86\\xd0\\xb8\\xd1\\x8f \\xd0\\xb4\\xd0\\xb0\\xd0\\xbd\\xd0\\xbd\\xd1\\x8b\\xd1\\x85 \\xd0\\xb2 python: \\xd0\\xb1\\xd0\\xb8\\xd0\\xb1\\xd0\\xbb\\xd0\\xb8\\xd0\\xbe\\xd1\\x82\\xd0\\xb5\\xd0\\xba\\xd0\\xb8 matplotlib, seaborn, plotly. \\xd0\\x9f\\xd1\\x80\\xd0\\xbe\\xd0\\xb4\\xd0\\xb2\\xd0\\xb8\\xd0\\xbd\\xd1\\x83\\xd1\\x82\\xd1\\x8b\\xd0\\xb5 \\xd0\\xb8\\xd0\\xbd\\xd1\\x81\\xd1\\x82\\xd1\\x80\\xd1\\x83\\xd0\\xbc\\xd0\\xb5\\xd0\\xbd\\xd1\\x82\\xd1\\x8b \\xd0\\xb4\\xd0\\xbb\\xd1\\x8f \\xd0\\xb0\\xd0\\xbd\\xd0\\xb0\\xd0\\xbb\\xd0\\xb8\\xd0\\xb7\\xd0\\xb0 \\xd0\\xb4\\xd0\\xb0\\xd0\\xbd\\xd0\\xbd\\xd1\\x8b\\xd1\\x85. \\n\\xd0\\x92\\xd0\\xb2\\xd0\\xb5\\xd0\\xb4\\xd0\\xb5\\xd0\\xbd\\xd0\\xb8\\xd0\\xb5 \\xd0\\xb2 \\xd0\\xb2\\xd0\\xb8\\xd0\\xb7\\xd1\\x83\\xd0\\xb0\\xd0\\xbb\\xd1\\x8c\\xd0\\xbd\\xd1\\x8b\\xd0\\xb9 \\xd0\\xb0\\xd0\\xbd\\xd0\\xb0\\xd0\\xbb\\xd0\\xb8\\xd0\\xb7 \\xd0\\xb4\\xd0\\xb0\\xd0\\xbd\\xd0\\xbd\\xd1\\x8b\\xd1\\x85. \\xd0\\x9f\\xd0\\xbe\\xd1\\x81\\xd1\\x82\\xd1\\x80\\xd0\\xbe\\xd0\\xb5\\xd0\\xbd\\xd0\\xb8\\xd0\\xb5 \\xd0\\xb3\\xd1\\x80\\xd0\\xb0\\xd1\\x84\\xd0\\xb8\\xd0\\xba\\xd0\\xbe\\xd0\\xb2, \\xd0\\xb3\\xd0\\xb8\\xd1\\x81\\xd1\\x82\\xd0\\xbe\\xd0\\xb3\\xd1\\x80\\xd0\\xb0\\xd0\\xbc\\xd0\\xbc, \\xd1\\x82\\xd0\\xb5\\xd0\\xbf\\xd0\\xbb\\xd0\\xbe\\xd0\\xb2\\xd1\\x8b\\xd1\\x85 \\xd0\\xba\\xd0\\xb0\\xd1\\x80\\xd1\\x82. \\xd0\\x97\\xd0\\xbd\\xd0\\xb0\\xd0\\xba\\xd0\\xbe\\xd0\\xbc\\xd1\\x81\\xd1\\x82\\xd0\\xb2\\xd0\\xbe \\xd1\\x81 \\xd0\\xbf\\xd0\\xbe\\xd1\\x80\\xd1\\x82\\xd0\\xb0\\xd0\\xbb\\xd0\\xbe\\xd0\\xbc \\xd0\\x9e\\xd1\\x82\\xd0\\xba\\xd1\\x80\\xd1\\x8b\\xd1\\x82\\xd1\\x8b\\xd1\\x85 \\xd0\\xb4\\xd0\\xb0\\xd0\\xbd\\xd0\\xbd\\xd1\\x8b\\xd1\\x85. \\n</p><p><b>\\xd0\\xa2\\xd0\\xb5\\xd0\\xbc\\xd0\\xb0 3</b>. \\xd0\\x9f\\xd0\\xb0\\xd1\\x80\\xd1\\x81\\xd0\\xb8\\xd0\\xbd\\xd0\\xb3 \\xd0\\xbe\\xd1\\x82\\xd0\\xba\\xd1\\x80\\xd1\\x8b\\xd1\\x82\\xd1\\x8b\\xd1\\x85 \\xd0\\xb4\\xd0\\xb0\\xd0\\xbd\\xd0\\xbd\\xd1\\x8b\\xd1\\x85 \\xd0\\xb2 \\xd1\\x80\\xd0\\xb0\\xd0\\xb7\\xd0\\xbb\\xd0\\xb8\\xd1\\x87\\xd0\\xbd\\xd1\\x8b\\xd1\\x85 \\xd1\\x84\\xd0\\xbe\\xd1\\x80\\xd0\\xbc\\xd0\\xb0\\xd1\\x82\\xd0\\xb0\\xd1\\x85 (xml/json/html)\\n</p><p>\\xd0\\x98\\xd0\\xb7\\xd1\\x83\\xd1\\x87\\xd0\\xb5\\xd0\\xbd\\xd0\\xb8\\xd0\\xb5 \\xd1\\x8f\\xd0\\xb7\\xd1\\x8b\\xd0\\xba\\xd0\\xbe\\xd0\\xb2 \\xd0\\xb8 \\xd0\\xb1\\xd0\\xb8\\xd0\\xb1\\xd0\\xbb\\xd0\\xb8\\xd0\\xbe\\xd1\\x82\\xd0\\xb5\\xd0\\xba \\xd0\\xb4\\xd0\\xbb\\xd1\\x8f \\xd1\\x80\\xd0\\xb0\\xd0\\xb1\\xd0\\xbe\\xd1\\x82\\xd1\\x8b \\xd1\\x81 xml/json/html: lxml, XPath, XSLT, Beautiful Soup. \\n</p><p><b>\\xd0\\xa2\\xd0\\xb5\\xd0\\xbc\\xd0\\xb0 4</b>. \\xd0\\x9e\\xd1\\x81\\xd0\\xbd\\xd0\\xbe\\xd0\\xb2\\xd1\\x8b \\xd0\\xbc\\xd0\\xb0\\xd1\\x88\\xd0\\xb8\\xd0\\xbd\\xd0\\xbd\\xd0\\xbe\\xd0\\xb3\\xd0\\xbe \\xd0\\xbe\\xd0\\xb1\\xd1\\x83\\xd1\\x87\\xd0\\xb5\\xd0\\xbd\\xd0\\xb8\\xd1\\x8f \\xd0\\xb8 \\xd0\\xbf\\xd1\\x80\\xd0\\xb0\\xd0\\xba\\xd1\\x82\\xd0\\xb8\\xd0\\xba\\xd0\\xb0 \\xd0\\xbf\\xd1\\x80\\xd0\\xb8\\xd0\\xbc\\xd0\\xb5\\xd0\\xbd\\xd0\\xb5\\xd0\\xbd\\xd0\\xb8\\xd1\\x8f\\n</p><p>\\xd0\\x9f\\xd1\\x80\\xd0\\xb8\\xd0\\xb2\\xd0\\xb5\\xd0\\xb4\\xd0\\xb5\\xd0\\xbd\\xd0\\xb8\\xd0\\xb5 \\xd1\\x82\\xd0\\xb5\\xd0\\xba\\xd1\\x81\\xd1\\x82\\xd0\\xbe\\xd0\\xb2\\xd1\\x8b\\xd1\\x85 \\xd0\\xb4\\xd0\\xb0\\xd0\\xbd\\xd0\\xbd\\xd1\\x8b\\xd1\\x85 \\xd0\\xba \\xd1\\x87\\xd0\\xb8\\xd1\\x81\\xd0\\xbb\\xd0\\xbe\\xd0\\xb2\\xd1\\x8b\\xd0\\xbc \\xd1\\x81 \\xd0\\xbf\\xd0\\xbe\\xd0\\xbc\\xd0\\xbe\\xd1\\x89\\xd1\\x8c\\xd1\\x8e OneHot- \\xd0\\xb8 TF-IDF \\xd0\\xba\\xd0\\xbe\\xd0\\xb4\\xd0\\xb8\\xd1\\x80\\xd0\\xbe\\xd0\\xb2\\xd0\\xb0\\xd0\\xbd\\xd0\\xb8\\xd1\\x8f, \\xd0\\xb0 \\xd1\\x82\\xd0\\xb0\\xd0\\xba\\xd0\\xb6\\xd0\\xb5 \\xd0\\xbd\\xd0\\xb0 \\xd0\\xbe\\xd1\\x81\\xd0\\xbd\\xd0\\xbe\\xd0\\xb2\\xd0\\xb5 \\xd0\\xbf\\xd1\\x80\\xd0\\xb5\\xd0\\xb4\\xd1\\x81\\xd1\\x82\\xd0\\xb0\\xd0\\xb2\\xd0\\xbb\\xd0\\xb5\\xd0\\xbd\\xd0\\xb8\\xd0\\xb9 \\xd1\\x81\\xd0\\xbb\\xd0\\xbe\\xd0\\xb2 \\xd0\\xb8 \\xd1\\x82\\xd0\\xb5\\xd0\\xba\\xd1\\x81\\xd1\\x82\\xd0\\xbe\\xd0\\xb2. \\xd0\\x90\\xd0\\xbb\\xd0\\xb3\\xd0\\xbe\\xd1\\x80\\xd0\\xb8\\xd1\\x82\\xd0\\xbc\\xd1\\x8b \\xd0\\xbc\\xd0\\xb0\\xd1\\x88\\xd0\\xb8\\xd0\\xbd\\xd0\\xbd\\xd0\\xbe\\xd0\\xb3\\xd0\\xbe \\xd0\\xbe\\xd0\\xb1\\xd1\\x83\\xd1\\x87\\xd0\\xb5\\xd0\\xbd\\xd0\\xb8\\xd1\\x8f: \\xd0\\xbb\\xd0\\xb8\\xd0\\xbd\\xd0\\xb5\\xd0\\xb9\\xd0\\xbd\\xd0\\xb0\\xd1\\x8f \\xd0\\xb8 \\xd0\\xbb\\xd0\\xbe\\xd0\\xb3\\xd0\\xb8\\xd1\\x81\\xd1\\x82\\xd0\\xb8\\xd1\\x87\\xd0\\xb5\\xd1\\x81\\xd0\\xba\\xd0\\xb0\\xd1\\x8f \\xd1\\x80\\xd0\\xb5\\xd0\\xb3\\xd1\\x80\\xd0\\xb5\\xd1\\x81\\xd1\\x81\\xd0\\xb8\\xd0\\xb8, \\xd0\\xb3\\xd1\\x80\\xd0\\xb0\\xd0\\xb4\\xd0\\xb8\\xd0\\xb5\\xd0\\xbd\\xd1\\x82\\xd0\\xbd\\xd1\\x8b\\xd0\\xb9 \\xd0\\xb1\\xd1\\x83\\xd1\\x81\\xd1\\x82\\xd0\\xb8\\xd0\\xbd\\xd0\\xb3 \\xd0\\xb8 \\xd0\\xbd\\xd0\\xb5\\xd0\\xb9\\xd1\\x80\\xd0\\xbe\\xd0\\xbd\\xd0\\xbd\\xd1\\x8b\\xd0\\xb5 \\xd1\\x81\\xd0\\xb5\\xd1\\x82\\xd0\\xb8.\\n</p><p><b>\\xd0\\xa2\\xd0\\xb5\\xd0\\xbc\\xd0\\xb0 5</b>. \\xd0\\x98\\xd0\\xb7\\xd0\\xb2\\xd0\\xbb\\xd0\\xb5\\xd1\\x87\\xd0\\xb5\\xd0\\xbd\\xd0\\xb8\\xd0\\xb5 \\xd0\\xb4\\xd0\\xb0\\xd0\\xbd\\xd0\\xbd\\xd1\\x8b\\xd1\\x85 \\xd1\\x81\\xd0\\xb0\\xd0\\xb9\\xd1\\x82\\xd0\\xb0 \\xd0\\x92\\xd0\\xba\\xd0\\xbe\\xd0\\xbd\\xd1\\x82\\xd0\\xb0\\xd0\\xba\\xd1\\x82\\xd0\\xb5 \\xd0\\xb8 \\xd0\\xb8\\xd0\\xb7\\xd1\\x83\\xd1\\x87\\xd0\\xb5\\xd0\\xbd\\xd0\\xb8\\xd0\\xb5 \\xd0\\xb2\\xd0\\xbb\\xd0\\xb8\\xd1\\x8f\\xd0\\xbd\\xd0\\xb8\\xd1\\x8f \\xd1\\x81\\xd0\\xbe\\xd1\\x86\\xd0\\xb8\\xd0\\xb0\\xd0\\xbb\\xd1\\x8c\\xd0\\xbd\\xd1\\x8b\\xd1\\x85 \\xd1\\x81\\xd0\\xb5\\xd1\\x82\\xd0\\xb5\\xd0\\xb9 \\xd0\\xbd\\xd0\\xb0 \\xd0\\xbf\\xd0\\xbe\\xd0\\xb2\\xd0\\xb5\\xd0\\xb4\\xd0\\xb5\\xd0\\xbd\\xd0\\xb8\\xd0\\xb5 \\xd0\\xb2 \\xd1\\x80\\xd0\\xb5\\xd0\\xb0\\xd0\\xbb\\xd1\\x8c\\xd0\\xbd\\xd0\\xbe\\xd0\\xb9 \\xd0\\xb6\\xd0\\xb8\\xd0\\xb7\\xd0\\xbd\\xd0\\xb8.\\n</p><p>\\xd0\\x98\\xd0\\xb7\\xd1\\x83\\xd1\\x87\\xd0\\xb0\\xd0\\xb5\\xd0\\xbc \\xd0\\xb2\\xd0\\xbe\\xd0\\xb7\\xd0\\xbc\\xd0\\xbe\\xd0\\xb6\\xd0\\xbd\\xd0\\xbe\\xd1\\x81\\xd1\\x82\\xd0\\xb8 API \\xd1\\x81\\xd0\\xb0\\xd0\\xb9\\xd1\\x82\\xd0\\xb0 \\xd0\\x92\\xd0\\xba\\xd0\\xbe\\xd0\\xbd\\xd1\\x82\\xd0\\xb0\\xd0\\xba\\xd1\\x82\\xd0\\xb5. \\xd0\\x98\\xd0\\xb7\\xd0\\xb2\\xd0\\xbb\\xd0\\xb5\\xd0\\xba\\xd0\\xb0\\xd0\\xb5\\xd0\\xbc \\xd0\\xb8\\xd0\\xbd\\xd1\\x84\\xd0\\xbe\\xd1\\x80\\xd0\\xbc\\xd0\\xb0\\xd1\\x86\\xd0\\xb8\\xd1\\x8e \\xd0\\xbe\\xd0\\xb1 \\xd0\\xb8\\xd0\\xbd\\xd1\\x82\\xd0\\xb5\\xd1\\x80\\xd0\\xb5\\xd1\\x81\\xd0\\xb0\\xd1\\x85 \\xd0\\xb8 \\xd0\\xb4\\xd0\\xb5\\xd0\\xbc\\xd0\\xbe\\xd0\\xb3\\xd1\\x80\\xd0\\xb0\\xd1\\x84\\xd0\\xb8\\xd0\\xb8 \\xd0\\xbf\\xd0\\xbe\\xd0\\xbb\\xd1\\x8c\\xd0\\xb7\\xd0\\xbe\\xd0\\xb2\\xd0\\xb0\\xd1\\x82\\xd0\\xb5\\xd0\\xbb\\xd0\\xb5\\xd0\\xb9, \\xd0\\xbd\\xd0\\xb0 \\xd0\\xbe\\xd1\\x81\\xd0\\xbd\\xd0\\xbe\\xd0\\xb2\\xd0\\xb0\\xd0\\xbd\\xd0\\xb8\\xd0\\xb8 \\xd1\\x81\\xd0\\xbf\\xd0\\xb8\\xd1\\x81\\xd0\\xba\\xd0\\xb0 \\xd0\\xb3\\xd1\\x80\\xd1\\x83\\xd0\\xbf\\xd0\\xbf \\xd0\\xb8 \\xd0\\xbf\\xd0\\xbe\\xd0\\xbb\\xd1\\x8f \\xe2\\x80\\x9c\\xd0\\xb8\\xd0\\xbd\\xd1\\x82\\xd0\\xb5\\xd1\\x80\\xd0\\xb5\\xd1\\x81\\xd1\\x8b\\xe2\\x80\\x9d. \\xd0\\x98\\xd0\\xb7\\xd1\\x83\\xd1\\x87\\xd0\\xb0\\xd0\\xb5\\xd0\\xbc \\xd0\\xb2\\xd0\\xb7\\xd0\\xb0\\xd0\\xb8\\xd0\\xbc\\xd0\\xbe\\xd1\\x81\\xd0\\xb2\\xd1\\x8f\\xd0\\xb7\\xd1\\x8c \\xd0\\xb8\\xd0\\xbd\\xd1\\x82\\xd0\\xb5\\xd1\\x80\\xd0\\xb5\\xd1\\x81\\xd0\\xbe\\xd0\\xb2 \\xd1\\x88\\xd0\\xba\\xd0\\xbe\\xd0\\xbb\\xd1\\x8c\\xd0\\xbd\\xd0\\xb8\\xd0\\xba\\xd0\\xbe\\xd0\\xb2 \\xd1\\x81 \\xd0\\xbe\\xd1\\x86\\xd0\\xb5\\xd0\\xbd\\xd0\\xba\\xd0\\xb0\\xd0\\xbc\\xd0\\xb8.\\n</p><p><b>\\xd0\\xa2\\xd0\\xb5\\xd0\\xbc\\xd0\\xb0 6</b>. \\xd0\\x98\\xd0\\xb7\\xd0\\xb2\\xd0\\xbb\\xd0\\xb5\\xd1\\x87\\xd0\\xb5\\xd0\\xbd\\xd0\\xb8\\xd0\\xb5 \\xd0\\xb8 \\xd0\\xb0\\xd0\\xbd\\xd0\\xb0\\xd0\\xbb\\xd0\\xb8\\xd0\\xb7 \\xd0\\xb4\\xd0\\xb0\\xd0\\xbd\\xd0\\xbd\\xd1\\x8b\\xd1\\x85 \\xd0\\x9c\\xd0\\xbe\\xd1\\x81\\xd0\\xba\\xd0\\xbe\\xd0\\xb2\\xd1\\x81\\xd0\\xba\\xd0\\xbe\\xd0\\xb9 \\xd0\\xb1\\xd0\\xb8\\xd1\\x80\\xd0\\xb6\\xd0\\xb8\\n</p><p>\\xd0\\x90\\xd0\\xbd\\xd0\\xb0\\xd0\\xbb\\xd0\\xb8\\xd0\\xb7\\xd0\\xb8\\xd1\\x80\\xd1\\x83\\xd0\\xb5\\xd0\\xbc \\xd1\\x80\\xd1\\x8b\\xd0\\xbd\\xd0\\xbe\\xd0\\xba \\xd1\\x86\\xd0\\xb5\\xd0\\xbd\\xd0\\xbd\\xd1\\x8b\\xd1\\x85 \\xd0\\xb1\\xd1\\x83\\xd0\\xbc\\xd0\\xb0\\xd0\\xb3 \\xd0\\xbd\\xd0\\xb0 \\xd0\\xb4\\xd0\\xb0\\xd0\\xbd\\xd0\\xbd\\xd1\\x8b\\xd1\\x85 \\xd0\\x9c\\xd0\\xbe\\xd1\\x81\\xd0\\xba\\xd0\\xbe\\xd0\\xb2\\xd1\\x81\\xd0\\xba\\xd0\\xbe\\xd0\\xb9 \\xd0\\xb1\\xd0\\xb8\\xd1\\x80\\xd0\\xb6\\xd0\\xb8.\\n</p>\\n<h2><span class=\"mw-headline\" id=\".D0.9F.D1.80.D0.B0.D0.BA.D1.82.D0.B8.D1.87.D0.B5.D1.81.D0.BA.D0.B8.D0.B5_.D0.B7.D0.B0.D0.B4.D0.B0.D0.BD.D0.B8.D1.8F\">\\xd0\\x9f\\xd1\\x80\\xd0\\xb0\\xd0\\xba\\xd1\\x82\\xd0\\xb8\\xd1\\x87\\xd0\\xb5\\xd1\\x81\\xd0\\xba\\xd0\\xb8\\xd0\\xb5 \\xd0\\xb7\\xd0\\xb0\\xd0\\xb4\\xd0\\xb0\\xd0\\xbd\\xd0\\xb8\\xd1\\x8f</span></h2>\\n<h2><span class=\"mw-headline\" id=\".D0.9F.D0.BE.D0.BB.D0.B5.D0.B7.D0.BD.D1.8B.D0.B5_.D0.BC.D0.B0.D1.82.D0.B5.D1.80.D0.B8.D0.B0.D0.BB.D1.8B\">\\xd0\\x9f\\xd0\\xbe\\xd0\\xbb\\xd0\\xb5\\xd0\\xb7\\xd0\\xbd\\xd1\\x8b\\xd0\\xb5 \\xd0\\xbc\\xd0\\xb0\\xd1\\x82\\xd0\\xb5\\xd1\\x80\\xd0\\xb8\\xd0\\xb0\\xd0\\xbb\\xd1\\x8b</span></h2>\\n<pre>- <a rel=\"nofollow\" class=\"external text\" href=\"http://www.swaroopch.com/notes/python/\">A Byte of Python</a>\\n- <a rel=\"nofollow\" class=\"external text\" href=\"http://greenteapress.com/thinkpython/html/index.html\">Think Python: How to Think Like a Computer Scientist</a>\\n- <a rel=\"nofollow\" class=\"external text\" href=\"https://docs.python.org/3/\">\\xd0\\x94\\xd0\\xbe\\xd0\\xba\\xd1\\x83\\xd0\\xbc\\xd0\\xb5\\xd0\\xbd\\xd1\\x82\\xd0\\xb0\\xd1\\x86\\xd0\\xb8\\xd1\\x8f \\xd1\\x8f\\xd0\\xb7\\xd1\\x8b\\xd0\\xba\\xd0\\xb0</a>\\n- <a rel=\"nofollow\" class=\"external text\" href=\"https://speakerdeck.com/pyconslides/transforming-code-into-beautiful-idiomatic-python-by-raymond-hettinger-1\">Writing Idiomatic Python</a>\\n- <a rel=\"nofollow\" class=\"external text\" href=\"https://pyformat.info/\">\\xd0\\xbe \\xd1\\x81\\xd1\\x82\\xd1\\x80\\xd0\\xbe\\xd0\\xba\\xd0\\xbe\\xd0\\xb2\\xd0\\xbe\\xd0\\xbc \\xd0\\xbc\\xd0\\xb5\\xd1\\x82\\xd0\\xbe\\xd0\\xb4\\xd0\\xb5 format \\xd0\\xb4\\xd0\\xbe\\xd1\\x81\\xd1\\x82\\xd1\\x83\\xd0\\xbf\\xd0\\xbd\\xd1\\x8b\\xd0\\xbc \\xd1\\x8f\\xd0\\xb7\\xd1\\x8b\\xd0\\xba\\xd0\\xbe\\xd0\\xbc</a>\\n- <a rel=\"nofollow\" class=\"external text\" href=\"https://developers.google.com/edu/python/regular-expressions\">\\xd0\\xbf\\xd1\\x80\\xd0\\xbe \\xd1\\x80\\xd0\\xb5\\xd0\\xb3\\xd1\\x83\\xd0\\xbb\\xd1\\x8f\\xd1\\x80\\xd0\\xba\\xd0\\xb8 \\xd0\\xbe\\xd1\\x82 \\xd0\\x93\\xd1\\x83\\xd0\\xb3\\xd0\\xbb\\xd0\\xb0</a>\\n</pre>\\n<!-- \\nNewPP limit report\\nCPU time usage: 0.024 seconds\\nReal time usage: 0.027 seconds\\nPreprocessor visited node count: 26/1000000\\nPreprocessor generated node count: 32/1000000\\nPost\\xe2\\x80\\x90expand include size: 0/2097152 bytes\\nTemplate argument size: 0/2097152 bytes\\nHighest expansion depth: 2/40\\nExpensive parser function count: 0/100\\n-->\\n\\n<!-- Saved in parser cache with key wiki_cs:pcache:idhash:15490-0!*!*!!ru!*!* and timestamp 20171109200402 and revision id 24315\\n -->\\n</div>\\t\\t\\t\\t\\t\\t\\t\\t<div class=\"printfooter\">\\n\\t\\t\\t\\t\\xd0\\x98\\xd1\\x81\\xd1\\x82\\xd0\\xbe\\xd1\\x87\\xd0\\xbd\\xd0\\xb8\\xd0\\xba \\xe2\\x80\\x94 \\xc2\\xab<a href=\"http://wiki.cs.hse.ru/index.php?title=\\xd0\\x98\\xd0\\xb7\\xd0\\xb2\\xd0\\xbb\\xd0\\xb5\\xd1\\x87\\xd0\\xb5\\xd0\\xbd\\xd0\\xb8\\xd0\\xb5_\\xd0\\xb8_\\xd0\\xb0\\xd0\\xbd\\xd0\\xb0\\xd0\\xbb\\xd0\\xb8\\xd0\\xb7_\\xd0\\xb8\\xd0\\xbd\\xd1\\x82\\xd0\\xb5\\xd1\\x80\\xd0\\xbd\\xd0\\xb5\\xd1\\x82-\\xd0\\xb4\\xd0\\xb0\\xd0\\xbd\\xd0\\xbd\\xd1\\x8b\\xd1\\x85&amp;oldid=24315\">http://wiki.cs.hse.ru/index.php?title=\\xd0\\x98\\xd0\\xb7\\xd0\\xb2\\xd0\\xbb\\xd0\\xb5\\xd1\\x87\\xd0\\xb5\\xd0\\xbd\\xd0\\xb8\\xd0\\xb5_\\xd0\\xb8_\\xd0\\xb0\\xd0\\xbd\\xd0\\xb0\\xd0\\xbb\\xd0\\xb8\\xd0\\xb7_\\xd0\\xb8\\xd0\\xbd\\xd1\\x82\\xd0\\xb5\\xd1\\x80\\xd0\\xbd\\xd0\\xb5\\xd1\\x82-\\xd0\\xb4\\xd0\\xb0\\xd0\\xbd\\xd0\\xbd\\xd1\\x8b\\xd1\\x85&amp;oldid=24315</a>\\xc2\\xbb\\t\\t\\t\\t</div>\\n\\t\\t\\t\\t\\t\\t\\t\\t\\t\\t\\t\\t<div id=\\'catlinks\\' class=\\'catlinks catlinks-allhidden\\'></div>\\t\\t\\t\\t\\t\\t\\t\\t\\t\\t\\t\\t<div class=\"visualClear\"></div>\\n\\t\\t\\t\\t\\t\\t\\t</div>\\n\\t\\t</div>\\n\\t\\t<div id=\"mw-navigation\">\\n\\t\\t\\t<h2>\\xd0\\x9d\\xd0\\xb0\\xd0\\xb2\\xd0\\xb8\\xd0\\xb3\\xd0\\xb0\\xd1\\x86\\xd0\\xb8\\xd1\\x8f</h2>\\n\\t\\t\\t<div id=\"mw-head\">\\n\\t\\t\\t\\t<div id=\"p-personal\" role=\"navigation\" class=\"\" aria-labelledby=\"p-personal-label\">\\n\\t<h3 id=\"p-personal-label\">\\xd0\\x9f\\xd0\\xb5\\xd1\\x80\\xd1\\x81\\xd0\\xbe\\xd0\\xbd\\xd0\\xb0\\xd0\\xbb\\xd1\\x8c\\xd0\\xbd\\xd1\\x8b\\xd0\\xb5 \\xd0\\xb8\\xd0\\xbd\\xd1\\x81\\xd1\\x82\\xd1\\x80\\xd1\\x83\\xd0\\xbc\\xd0\\xb5\\xd0\\xbd\\xd1\\x82\\xd1\\x8b</h3>\\n\\t<ul>\\n<li id=\"pt-createaccount\"><a href=\"/index.php?title=%D0%A1%D0%BB%D1%83%D0%B6%D0%B5%D0%B1%D0%BD%D0%B0%D1%8F:%D0%92%D1%85%D0%BE%D0%B4&amp;returnto=%D0%98%D0%B7%D0%B2%D0%BB%D0%B5%D1%87%D0%B5%D0%BD%D0%B8%D0%B5+%D0%B8+%D0%B0%D0%BD%D0%B0%D0%BB%D0%B8%D0%B7+%D0%B8%D0%BD%D1%82%D0%B5%D1%80%D0%BD%D0%B5%D1%82-%D0%B4%D0%B0%D0%BD%D0%BD%D1%8B%D1%85&amp;type=signup\">\\xd0\\xa1\\xd0\\xbe\\xd0\\xb7\\xd0\\xb4\\xd0\\xb0\\xd1\\x82\\xd1\\x8c \\xd1\\x83\\xd1\\x87\\xd1\\x91\\xd1\\x82\\xd0\\xbd\\xd1\\x83\\xd1\\x8e \\xd0\\xb7\\xd0\\xb0\\xd0\\xbf\\xd0\\xb8\\xd1\\x81\\xd1\\x8c</a></li><li id=\"pt-login\"><a href=\"/index.php?title=%D0%A1%D0%BB%D1%83%D0%B6%D0%B5%D0%B1%D0%BD%D0%B0%D1%8F:%D0%92%D1%85%D0%BE%D0%B4&amp;returnto=%D0%98%D0%B7%D0%B2%D0%BB%D0%B5%D1%87%D0%B5%D0%BD%D0%B8%D0%B5+%D0%B8+%D0%B0%D0%BD%D0%B0%D0%BB%D0%B8%D0%B7+%D0%B8%D0%BD%D1%82%D0%B5%D1%80%D0%BD%D0%B5%D1%82-%D0%B4%D0%B0%D0%BD%D0%BD%D1%8B%D1%85\" title=\"\\xd0\\x97\\xd0\\xb4\\xd0\\xb5\\xd1\\x81\\xd1\\x8c \\xd0\\xbc\\xd0\\xbe\\xd0\\xb6\\xd0\\xbd\\xd0\\xbe \\xd0\\xb7\\xd0\\xb0\\xd1\\x80\\xd0\\xb5\\xd0\\xb3\\xd0\\xb8\\xd1\\x81\\xd1\\x82\\xd1\\x80\\xd0\\xb8\\xd1\\x80\\xd0\\xbe\\xd0\\xb2\\xd0\\xb0\\xd1\\x82\\xd1\\x8c\\xd1\\x81\\xd1\\x8f \\xd0\\xb2 \\xd1\\x81\\xd0\\xb8\\xd1\\x81\\xd1\\x82\\xd0\\xb5\\xd0\\xbc\\xd0\\xb5, \\xd0\\xbd\\xd0\\xbe \\xd1\\x8d\\xd1\\x82\\xd0\\xbe \\xd0\\xbd\\xd0\\xb5\\xd0\\xbe\\xd0\\xb1\\xd1\\x8f\\xd0\\xb7\\xd0\\xb0\\xd1\\x82\\xd0\\xb5\\xd0\\xbb\\xd1\\x8c\\xd0\\xbd\\xd0\\xbe. [o]\" accesskey=\"o\">\\xd0\\x92\\xd0\\xbe\\xd0\\xb9\\xd1\\x82\\xd0\\xb8</a></li>\\t</ul>\\n</div>\\n\\t\\t\\t\\t<div id=\"left-navigation\">\\n\\t\\t\\t\\t\\t<div id=\"p-namespaces\" role=\"navigation\" class=\"vectorTabs\" aria-labelledby=\"p-namespaces-label\">\\n\\t<h3 id=\"p-namespaces-label\">\\xd0\\x9f\\xd1\\x80\\xd0\\xbe\\xd1\\x81\\xd1\\x82\\xd1\\x80\\xd0\\xb0\\xd0\\xbd\\xd1\\x81\\xd1\\x82\\xd0\\xb2\\xd0\\xb0 \\xd0\\xb8\\xd0\\xbc\\xd1\\x91\\xd0\\xbd</h3>\\n\\t<ul>\\n\\t\\t\\t\\t\\t<li  id=\"ca-nstab-main\" class=\"selected\"><span><a href=\"/%D0%98%D0%B7%D0%B2%D0%BB%D0%B5%D1%87%D0%B5%D0%BD%D0%B8%D0%B5_%D0%B8_%D0%B0%D0%BD%D0%B0%D0%BB%D0%B8%D0%B7_%D0%B8%D0%BD%D1%82%D0%B5%D1%80%D0%BD%D0%B5%D1%82-%D0%B4%D0%B0%D0%BD%D0%BD%D1%8B%D1%85\"  title=\"\\xd0\\x9f\\xd1\\x80\\xd0\\xbe\\xd1\\x81\\xd0\\xbc\\xd0\\xbe\\xd1\\x82\\xd1\\x80 \\xd0\\xbe\\xd1\\x81\\xd0\\xbd\\xd0\\xbe\\xd0\\xb2\\xd0\\xbd\\xd0\\xbe\\xd0\\xb9 \\xd1\\x81\\xd1\\x82\\xd1\\x80\\xd0\\xb0\\xd0\\xbd\\xd0\\xb8\\xd1\\x86\\xd1\\x8b [c]\" accesskey=\"c\">\\xd0\\xa1\\xd1\\x82\\xd0\\xb0\\xd1\\x82\\xd1\\x8c\\xd1\\x8f</a></span></li>\\n\\t\\t\\t\\t\\t<li  id=\"ca-talk\" class=\"new\"><span><a href=\"/index.php?title=%D0%9E%D0%B1%D1%81%D1%83%D0%B6%D0%B4%D0%B5%D0%BD%D0%B8%D0%B5:%D0%98%D0%B7%D0%B2%D0%BB%D0%B5%D1%87%D0%B5%D0%BD%D0%B8%D0%B5_%D0%B8_%D0%B0%D0%BD%D0%B0%D0%BB%D0%B8%D0%B7_%D0%B8%D0%BD%D1%82%D0%B5%D1%80%D0%BD%D0%B5%D1%82-%D0%B4%D0%B0%D0%BD%D0%BD%D1%8B%D1%85&amp;action=edit&amp;redlink=1\"  title=\"\\xd0\\x9e\\xd0\\xb1\\xd1\\x81\\xd1\\x83\\xd0\\xb6\\xd0\\xb4\\xd0\\xb5\\xd0\\xbd\\xd0\\xb8\\xd0\\xb5 \\xd0\\xbe\\xd1\\x81\\xd0\\xbd\\xd0\\xbe\\xd0\\xb2\\xd0\\xbd\\xd0\\xbe\\xd0\\xb9 \\xd1\\x81\\xd1\\x82\\xd1\\x80\\xd0\\xb0\\xd0\\xbd\\xd0\\xb8\\xd1\\x86\\xd1\\x8b [t]\" accesskey=\"t\">\\xd0\\x9e\\xd0\\xb1\\xd1\\x81\\xd1\\x83\\xd0\\xb6\\xd0\\xb4\\xd0\\xb5\\xd0\\xbd\\xd0\\xb8\\xd0\\xb5</a></span></li>\\n\\t\\t\\t</ul>\\n</div>\\n<div id=\"p-variants\" role=\"navigation\" class=\"vectorMenu emptyPortlet\" aria-labelledby=\"p-variants-label\">\\n\\t<h3 id=\"mw-vector-current-variant\">\\n\\t\\t</h3>\\n\\t<h3 id=\"p-variants-label\"><span>\\xd0\\x92\\xd0\\xb0\\xd1\\x80\\xd0\\xb8\\xd0\\xb0\\xd0\\xbd\\xd1\\x82\\xd1\\x8b</span><a href=\"#\"></a></h3>\\n\\t<div class=\"menu\">\\n\\t\\t<ul>\\n\\t\\t\\t\\t\\t</ul>\\n\\t</div>\\n</div>\\n\\t\\t\\t\\t</div>\\n\\t\\t\\t\\t<div id=\"right-navigation\">\\n\\t\\t\\t\\t\\t<div id=\"p-views\" role=\"navigation\" class=\"vectorTabs\" aria-labelledby=\"p-views-label\">\\n\\t<h3 id=\"p-views-label\">\\xd0\\x9f\\xd1\\x80\\xd0\\xbe\\xd1\\x81\\xd0\\xbc\\xd0\\xbe\\xd1\\x82\\xd1\\x80\\xd1\\x8b</h3>\\n\\t<ul>\\n\\t\\t\\t\\t\\t<li id=\"ca-view\" class=\"selected\"><span><a href=\"/%D0%98%D0%B7%D0%B2%D0%BB%D0%B5%D1%87%D0%B5%D0%BD%D0%B8%D0%B5_%D0%B8_%D0%B0%D0%BD%D0%B0%D0%BB%D0%B8%D0%B7_%D0%B8%D0%BD%D1%82%D0%B5%D1%80%D0%BD%D0%B5%D1%82-%D0%B4%D0%B0%D0%BD%D0%BD%D1%8B%D1%85\" >\\xd0\\xa7\\xd0\\xb8\\xd1\\x82\\xd0\\xb0\\xd1\\x82\\xd1\\x8c</a></span></li>\\n\\t\\t\\t\\t\\t<li id=\"ca-viewsource\"><span><a href=\"/index.php?title=%D0%98%D0%B7%D0%B2%D0%BB%D0%B5%D1%87%D0%B5%D0%BD%D0%B8%D0%B5_%D0%B8_%D0%B0%D0%BD%D0%B0%D0%BB%D0%B8%D0%B7_%D0%B8%D0%BD%D1%82%D0%B5%D1%80%D0%BD%D0%B5%D1%82-%D0%B4%D0%B0%D0%BD%D0%BD%D1%8B%D1%85&amp;action=edit\"  title=\"\\xd0\\xad\\xd1\\x82\\xd0\\xb0 \\xd1\\x81\\xd1\\x82\\xd1\\x80\\xd0\\xb0\\xd0\\xbd\\xd0\\xb8\\xd1\\x86\\xd0\\xb0 \\xd0\\xb7\\xd0\\xb0\\xd1\\x89\\xd0\\xb8\\xd1\\x89\\xd0\\xb5\\xd0\\xbd\\xd0\\xb0 \\xd0\\xbe\\xd1\\x82 \\xd0\\xb8\\xd0\\xb7\\xd0\\xbc\\xd0\\xb5\\xd0\\xbd\\xd0\\xb5\\xd0\\xbd\\xd0\\xb8\\xd0\\xb9, \\xd0\\xbd\\xd0\\xbe \\xd0\\xb2\\xd1\\x8b \\xd0\\xbc\\xd0\\xbe\\xd0\\xb6\\xd0\\xb5\\xd1\\x82\\xd0\\xb5 \\xd0\\xbf\\xd0\\xbe\\xd1\\x81\\xd0\\xbc\\xd0\\xbe\\xd1\\x82\\xd1\\x80\\xd0\\xb5\\xd1\\x82\\xd1\\x8c \\xd0\\xb8 \\xd1\\x81\\xd0\\xba\\xd0\\xbe\\xd0\\xbf\\xd0\\xb8\\xd1\\x80\\xd0\\xbe\\xd0\\xb2\\xd0\\xb0\\xd1\\x82\\xd1\\x8c \\xd0\\xb5\\xd1\\x91 \\xd0\\xb8\\xd1\\x81\\xd1\\x85\\xd0\\xbe\\xd0\\xb4\\xd0\\xbd\\xd1\\x8b\\xd0\\xb9 \\xd1\\x82\\xd0\\xb5\\xd0\\xba\\xd1\\x81\\xd1\\x82 [e]\" accesskey=\"e\">\\xd0\\x9f\\xd1\\x80\\xd0\\xbe\\xd1\\x81\\xd0\\xbc\\xd0\\xbe\\xd1\\x82\\xd1\\x80</a></span></li>\\n\\t\\t\\t\\t\\t<li id=\"ca-history\" class=\"collapsible\"><span><a href=\"/index.php?title=%D0%98%D0%B7%D0%B2%D0%BB%D0%B5%D1%87%D0%B5%D0%BD%D0%B8%D0%B5_%D0%B8_%D0%B0%D0%BD%D0%B0%D0%BB%D0%B8%D0%B7_%D0%B8%D0%BD%D1%82%D0%B5%D1%80%D0%BD%D0%B5%D1%82-%D0%B4%D0%B0%D0%BD%D0%BD%D1%8B%D1%85&amp;action=history\"  title=\"\\xd0\\x96\\xd1\\x83\\xd1\\x80\\xd0\\xbd\\xd0\\xb0\\xd0\\xbb \\xd0\\xb8\\xd0\\xb7\\xd0\\xbc\\xd0\\xb5\\xd0\\xbd\\xd0\\xb5\\xd0\\xbd\\xd0\\xb8\\xd0\\xb9 \\xd1\\x81\\xd1\\x82\\xd1\\x80\\xd0\\xb0\\xd0\\xbd\\xd0\\xb8\\xd1\\x86\\xd1\\x8b [h]\" accesskey=\"h\">\\xd0\\x98\\xd1\\x81\\xd1\\x82\\xd0\\xbe\\xd1\\x80\\xd0\\xb8\\xd1\\x8f</a></span></li>\\n\\t\\t\\t</ul>\\n</div>\\n<div id=\"p-cactions\" role=\"navigation\" class=\"vectorMenu emptyPortlet\" aria-labelledby=\"p-cactions-label\">\\n\\t<h3 id=\"p-cactions-label\"><span>\\xd0\\x94\\xd0\\xb5\\xd0\\xb9\\xd1\\x81\\xd1\\x82\\xd0\\xb2\\xd0\\xb8\\xd1\\x8f</span><a href=\"#\"></a></h3>\\n\\t<div class=\"menu\">\\n\\t\\t<ul>\\n\\t\\t\\t\\t\\t</ul>\\n\\t</div>\\n</div>\\n<div id=\"p-search\" role=\"search\">\\n\\t<h3><label for=\"searchInput\">\\xd0\\x9f\\xd0\\xbe\\xd0\\xb8\\xd1\\x81\\xd0\\xba</label></h3>\\n\\t<form action=\"/index.php\" id=\"searchform\">\\n\\t\\t\\t\\t\\t<div id=\"simpleSearch\">\\n\\t\\t\\t\\t\\t<input type=\"search\" name=\"search\" placeholder=\"\\xd0\\x9f\\xd0\\xbe\\xd0\\xb8\\xd1\\x81\\xd0\\xba\" title=\"\\xd0\\x98\\xd1\\x81\\xd0\\xba\\xd0\\xb0\\xd1\\x82\\xd1\\x8c \\xd0\\xb2 Wiki - \\xd0\\xa4\\xd0\\xb0\\xd0\\xba\\xd1\\x83\\xd0\\xbb\\xd1\\x8c\\xd1\\x82\\xd0\\xb5\\xd1\\x82 \\xd0\\xba\\xd0\\xbe\\xd0\\xbc\\xd0\\xbf\\xd1\\x8c\\xd1\\x8e\\xd1\\x82\\xd0\\xb5\\xd1\\x80\\xd0\\xbd\\xd1\\x8b\\xd1\\x85 \\xd0\\xbd\\xd0\\xb0\\xd1\\x83\\xd0\\xba [f]\" accesskey=\"f\" id=\"searchInput\" /><input type=\"hidden\" value=\"\\xd0\\xa1\\xd0\\xbb\\xd1\\x83\\xd0\\xb6\\xd0\\xb5\\xd0\\xb1\\xd0\\xbd\\xd0\\xb0\\xd1\\x8f:\\xd0\\x9f\\xd0\\xbe\\xd0\\xb8\\xd1\\x81\\xd0\\xba\" name=\"title\" /><input type=\"submit\" name=\"fulltext\" value=\"\\xd0\\x9d\\xd0\\xb0\\xd0\\xb9\\xd1\\x82\\xd0\\xb8\" title=\"\\xd0\\x9d\\xd0\\xb0\\xd0\\xb9\\xd1\\x82\\xd0\\xb8 \\xd1\\x81\\xd1\\x82\\xd1\\x80\\xd0\\xb0\\xd0\\xbd\\xd0\\xb8\\xd1\\x86\\xd1\\x8b, \\xd1\\x81\\xd0\\xbe\\xd0\\xb4\\xd0\\xb5\\xd1\\x80\\xd0\\xb6\\xd0\\xb0\\xd1\\x89\\xd0\\xb8\\xd0\\xb5 \\xd1\\x83\\xd0\\xba\\xd0\\xb0\\xd0\\xb7\\xd0\\xb0\\xd0\\xbd\\xd0\\xbd\\xd1\\x8b\\xd0\\xb9 \\xd1\\x82\\xd0\\xb5\\xd0\\xba\\xd1\\x81\\xd1\\x82\" id=\"mw-searchButton\" class=\"searchButton mw-fallbackSearchButton\" /><input type=\"submit\" name=\"go\" value=\"\\xd0\\x9f\\xd0\\xb5\\xd1\\x80\\xd0\\xb5\\xd0\\xb9\\xd1\\x82\\xd0\\xb8\" title=\"\\xd0\\x9f\\xd0\\xb5\\xd1\\x80\\xd0\\xb5\\xd0\\xb9\\xd1\\x82\\xd0\\xb8 \\xd0\\xba \\xd1\\x81\\xd1\\x82\\xd1\\x80\\xd0\\xb0\\xd0\\xbd\\xd0\\xb8\\xd1\\x86\\xd0\\xb5, \\xd0\\xb8\\xd0\\xbc\\xd0\\xb5\\xd1\\x8e\\xd1\\x89\\xd0\\xb5\\xd0\\xb9 \\xd0\\xb2 \\xd1\\x82\\xd0\\xbe\\xd1\\x87\\xd0\\xbd\\xd0\\xbe\\xd1\\x81\\xd1\\x82\\xd0\\xb8 \\xd1\\x82\\xd0\\xb0\\xd0\\xba\\xd0\\xbe\\xd0\\xb5 \\xd0\\xbd\\xd0\\xb0\\xd0\\xb7\\xd0\\xb2\\xd0\\xb0\\xd0\\xbd\\xd0\\xb8\\xd0\\xb5\" id=\"searchButton\" class=\"searchButton\" />\\t\\t</div>\\n\\t</form>\\n</div>\\n\\t\\t\\t\\t</div>\\n\\t\\t\\t</div>\\n\\t\\t\\t<div id=\"mw-panel\">\\n\\t\\t\\t\\t\\t<div id=\"p-logo\" role=\"banner\"><a style=\"background-image: url(/skins/logo.png);\" href=\"/%D0%97%D0%B0%D0%B3%D0%BB%D0%B0%D0%B2%D0%BD%D0%B0%D1%8F_%D1%81%D1%82%D1%80%D0%B0%D0%BD%D0%B8%D1%86%D0%B0\"  title=\"\\xd0\\x9f\\xd0\\xb5\\xd1\\x80\\xd0\\xb5\\xd0\\xb9\\xd1\\x82\\xd0\\xb8 \\xd0\\xbd\\xd0\\xb0 \\xd0\\xb7\\xd0\\xb0\\xd0\\xb3\\xd0\\xbb\\xd0\\xb0\\xd0\\xb2\\xd0\\xbd\\xd1\\x83\\xd1\\x8e \\xd1\\x81\\xd1\\x82\\xd1\\x80\\xd0\\xb0\\xd0\\xbd\\xd0\\xb8\\xd1\\x86\\xd1\\x83\"></a></div>\\n\\t\\t\\t\\t<div class=\"portal\" role=\"navigation\" id=\\'p-navigation\\' aria-labelledby=\\'p-navigation-label\\'>\\n\\t<h3 id=\\'p-navigation-label\\'>\\xd0\\x9d\\xd0\\xb0\\xd0\\xb2\\xd0\\xb8\\xd0\\xb3\\xd0\\xb0\\xd1\\x86\\xd0\\xb8\\xd1\\x8f</h3>\\n\\t<div class=\"body\">\\n\\t\\t<ul>\\n\\t\\t\\t<li id=\"n-mainpage-description\"><a href=\"/%D0%97%D0%B0%D0%B3%D0%BB%D0%B0%D0%B2%D0%BD%D0%B0%D1%8F_%D1%81%D1%82%D1%80%D0%B0%D0%BD%D0%B8%D1%86%D0%B0\" title=\"\\xd0\\x9f\\xd0\\xb5\\xd1\\x80\\xd0\\xb5\\xd0\\xb9\\xd1\\x82\\xd0\\xb8 \\xd0\\xbd\\xd0\\xb0 \\xd0\\xb7\\xd0\\xb0\\xd0\\xb3\\xd0\\xbb\\xd0\\xb0\\xd0\\xb2\\xd0\\xbd\\xd1\\x83\\xd1\\x8e \\xd1\\x81\\xd1\\x82\\xd1\\x80\\xd0\\xb0\\xd0\\xbd\\xd0\\xb8\\xd1\\x86\\xd1\\x83 [z]\" accesskey=\"z\">\\xd0\\x97\\xd0\\xb0\\xd0\\xb3\\xd0\\xbb\\xd0\\xb0\\xd0\\xb2\\xd0\\xbd\\xd0\\xb0\\xd1\\x8f \\xd1\\x81\\xd1\\x82\\xd1\\x80\\xd0\\xb0\\xd0\\xbd\\xd0\\xb8\\xd1\\x86\\xd0\\xb0</a></li>\\n\\t\\t\\t<li id=\"n-.D0.9E.D1.81.D0.BD.D0.BE.D0.B2.D1.8B-.D0.B8-.D0.BC.D0.B5.D1.82.D0.BE.D0.B4.D0.BE.D0.BB.D0.BE.D0.B3.D0.B8.D1.8F-.D0.BF.D1.80.D0.BE.D0.B3.D1.80.D0.B0.D0.BC.D0.BC.D0.B8.D1.80.D0.BE.D0.B2.D0.B0.D0.BD.D0.B8.D1.8F\"><a href=\"http://wiki.cs.hse.ru/\\xd0\\x9e\\xd0\\xb8\\xd0\\x9c\\xd0\\x9f-2015\" rel=\"nofollow\">\\xd0\\x9e\\xd1\\x81\\xd0\\xbd\\xd0\\xbe\\xd0\\xb2\\xd1\\x8b \\xd0\\xb8 \\xd0\\xbc\\xd0\\xb5\\xd1\\x82\\xd0\\xbe\\xd0\\xb4\\xd0\\xbe\\xd0\\xbb\\xd0\\xbe\\xd0\\xb3\\xd0\\xb8\\xd1\\x8f \\xd0\\xbf\\xd1\\x80\\xd0\\xbe\\xd0\\xb3\\xd1\\x80\\xd0\\xb0\\xd0\\xbc\\xd0\\xbc\\xd0\\xb8\\xd1\\x80\\xd0\\xbe\\xd0\\xb2\\xd0\\xb0\\xd0\\xbd\\xd0\\xb8\\xd1\\x8f</a></li>\\n\\t\\t\\t<li id=\"n-.D0.90.D0.BB.D0.B3.D0.BE.D1.80.D0.B8.D1.82.D0.BC.D1.8B-.D0.B8-.D1.81.D1.82.D1.80.D1.83.D0.BA.D1.82.D1.83.D1.80.D1.8B-.D0.B4.D0.B0.D0.BD.D0.BD.D1.8B.D1.85\"><a href=\"http://wiki.cs.hse.ru/%D0%90%D0%BB%D0%B3%D0%BE%D1%80%D0%B8%D1%82%D0%BC%D1%8B_%D0%B8_%D1%81%D1%82%D1%80%D1%83%D0%BA%D1%82%D1%83%D1%80%D1%8B_%D0%B4%D0%B0%D0%BD%D0%BD%D1%8B%D1%85\" rel=\"nofollow\">\\xd0\\x90\\xd0\\xbb\\xd0\\xb3\\xd0\\xbe\\xd1\\x80\\xd0\\xb8\\xd1\\x82\\xd0\\xbc\\xd1\\x8b \\xd0\\xb8 \\xd1\\x81\\xd1\\x82\\xd1\\x80\\xd1\\x83\\xd0\\xba\\xd1\\x82\\xd1\\x83\\xd1\\x80\\xd1\\x8b \\xd0\\xb4\\xd0\\xb0\\xd0\\xbd\\xd0\\xbd\\xd1\\x8b\\xd1\\x85</a></li>\\n\\t\\t\\t<li id=\"n-.D0.90.D0.BD.D0.B0.D0.BB.D0.B8.D0.B7-.D0.B4.D0.B0.D0.BD.D0.BD.D1.8B.D1.85-.28.D0.9F.D0.98.29\"><a href=\"http://wiki.cs.hse.ru/\\xd0\\x98\\xd0\\xbd\\xd1\\x82\\xd0\\xb5\\xd0\\xbb\\xd0\\xbb\\xd0\\xb5\\xd0\\xba\\xd1\\x82\\xd1\\x83\\xd0\\xb0\\xd0\\xbb\\xd1\\x8c\\xd0\\xbd\\xd1\\x8b\\xd0\\xb9_\\xd0\\xb0\\xd0\\xbd\\xd0\\xb0\\xd0\\xbb\\xd0\\xb8\\xd0\\xb7_\\xd0\\xb4\\xd0\\xb0\\xd0\\xbd\\xd0\\xbd\\xd1\\x8b\\xd1\\x85_(\\xd0\\xbf\\xd1\\x80\\xd0\\xbe\\xd0\\xb3\\xd1\\x80\\xd0\\xb0\\xd0\\xbc\\xd0\\xbc\\xd0\\xbd\\xd0\\xb0\\xd1\\x8f_\\xd0\\xb8\\xd0\\xbd\\xd0\\xb6\\xd0\\xb5\\xd0\\xbd\\xd0\\xb5\\xd1\\x80\\xd0\\xb8\\xd1\\x8f)\" rel=\"nofollow\">\\xd0\\x90\\xd0\\xbd\\xd0\\xb0\\xd0\\xbb\\xd0\\xb8\\xd0\\xb7 \\xd0\\xb4\\xd0\\xb0\\xd0\\xbd\\xd0\\xbd\\xd1\\x8b\\xd1\\x85 (\\xd0\\x9f\\xd0\\x98)</a></li>\\n\\t\\t\\t<li id=\"n-.D0.9F.D1.80.D0.BE.D0.B5.D0.BA.D1.82.D0.BD.D0.B0.D1.8F-.D1.80.D0.B0.D0.B1.D0.BE.D1.82.D0.B0\"><a href=\"http://wiki.cs.hse.ru/\\xd0\\x9f\\xd1\\x80\\xd0\\xbe\\xd0\\xb5\\xd0\\xba\\xd1\\x82\\xd0\\xbd\\xd0\\xb0\\xd1\\x8f_\\xd1\\x80\\xd0\\xb0\\xd0\\xb1\\xd0\\xbe\\xd1\\x82\\xd0\\xb0\" rel=\"nofollow\">\\xd0\\x9f\\xd1\\x80\\xd0\\xbe\\xd0\\xb5\\xd0\\xba\\xd1\\x82\\xd0\\xbd\\xd0\\xb0\\xd1\\x8f \\xd1\\x80\\xd0\\xb0\\xd0\\xb1\\xd0\\xbe\\xd1\\x82\\xd0\\xb0</a></li>\\n\\t\\t\\t<li id=\"n-.D0.9B.D0.B5.D1.82.D0.BD.D1.8F.D1.8F-.D0.BF.D1.80.D0.B0.D0.BA.D1.82.D0.B8.D0.BA.D0.B0\"><a href=\"http://wiki.cs.hse.ru/\\xd0\\x9a\\xd0\\xb0\\xd1\\x82\\xd0\\xb5\\xd0\\xb3\\xd0\\xbe\\xd1\\x80\\xd0\\xb8\\xd1\\x8f:\\xd0\\x9b\\xd0\\xb5\\xd1\\x82\\xd0\\xbd\\xd1\\x8f\\xd1\\x8f_\\xd0\\xbf\\xd1\\x80\\xd0\\xb0\\xd0\\xba\\xd1\\x82\\xd0\\xb8\\xd0\\xba\\xd0\\xb0\" rel=\"nofollow\">\\xd0\\x9b\\xd0\\xb5\\xd1\\x82\\xd0\\xbd\\xd1\\x8f\\xd1\\x8f \\xd0\\xbf\\xd1\\x80\\xd0\\xb0\\xd0\\xba\\xd1\\x82\\xd0\\xb8\\xd0\\xba\\xd0\\xb0</a></li>\\n\\t\\t</ul>\\n\\t</div>\\n</div>\\n<div class=\"portal\" role=\"navigation\" id=\\'p-tb\\' aria-labelledby=\\'p-tb-label\\'>\\n\\t<h3 id=\\'p-tb-label\\'>\\xd0\\x98\\xd0\\xbd\\xd1\\x81\\xd1\\x82\\xd1\\x80\\xd1\\x83\\xd0\\xbc\\xd0\\xb5\\xd0\\xbd\\xd1\\x82\\xd1\\x8b</h3>\\n\\t<div class=\"body\">\\n\\t\\t<ul>\\n\\t\\t\\t<li id=\"t-whatlinkshere\"><a href=\"/%D0%A1%D0%BB%D1%83%D0%B6%D0%B5%D0%B1%D0%BD%D0%B0%D1%8F:%D0%A1%D1%81%D1%8B%D0%BB%D0%BA%D0%B8_%D1%81%D1%8E%D0%B4%D0%B0/%D0%98%D0%B7%D0%B2%D0%BB%D0%B5%D1%87%D0%B5%D0%BD%D0%B8%D0%B5_%D0%B8_%D0%B0%D0%BD%D0%B0%D0%BB%D0%B8%D0%B7_%D0%B8%D0%BD%D1%82%D0%B5%D1%80%D0%BD%D0%B5%D1%82-%D0%B4%D0%B0%D0%BD%D0%BD%D1%8B%D1%85\" title=\"\\xd0\\xa1\\xd0\\xbf\\xd0\\xb8\\xd1\\x81\\xd0\\xbe\\xd0\\xba \\xd0\\xb2\\xd1\\x81\\xd0\\xb5\\xd1\\x85 \\xd1\\x81\\xd1\\x82\\xd1\\x80\\xd0\\xb0\\xd0\\xbd\\xd0\\xb8\\xd1\\x86, \\xd1\\x81\\xd1\\x81\\xd1\\x8b\\xd0\\xbb\\xd0\\xb0\\xd1\\x8e\\xd1\\x89\\xd0\\xb8\\xd1\\x85\\xd1\\x81\\xd1\\x8f \\xd0\\xbd\\xd0\\xb0 \\xd0\\xb4\\xd0\\xb0\\xd0\\xbd\\xd0\\xbd\\xd1\\x83\\xd1\\x8e [j]\" accesskey=\"j\">\\xd0\\xa1\\xd1\\x81\\xd1\\x8b\\xd0\\xbb\\xd0\\xba\\xd0\\xb8 \\xd1\\x81\\xd1\\x8e\\xd0\\xb4\\xd0\\xb0</a></li>\\n\\t\\t\\t<li id=\"t-recentchangeslinked\"><a href=\"/%D0%A1%D0%BB%D1%83%D0%B6%D0%B5%D0%B1%D0%BD%D0%B0%D1%8F:%D0%A1%D0%B2%D1%8F%D0%B7%D0%B0%D0%BD%D0%BD%D1%8B%D0%B5_%D0%BF%D1%80%D0%B0%D0%B2%D0%BA%D0%B8/%D0%98%D0%B7%D0%B2%D0%BB%D0%B5%D1%87%D0%B5%D0%BD%D0%B8%D0%B5_%D0%B8_%D0%B0%D0%BD%D0%B0%D0%BB%D0%B8%D0%B7_%D0%B8%D0%BD%D1%82%D0%B5%D1%80%D0%BD%D0%B5%D1%82-%D0%B4%D0%B0%D0%BD%D0%BD%D1%8B%D1%85\" title=\"\\xd0\\x9f\\xd0\\xbe\\xd1\\x81\\xd0\\xbb\\xd0\\xb5\\xd0\\xb4\\xd0\\xbd\\xd0\\xb8\\xd0\\xb5 \\xd0\\xb8\\xd0\\xb7\\xd0\\xbc\\xd0\\xb5\\xd0\\xbd\\xd0\\xb5\\xd0\\xbd\\xd0\\xb8\\xd1\\x8f \\xd0\\xb2 \\xd1\\x81\\xd1\\x82\\xd1\\x80\\xd0\\xb0\\xd0\\xbd\\xd0\\xb8\\xd1\\x86\\xd0\\xb0\\xd1\\x85, \\xd0\\xbd\\xd0\\xb0 \\xd0\\xba\\xd0\\xbe\\xd1\\x82\\xd0\\xbe\\xd1\\x80\\xd1\\x8b\\xd0\\xb5 \\xd1\\x81\\xd1\\x81\\xd1\\x8b\\xd0\\xbb\\xd0\\xb0\\xd0\\xb5\\xd1\\x82\\xd1\\x81\\xd1\\x8f \\xd1\\x8d\\xd1\\x82\\xd0\\xb0 \\xd1\\x81\\xd1\\x82\\xd1\\x80\\xd0\\xb0\\xd0\\xbd\\xd0\\xb8\\xd1\\x86\\xd0\\xb0 [k]\" accesskey=\"k\">\\xd0\\xa1\\xd0\\xb2\\xd1\\x8f\\xd0\\xb7\\xd0\\xb0\\xd0\\xbd\\xd0\\xbd\\xd1\\x8b\\xd0\\xb5 \\xd0\\xbf\\xd1\\x80\\xd0\\xb0\\xd0\\xb2\\xd0\\xba\\xd0\\xb8</a></li>\\n\\t\\t\\t<li id=\"t-specialpages\"><a href=\"/%D0%A1%D0%BB%D1%83%D0%B6%D0%B5%D0%B1%D0%BD%D0%B0%D1%8F:%D0%A1%D0%BF%D0%B5%D1%86%D1%81%D1%82%D1%80%D0%B0%D0%BD%D0%B8%D1%86%D1%8B\" title=\"\\xd0\\xa1\\xd0\\xbf\\xd0\\xb8\\xd1\\x81\\xd0\\xbe\\xd0\\xba \\xd1\\x81\\xd0\\xbb\\xd1\\x83\\xd0\\xb6\\xd0\\xb5\\xd0\\xb1\\xd0\\xbd\\xd1\\x8b\\xd1\\x85 \\xd1\\x81\\xd1\\x82\\xd1\\x80\\xd0\\xb0\\xd0\\xbd\\xd0\\xb8\\xd1\\x86 [q]\" accesskey=\"q\">\\xd0\\xa1\\xd0\\xbf\\xd0\\xb5\\xd1\\x86\\xd1\\x81\\xd1\\x82\\xd1\\x80\\xd0\\xb0\\xd0\\xbd\\xd0\\xb8\\xd1\\x86\\xd1\\x8b</a></li>\\n\\t\\t\\t<li id=\"t-print\"><a href=\"/index.php?title=%D0%98%D0%B7%D0%B2%D0%BB%D0%B5%D1%87%D0%B5%D0%BD%D0%B8%D0%B5_%D0%B8_%D0%B0%D0%BD%D0%B0%D0%BB%D0%B8%D0%B7_%D0%B8%D0%BD%D1%82%D0%B5%D1%80%D0%BD%D0%B5%D1%82-%D0%B4%D0%B0%D0%BD%D0%BD%D1%8B%D1%85&amp;printable=yes\" rel=\"alternate\" title=\"\\xd0\\x92\\xd0\\xb5\\xd1\\x80\\xd1\\x81\\xd0\\xb8\\xd1\\x8f \\xd1\\x8d\\xd1\\x82\\xd0\\xbe\\xd0\\xb9 \\xd1\\x81\\xd1\\x82\\xd1\\x80\\xd0\\xb0\\xd0\\xbd\\xd0\\xb8\\xd1\\x86\\xd1\\x8b \\xd0\\xb4\\xd0\\xbb\\xd1\\x8f \\xd0\\xbf\\xd0\\xb5\\xd1\\x87\\xd0\\xb0\\xd1\\x82\\xd0\\xb8 [p]\" accesskey=\"p\">\\xd0\\x92\\xd0\\xb5\\xd1\\x80\\xd1\\x81\\xd0\\xb8\\xd1\\x8f \\xd0\\xb4\\xd0\\xbb\\xd1\\x8f \\xd0\\xbf\\xd0\\xb5\\xd1\\x87\\xd0\\xb0\\xd1\\x82\\xd0\\xb8</a></li>\\n\\t\\t\\t<li id=\"t-permalink\"><a href=\"/index.php?title=%D0%98%D0%B7%D0%B2%D0%BB%D0%B5%D1%87%D0%B5%D0%BD%D0%B8%D0%B5_%D0%B8_%D0%B0%D0%BD%D0%B0%D0%BB%D0%B8%D0%B7_%D0%B8%D0%BD%D1%82%D0%B5%D1%80%D0%BD%D0%B5%D1%82-%D0%B4%D0%B0%D0%BD%D0%BD%D1%8B%D1%85&amp;oldid=24315\" title=\"\\xd0\\x9f\\xd0\\xbe\\xd1\\x81\\xd1\\x82\\xd0\\xbe\\xd1\\x8f\\xd0\\xbd\\xd0\\xbd\\xd0\\xb0\\xd1\\x8f \\xd1\\x81\\xd1\\x81\\xd1\\x8b\\xd0\\xbb\\xd0\\xba\\xd0\\xb0 \\xd0\\xbd\\xd0\\xb0 \\xd1\\x8d\\xd1\\x82\\xd1\\x83 \\xd0\\xb2\\xd0\\xb5\\xd1\\x80\\xd1\\x81\\xd0\\xb8\\xd1\\x8e \\xd1\\x81\\xd1\\x82\\xd1\\x80\\xd0\\xb0\\xd0\\xbd\\xd0\\xb8\\xd1\\x86\\xd1\\x8b\">\\xd0\\x9f\\xd0\\xbe\\xd1\\x81\\xd1\\x82\\xd0\\xbe\\xd1\\x8f\\xd0\\xbd\\xd0\\xbd\\xd0\\xb0\\xd1\\x8f \\xd1\\x81\\xd1\\x81\\xd1\\x8b\\xd0\\xbb\\xd0\\xba\\xd0\\xb0</a></li>\\n\\t\\t\\t<li id=\"t-info\"><a href=\"/index.php?title=%D0%98%D0%B7%D0%B2%D0%BB%D0%B5%D1%87%D0%B5%D0%BD%D0%B8%D0%B5_%D0%B8_%D0%B0%D0%BD%D0%B0%D0%BB%D0%B8%D0%B7_%D0%B8%D0%BD%D1%82%D0%B5%D1%80%D0%BD%D0%B5%D1%82-%D0%B4%D0%B0%D0%BD%D0%BD%D1%8B%D1%85&amp;action=info\">\\xd0\\xa1\\xd0\\xb2\\xd0\\xb5\\xd0\\xb4\\xd0\\xb5\\xd0\\xbd\\xd0\\xb8\\xd1\\x8f \\xd0\\xbe \\xd1\\x81\\xd1\\x82\\xd1\\x80\\xd0\\xb0\\xd0\\xbd\\xd0\\xb8\\xd1\\x86\\xd0\\xb5</a></li>\\n\\t\\t</ul>\\n\\t</div>\\n</div>\\n\\t\\t\\t</div>\\n\\t\\t</div>\\n\\t\\t<div id=\"footer\" role=\"contentinfo\">\\n\\t\\t\\t\\t\\t\\t\\t<ul id=\"footer-info\">\\n\\t\\t\\t\\t\\t\\t\\t\\t\\t\\t\\t<li id=\"footer-info-lastmod\"> \\xd0\\x9f\\xd0\\xbe\\xd1\\x81\\xd0\\xbb\\xd0\\xb5\\xd0\\xb4\\xd0\\xbd\\xd0\\xb5\\xd0\\xb5 \\xd0\\xb8\\xd0\\xb7\\xd0\\xbc\\xd0\\xb5\\xd0\\xbd\\xd0\\xb5\\xd0\\xbd\\xd0\\xb8\\xd0\\xb5 \\xd1\\x8d\\xd1\\x82\\xd0\\xbe\\xd0\\xb9 \\xd1\\x81\\xd1\\x82\\xd1\\x80\\xd0\\xb0\\xd0\\xbd\\xd0\\xb8\\xd1\\x86\\xd1\\x8b: 20:40, 19 \\xd1\\x81\\xd0\\xb5\\xd0\\xbd\\xd1\\x82\\xd1\\x8f\\xd0\\xb1\\xd1\\x80\\xd1\\x8f 2017.</li>\\n\\t\\t\\t\\t\\t\\t\\t\\t\\t\\t\\t<li id=\"footer-info-viewcount\">\\xd0\\x9a \\xd1\\x8d\\xd1\\x82\\xd0\\xbe\\xd0\\xb9 \\xd1\\x81\\xd1\\x82\\xd1\\x80\\xd0\\xb0\\xd0\\xbd\\xd0\\xb8\\xd1\\x86\\xd0\\xb5 \\xd0\\xbe\\xd0\\xb1\\xd1\\x80\\xd0\\xb0\\xd1\\x89\\xd0\\xb0\\xd0\\xbb\\xd0\\xb8\\xd1\\x81\\xd1\\x8c 327 \\xd1\\x80\\xd0\\xb0\\xd0\\xb7.</li>\\n\\t\\t\\t\\t\\t\\t\\t\\t\\t\\t\\t<li id=\"footer-info-copyright\">\\xd0\\xa1\\xd0\\xbe\\xd0\\xb4\\xd0\\xb5\\xd1\\x80\\xd0\\xb6\\xd0\\xb8\\xd0\\xbc\\xd0\\xbe\\xd0\\xb5 \\xd0\\xb4\\xd0\\xbe\\xd1\\x81\\xd1\\x82\\xd1\\x83\\xd0\\xbf\\xd0\\xbd\\xd0\\xbe \\xd0\\xbf\\xd0\\xbe \\xd0\\xbb\\xd0\\xb8\\xd1\\x86\\xd0\\xb5\\xd0\\xbd\\xd0\\xb7\\xd0\\xb8\\xd0\\xb8 <a href=\"/Wiki_-_%D0%A4%D0%B0%D0%BA%D1%83%D0%BB%D1%8C%D1%82%D0%B5%D1%82_%D0%BA%D0%BE%D0%BC%D0%BF%D1%8C%D1%8E%D1%82%D0%B5%D1%80%D0%BD%D1%8B%D1%85_%D0%BD%D0%B0%D1%83%D0%BA:%D0%9E%D0%BF%D0%B8%D1%81%D0%B0%D0%BD%D0%B8%D0%B5\" title=\"Wiki - \\xd0\\xa4\\xd0\\xb0\\xd0\\xba\\xd1\\x83\\xd0\\xbb\\xd1\\x8c\\xd1\\x82\\xd0\\xb5\\xd1\\x82 \\xd0\\xba\\xd0\\xbe\\xd0\\xbc\\xd0\\xbf\\xd1\\x8c\\xd1\\x8e\\xd1\\x82\\xd0\\xb5\\xd1\\x80\\xd0\\xbd\\xd1\\x8b\\xd1\\x85 \\xd0\\xbd\\xd0\\xb0\\xd1\\x83\\xd0\\xba:\\xd0\\x9e\\xd0\\xbf\\xd0\\xb8\\xd1\\x81\\xd0\\xb0\\xd0\\xbd\\xd0\\xb8\\xd0\\xb5\">Wiki - \\xd0\\xa4\\xd0\\xb0\\xd0\\xba\\xd1\\x83\\xd0\\xbb\\xd1\\x8c\\xd1\\x82\\xd0\\xb5\\xd1\\x82 \\xd0\\xba\\xd0\\xbe\\xd0\\xbc\\xd0\\xbf\\xd1\\x8c\\xd1\\x8e\\xd1\\x82\\xd0\\xb5\\xd1\\x80\\xd0\\xbd\\xd1\\x8b\\xd1\\x85 \\xd0\\xbd\\xd0\\xb0\\xd1\\x83\\xd0\\xba:\\xd0\\x9e\\xd0\\xbf\\xd0\\xb8\\xd1\\x81\\xd0\\xb0\\xd0\\xbd\\xd0\\xb8\\xd0\\xb5</a> (\\xd0\\xb5\\xd1\\x81\\xd0\\xbb\\xd0\\xb8 \\xd0\\xbd\\xd0\\xb5 \\xd1\\x83\\xd0\\xba\\xd0\\xb0\\xd0\\xb7\\xd0\\xb0\\xd0\\xbd\\xd0\\xbe \\xd0\\xb8\\xd0\\xbd\\xd0\\xbe\\xd0\\xb5).</li>\\n\\t\\t\\t\\t\\t\\t\\t\\t\\t</ul>\\n\\t\\t\\t\\t\\t\\t\\t<ul id=\"footer-places\">\\n\\t\\t\\t\\t\\t\\t\\t\\t\\t\\t\\t<li id=\"footer-places-privacy\"><a href=\"/Wiki_-_%D0%A4%D0%B0%D0%BA%D1%83%D0%BB%D1%8C%D1%82%D0%B5%D1%82_%D0%BA%D0%BE%D0%BC%D0%BF%D1%8C%D1%8E%D1%82%D0%B5%D1%80%D0%BD%D1%8B%D1%85_%D0%BD%D0%B0%D1%83%D0%BA:%D0%9F%D0%BE%D0%BB%D0%B8%D1%82%D0%B8%D0%BA%D0%B0_%D0%BA%D0%BE%D0%BD%D1%84%D0%B8%D0%B4%D0%B5%D0%BD%D1%86%D0%B8%D0%B0%D0%BB%D1%8C%D0%BD%D0%BE%D1%81%D1%82%D0%B8\" title=\"Wiki - \\xd0\\xa4\\xd0\\xb0\\xd0\\xba\\xd1\\x83\\xd0\\xbb\\xd1\\x8c\\xd1\\x82\\xd0\\xb5\\xd1\\x82 \\xd0\\xba\\xd0\\xbe\\xd0\\xbc\\xd0\\xbf\\xd1\\x8c\\xd1\\x8e\\xd1\\x82\\xd0\\xb5\\xd1\\x80\\xd0\\xbd\\xd1\\x8b\\xd1\\x85 \\xd0\\xbd\\xd0\\xb0\\xd1\\x83\\xd0\\xba:\\xd0\\x9f\\xd0\\xbe\\xd0\\xbb\\xd0\\xb8\\xd1\\x82\\xd0\\xb8\\xd0\\xba\\xd0\\xb0 \\xd0\\xba\\xd0\\xbe\\xd0\\xbd\\xd1\\x84\\xd0\\xb8\\xd0\\xb4\\xd0\\xb5\\xd0\\xbd\\xd1\\x86\\xd0\\xb8\\xd0\\xb0\\xd0\\xbb\\xd1\\x8c\\xd0\\xbd\\xd0\\xbe\\xd1\\x81\\xd1\\x82\\xd0\\xb8\">\\xd0\\x9f\\xd0\\xbe\\xd0\\xbb\\xd0\\xb8\\xd1\\x82\\xd0\\xb8\\xd0\\xba\\xd0\\xb0 \\xd0\\xba\\xd0\\xbe\\xd0\\xbd\\xd1\\x84\\xd0\\xb8\\xd0\\xb4\\xd0\\xb5\\xd0\\xbd\\xd1\\x86\\xd0\\xb8\\xd0\\xb0\\xd0\\xbb\\xd1\\x8c\\xd0\\xbd\\xd0\\xbe\\xd1\\x81\\xd1\\x82\\xd0\\xb8</a></li>\\n\\t\\t\\t\\t\\t\\t\\t\\t\\t\\t\\t<li id=\"footer-places-about\"><a href=\"/Wiki_-_%D0%A4%D0%B0%D0%BA%D1%83%D0%BB%D1%8C%D1%82%D0%B5%D1%82_%D0%BA%D0%BE%D0%BC%D0%BF%D1%8C%D1%8E%D1%82%D0%B5%D1%80%D0%BD%D1%8B%D1%85_%D0%BD%D0%B0%D1%83%D0%BA:%D0%9E%D0%BF%D0%B8%D1%81%D0%B0%D0%BD%D0%B8%D0%B5\" title=\"Wiki - \\xd0\\xa4\\xd0\\xb0\\xd0\\xba\\xd1\\x83\\xd0\\xbb\\xd1\\x8c\\xd1\\x82\\xd0\\xb5\\xd1\\x82 \\xd0\\xba\\xd0\\xbe\\xd0\\xbc\\xd0\\xbf\\xd1\\x8c\\xd1\\x8e\\xd1\\x82\\xd0\\xb5\\xd1\\x80\\xd0\\xbd\\xd1\\x8b\\xd1\\x85 \\xd0\\xbd\\xd0\\xb0\\xd1\\x83\\xd0\\xba:\\xd0\\x9e\\xd0\\xbf\\xd0\\xb8\\xd1\\x81\\xd0\\xb0\\xd0\\xbd\\xd0\\xb8\\xd0\\xb5\">\\xd0\\x9e\\xd0\\xbf\\xd0\\xb8\\xd1\\x81\\xd0\\xb0\\xd0\\xbd\\xd0\\xb8\\xd0\\xb5 Wiki - \\xd0\\xa4\\xd0\\xb0\\xd0\\xba\\xd1\\x83\\xd0\\xbb\\xd1\\x8c\\xd1\\x82\\xd0\\xb5\\xd1\\x82 \\xd0\\xba\\xd0\\xbe\\xd0\\xbc\\xd0\\xbf\\xd1\\x8c\\xd1\\x8e\\xd1\\x82\\xd0\\xb5\\xd1\\x80\\xd0\\xbd\\xd1\\x8b\\xd1\\x85 \\xd0\\xbd\\xd0\\xb0\\xd1\\x83\\xd0\\xba</a></li>\\n\\t\\t\\t\\t\\t\\t\\t\\t\\t\\t\\t<li id=\"footer-places-disclaimer\"><a href=\"/Wiki_-_%D0%A4%D0%B0%D0%BA%D1%83%D0%BB%D1%8C%D1%82%D0%B5%D1%82_%D0%BA%D0%BE%D0%BC%D0%BF%D1%8C%D1%8E%D1%82%D0%B5%D1%80%D0%BD%D1%8B%D1%85_%D0%BD%D0%B0%D1%83%D0%BA:%D0%9E%D1%82%D0%BA%D0%B0%D0%B7_%D0%BE%D1%82_%D0%BE%D1%82%D0%B2%D0%B5%D1%82%D1%81%D1%82%D0%B2%D0%B5%D0%BD%D0%BD%D0%BE%D1%81%D1%82%D0%B8\" title=\"Wiki - \\xd0\\xa4\\xd0\\xb0\\xd0\\xba\\xd1\\x83\\xd0\\xbb\\xd1\\x8c\\xd1\\x82\\xd0\\xb5\\xd1\\x82 \\xd0\\xba\\xd0\\xbe\\xd0\\xbc\\xd0\\xbf\\xd1\\x8c\\xd1\\x8e\\xd1\\x82\\xd0\\xb5\\xd1\\x80\\xd0\\xbd\\xd1\\x8b\\xd1\\x85 \\xd0\\xbd\\xd0\\xb0\\xd1\\x83\\xd0\\xba:\\xd0\\x9e\\xd1\\x82\\xd0\\xba\\xd0\\xb0\\xd0\\xb7 \\xd0\\xbe\\xd1\\x82 \\xd0\\xbe\\xd1\\x82\\xd0\\xb2\\xd0\\xb5\\xd1\\x82\\xd1\\x81\\xd1\\x82\\xd0\\xb2\\xd0\\xb5\\xd0\\xbd\\xd0\\xbd\\xd0\\xbe\\xd1\\x81\\xd1\\x82\\xd0\\xb8\">\\xd0\\x9e\\xd1\\x82\\xd0\\xba\\xd0\\xb0\\xd0\\xb7 \\xd0\\xbe\\xd1\\x82 \\xd0\\xbe\\xd1\\x82\\xd0\\xb2\\xd0\\xb5\\xd1\\x82\\xd1\\x81\\xd1\\x82\\xd0\\xb2\\xd0\\xb5\\xd0\\xbd\\xd0\\xbd\\xd0\\xbe\\xd1\\x81\\xd1\\x82\\xd0\\xb8</a></li>\\n\\t\\t\\t\\t\\t\\t\\t\\t\\t</ul>\\n\\t\\t\\t\\t\\t\\t\\t\\t\\t\\t<ul id=\"footer-icons\" class=\"noprint\">\\n\\t\\t\\t\\t\\t<li id=\"footer-poweredbyico\">\\n\\t\\t\\t\\t\\t\\t<a href=\"//www.mediawiki.org/\"><img src=\"/skins/common/images/poweredby_mediawiki_88x31.png\" alt=\"Powered by MediaWiki\" width=\"88\" height=\"31\" /></a>\\n\\t\\t\\t\\t\\t</li>\\n\\t\\t\\t\\t</ul>\\n\\t\\t\\t\\t\\t\\t<div style=\"clear:both\"></div>\\n\\t\\t</div>\\n\\t\\t<script>/*<![CDATA[*/window.jQuery && jQuery.ready();/*]]>*/</script><script>if(window.mw){\\nmw.loader.state({\"site\":\"loading\",\"user\":\"ready\",\"user.groups\":\"ready\"});\\n}</script>\\n<script>if(window.mw){\\nmw.loader.load([\"mediawiki.action.view.postEdit\",\"mediawiki.user\",\"mediawiki.hidpi\",\"mediawiki.page.ready\",\"mediawiki.searchSuggest\",\"skins.vector.collapsibleNav\"],null,true);\\n}</script>\\n<script src=\"http://wiki.cs.hse.ru/load.php?debug=false&amp;lang=ru&amp;modules=site&amp;only=scripts&amp;skin=vector&amp;*\"></script>\\n<script>if(window.mw){\\nmw.config.set({\"wgBackendResponseTime\":62});\\n}</script>\\n\\t</body>\\n</html>\\n'"
      ]
     },
     "execution_count": 21,
     "metadata": {},
     "output_type": "execute_result"
    }
   ],
   "source": [
    "import requests\n",
    "response = requests.get('http://wiki.cs.hse.ru/Извлечение_и_анализ_интернет-данных')\n",
    "response.content"
   ]
  },
  {
   "cell_type": "code",
   "execution_count": 25,
   "metadata": {
    "ExecuteTime": {
     "end_time": "2017-11-10T17:42:45.420476Z",
     "start_time": "2017-11-10T17:42:45.415584Z"
    }
   },
   "outputs": [
    {
     "data": {
      "text/plain": [
       "'<!DOCTYPE html>\\n<html lang=\"ru\" dir=\"ltr\" class=\"client-nojs\">\\n<head>\\n<meta charset=\"UTF-8\" />\\n<title>Извлечение и анализ интернет-данных — Wiki - Факультет компьютерных наук</title>\\n<meta http-equiv=\"X-UA-Compatible\" content=\"IE=EDGE\" />\\n<meta name=\"generator\" content=\"MediaWiki 1.23.2\" />\\n<link rel=\"shortcut icon\" href=\"/skins/favicon.ico\" />\\n<link rel=\"search\" type=\"application/opensearchdescription+xml\" href=\"/opensearch_desc.php\" title=\"Wiki - Факультет компьютерных наук (ru)\" />\\n<link rel=\"EditURI\" type=\"application/rsd+xml\" href=\"http://wiki.cs.hse.ru/api.php?action=rsd\" />\\n<link rel=\"copyright\" href=\"/Wiki_-_%D0%A4%D0%B0%D0%BA%D1%83%D0%BB%D1%8C%D1%82%D0%B5%D1%82_%D0%BA%D0%BE%D0%BC%D0%BF%D1%8C%D1%8E%D1%82%D0%B5%D1%80%D0%BD%D1%8B%D1%85_%D0%BD%D0%B0%D1%83%D0%BA:%D0%9E%D0%BF%D0%B8%D1%81%D0%B0%D0%BD%D0%B8%D0%B5\" />\\n<link rel=\"alternate\" type=\"application/atom+xml\" title=\"Wiki - Факультет компьютерных наук\\xa0— Atom-лента\" href=\"/index.php?title=%D0%A1%D0%BB%D1%83%D0%B6%D0%B5%D0%B1%D0%BD%D0%B0%D1%8F:%D0%A1%D0%B2%D0%B5%D0%B6%D0%B8%D0%B5_%D0%BF%D1%80%D0%B0%D0%B2%D0%BA%D0%B8&amp;feed=atom\" />\\n<link rel=\"stylesheet\" href=\"http://wiki.cs.hse.ru/load.php?debug=false&amp;lang=ru&amp;modules=mediawiki.legacy.commonPrint%2Cshared%7Cmediawiki.skinning.interface%7Cmediawiki.ui.button%7Cskins.vector.styles&amp;only=styles&amp;skin=vector&amp;*\" />\\n<meta name=\"ResourceLoaderDynamicStyles\" content=\"\" />\\n<link rel=\"stylesheet\" href=\"http://wiki.cs.hse.ru/load.php?debug=false&amp;lang=ru&amp;modules=site&amp;only=styles&amp;skin=vector&amp;*\" />\\n<style>a:lang(ar),a:lang(kk-arab),a:lang(mzn),a:lang(ps),a:lang(ur){text-decoration:none}\\n/* cache key: wiki_cs:resourceloader:filter:minify-css:7:58586133cd57373dc097ce6780f32e37 */</style>\\n<script src=\"http://wiki.cs.hse.ru/load.php?debug=false&amp;lang=ru&amp;modules=startup&amp;only=scripts&amp;skin=vector&amp;*\"></script>\\n<script>if(window.mw){\\nmw.config.set({\"wgCanonicalNamespace\":\"\",\"wgCanonicalSpecialPageName\":false,\"wgNamespaceNumber\":0,\"wgPageName\":\"Извлечение_и_анализ_интернет-данных\",\"wgTitle\":\"Извлечение и анализ интернет-данных\",\"wgCurRevisionId\":24315,\"wgRevisionId\":24315,\"wgArticleId\":15490,\"wgIsArticle\":true,\"wgIsRedirect\":false,\"wgAction\":\"view\",\"wgUserName\":null,\"wgUserGroups\":[\"*\"],\"wgCategories\":[],\"wgBreakFrames\":false,\"wgPageContentLanguage\":\"ru\",\"wgPageContentModel\":\"wikitext\",\"wgSeparatorTransformTable\":[\",\\\\t.\",\"\\xa0\\\\t,\"],\"wgDigitTransformTable\":[\"\",\"\"],\"wgDefaultDateFormat\":\"dmy\",\"wgMonthNames\":[\"\",\"январь\",\"февраль\",\"март\",\"апрель\",\"май\",\"июнь\",\"июль\",\"август\",\"сентябрь\",\"октябрь\",\"ноябрь\",\"декабрь\"],\"wgMonthNamesShort\":[\"\",\"янв\",\"фев\",\"мар\",\"апр\",\"май\",\"июн\",\"июл\",\"авг\",\"сен\",\"окт\",\"ноя\",\"дек\"],\"wgRelevantPageName\":\"Извлечение_и_анализ_интернет-данных\",\"wgIsProbablyEditable\":false,\"wgRestrictionEdit\":[],\"wgRestrictionMove\":[],\"wgWikiEditorEnabledModules\":{\"toolbar\":true,\"dialogs\":true,\"hidesig\":true,\"preview\":true,\"previewDialog\":false,\"publish\":true}});\\n}</script><script>if(window.mw){\\nmw.loader.implement(\"user.options\",function($,jQuery){mw.user.options.set({\"ccmeonemails\":0,\"cols\":80,\"date\":\"default\",\"diffonly\":0,\"disablemail\":0,\"editfont\":\"default\",\"editondblclick\":0,\"editsectiononrightclick\":0,\"enotifminoredits\":0,\"enotifrevealaddr\":0,\"enotifusertalkpages\":1,\"enotifwatchlistpages\":1,\"extendwatchlist\":0,\"fancysig\":0,\"forceeditsummary\":0,\"gender\":\"unknown\",\"hideminor\":0,\"hidepatrolled\":0,\"imagesize\":2,\"math\":1,\"minordefault\":0,\"newpageshidepatrolled\":0,\"nickname\":\"\",\"norollbackdiff\":0,\"numberheadings\":0,\"previewonfirst\":0,\"previewontop\":1,\"rcdays\":7,\"rclimit\":50,\"rows\":25,\"showhiddencats\":0,\"shownumberswatching\":1,\"showtoolbar\":1,\"skin\":\"vector\",\"stubthreshold\":0,\"thumbsize\":2,\"underline\":2,\"uselivepreview\":0,\"usenewrc\":0,\"watchcreations\":1,\"watchdefault\":1,\"watchdeletion\":0,\"watchlistdays\":3,\"watchlisthideanons\":0,\"watchlisthidebots\":0,\"watchlisthideliu\":0,\"watchlisthideminor\":0,\"watchlisthideown\":0,\"watchlisthidepatrolled\":0,\"watchmoves\":0,\"wllimit\":250,\\n\"useeditwarning\":1,\"prefershttps\":1,\"usebetatoolbar\":1,\"usebetatoolbar-cgd\":1,\"wikieditor-preview\":1,\"wikieditor-publish\":1,\"language\":\"ru\",\"variant-gan\":\"gan\",\"variant-iu\":\"iu\",\"variant-kk\":\"kk\",\"variant-ku\":\"ku\",\"variant-shi\":\"shi\",\"variant-sr\":\"sr\",\"variant-tg\":\"tg\",\"variant-uz\":\"uz\",\"variant-zh\":\"zh\",\"searchNs0\":true,\"searchNs1\":false,\"searchNs2\":false,\"searchNs3\":false,\"searchNs4\":false,\"searchNs5\":false,\"searchNs6\":false,\"searchNs7\":false,\"searchNs8\":false,\"searchNs9\":false,\"searchNs10\":false,\"searchNs11\":false,\"searchNs12\":false,\"searchNs13\":false,\"searchNs14\":false,\"searchNs15\":false,\"variant\":\"ru\"});},{},{});mw.loader.implement(\"user.tokens\",function($,jQuery){mw.user.tokens.set({\"editToken\":\"+\\\\\\\\\",\"patrolToken\":false,\"watchToken\":false});},{},{});\\n/* cache key: wiki_cs:resourceloader:filter:minify-js:7:b320d384680aafba3abb4bb3f6f4ff59 */\\n}</script>\\n<script>if(window.mw){\\nmw.loader.load([\"mediawiki.page.startup\",\"mediawiki.legacy.wikibits\",\"mediawiki.legacy.ajax\",\"skins.vector.js\"]);\\n}</script>\\n<!--[if lt IE 7]><style type=\"text/css\">body{behavior:url(\"/skins/vector/csshover.min.htc\")}</style><![endif]--></head>\\n<body class=\"mediawiki ltr sitedir-ltr ns-0 ns-subject page-Извлечение_и_анализ_интернет-данных skin-vector action-view vector-animateLayout\">\\n\\t\\t<div id=\"mw-page-base\" class=\"noprint\"></div>\\n\\t\\t<div id=\"mw-head-base\" class=\"noprint\"></div>\\n\\t\\t<div id=\"content\" class=\"mw-body\" role=\"main\">\\n\\t\\t\\t<a id=\"top\"></a>\\n\\t\\t\\t<div id=\"mw-js-message\" style=\"display:none;\"></div>\\n\\t\\t\\t\\t\\t\\t<h1 id=\"firstHeading\" class=\"firstHeading\" lang=\"ru\"><span dir=\"auto\">Извлечение и анализ интернет-данных</span></h1>\\n\\t\\t\\t\\t\\t\\t<div id=\"bodyContent\">\\n\\t\\t\\t\\t\\t\\t\\t\\t<div id=\"siteSub\">Материал из Wiki - Факультет компьютерных наук</div>\\n\\t\\t\\t\\t\\t\\t\\t\\t<div id=\"contentSub\"></div>\\n\\t\\t\\t\\t\\t\\t\\t\\t\\t\\t\\t\\t<div id=\"jump-to-nav\" class=\"mw-jump\">\\n\\t\\t\\t\\t\\tПерейти к:\\t\\t\\t\\t\\t<a href=\"#mw-navigation\">навигация</a>, \\t\\t\\t\\t\\t<a href=\"#p-search\">поиск</a>\\n\\t\\t\\t\\t</div>\\n\\t\\t\\t\\t<div id=\"mw-content-text\" lang=\"ru\" dir=\"ltr\" class=\"mw-content-ltr\"><div id=\"toc\" class=\"toc\"><div id=\"toctitle\"><h2>Содержание</h2></div>\\n<ul>\\n<li class=\"toclevel-1 tocsection-1\"><a href=\"#.D0.9E_.D0.BA.D1.83.D1.80.D1.81.D0.B5\"><span class=\"tocnumber\">1</span> <span class=\"toctext\">О курсе</span></a>\\n<ul>\\n<li class=\"toclevel-2 tocsection-2\"><a href=\"#.D0.9F.D0.BE.D0.BB.D0.B5.D0.B7.D0.BD.D1.8B.D0.B5_.D1.81.D1.81.D1.8B.D0.BB.D0.BA.D0.B8\"><span class=\"tocnumber\">1.1</span> <span class=\"toctext\">Полезные ссылки</span></a></li>\\n<li class=\"toclevel-2 tocsection-3\"><a href=\"#.D0.9F.D1.80.D0.B0.D0.B2.D0.B8.D0.BB.D0.B0_.D0.B2.D1.8B.D1.81.D1.82.D0.B0.D0.B2.D0.BB.D0.B5.D0.BD.D0.B8.D1.8F_.D0.BE.D1.86.D0.B5.D0.BD.D0.BE.D0.BA\"><span class=\"tocnumber\">1.2</span> <span class=\"toctext\">Правила выставления оценок</span></a></li>\\n<li class=\"toclevel-2 tocsection-4\"><a href=\"#.D0.9F.D1.80.D0.B0.D0.B2.D0.B8.D0.BB.D0.B0_.D1.81.D0.B4.D0.B0.D1.87.D0.B8_.D0.B7.D0.B0.D0.B4.D0.B0.D0.BD.D0.B8.D0.B9\"><span class=\"tocnumber\">1.3</span> <span class=\"toctext\">Правила сдачи заданий</span></a></li>\\n</ul>\\n</li>\\n<li class=\"toclevel-1 tocsection-5\"><a href=\"#.D0.A1.D0.B5.D0.BC.D0.B8.D0.BD.D0.B0.D1.80.D1.8B\"><span class=\"tocnumber\">2</span> <span class=\"toctext\">Семинары</span></a></li>\\n<li class=\"toclevel-1 tocsection-6\"><a href=\"#.D0.9F.D1.80.D0.B0.D0.BA.D1.82.D0.B8.D1.87.D0.B5.D1.81.D0.BA.D0.B8.D0.B5_.D0.B7.D0.B0.D0.B4.D0.B0.D0.BD.D0.B8.D1.8F\"><span class=\"tocnumber\">3</span> <span class=\"toctext\">Практические задания</span></a></li>\\n<li class=\"toclevel-1 tocsection-7\"><a href=\"#.D0.9F.D0.BE.D0.BB.D0.B5.D0.B7.D0.BD.D1.8B.D0.B5_.D0.BC.D0.B0.D1.82.D0.B5.D1.80.D0.B8.D0.B0.D0.BB.D1.8B\"><span class=\"tocnumber\">4</span> <span class=\"toctext\">Полезные материалы</span></a></li>\\n</ul>\\n</div>\\n\\n<h2><span class=\"mw-headline\" id=\".D0.9E_.D0.BA.D1.83.D1.80.D1.81.D0.B5\">О курсе</span></h2>\\n<p>Курс читается для студентов факультета экономических наук, ОП \"Экономика и статистика\"\\n</p><p>Проводится с 2017 года.\\n</p><p><br />\\nСеминаристы:\\n</p><p>Денике Екатерина Игоревна\\n</p><p>Слинько Игорь Юрьевич\\n</p><p>Семинары проходят по субботам, с 10:30 до 15:00 (16:30) с двумя перерывами.\\n</p><p><br />\\n</p>\\n<h3><span class=\"mw-headline\" id=\".D0.9F.D0.BE.D0.BB.D0.B5.D0.B7.D0.BD.D1.8B.D0.B5_.D1.81.D1.81.D1.8B.D0.BB.D0.BA.D0.B8\">Полезные ссылки</span></h3>\\n<p>Тест для моральной подготовки: <a rel=\"nofollow\" class=\"external free\" href=\"https://goo.gl/forms/QuRhepssXRjl71yG3\">https://goo.gl/forms/QuRhepssXRjl71yG3</a>\\n</p><p>Почта для сдачи домашних заданий: hsewebmining@gmail.com\\n</p><p>Чат в telegram для обсуждений: <a rel=\"nofollow\" class=\"external free\" href=\"https://t.me/joinchat/BgyOMg6PNBYFpmHUtbZDTg\">https://t.me/joinchat/BgyOMg6PNBYFpmHUtbZDTg</a>\\n</p>\\n<h3><span class=\"mw-headline\" id=\".D0.9F.D1.80.D0.B0.D0.B2.D0.B8.D0.BB.D0.B0_.D0.B2.D1.8B.D1.81.D1.82.D0.B0.D0.B2.D0.BB.D0.B5.D0.BD.D0.B8.D1.8F_.D0.BE.D1.86.D0.B5.D0.BD.D0.BE.D0.BA\">Правила выставления оценок</span></h3>\\n<p>Итоговая оценка вычисляется на основе оценки за работу в семестре и оценки за экзамен:\\n</p><p>О_итог = 0,6 * О_накопл.+ 0,4 * О_экзамен\\n</p><p>Накопленная оценка (О_накопл) рассчитывается как среднее значение оценок за все выданные домашние задания. Бонусные баллы могут быть выданы в ходе семинара.\\n</p>\\n<h3><span class=\"mw-headline\" id=\".D0.9F.D1.80.D0.B0.D0.B2.D0.B8.D0.BB.D0.B0_.D1.81.D0.B4.D0.B0.D1.87.D0.B8_.D0.B7.D0.B0.D0.B4.D0.B0.D0.BD.D0.B8.D0.B9\">Правила сдачи заданий</span></h3>\\n<p>Дедлайны по всем домашним заданиям являются жёсткими, то есть после срока работа не принимаются.\\n</p><p>При обнаружении плагиата оценки за домашнее задание обнуляются всем задействованным в списывании студентам, а также подаётся докладная записка в деканат. Следует помнить, что при повторном списывании деканат имеет право отчислить студента.\\n</p><p>При наличии уважительной причины пропущенную проверочную можно написать позднее, а дедлайн по домашнему заданию может быть перенесён. Дедлайн по домашнему заданию переносится на количество дней, равное продолжительности уважительной причины. Решение о том, является ли причина уважительной, принимает исключительно учебный офис.\\n</p>\\n<h2><span class=\"mw-headline\" id=\".D0.A1.D0.B5.D0.BC.D0.B8.D0.BD.D0.B0.D1.80.D1.8B\">Семинары</span></h2>\\n<p><b>Тема 1</b>. Основы анализа данных в языке Python:\\n</p><p>Повторение основных функций и объектов языка Python. Обзор библиотек numpy, pandas на основе данных из соревнований платформы kaggle.com. \\n</p><p><b>Тема 2</b>. Визуализация данных в python: библиотеки matplotlib, seaborn, plotly. Продвинутые инструменты для анализа данных. \\nВведение в визуальный анализ данных. Построение графиков, гистограмм, тепловых карт. Знакомство с порталом Открытых данных. \\n</p><p><b>Тема 3</b>. Парсинг открытых данных в различных форматах (xml/json/html)\\n</p><p>Изучение языков и библиотек для работы с xml/json/html: lxml, XPath, XSLT, Beautiful Soup. \\n</p><p><b>Тема 4</b>. Основы машинного обучения и практика применения\\n</p><p>Приведение текстовых данных к числовым с помощью OneHot- и TF-IDF кодирования, а также на основе представлений слов и текстов. Алгоритмы машинного обучения: линейная и логистическая регрессии, градиентный бустинг и нейронные сети.\\n</p><p><b>Тема 5</b>. Извлечение данных сайта Вконтакте и изучение влияния социальных сетей на поведение в реальной жизни.\\n</p><p>Изучаем возможности API сайта Вконтакте. Извлекаем информацию об интересах и демографии пользователей, на основании списка групп и поля “интересы”. Изучаем взаимосвязь интересов школьников с оценками.\\n</p><p><b>Тема 6</b>. Извлечение и анализ данных Московской биржи\\n</p><p>Анализируем рынок ценных бумаг на данных Московской биржи.\\n</p>\\n<h2><span class=\"mw-headline\" id=\".D0.9F.D1.80.D0.B0.D0.BA.D1.82.D0.B8.D1.87.D0.B5.D1.81.D0.BA.D0.B8.D0.B5_.D0.B7.D0.B0.D0.B4.D0.B0.D0.BD.D0.B8.D1.8F\">Практические задания</span></h2>\\n<h2><span class=\"mw-headline\" id=\".D0.9F.D0.BE.D0.BB.D0.B5.D0.B7.D0.BD.D1.8B.D0.B5_.D0.BC.D0.B0.D1.82.D0.B5.D1.80.D0.B8.D0.B0.D0.BB.D1.8B\">Полезные материалы</span></h2>\\n<pre>- <a rel=\"nofollow\" class=\"external text\" href=\"http://www.swaroopch.com/notes/python/\">A Byte of Python</a>\\n- <a rel=\"nofollow\" class=\"external text\" href=\"http://greenteapress.com/thinkpython/html/index.html\">Think Python: How to Think Like a Computer Scientist</a>\\n- <a rel=\"nofollow\" class=\"external text\" href=\"https://docs.python.org/3/\">Документация языка</a>\\n- <a rel=\"nofollow\" class=\"external text\" href=\"https://speakerdeck.com/pyconslides/transforming-code-into-beautiful-idiomatic-python-by-raymond-hettinger-1\">Writing Idiomatic Python</a>\\n- <a rel=\"nofollow\" class=\"external text\" href=\"https://pyformat.info/\">о строковом методе format доступным языком</a>\\n- <a rel=\"nofollow\" class=\"external text\" href=\"https://developers.google.com/edu/python/regular-expressions\">про регулярки от Гугла</a>\\n</pre>\\n<!-- \\nNewPP limit report\\nCPU time usage: 0.024 seconds\\nReal time usage: 0.027 seconds\\nPreprocessor visited node count: 26/1000000\\nPreprocessor generated node count: 32/1000000\\nPost‐expand include size: 0/2097152 bytes\\nTemplate argument size: 0/2097152 bytes\\nHighest expansion depth: 2/40\\nExpensive parser function count: 0/100\\n-->\\n\\n<!-- Saved in parser cache with key wiki_cs:pcache:idhash:15490-0!*!*!!ru!*!* and timestamp 20171109200402 and revision id 24315\\n -->\\n</div>\\t\\t\\t\\t\\t\\t\\t\\t<div class=\"printfooter\">\\n\\t\\t\\t\\tИсточник — «<a href=\"http://wiki.cs.hse.ru/index.php?title=Извлечение_и_анализ_интернет-данных&amp;oldid=24315\">http://wiki.cs.hse.ru/index.php?title=Извлечение_и_анализ_интернет-данных&amp;oldid=24315</a>»\\t\\t\\t\\t</div>\\n\\t\\t\\t\\t\\t\\t\\t\\t\\t\\t\\t\\t<div id=\\'catlinks\\' class=\\'catlinks catlinks-allhidden\\'></div>\\t\\t\\t\\t\\t\\t\\t\\t\\t\\t\\t\\t<div class=\"visualClear\"></div>\\n\\t\\t\\t\\t\\t\\t\\t</div>\\n\\t\\t</div>\\n\\t\\t<div id=\"mw-navigation\">\\n\\t\\t\\t<h2>Навигация</h2>\\n\\t\\t\\t<div id=\"mw-head\">\\n\\t\\t\\t\\t<div id=\"p-personal\" role=\"navigation\" class=\"\" aria-labelledby=\"p-personal-label\">\\n\\t<h3 id=\"p-personal-label\">Персональные инструменты</h3>\\n\\t<ul>\\n<li id=\"pt-createaccount\"><a href=\"/index.php?title=%D0%A1%D0%BB%D1%83%D0%B6%D0%B5%D0%B1%D0%BD%D0%B0%D1%8F:%D0%92%D1%85%D0%BE%D0%B4&amp;returnto=%D0%98%D0%B7%D0%B2%D0%BB%D0%B5%D1%87%D0%B5%D0%BD%D0%B8%D0%B5+%D0%B8+%D0%B0%D0%BD%D0%B0%D0%BB%D0%B8%D0%B7+%D0%B8%D0%BD%D1%82%D0%B5%D1%80%D0%BD%D0%B5%D1%82-%D0%B4%D0%B0%D0%BD%D0%BD%D1%8B%D1%85&amp;type=signup\">Создать учётную запись</a></li><li id=\"pt-login\"><a href=\"/index.php?title=%D0%A1%D0%BB%D1%83%D0%B6%D0%B5%D0%B1%D0%BD%D0%B0%D1%8F:%D0%92%D1%85%D0%BE%D0%B4&amp;returnto=%D0%98%D0%B7%D0%B2%D0%BB%D0%B5%D1%87%D0%B5%D0%BD%D0%B8%D0%B5+%D0%B8+%D0%B0%D0%BD%D0%B0%D0%BB%D0%B8%D0%B7+%D0%B8%D0%BD%D1%82%D0%B5%D1%80%D0%BD%D0%B5%D1%82-%D0%B4%D0%B0%D0%BD%D0%BD%D1%8B%D1%85\" title=\"Здесь можно зарегистрироваться в системе, но это необязательно. [o]\" accesskey=\"o\">Войти</a></li>\\t</ul>\\n</div>\\n\\t\\t\\t\\t<div id=\"left-navigation\">\\n\\t\\t\\t\\t\\t<div id=\"p-namespaces\" role=\"navigation\" class=\"vectorTabs\" aria-labelledby=\"p-namespaces-label\">\\n\\t<h3 id=\"p-namespaces-label\">Пространства имён</h3>\\n\\t<ul>\\n\\t\\t\\t\\t\\t<li  id=\"ca-nstab-main\" class=\"selected\"><span><a href=\"/%D0%98%D0%B7%D0%B2%D0%BB%D0%B5%D1%87%D0%B5%D0%BD%D0%B8%D0%B5_%D0%B8_%D0%B0%D0%BD%D0%B0%D0%BB%D0%B8%D0%B7_%D0%B8%D0%BD%D1%82%D0%B5%D1%80%D0%BD%D0%B5%D1%82-%D0%B4%D0%B0%D0%BD%D0%BD%D1%8B%D1%85\"  title=\"Просмотр основной страницы [c]\" accesskey=\"c\">Статья</a></span></li>\\n\\t\\t\\t\\t\\t<li  id=\"ca-talk\" class=\"new\"><span><a href=\"/index.php?title=%D0%9E%D0%B1%D1%81%D1%83%D0%B6%D0%B4%D0%B5%D0%BD%D0%B8%D0%B5:%D0%98%D0%B7%D0%B2%D0%BB%D0%B5%D1%87%D0%B5%D0%BD%D0%B8%D0%B5_%D0%B8_%D0%B0%D0%BD%D0%B0%D0%BB%D0%B8%D0%B7_%D0%B8%D0%BD%D1%82%D0%B5%D1%80%D0%BD%D0%B5%D1%82-%D0%B4%D0%B0%D0%BD%D0%BD%D1%8B%D1%85&amp;action=edit&amp;redlink=1\"  title=\"Обсуждение основной страницы [t]\" accesskey=\"t\">Обсуждение</a></span></li>\\n\\t\\t\\t</ul>\\n</div>\\n<div id=\"p-variants\" role=\"navigation\" class=\"vectorMenu emptyPortlet\" aria-labelledby=\"p-variants-label\">\\n\\t<h3 id=\"mw-vector-current-variant\">\\n\\t\\t</h3>\\n\\t<h3 id=\"p-variants-label\"><span>Варианты</span><a href=\"#\"></a></h3>\\n\\t<div class=\"menu\">\\n\\t\\t<ul>\\n\\t\\t\\t\\t\\t</ul>\\n\\t</div>\\n</div>\\n\\t\\t\\t\\t</div>\\n\\t\\t\\t\\t<div id=\"right-navigation\">\\n\\t\\t\\t\\t\\t<div id=\"p-views\" role=\"navigation\" class=\"vectorTabs\" aria-labelledby=\"p-views-label\">\\n\\t<h3 id=\"p-views-label\">Просмотры</h3>\\n\\t<ul>\\n\\t\\t\\t\\t\\t<li id=\"ca-view\" class=\"selected\"><span><a href=\"/%D0%98%D0%B7%D0%B2%D0%BB%D0%B5%D1%87%D0%B5%D0%BD%D0%B8%D0%B5_%D0%B8_%D0%B0%D0%BD%D0%B0%D0%BB%D0%B8%D0%B7_%D0%B8%D0%BD%D1%82%D0%B5%D1%80%D0%BD%D0%B5%D1%82-%D0%B4%D0%B0%D0%BD%D0%BD%D1%8B%D1%85\" >Читать</a></span></li>\\n\\t\\t\\t\\t\\t<li id=\"ca-viewsource\"><span><a href=\"/index.php?title=%D0%98%D0%B7%D0%B2%D0%BB%D0%B5%D1%87%D0%B5%D0%BD%D0%B8%D0%B5_%D0%B8_%D0%B0%D0%BD%D0%B0%D0%BB%D0%B8%D0%B7_%D0%B8%D0%BD%D1%82%D0%B5%D1%80%D0%BD%D0%B5%D1%82-%D0%B4%D0%B0%D0%BD%D0%BD%D1%8B%D1%85&amp;action=edit\"  title=\"Эта страница защищена от изменений, но вы можете посмотреть и скопировать её исходный текст [e]\" accesskey=\"e\">Просмотр</a></span></li>\\n\\t\\t\\t\\t\\t<li id=\"ca-history\" class=\"collapsible\"><span><a href=\"/index.php?title=%D0%98%D0%B7%D0%B2%D0%BB%D0%B5%D1%87%D0%B5%D0%BD%D0%B8%D0%B5_%D0%B8_%D0%B0%D0%BD%D0%B0%D0%BB%D0%B8%D0%B7_%D0%B8%D0%BD%D1%82%D0%B5%D1%80%D0%BD%D0%B5%D1%82-%D0%B4%D0%B0%D0%BD%D0%BD%D1%8B%D1%85&amp;action=history\"  title=\"Журнал изменений страницы [h]\" accesskey=\"h\">История</a></span></li>\\n\\t\\t\\t</ul>\\n</div>\\n<div id=\"p-cactions\" role=\"navigation\" class=\"vectorMenu emptyPortlet\" aria-labelledby=\"p-cactions-label\">\\n\\t<h3 id=\"p-cactions-label\"><span>Действия</span><a href=\"#\"></a></h3>\\n\\t<div class=\"menu\">\\n\\t\\t<ul>\\n\\t\\t\\t\\t\\t</ul>\\n\\t</div>\\n</div>\\n<div id=\"p-search\" role=\"search\">\\n\\t<h3><label for=\"searchInput\">Поиск</label></h3>\\n\\t<form action=\"/index.php\" id=\"searchform\">\\n\\t\\t\\t\\t\\t<div id=\"simpleSearch\">\\n\\t\\t\\t\\t\\t<input type=\"search\" name=\"search\" placeholder=\"Поиск\" title=\"Искать в Wiki - Факультет компьютерных наук [f]\" accesskey=\"f\" id=\"searchInput\" /><input type=\"hidden\" value=\"Служебная:Поиск\" name=\"title\" /><input type=\"submit\" name=\"fulltext\" value=\"Найти\" title=\"Найти страницы, содержащие указанный текст\" id=\"mw-searchButton\" class=\"searchButton mw-fallbackSearchButton\" /><input type=\"submit\" name=\"go\" value=\"Перейти\" title=\"Перейти к странице, имеющей в точности такое название\" id=\"searchButton\" class=\"searchButton\" />\\t\\t</div>\\n\\t</form>\\n</div>\\n\\t\\t\\t\\t</div>\\n\\t\\t\\t</div>\\n\\t\\t\\t<div id=\"mw-panel\">\\n\\t\\t\\t\\t\\t<div id=\"p-logo\" role=\"banner\"><a style=\"background-image: url(/skins/logo.png);\" href=\"/%D0%97%D0%B0%D0%B3%D0%BB%D0%B0%D0%B2%D0%BD%D0%B0%D1%8F_%D1%81%D1%82%D1%80%D0%B0%D0%BD%D0%B8%D1%86%D0%B0\"  title=\"Перейти на заглавную страницу\"></a></div>\\n\\t\\t\\t\\t<div class=\"portal\" role=\"navigation\" id=\\'p-navigation\\' aria-labelledby=\\'p-navigation-label\\'>\\n\\t<h3 id=\\'p-navigation-label\\'>Навигация</h3>\\n\\t<div class=\"body\">\\n\\t\\t<ul>\\n\\t\\t\\t<li id=\"n-mainpage-description\"><a href=\"/%D0%97%D0%B0%D0%B3%D0%BB%D0%B0%D0%B2%D0%BD%D0%B0%D1%8F_%D1%81%D1%82%D1%80%D0%B0%D0%BD%D0%B8%D1%86%D0%B0\" title=\"Перейти на заглавную страницу [z]\" accesskey=\"z\">Заглавная страница</a></li>\\n\\t\\t\\t<li id=\"n-.D0.9E.D1.81.D0.BD.D0.BE.D0.B2.D1.8B-.D0.B8-.D0.BC.D0.B5.D1.82.D0.BE.D0.B4.D0.BE.D0.BB.D0.BE.D0.B3.D0.B8.D1.8F-.D0.BF.D1.80.D0.BE.D0.B3.D1.80.D0.B0.D0.BC.D0.BC.D0.B8.D1.80.D0.BE.D0.B2.D0.B0.D0.BD.D0.B8.D1.8F\"><a href=\"http://wiki.cs.hse.ru/ОиМП-2015\" rel=\"nofollow\">Основы и методология программирования</a></li>\\n\\t\\t\\t<li id=\"n-.D0.90.D0.BB.D0.B3.D0.BE.D1.80.D0.B8.D1.82.D0.BC.D1.8B-.D0.B8-.D1.81.D1.82.D1.80.D1.83.D0.BA.D1.82.D1.83.D1.80.D1.8B-.D0.B4.D0.B0.D0.BD.D0.BD.D1.8B.D1.85\"><a href=\"http://wiki.cs.hse.ru/%D0%90%D0%BB%D0%B3%D0%BE%D1%80%D0%B8%D1%82%D0%BC%D1%8B_%D0%B8_%D1%81%D1%82%D1%80%D1%83%D0%BA%D1%82%D1%83%D1%80%D1%8B_%D0%B4%D0%B0%D0%BD%D0%BD%D1%8B%D1%85\" rel=\"nofollow\">Алгоритмы и структуры данных</a></li>\\n\\t\\t\\t<li id=\"n-.D0.90.D0.BD.D0.B0.D0.BB.D0.B8.D0.B7-.D0.B4.D0.B0.D0.BD.D0.BD.D1.8B.D1.85-.28.D0.9F.D0.98.29\"><a href=\"http://wiki.cs.hse.ru/Интеллектуальный_анализ_данных_(программная_инженерия)\" rel=\"nofollow\">Анализ данных (ПИ)</a></li>\\n\\t\\t\\t<li id=\"n-.D0.9F.D1.80.D0.BE.D0.B5.D0.BA.D1.82.D0.BD.D0.B0.D1.8F-.D1.80.D0.B0.D0.B1.D0.BE.D1.82.D0.B0\"><a href=\"http://wiki.cs.hse.ru/Проектная_работа\" rel=\"nofollow\">Проектная работа</a></li>\\n\\t\\t\\t<li id=\"n-.D0.9B.D0.B5.D1.82.D0.BD.D1.8F.D1.8F-.D0.BF.D1.80.D0.B0.D0.BA.D1.82.D0.B8.D0.BA.D0.B0\"><a href=\"http://wiki.cs.hse.ru/Категория:Летняя_практика\" rel=\"nofollow\">Летняя практика</a></li>\\n\\t\\t</ul>\\n\\t</div>\\n</div>\\n<div class=\"portal\" role=\"navigation\" id=\\'p-tb\\' aria-labelledby=\\'p-tb-label\\'>\\n\\t<h3 id=\\'p-tb-label\\'>Инструменты</h3>\\n\\t<div class=\"body\">\\n\\t\\t<ul>\\n\\t\\t\\t<li id=\"t-whatlinkshere\"><a href=\"/%D0%A1%D0%BB%D1%83%D0%B6%D0%B5%D0%B1%D0%BD%D0%B0%D1%8F:%D0%A1%D1%81%D1%8B%D0%BB%D0%BA%D0%B8_%D1%81%D1%8E%D0%B4%D0%B0/%D0%98%D0%B7%D0%B2%D0%BB%D0%B5%D1%87%D0%B5%D0%BD%D0%B8%D0%B5_%D0%B8_%D0%B0%D0%BD%D0%B0%D0%BB%D0%B8%D0%B7_%D0%B8%D0%BD%D1%82%D0%B5%D1%80%D0%BD%D0%B5%D1%82-%D0%B4%D0%B0%D0%BD%D0%BD%D1%8B%D1%85\" title=\"Список всех страниц, ссылающихся на данную [j]\" accesskey=\"j\">Ссылки сюда</a></li>\\n\\t\\t\\t<li id=\"t-recentchangeslinked\"><a href=\"/%D0%A1%D0%BB%D1%83%D0%B6%D0%B5%D0%B1%D0%BD%D0%B0%D1%8F:%D0%A1%D0%B2%D1%8F%D0%B7%D0%B0%D0%BD%D0%BD%D1%8B%D0%B5_%D0%BF%D1%80%D0%B0%D0%B2%D0%BA%D0%B8/%D0%98%D0%B7%D0%B2%D0%BB%D0%B5%D1%87%D0%B5%D0%BD%D0%B8%D0%B5_%D0%B8_%D0%B0%D0%BD%D0%B0%D0%BB%D0%B8%D0%B7_%D0%B8%D0%BD%D1%82%D0%B5%D1%80%D0%BD%D0%B5%D1%82-%D0%B4%D0%B0%D0%BD%D0%BD%D1%8B%D1%85\" title=\"Последние изменения в страницах, на которые ссылается эта страница [k]\" accesskey=\"k\">Связанные правки</a></li>\\n\\t\\t\\t<li id=\"t-specialpages\"><a href=\"/%D0%A1%D0%BB%D1%83%D0%B6%D0%B5%D0%B1%D0%BD%D0%B0%D1%8F:%D0%A1%D0%BF%D0%B5%D1%86%D1%81%D1%82%D1%80%D0%B0%D0%BD%D0%B8%D1%86%D1%8B\" title=\"Список служебных страниц [q]\" accesskey=\"q\">Спецстраницы</a></li>\\n\\t\\t\\t<li id=\"t-print\"><a href=\"/index.php?title=%D0%98%D0%B7%D0%B2%D0%BB%D0%B5%D1%87%D0%B5%D0%BD%D0%B8%D0%B5_%D0%B8_%D0%B0%D0%BD%D0%B0%D0%BB%D0%B8%D0%B7_%D0%B8%D0%BD%D1%82%D0%B5%D1%80%D0%BD%D0%B5%D1%82-%D0%B4%D0%B0%D0%BD%D0%BD%D1%8B%D1%85&amp;printable=yes\" rel=\"alternate\" title=\"Версия этой страницы для печати [p]\" accesskey=\"p\">Версия для печати</a></li>\\n\\t\\t\\t<li id=\"t-permalink\"><a href=\"/index.php?title=%D0%98%D0%B7%D0%B2%D0%BB%D0%B5%D1%87%D0%B5%D0%BD%D0%B8%D0%B5_%D0%B8_%D0%B0%D0%BD%D0%B0%D0%BB%D0%B8%D0%B7_%D0%B8%D0%BD%D1%82%D0%B5%D1%80%D0%BD%D0%B5%D1%82-%D0%B4%D0%B0%D0%BD%D0%BD%D1%8B%D1%85&amp;oldid=24315\" title=\"Постоянная ссылка на эту версию страницы\">Постоянная ссылка</a></li>\\n\\t\\t\\t<li id=\"t-info\"><a href=\"/index.php?title=%D0%98%D0%B7%D0%B2%D0%BB%D0%B5%D1%87%D0%B5%D0%BD%D0%B8%D0%B5_%D0%B8_%D0%B0%D0%BD%D0%B0%D0%BB%D0%B8%D0%B7_%D0%B8%D0%BD%D1%82%D0%B5%D1%80%D0%BD%D0%B5%D1%82-%D0%B4%D0%B0%D0%BD%D0%BD%D1%8B%D1%85&amp;action=info\">Сведения о странице</a></li>\\n\\t\\t</ul>\\n\\t</div>\\n</div>\\n\\t\\t\\t</div>\\n\\t\\t</div>\\n\\t\\t<div id=\"footer\" role=\"contentinfo\">\\n\\t\\t\\t\\t\\t\\t\\t<ul id=\"footer-info\">\\n\\t\\t\\t\\t\\t\\t\\t\\t\\t\\t\\t<li id=\"footer-info-lastmod\"> Последнее изменение этой страницы: 20:40, 19 сентября 2017.</li>\\n\\t\\t\\t\\t\\t\\t\\t\\t\\t\\t\\t<li id=\"footer-info-viewcount\">К этой странице обращались 327 раз.</li>\\n\\t\\t\\t\\t\\t\\t\\t\\t\\t\\t\\t<li id=\"footer-info-copyright\">Содержимое доступно по лицензии <a href=\"/Wiki_-_%D0%A4%D0%B0%D0%BA%D1%83%D0%BB%D1%8C%D1%82%D0%B5%D1%82_%D0%BA%D0%BE%D0%BC%D0%BF%D1%8C%D1%8E%D1%82%D0%B5%D1%80%D0%BD%D1%8B%D1%85_%D0%BD%D0%B0%D1%83%D0%BA:%D0%9E%D0%BF%D0%B8%D1%81%D0%B0%D0%BD%D0%B8%D0%B5\" title=\"Wiki - Факультет компьютерных наук:Описание\">Wiki - Факультет компьютерных наук:Описание</a> (если не указано иное).</li>\\n\\t\\t\\t\\t\\t\\t\\t\\t\\t</ul>\\n\\t\\t\\t\\t\\t\\t\\t<ul id=\"footer-places\">\\n\\t\\t\\t\\t\\t\\t\\t\\t\\t\\t\\t<li id=\"footer-places-privacy\"><a href=\"/Wiki_-_%D0%A4%D0%B0%D0%BA%D1%83%D0%BB%D1%8C%D1%82%D0%B5%D1%82_%D0%BA%D0%BE%D0%BC%D0%BF%D1%8C%D1%8E%D1%82%D0%B5%D1%80%D0%BD%D1%8B%D1%85_%D0%BD%D0%B0%D1%83%D0%BA:%D0%9F%D0%BE%D0%BB%D0%B8%D1%82%D0%B8%D0%BA%D0%B0_%D0%BA%D0%BE%D0%BD%D1%84%D0%B8%D0%B4%D0%B5%D0%BD%D1%86%D0%B8%D0%B0%D0%BB%D1%8C%D0%BD%D0%BE%D1%81%D1%82%D0%B8\" title=\"Wiki - Факультет компьютерных наук:Политика конфиденциальности\">Политика конфиденциальности</a></li>\\n\\t\\t\\t\\t\\t\\t\\t\\t\\t\\t\\t<li id=\"footer-places-about\"><a href=\"/Wiki_-_%D0%A4%D0%B0%D0%BA%D1%83%D0%BB%D1%8C%D1%82%D0%B5%D1%82_%D0%BA%D0%BE%D0%BC%D0%BF%D1%8C%D1%8E%D1%82%D0%B5%D1%80%D0%BD%D1%8B%D1%85_%D0%BD%D0%B0%D1%83%D0%BA:%D0%9E%D0%BF%D0%B8%D1%81%D0%B0%D0%BD%D0%B8%D0%B5\" title=\"Wiki - Факультет компьютерных наук:Описание\">Описание Wiki - Факультет компьютерных наук</a></li>\\n\\t\\t\\t\\t\\t\\t\\t\\t\\t\\t\\t<li id=\"footer-places-disclaimer\"><a href=\"/Wiki_-_%D0%A4%D0%B0%D0%BA%D1%83%D0%BB%D1%8C%D1%82%D0%B5%D1%82_%D0%BA%D0%BE%D0%BC%D0%BF%D1%8C%D1%8E%D1%82%D0%B5%D1%80%D0%BD%D1%8B%D1%85_%D0%BD%D0%B0%D1%83%D0%BA:%D0%9E%D1%82%D0%BA%D0%B0%D0%B7_%D0%BE%D1%82_%D0%BE%D1%82%D0%B2%D0%B5%D1%82%D1%81%D1%82%D0%B2%D0%B5%D0%BD%D0%BD%D0%BE%D1%81%D1%82%D0%B8\" title=\"Wiki - Факультет компьютерных наук:Отказ от ответственности\">Отказ от ответственности</a></li>\\n\\t\\t\\t\\t\\t\\t\\t\\t\\t</ul>\\n\\t\\t\\t\\t\\t\\t\\t\\t\\t\\t<ul id=\"footer-icons\" class=\"noprint\">\\n\\t\\t\\t\\t\\t<li id=\"footer-poweredbyico\">\\n\\t\\t\\t\\t\\t\\t<a href=\"//www.mediawiki.org/\"><img src=\"/skins/common/images/poweredby_mediawiki_88x31.png\" alt=\"Powered by MediaWiki\" width=\"88\" height=\"31\" /></a>\\n\\t\\t\\t\\t\\t</li>\\n\\t\\t\\t\\t</ul>\\n\\t\\t\\t\\t\\t\\t<div style=\"clear:both\"></div>\\n\\t\\t</div>\\n\\t\\t<script>/*<![CDATA[*/window.jQuery && jQuery.ready();/*]]>*/</script><script>if(window.mw){\\nmw.loader.state({\"site\":\"loading\",\"user\":\"ready\",\"user.groups\":\"ready\"});\\n}</script>\\n<script>if(window.mw){\\nmw.loader.load([\"mediawiki.action.view.postEdit\",\"mediawiki.user\",\"mediawiki.hidpi\",\"mediawiki.page.ready\",\"mediawiki.searchSuggest\",\"skins.vector.collapsibleNav\"],null,true);\\n}</script>\\n<script src=\"http://wiki.cs.hse.ru/load.php?debug=false&amp;lang=ru&amp;modules=site&amp;only=scripts&amp;skin=vector&amp;*\"></script>\\n<script>if(window.mw){\\nmw.config.set({\"wgBackendResponseTime\":62});\\n}</script>\\n\\t</body>\\n</html>\\n'"
      ]
     },
     "execution_count": 25,
     "metadata": {},
     "output_type": "execute_result"
    }
   ],
   "source": [
    "response.content.decode()"
   ]
  },
  {
   "cell_type": "markdown",
   "metadata": {},
   "source": [
    "## Домашнее задание:"
   ]
  },
  {
   "cell_type": "markdown",
   "metadata": {},
   "source": [
    "1) Освободить текст от всех символов, которые не буквы и не цифры.<br>\n",
    "3 балла\n",
    "\n",
    "2) На вход приходит пароль. Нужно проверить, что в пароле минимум 6 символов разного регистра, есть цифры, буквы и другие символы <br>\n",
    "3 балла\n",
    "\n",
    "3) Для текста passwords.txt, в котором есть пароли, найти все пароли. <br>\n",
    "3 балла\n",
    "\n",
    "4) С помощью requests скачать html для странички курса и получить почту курса<br>\n",
    "3 балла\n"
   ]
  },
  {
   "cell_type": "markdown",
   "metadata": {},
   "source": [
    "## Формат отправки домашек:\n",
    "Решение - это файл с названием Surname_Name_homework1.ipynb , где Surname - ваша фамилия латиницей, Name - имя. В ноутбуке есть только решение домашки. \n",
    "\n",
    "Решение нужно отправить на почту курса (hsewebmining@gmail.com) письмом с темой Surname_Name_homework1 , где Surname - ваша фамилия латиницей, Name - имя\n",
    "\n",
    "Дедлайн - начало следующего занятия. После дедлайна задания не проверяются, баллы не начисляются"
   ]
  },
  {
   "cell_type": "code",
   "execution_count": null,
   "metadata": {
    "collapsed": true
   },
   "outputs": [],
   "source": []
  }
 ],
 "metadata": {
  "kernelspec": {
   "display_name": "Python 3",
   "language": "python",
   "name": "python3"
  },
  "language_info": {
   "codemirror_mode": {
    "name": "ipython",
    "version": 3
   },
   "file_extension": ".py",
   "mimetype": "text/x-python",
   "name": "python",
   "nbconvert_exporter": "python",
   "pygments_lexer": "ipython3",
   "version": "3.6.1"
  }
 },
 "nbformat": 4,
 "nbformat_minor": 2
}
